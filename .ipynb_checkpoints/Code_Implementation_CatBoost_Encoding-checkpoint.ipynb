{
 "cells": [
  {
   "cell_type": "markdown",
   "id": "02554b9a-4a5d-4ca0-8b12-076f45afa0ea",
   "metadata": {},
   "source": [
    "# Antibiotic resistance prediction"
   ]
  },
  {
   "cell_type": "markdown",
   "id": "782d8e5d-14df-428e-827c-c330da186a7d",
   "metadata": {},
   "source": [
    "## Project Introduction\n",
    "This project aims to predict antibiotic resistance using structured electronic health record (EHR) data from the Antibiotic Resistance Microbiology Dataset (ARMD). The goal is to classify whether a bacterial isolate is susceptible (S) or resistant (R) to a given antibiotic, based on clinical, demographic, microbiological, and treatment-related features. This binary classification model supports empirical antibiotic selection and contributes to combating antimicrobial resistance in clinical settings."
   ]
  },
  {
   "cell_type": "code",
   "execution_count": 3,
   "id": "947f277e-8d3e-44aa-bc37-e1daae2cca87",
   "metadata": {},
   "outputs": [
    {
     "name": "stdout",
     "output_type": "stream",
     "text": [
      "(2184195, 27)\n"
     ]
    }
   ],
   "source": [
    "import pandas as pd\n",
    "from sklearn.preprocessing import LabelEncoder\n",
    "from sklearn.impute import SimpleImputer\n",
    "\n",
    "final_armd_ds = 'ARMD_Dataset/selected_features_output.parquet'\n",
    "\n",
    "df = pd.read_parquet(final_armd_ds)\n",
    "print(df.shape)\n",
    "\n"
   ]
  },
  {
   "cell_type": "markdown",
   "id": "da80262e-189b-4caf-98ad-2d023a78a4e2",
   "metadata": {},
   "source": [
    "### Separate target + binary encoding"
   ]
  },
  {
   "cell_type": "code",
   "execution_count": 5,
   "id": "08762e35-c894-477c-a046-1a62d0691e66",
   "metadata": {},
   "outputs": [
    {
     "name": "stdout",
     "output_type": "stream",
     "text": [
      "y:  (2184195,)\n",
      "X:  (2184195, 26)\n"
     ]
    }
   ],
   "source": [
    "target_col = 'susceptibility_label'\n",
    "df[target_col] = df[target_col].map({'S': 0, 'R': 1})  \n",
    "y = df[target_col]\n",
    "X = df.drop(columns=[target_col])\n",
    "print('y: ',y.shape)\n",
    "print('X: ',X.shape)"
   ]
  },
  {
   "cell_type": "markdown",
   "id": "bd23cb24-2e0e-4876-b66c-0ff9c5eaddec",
   "metadata": {},
   "source": [
    "### Identify column types"
   ]
  },
  {
   "cell_type": "code",
   "execution_count": 7,
   "id": "9076309f-91ae-4b19-9545-cdcab95eadeb",
   "metadata": {},
   "outputs": [
    {
     "name": "stdout",
     "output_type": "stream",
     "text": [
      "<class 'pandas.core.frame.DataFrame'>\n",
      "RangeIndex: 2184195 entries, 0 to 2184194\n",
      "Data columns (total 26 columns):\n",
      " #   Column                          Dtype  \n",
      "---  ------                          -----  \n",
      " 0   organism_x                      string \n",
      " 1   antibiotic_x                    string \n",
      " 2   resistant_time_to_culturetime   float64\n",
      " 3   age                             string \n",
      " 4   gender                          string \n",
      " 5   adi_score                       string \n",
      " 6   adi_state_rank                  string \n",
      " 7   median_wbc                      string \n",
      " 8   median_neutrophils              string \n",
      " 9   median_lymphocytes              string \n",
      " 10  median_hgb                      string \n",
      " 11  median_plt                      string \n",
      " 12  median_na                       string \n",
      " 13  median_hco3                     string \n",
      " 14  median_bun                      string \n",
      " 15  median_cr                       string \n",
      " 16  median_lactate                  string \n",
      " 17  median_procalcitonin            string \n",
      " 18  median_heartrate                float32\n",
      " 19  median_resprate                 float32\n",
      " 20  median_temp                     float32\n",
      " 21  median_sysbp                    float32\n",
      " 22  median_diasbp                   float32\n",
      " 23  medication_category             string \n",
      " 24  medication_time_to_culturetime  float64\n",
      " 25  nursing_home_visit_culture      float64\n",
      "dtypes: float32(5), float64(3), string(18)\n",
      "memory usage: 391.6 MB\n"
     ]
    }
   ],
   "source": [
    "X.info()"
   ]
  },
  {
   "cell_type": "markdown",
   "id": "23fdf721-f1e5-421a-8e5a-48499766fecd",
   "metadata": {},
   "source": [
    "## Column Categorization\n",
    "- First, properly define all column categories\n",
    "- Combine numerical features"
   ]
  },
  {
   "cell_type": "code",
   "execution_count": 9,
   "id": "f2e6693d-0761-4f4a-b7b5-bfe2a0ee4b00",
   "metadata": {},
   "outputs": [],
   "source": [
    "true_categorical_cols = ['organism_x', 'antibiotic_x', 'gender', 'medication_category']\n",
    "numeric_cols = ['resistant_time_to_culturetime', 'median_heartrate', 'median_resprate',\n",
    "               'median_temp', 'median_sysbp', 'median_diasbp',\n",
    "               'medication_time_to_culturetime', 'nursing_home_visit_culture']\n",
    "numerical_med_cols = ['median_wbc', 'median_neutrophils', 'median_lymphocytes',\n",
    "                     'median_hgb', 'median_plt', 'median_na', 'median_hco3',\n",
    "                     'median_bun', 'median_cr', 'median_lactate', 'median_procalcitonin']\n",
    "ordinal_cols = ['age', 'adi_score', 'adi_state_rank']\n",
    "\n",
    "\n",
    "all_numerical_cols = numeric_cols + numerical_med_cols\n",
    "\n",
    "\n",
    "all_columns = true_categorical_cols + all_numerical_cols + ordinal_cols\n"
   ]
  },
  {
   "cell_type": "markdown",
   "id": "fa0b7f7e-f59a-4859-9727-02de59399bbc",
   "metadata": {},
   "source": [
    "## Apply CatBoost Encoding"
   ]
  },
  {
   "cell_type": "markdown",
   "id": "5692c4ab-7b57-4187-ab8b-e2f6a5f3f1c2",
   "metadata": {},
   "source": [
    "#### Data Splitting"
   ]
  },
  {
   "cell_type": "code",
   "execution_count": 12,
   "id": "475b0d3b-4f5c-44ea-bfb4-1c995f3797c5",
   "metadata": {},
   "outputs": [
    {
     "name": "stdout",
     "output_type": "stream",
     "text": [
      "\n",
      "Final Training Set Shape: (1747356, 26)\n",
      "Final Test Set Shape: (436839, 26)\n"
     ]
    }
   ],
   "source": [
    "from sklearn.model_selection import train_test_split\n",
    "\n",
    "X_train, X_test, y_train, y_test = train_test_split(\n",
    "    X, y, test_size=0.2, random_state=42, stratify=y\n",
    ")\n",
    "\n",
    "print(\"\\nFinal Training Set Shape:\", X_train.shape)\n",
    "print(\"Final Test Set Shape:\", X_test.shape)"
   ]
  },
  {
   "cell_type": "markdown",
   "id": "b5cbda01-8784-475b-89bf-f0e2bf286b47",
   "metadata": {},
   "source": [
    "#### Ensure proper data types"
   ]
  },
  {
   "cell_type": "code",
   "execution_count": 14,
   "id": "55607105-6a27-49ce-9176-a75d6d7cde80",
   "metadata": {},
   "outputs": [],
   "source": [
    "X_train[true_categorical_cols] = X_train[true_categorical_cols].astype(str)\n",
    "X_test[true_categorical_cols] = X_test[true_categorical_cols].astype(str)\n"
   ]
  },
  {
   "cell_type": "markdown",
   "id": "35ff693b-b34b-459c-a5fc-cfad694dd585",
   "metadata": {},
   "source": [
    "#### Handle missing medication categories"
   ]
  },
  {
   "cell_type": "code",
   "execution_count": 16,
   "id": "92506bb1-c1d6-4096-adb9-75e1986816b9",
   "metadata": {},
   "outputs": [],
   "source": [
    "\n",
    "X_train['medication_category'] = X_train['medication_category'].fillna('No_medication_recorded')\n",
    "X_test['medication_category'] = X_test['medication_category'].fillna('No_medication_recorded')\n"
   ]
  },
  {
   "cell_type": "markdown",
   "id": "cd64e66b-852b-4fb1-9cbe-21521b0149bc",
   "metadata": {},
   "source": [
    "#### Verify no more missing values"
   ]
  },
  {
   "cell_type": "code",
   "execution_count": 18,
   "id": "2fe1e1ea-45a1-430e-98ed-83bd13d8a3ee",
   "metadata": {},
   "outputs": [
    {
     "name": "stdout",
     "output_type": "stream",
     "text": [
      "Missing values after treatment:\n",
      "organism_x             0\n",
      "antibiotic_x           0\n",
      "gender                 0\n",
      "medication_category    0\n",
      "dtype: int64\n"
     ]
    }
   ],
   "source": [
    "\n",
    "print(\"Missing values after treatment:\")\n",
    "print(X_train[true_categorical_cols].isnull().sum())"
   ]
  },
  {
   "cell_type": "markdown",
   "id": "d4d12b1b-aed6-44e0-8717-1a10ddba230b",
   "metadata": {},
   "source": [
    "#### Apply CatBoost Encoding\n",
    "Initialize CatBoost encoder with optimal settings\n",
    "- Added noise to prevent overfitting\n",
    "- Smoothing parameter\n",
    "\n",
    "Fit and transform - ensuring no data leakage"
   ]
  },
  {
   "cell_type": "code",
   "execution_count": 20,
   "id": "17524eb1-c434-449a-832a-9688d51b4221",
   "metadata": {},
   "outputs": [],
   "source": [
    "from category_encoders import CatBoostEncoder\n",
    "cbe = CatBoostEncoder(\n",
    "    cols=true_categorical_cols,\n",
    "    random_state=42,\n",
    "    sigma=0.1,  # noise\n",
    "    a=1.0       # Smoothing\n",
    ")\n",
    "\n",
    "X_train_encoded = cbe.fit_transform(X_train[true_categorical_cols], y_train)\n",
    "X_test_encoded = cbe.transform(X_test[true_categorical_cols])"
   ]
  },
  {
   "cell_type": "markdown",
   "id": "1ea016aa-2ebd-4ea1-8007-66c9fdba5987",
   "metadata": {},
   "source": [
    "#### Create final feature sets"
   ]
  },
  {
   "cell_type": "code",
   "execution_count": 54,
   "id": "075d7962-81dd-4020-a733-732ad0a93689",
   "metadata": {},
   "outputs": [],
   "source": [
    "final_features = true_categorical_cols + all_numerical_cols + ordinal_cols\n",
    "X_train_final = pd.concat([\n",
    "    X_train_encoded,\n",
    "    X_train[all_numerical_cols + ordinal_cols]\n",
    "], axis=1)[final_features]  # Ensure consistent column order\n",
    "\n",
    "X_test_final = pd.concat([\n",
    "    X_test_encoded,\n",
    "    X_test[all_numerical_cols + ordinal_cols]\n",
    "], axis=1)[final_features]"
   ]
  },
  {
   "cell_type": "markdown",
   "id": "d4467187-a9c5-4327-9d19-a85bfeddb0b0",
   "metadata": {},
   "source": [
    "#### Final verification"
   ]
  },
  {
   "cell_type": "code",
   "execution_count": 51,
   "id": "18c9527b-454f-4555-b6c3-207723c5dcd0",
   "metadata": {},
   "outputs": [
    {
     "name": "stdout",
     "output_type": "stream",
     "text": [
      "\n",
      "Encoded values validation:\n",
      "\n",
      "organism_x:\n",
      "Unique encoded values: 1745225\n",
      "Value distribution:\n",
      "count    1.747356e+06\n",
      "mean     4.278749e-01\n",
      "std      5.690025e-02\n",
      "min      2.743977e-03\n",
      "25%      4.421465e-01\n",
      "50%      4.423718e-01\n",
      "75%      4.424786e-01\n",
      "max      9.170342e-01\n",
      "Name: organism_x, dtype: float64\n",
      "\n",
      "antibiotic_x:\n",
      "Unique encoded values: 1744373\n",
      "Value distribution:\n",
      "count    1.747356e+06\n",
      "mean     4.279393e-01\n",
      "std      1.076565e-01\n",
      "min      6.904201e-03\n",
      "25%      4.227086e-01\n",
      "50%      4.229173e-01\n",
      "75%      4.229990e-01\n",
      "max      8.954642e-01\n",
      "Name: antibiotic_x, dtype: float64\n",
      "\n",
      "gender:\n",
      "Unique encoded values: 1747340\n",
      "Value distribution:\n",
      "count    1.747356e+06\n",
      "mean     4.278643e-01\n",
      "std      1.988554e-02\n",
      "min      1.426868e-01\n",
      "25%      4.209859e-01\n",
      "50%      4.211375e-01\n",
      "75%      4.212362e-01\n",
      "max      7.140302e-01\n",
      "Name: gender, dtype: float64\n",
      "\n",
      "medication_category:\n",
      "Unique encoded values: 1742488\n",
      "Value distribution:\n",
      "count    1.747356e+06\n",
      "mean     4.278474e-01\n",
      "std      5.591758e-02\n",
      "min      3.419803e-02\n",
      "25%      4.142410e-01\n",
      "50%      4.212602e-01\n",
      "75%      4.231270e-01\n",
      "max      8.570151e-01\n",
      "Name: medication_category, dtype: float64\n",
      "\n",
      "Final training set shape: (1747356, 26)\n",
      "Final test set shape: (436839, 26)\n"
     ]
    }
   ],
   "source": [
    "print(\"\\nEncoded values validation:\")\n",
    "for col in true_categorical_cols:\n",
    "    print(f\"\\n{col}:\")\n",
    "    print(f\"Unique encoded values: {X_train_encoded[col].nunique()}\")\n",
    "    print(\"Value distribution:\")\n",
    "    print(X_train_encoded[col].describe())\n",
    "\n",
    "print(\"\\nFinal training set shape:\", X_train_final.shape)\n",
    "print(\"Final test set shape:\", X_test_final.shape)"
   ]
  },
  {
   "cell_type": "markdown",
   "id": "9d3f12fa-c14e-4c6b-8417-8a30c3ae9a0b",
   "metadata": {},
   "source": [
    "#### Replace 'Null' with actual NaN values"
   ]
  },
  {
   "cell_type": "code",
   "execution_count": 67,
   "id": "e2c70c1b-c276-4e3c-8717-d174fa699182",
   "metadata": {},
   "outputs": [
    {
     "name": "stdout",
     "output_type": "stream",
     "text": [
      "2026527\n"
     ]
    }
   ],
   "source": [
    "print(X_train_final.isnull().sum().sum())  "
   ]
  },
  {
   "cell_type": "code",
   "execution_count": 71,
   "id": "e9765c95-83b3-4d5d-a3a8-d1631eae92a9",
   "metadata": {},
   "outputs": [],
   "source": [
    "import numpy as np\n",
    "X_train_final = X_train_final.replace('Null', np.nan)\n",
    "X_test_final = X_test_final.replace('Null', np.nan)\n"
   ]
  },
  {
   "cell_type": "markdown",
   "id": "d23ac851-4199-4da0-a653-220cf0716249",
   "metadata": {},
   "source": [
    "## Models implementation "
   ]
  },
  {
   "cell_type": "code",
   "execution_count": 60,
   "id": "0086b67d-24f1-4471-9c99-8768e4f2d0e1",
   "metadata": {},
   "outputs": [
    {
     "ename": "ValueError",
     "evalue": "could not convert string to float: 'Null'",
     "output_type": "error",
     "traceback": [
      "\u001b[1;31m---------------------------------------------------------------------------\u001b[0m",
      "\u001b[1;31mValueError\u001b[0m                                Traceback (most recent call last)",
      "\u001b[1;32m~\\AppData\\Local\\Temp\\ipykernel_19260\\4220435324.py\u001b[0m in \u001b[0;36m?\u001b[1;34m()\u001b[0m\n\u001b[0;32m     15\u001b[0m \u001b[1;31m# Train and evaluate each model\u001b[0m\u001b[1;33m\u001b[0m\u001b[1;33m\u001b[0m\u001b[0m\n\u001b[0;32m     16\u001b[0m \u001b[0mresults\u001b[0m \u001b[1;33m=\u001b[0m \u001b[1;33m{\u001b[0m\u001b[1;33m}\u001b[0m\u001b[1;33m\u001b[0m\u001b[1;33m\u001b[0m\u001b[0m\n\u001b[0;32m     17\u001b[0m \u001b[1;32mfor\u001b[0m \u001b[0mname\u001b[0m\u001b[1;33m,\u001b[0m \u001b[0mmodel\u001b[0m \u001b[1;32min\u001b[0m \u001b[0mmodels\u001b[0m\u001b[1;33m.\u001b[0m\u001b[0mitems\u001b[0m\u001b[1;33m(\u001b[0m\u001b[1;33m)\u001b[0m\u001b[1;33m:\u001b[0m\u001b[1;33m\u001b[0m\u001b[1;33m\u001b[0m\u001b[0m\n\u001b[0;32m     18\u001b[0m     \u001b[1;31m# Train the model\u001b[0m\u001b[1;33m\u001b[0m\u001b[1;33m\u001b[0m\u001b[0m\n\u001b[1;32m---> 19\u001b[1;33m     \u001b[0mmodel\u001b[0m\u001b[1;33m.\u001b[0m\u001b[0mfit\u001b[0m\u001b[1;33m(\u001b[0m\u001b[0mX_train_final\u001b[0m\u001b[1;33m,\u001b[0m \u001b[0my_train\u001b[0m\u001b[1;33m)\u001b[0m\u001b[1;33m\u001b[0m\u001b[1;33m\u001b[0m\u001b[0m\n\u001b[0m\u001b[0;32m     20\u001b[0m \u001b[1;33m\u001b[0m\u001b[0m\n\u001b[0;32m     21\u001b[0m     \u001b[1;31m# Make predictions\u001b[0m\u001b[1;33m\u001b[0m\u001b[1;33m\u001b[0m\u001b[0m\n\u001b[0;32m     22\u001b[0m     \u001b[0my_pred\u001b[0m \u001b[1;33m=\u001b[0m \u001b[0mmodel\u001b[0m\u001b[1;33m.\u001b[0m\u001b[0mpredict\u001b[0m\u001b[1;33m(\u001b[0m\u001b[0mX_test_final\u001b[0m\u001b[1;33m)\u001b[0m\u001b[1;33m\u001b[0m\u001b[1;33m\u001b[0m\u001b[0m\n",
      "\u001b[1;32mD:\\anaconda3\\Lib\\site-packages\\sklearn\\base.py\u001b[0m in \u001b[0;36m?\u001b[1;34m(estimator, *args, **kwargs)\u001b[0m\n\u001b[0;32m   1385\u001b[0m                 skip_parameter_validation=(\n\u001b[0;32m   1386\u001b[0m                     \u001b[0mprefer_skip_nested_validation\u001b[0m \u001b[1;32mor\u001b[0m \u001b[0mglobal_skip_validation\u001b[0m\u001b[1;33m\u001b[0m\u001b[1;33m\u001b[0m\u001b[0m\n\u001b[0;32m   1387\u001b[0m                 )\n\u001b[0;32m   1388\u001b[0m             ):\n\u001b[1;32m-> 1389\u001b[1;33m                 \u001b[1;32mreturn\u001b[0m \u001b[0mfit_method\u001b[0m\u001b[1;33m(\u001b[0m\u001b[0mestimator\u001b[0m\u001b[1;33m,\u001b[0m \u001b[1;33m*\u001b[0m\u001b[0margs\u001b[0m\u001b[1;33m,\u001b[0m \u001b[1;33m**\u001b[0m\u001b[0mkwargs\u001b[0m\u001b[1;33m)\u001b[0m\u001b[1;33m\u001b[0m\u001b[1;33m\u001b[0m\u001b[0m\n\u001b[0m",
      "\u001b[1;32mD:\\anaconda3\\Lib\\site-packages\\sklearn\\ensemble\\_forest.py\u001b[0m in \u001b[0;36m?\u001b[1;34m(self, X, y, sample_weight)\u001b[0m\n\u001b[0;32m    356\u001b[0m         \u001b[1;31m# Validate or convert input data\u001b[0m\u001b[1;33m\u001b[0m\u001b[1;33m\u001b[0m\u001b[0m\n\u001b[0;32m    357\u001b[0m         \u001b[1;32mif\u001b[0m \u001b[0missparse\u001b[0m\u001b[1;33m(\u001b[0m\u001b[0my\u001b[0m\u001b[1;33m)\u001b[0m\u001b[1;33m:\u001b[0m\u001b[1;33m\u001b[0m\u001b[1;33m\u001b[0m\u001b[0m\n\u001b[0;32m    358\u001b[0m             \u001b[1;32mraise\u001b[0m \u001b[0mValueError\u001b[0m\u001b[1;33m(\u001b[0m\u001b[1;34m\"sparse multilabel-indicator for y is not supported.\"\u001b[0m\u001b[1;33m)\u001b[0m\u001b[1;33m\u001b[0m\u001b[1;33m\u001b[0m\u001b[0m\n\u001b[0;32m    359\u001b[0m \u001b[1;33m\u001b[0m\u001b[0m\n\u001b[1;32m--> 360\u001b[1;33m         X, y = validate_data(\n\u001b[0m\u001b[0;32m    361\u001b[0m             \u001b[0mself\u001b[0m\u001b[1;33m,\u001b[0m\u001b[1;33m\u001b[0m\u001b[1;33m\u001b[0m\u001b[0m\n\u001b[0;32m    362\u001b[0m             \u001b[0mX\u001b[0m\u001b[1;33m,\u001b[0m\u001b[1;33m\u001b[0m\u001b[1;33m\u001b[0m\u001b[0m\n\u001b[0;32m    363\u001b[0m             \u001b[0my\u001b[0m\u001b[1;33m,\u001b[0m\u001b[1;33m\u001b[0m\u001b[1;33m\u001b[0m\u001b[0m\n",
      "\u001b[1;32mD:\\anaconda3\\Lib\\site-packages\\sklearn\\utils\\validation.py\u001b[0m in \u001b[0;36m?\u001b[1;34m(_estimator, X, y, reset, validate_separately, skip_check_array, **check_params)\u001b[0m\n\u001b[0;32m   2957\u001b[0m             \u001b[1;32mif\u001b[0m \u001b[1;34m\"estimator\"\u001b[0m \u001b[1;32mnot\u001b[0m \u001b[1;32min\u001b[0m \u001b[0mcheck_y_params\u001b[0m\u001b[1;33m:\u001b[0m\u001b[1;33m\u001b[0m\u001b[1;33m\u001b[0m\u001b[0m\n\u001b[0;32m   2958\u001b[0m                 \u001b[0mcheck_y_params\u001b[0m \u001b[1;33m=\u001b[0m \u001b[1;33m{\u001b[0m\u001b[1;33m**\u001b[0m\u001b[0mdefault_check_params\u001b[0m\u001b[1;33m,\u001b[0m \u001b[1;33m**\u001b[0m\u001b[0mcheck_y_params\u001b[0m\u001b[1;33m}\u001b[0m\u001b[1;33m\u001b[0m\u001b[1;33m\u001b[0m\u001b[0m\n\u001b[0;32m   2959\u001b[0m             \u001b[0my\u001b[0m \u001b[1;33m=\u001b[0m \u001b[0mcheck_array\u001b[0m\u001b[1;33m(\u001b[0m\u001b[0my\u001b[0m\u001b[1;33m,\u001b[0m \u001b[0minput_name\u001b[0m\u001b[1;33m=\u001b[0m\u001b[1;34m\"y\"\u001b[0m\u001b[1;33m,\u001b[0m \u001b[1;33m**\u001b[0m\u001b[0mcheck_y_params\u001b[0m\u001b[1;33m)\u001b[0m\u001b[1;33m\u001b[0m\u001b[1;33m\u001b[0m\u001b[0m\n\u001b[0;32m   2960\u001b[0m         \u001b[1;32melse\u001b[0m\u001b[1;33m:\u001b[0m\u001b[1;33m\u001b[0m\u001b[1;33m\u001b[0m\u001b[0m\n\u001b[1;32m-> 2961\u001b[1;33m             \u001b[0mX\u001b[0m\u001b[1;33m,\u001b[0m \u001b[0my\u001b[0m \u001b[1;33m=\u001b[0m \u001b[0mcheck_X_y\u001b[0m\u001b[1;33m(\u001b[0m\u001b[0mX\u001b[0m\u001b[1;33m,\u001b[0m \u001b[0my\u001b[0m\u001b[1;33m,\u001b[0m \u001b[1;33m**\u001b[0m\u001b[0mcheck_params\u001b[0m\u001b[1;33m)\u001b[0m\u001b[1;33m\u001b[0m\u001b[1;33m\u001b[0m\u001b[0m\n\u001b[0m\u001b[0;32m   2962\u001b[0m         \u001b[0mout\u001b[0m \u001b[1;33m=\u001b[0m \u001b[0mX\u001b[0m\u001b[1;33m,\u001b[0m \u001b[0my\u001b[0m\u001b[1;33m\u001b[0m\u001b[1;33m\u001b[0m\u001b[0m\n\u001b[0;32m   2963\u001b[0m \u001b[1;33m\u001b[0m\u001b[0m\n\u001b[0;32m   2964\u001b[0m     \u001b[1;32mif\u001b[0m \u001b[1;32mnot\u001b[0m \u001b[0mno_val_X\u001b[0m \u001b[1;32mand\u001b[0m \u001b[0mcheck_params\u001b[0m\u001b[1;33m.\u001b[0m\u001b[0mget\u001b[0m\u001b[1;33m(\u001b[0m\u001b[1;34m\"ensure_2d\"\u001b[0m\u001b[1;33m,\u001b[0m \u001b[1;32mTrue\u001b[0m\u001b[1;33m)\u001b[0m\u001b[1;33m:\u001b[0m\u001b[1;33m\u001b[0m\u001b[1;33m\u001b[0m\u001b[0m\n",
      "\u001b[1;32mD:\\anaconda3\\Lib\\site-packages\\sklearn\\utils\\validation.py\u001b[0m in \u001b[0;36m?\u001b[1;34m(X, y, accept_sparse, accept_large_sparse, dtype, order, copy, force_writeable, force_all_finite, ensure_all_finite, ensure_2d, allow_nd, multi_output, ensure_min_samples, ensure_min_features, y_numeric, estimator)\u001b[0m\n\u001b[0;32m   1366\u001b[0m         )\n\u001b[0;32m   1367\u001b[0m \u001b[1;33m\u001b[0m\u001b[0m\n\u001b[0;32m   1368\u001b[0m     \u001b[0mensure_all_finite\u001b[0m \u001b[1;33m=\u001b[0m \u001b[0m_deprecate_force_all_finite\u001b[0m\u001b[1;33m(\u001b[0m\u001b[0mforce_all_finite\u001b[0m\u001b[1;33m,\u001b[0m \u001b[0mensure_all_finite\u001b[0m\u001b[1;33m)\u001b[0m\u001b[1;33m\u001b[0m\u001b[1;33m\u001b[0m\u001b[0m\n\u001b[0;32m   1369\u001b[0m \u001b[1;33m\u001b[0m\u001b[0m\n\u001b[1;32m-> 1370\u001b[1;33m     X = check_array(\n\u001b[0m\u001b[0;32m   1371\u001b[0m         \u001b[0mX\u001b[0m\u001b[1;33m,\u001b[0m\u001b[1;33m\u001b[0m\u001b[1;33m\u001b[0m\u001b[0m\n\u001b[0;32m   1372\u001b[0m         \u001b[0maccept_sparse\u001b[0m\u001b[1;33m=\u001b[0m\u001b[0maccept_sparse\u001b[0m\u001b[1;33m,\u001b[0m\u001b[1;33m\u001b[0m\u001b[1;33m\u001b[0m\u001b[0m\n\u001b[0;32m   1373\u001b[0m         \u001b[0maccept_large_sparse\u001b[0m\u001b[1;33m=\u001b[0m\u001b[0maccept_large_sparse\u001b[0m\u001b[1;33m,\u001b[0m\u001b[1;33m\u001b[0m\u001b[1;33m\u001b[0m\u001b[0m\n",
      "\u001b[1;32mD:\\anaconda3\\Lib\\site-packages\\sklearn\\utils\\validation.py\u001b[0m in \u001b[0;36m?\u001b[1;34m(array, accept_sparse, accept_large_sparse, dtype, order, copy, force_writeable, force_all_finite, ensure_all_finite, ensure_non_negative, ensure_2d, allow_nd, ensure_min_samples, ensure_min_features, estimator, input_name)\u001b[0m\n\u001b[0;32m   1052\u001b[0m                         )\n\u001b[0;32m   1053\u001b[0m                     \u001b[0marray\u001b[0m \u001b[1;33m=\u001b[0m \u001b[0mxp\u001b[0m\u001b[1;33m.\u001b[0m\u001b[0mastype\u001b[0m\u001b[1;33m(\u001b[0m\u001b[0marray\u001b[0m\u001b[1;33m,\u001b[0m \u001b[0mdtype\u001b[0m\u001b[1;33m,\u001b[0m \u001b[0mcopy\u001b[0m\u001b[1;33m=\u001b[0m\u001b[1;32mFalse\u001b[0m\u001b[1;33m)\u001b[0m\u001b[1;33m\u001b[0m\u001b[1;33m\u001b[0m\u001b[0m\n\u001b[0;32m   1054\u001b[0m                 \u001b[1;32melse\u001b[0m\u001b[1;33m:\u001b[0m\u001b[1;33m\u001b[0m\u001b[1;33m\u001b[0m\u001b[0m\n\u001b[0;32m   1055\u001b[0m                     \u001b[0marray\u001b[0m \u001b[1;33m=\u001b[0m \u001b[0m_asarray_with_order\u001b[0m\u001b[1;33m(\u001b[0m\u001b[0marray\u001b[0m\u001b[1;33m,\u001b[0m \u001b[0morder\u001b[0m\u001b[1;33m=\u001b[0m\u001b[0morder\u001b[0m\u001b[1;33m,\u001b[0m \u001b[0mdtype\u001b[0m\u001b[1;33m=\u001b[0m\u001b[0mdtype\u001b[0m\u001b[1;33m,\u001b[0m \u001b[0mxp\u001b[0m\u001b[1;33m=\u001b[0m\u001b[0mxp\u001b[0m\u001b[1;33m)\u001b[0m\u001b[1;33m\u001b[0m\u001b[1;33m\u001b[0m\u001b[0m\n\u001b[1;32m-> 1056\u001b[1;33m             \u001b[1;32mexcept\u001b[0m \u001b[0mComplexWarning\u001b[0m \u001b[1;32mas\u001b[0m \u001b[0mcomplex_warning\u001b[0m\u001b[1;33m:\u001b[0m\u001b[1;33m\u001b[0m\u001b[1;33m\u001b[0m\u001b[0m\n\u001b[0m\u001b[0;32m   1057\u001b[0m                 raise ValueError(\n\u001b[0;32m   1058\u001b[0m                     \u001b[1;34m\"Complex data not supported\\n{}\\n\"\u001b[0m\u001b[1;33m.\u001b[0m\u001b[0mformat\u001b[0m\u001b[1;33m(\u001b[0m\u001b[0marray\u001b[0m\u001b[1;33m)\u001b[0m\u001b[1;33m\u001b[0m\u001b[1;33m\u001b[0m\u001b[0m\n\u001b[0;32m   1059\u001b[0m                 ) from complex_warning\n",
      "\u001b[1;32mD:\\anaconda3\\Lib\\site-packages\\sklearn\\utils\\_array_api.py\u001b[0m in \u001b[0;36m?\u001b[1;34m(array, dtype, order, copy, xp, device)\u001b[0m\n\u001b[0;32m    835\u001b[0m         \u001b[1;31m# Use NumPy API to support order\u001b[0m\u001b[1;33m\u001b[0m\u001b[1;33m\u001b[0m\u001b[0m\n\u001b[0;32m    836\u001b[0m         \u001b[1;32mif\u001b[0m \u001b[0mcopy\u001b[0m \u001b[1;32mis\u001b[0m \u001b[1;32mTrue\u001b[0m\u001b[1;33m:\u001b[0m\u001b[1;33m\u001b[0m\u001b[1;33m\u001b[0m\u001b[0m\n\u001b[0;32m    837\u001b[0m             \u001b[0marray\u001b[0m \u001b[1;33m=\u001b[0m \u001b[0mnumpy\u001b[0m\u001b[1;33m.\u001b[0m\u001b[0marray\u001b[0m\u001b[1;33m(\u001b[0m\u001b[0marray\u001b[0m\u001b[1;33m,\u001b[0m \u001b[0morder\u001b[0m\u001b[1;33m=\u001b[0m\u001b[0morder\u001b[0m\u001b[1;33m,\u001b[0m \u001b[0mdtype\u001b[0m\u001b[1;33m=\u001b[0m\u001b[0mdtype\u001b[0m\u001b[1;33m)\u001b[0m\u001b[1;33m\u001b[0m\u001b[1;33m\u001b[0m\u001b[0m\n\u001b[0;32m    838\u001b[0m         \u001b[1;32melse\u001b[0m\u001b[1;33m:\u001b[0m\u001b[1;33m\u001b[0m\u001b[1;33m\u001b[0m\u001b[0m\n\u001b[1;32m--> 839\u001b[1;33m             \u001b[0marray\u001b[0m \u001b[1;33m=\u001b[0m \u001b[0mnumpy\u001b[0m\u001b[1;33m.\u001b[0m\u001b[0masarray\u001b[0m\u001b[1;33m(\u001b[0m\u001b[0marray\u001b[0m\u001b[1;33m,\u001b[0m \u001b[0morder\u001b[0m\u001b[1;33m=\u001b[0m\u001b[0morder\u001b[0m\u001b[1;33m,\u001b[0m \u001b[0mdtype\u001b[0m\u001b[1;33m=\u001b[0m\u001b[0mdtype\u001b[0m\u001b[1;33m)\u001b[0m\u001b[1;33m\u001b[0m\u001b[1;33m\u001b[0m\u001b[0m\n\u001b[0m\u001b[0;32m    840\u001b[0m \u001b[1;33m\u001b[0m\u001b[0m\n\u001b[0;32m    841\u001b[0m         \u001b[1;31m# At this point array is a NumPy ndarray. We convert it to an array\u001b[0m\u001b[1;33m\u001b[0m\u001b[1;33m\u001b[0m\u001b[0m\n\u001b[0;32m    842\u001b[0m         \u001b[1;31m# container that is consistent with the input's namespace.\u001b[0m\u001b[1;33m\u001b[0m\u001b[1;33m\u001b[0m\u001b[0m\n",
      "\u001b[1;32mD:\\anaconda3\\Lib\\site-packages\\pandas\\core\\generic.py\u001b[0m in \u001b[0;36m?\u001b[1;34m(self, dtype, copy)\u001b[0m\n\u001b[0;32m   2149\u001b[0m     def __array__(\n\u001b[0;32m   2150\u001b[0m         \u001b[0mself\u001b[0m\u001b[1;33m,\u001b[0m \u001b[0mdtype\u001b[0m\u001b[1;33m:\u001b[0m \u001b[0mnpt\u001b[0m\u001b[1;33m.\u001b[0m\u001b[0mDTypeLike\u001b[0m \u001b[1;33m|\u001b[0m \u001b[1;32mNone\u001b[0m \u001b[1;33m=\u001b[0m \u001b[1;32mNone\u001b[0m\u001b[1;33m,\u001b[0m \u001b[0mcopy\u001b[0m\u001b[1;33m:\u001b[0m \u001b[0mbool_t\u001b[0m \u001b[1;33m|\u001b[0m \u001b[1;32mNone\u001b[0m \u001b[1;33m=\u001b[0m \u001b[1;32mNone\u001b[0m\u001b[1;33m\u001b[0m\u001b[1;33m\u001b[0m\u001b[0m\n\u001b[0;32m   2151\u001b[0m     ) -> np.ndarray:\n\u001b[0;32m   2152\u001b[0m         \u001b[0mvalues\u001b[0m \u001b[1;33m=\u001b[0m \u001b[0mself\u001b[0m\u001b[1;33m.\u001b[0m\u001b[0m_values\u001b[0m\u001b[1;33m\u001b[0m\u001b[1;33m\u001b[0m\u001b[0m\n\u001b[1;32m-> 2153\u001b[1;33m         \u001b[0marr\u001b[0m \u001b[1;33m=\u001b[0m \u001b[0mnp\u001b[0m\u001b[1;33m.\u001b[0m\u001b[0masarray\u001b[0m\u001b[1;33m(\u001b[0m\u001b[0mvalues\u001b[0m\u001b[1;33m,\u001b[0m \u001b[0mdtype\u001b[0m\u001b[1;33m=\u001b[0m\u001b[0mdtype\u001b[0m\u001b[1;33m)\u001b[0m\u001b[1;33m\u001b[0m\u001b[1;33m\u001b[0m\u001b[0m\n\u001b[0m\u001b[0;32m   2154\u001b[0m         if (\n\u001b[0;32m   2155\u001b[0m             \u001b[0mastype_is_view\u001b[0m\u001b[1;33m(\u001b[0m\u001b[0mvalues\u001b[0m\u001b[1;33m.\u001b[0m\u001b[0mdtype\u001b[0m\u001b[1;33m,\u001b[0m \u001b[0marr\u001b[0m\u001b[1;33m.\u001b[0m\u001b[0mdtype\u001b[0m\u001b[1;33m)\u001b[0m\u001b[1;33m\u001b[0m\u001b[1;33m\u001b[0m\u001b[0m\n\u001b[0;32m   2156\u001b[0m             \u001b[1;32mand\u001b[0m \u001b[0musing_copy_on_write\u001b[0m\u001b[1;33m(\u001b[0m\u001b[1;33m)\u001b[0m\u001b[1;33m\u001b[0m\u001b[1;33m\u001b[0m\u001b[0m\n",
      "\u001b[1;31mValueError\u001b[0m: could not convert string to float: 'Null'"
     ]
    }
   ],
   "source": [
    "from sklearn.ensemble import RandomForestClassifier, GradientBoostingClassifier\n",
    "from sklearn.linear_model import LogisticRegression\n",
    "from sklearn.svm import SVC\n",
    "from sklearn.metrics import classification_report, accuracy_score\n",
    "from sklearn.model_selection import cross_val_score\n",
    "\n",
    "# Initialize models\n",
    "models = {\n",
    "    \"Random Forest\": RandomForestClassifier(random_state=42),\n",
    "    \"Logistic Regression\": LogisticRegression(max_iter=1000, random_state=42),\n",
    "    \"SVM\": SVC(probability=True, random_state=42),\n",
    "    \"Gradient Boosting\": GradientBoostingClassifier(random_state=42)\n",
    "}\n",
    "\n",
    "# Train and evaluate each model\n",
    "results = {}\n",
    "for name, model in models.items():\n",
    "    # Train the model\n",
    "    model.fit(X_train_final, y_train)\n",
    "    \n",
    "    # Make predictions\n",
    "    y_pred = model.predict(X_test_final)\n",
    "    \n",
    "    # Evaluate the model\n",
    "    accuracy = accuracy_score(y_test, y_pred)\n",
    "    report = classification_report(y_test, y_pred)\n",
    "    \n",
    "    # Perform cross-validation\n",
    "    cv_scores = cross_val_score(model, X_train_final, y_train, cv=5)\n",
    "    \n",
    "    # Store results\n",
    "    results[name] = {\n",
    "        'model': model,\n",
    "        'accuracy': accuracy,\n",
    "        'classification_report': report,\n",
    "        'cv_mean_score': cv_scores.mean(),\n",
    "        'cv_std': cv_scores.std()\n",
    "    }\n",
    "    \n",
    "    # Print results\n",
    "    print(f\"--- {name} ---\")\n",
    "    print(f\"Accuracy: {accuracy:.4f}\")\n",
    "    print(f\"Cross-validation score: {cv_scores.mean():.4f} (±{cv_scores.std():.4f})\")\n",
    "    print(report)\n",
    "    print(\"\\n\")\n",
    "\n",
    "# Compare model performances\n",
    "print(\"\\nModel Comparison:\")\n",
    "for name, result in results.items():\n",
    "    print(f\"{name}:\")\n",
    "    print(f\"  Test Accuracy: {result['accuracy']:.4f}\")\n",
    "    print(f\"  CV Mean Accuracy: {result['cv_mean_score']:.4f} (±{result['cv_std']:.4f})\")\n",
    "    print()"
   ]
  },
  {
   "cell_type": "code",
   "execution_count": null,
   "id": "b1f05a06-93d0-4a40-8231-9c5e210210b6",
   "metadata": {},
   "outputs": [],
   "source": []
  }
 ],
 "metadata": {
  "kernelspec": {
   "display_name": "Python 3 (ipykernel)",
   "language": "python",
   "name": "python3"
  },
  "language_info": {
   "codemirror_mode": {
    "name": "ipython",
    "version": 3
   },
   "file_extension": ".py",
   "mimetype": "text/x-python",
   "name": "python",
   "nbconvert_exporter": "python",
   "pygments_lexer": "ipython3",
   "version": "3.11.5"
  }
 },
 "nbformat": 4,
 "nbformat_minor": 5
}
