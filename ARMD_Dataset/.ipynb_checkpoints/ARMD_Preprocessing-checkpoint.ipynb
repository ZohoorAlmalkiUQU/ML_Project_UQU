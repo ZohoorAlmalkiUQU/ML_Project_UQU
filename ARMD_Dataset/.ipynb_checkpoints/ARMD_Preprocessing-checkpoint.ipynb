{
 "cells": [
  {
   "cell_type": "markdown",
   "id": "af919a5b-eb3d-4aed-a000-cefce97ae154",
   "metadata": {},
   "source": [
    "# Combine CSV Files"
   ]
  },
  {
   "cell_type": "code",
   "execution_count": 7,
   "id": "37d3a9f8-456f-4cbb-8eca-3ccf762f68d8",
   "metadata": {},
   "outputs": [
    {
     "name": "stdout",
     "output_type": "stream",
     "text": [
      "     anon_id  pat_enc_csn_id_coded  order_proc_id_coded  \\\n",
      "0  JC2744063          131368600230            928257722   \n",
      "1  JC1713666          131300064625            697566032   \n",
      "2  JC1669304          131272997044            620809641   \n",
      "3  JC1697441          131208305006            510635146   \n",
      "4   JC600786          131344486993            834128837   \n",
      "\n",
      "     order_time_jittered_utc ordering_mode culture_description  was_positive  \\\n",
      "0  2023-12-23 22:29:00+00:00     Inpatient               URINE             1   \n",
      "1  2020-12-27 00:40:00+00:00     Inpatient               URINE             1   \n",
      "2  2019-07-02 19:54:00+00:00     Inpatient               BLOOD             1   \n",
      "3  2016-12-01 13:59:00+00:00     Inpatient               URINE             1   \n",
      "4  2022-11-18 19:35:00+00:00    Outpatient               URINE             1   \n",
      "\n",
      "                organism antibiotic susceptibility  \n",
      "0  KLEBSIELLA PNEUMONIAE  Ertapenem    Susceptible  \n",
      "1  KLEBSIELLA PNEUMONIAE  Ertapenem    Susceptible  \n",
      "2  KLEBSIELLA PNEUMONIAE  Ertapenem    Susceptible  \n",
      "3  KLEBSIELLA PNEUMONIAE  Ertapenem    Susceptible  \n",
      "4  KLEBSIELLA PNEUMONIAE  Ertapenem    Susceptible  \n"
     ]
    }
   ],
   "source": [
    "import pandas as pd\n",
    "\n",
    "path = \"doi_10_5061_dryad_jq2bvq8kp__v20250411\"\n",
    "\n",
    "df_cultures_cohort = pd.read_csv(path+'/microbiology_cultures_cohort.csv')\n",
    "\n",
    "print(df_cultures_cohort.size)\n",
    "\n",
    "\n"
   ]
  },
  {
   "cell_type": "code",
   "execution_count": null,
   "id": "6128067e-ea89-412e-939c-d5990c99bd1d",
   "metadata": {},
   "outputs": [],
   "source": []
  }
 ],
 "metadata": {
  "kernelspec": {
   "display_name": "Python 3 (ipykernel)",
   "language": "python",
   "name": "python3"
  },
  "language_info": {
   "codemirror_mode": {
    "name": "ipython",
    "version": 3
   },
   "file_extension": ".py",
   "mimetype": "text/x-python",
   "name": "python",
   "nbconvert_exporter": "python",
   "pygments_lexer": "ipython3",
   "version": "3.11.5"
  }
 },
 "nbformat": 4,
 "nbformat_minor": 5
}
