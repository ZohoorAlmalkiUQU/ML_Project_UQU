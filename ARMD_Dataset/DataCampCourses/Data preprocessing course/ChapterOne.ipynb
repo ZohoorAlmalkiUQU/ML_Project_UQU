{
 "cells": [
  {
   "cell_type": "code",
   "execution_count": 29,
   "id": "fd8f2d75-e1d8-4e37-a9f1-333ad1369302",
   "metadata": {},
   "outputs": [
    {
     "name": "stdout",
     "output_type": "stream",
     "text": [
      "<class 'pandas.core.frame.DataFrame'>\n",
      "RangeIndex: 5 entries, 0 to 4\n",
      "Data columns (total 3 columns):\n",
      " #   Column  Non-Null Count  Dtype  \n",
      "---  ------  --------------  -----  \n",
      " 0   A       4 non-null      float64\n",
      " 1   B       3 non-null      float64\n",
      " 2   C       2 non-null      float64\n",
      "dtypes: float64(3)\n",
      "memory usage: 252.0 bytes\n",
      "None\n",
      "---------------------------------------------\n",
      "     A    B    C\n",
      "0  1.0  NaN  2.0\n",
      "1  4.0  2.0  NaN\n",
      "2  7.0  NaN  NaN\n",
      "3  NaN  3.0  NaN\n",
      "4  8.0  1.0  7.0\n",
      "---------------------------------------------\n",
      "     A    B    C\n",
      "0  1.0  NaN  2.0\n",
      "1  4.0  2.0  NaN\n",
      "4  8.0  1.0  7.0\n",
      "---------------------------------------------\n",
      "       A      B      C\n",
      "0  False   True  False\n",
      "1  False  False   True\n",
      "2  False   True   True\n",
      "3   True  False   True\n",
      "4  False  False  False\n"
     ]
    }
   ],
   "source": [
    "import numpy as np\n",
    "import pandas as pd\n",
    "\n",
    "data = [\n",
    "    [1,None,2],\n",
    "    [4,2,None],\n",
    "    [7,None,None],\n",
    "    [None,3,None],\n",
    "    [8,1,7]]\n",
    "columns = ['A','B','C']\n",
    "\n",
    "df = pd.DataFrame(data=data,columns= columns )\n",
    "print(df.info())\n",
    "print('---------------------------------------------')\n",
    "print(df.head())\n",
    "print('---------------------------------------------')\n",
    "print(df.dropna(thresh=2))\n",
    "print('---------------------------------------------')\n",
    "print(df.isna())"
   ]
  },
  {
   "cell_type": "code",
   "execution_count": 35,
   "id": "dd2b646c-d512-4424-8ab9-5d8127030476",
   "metadata": {},
   "outputs": [
    {
     "name": "stdout",
     "output_type": "stream",
     "text": [
      "2\n"
     ]
    }
   ],
   "source": [
    "print(df['B'].isna().sum())"
   ]
  },
  {
   "cell_type": "code",
   "execution_count": 39,
   "id": "5b4c4fa5-3396-4d4e-ac46-3d8c438a7f99",
   "metadata": {},
   "outputs": [
    {
     "name": "stdout",
     "output_type": "stream",
     "text": [
      "<class 'pandas.core.series.Series'>\n",
      "RangeIndex: 5 entries, 0 to 4\n",
      "Series name: A\n",
      "Non-Null Count  Dtype  \n",
      "--------------  -----  \n",
      "4 non-null      float64\n",
      "dtypes: float64(1)\n",
      "memory usage: 172.0 bytes\n",
      "None\n"
     ]
    }
   ],
   "source": [
    "print(df['A'].info())"
   ]
  },
  {
   "cell_type": "code",
   "execution_count": null,
   "id": "f1cd3c7c-b130-46f2-85a1-04360dfd178a",
   "metadata": {},
   "outputs": [],
   "source": []
  }
 ],
 "metadata": {
  "kernelspec": {
   "display_name": "Python (myenv)",
   "language": "python",
   "name": "myenv"
  },
  "language_info": {
   "codemirror_mode": {
    "name": "ipython",
    "version": 3
   },
   "file_extension": ".py",
   "mimetype": "text/x-python",
   "name": "python",
   "nbconvert_exporter": "python",
   "pygments_lexer": "ipython3",
   "version": "3.11.5"
  }
 },
 "nbformat": 4,
 "nbformat_minor": 5
}
