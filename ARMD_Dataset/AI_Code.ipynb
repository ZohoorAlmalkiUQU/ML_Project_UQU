    "OUTPUT_FILE = \"merged_antibiotic_resistance_data.csv\"\n",
