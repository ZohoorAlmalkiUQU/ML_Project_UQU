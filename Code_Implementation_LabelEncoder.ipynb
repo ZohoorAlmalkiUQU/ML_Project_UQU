{
 "cells": [
  {
   "cell_type": "markdown",
   "id": "02554b9a-4a5d-4ca0-8b12-076f45afa0ea",
   "metadata": {},
   "source": [
    "# Antibiotic resistance prediction"
   ]
  },
  {
   "cell_type": "markdown",
   "id": "782d8e5d-14df-428e-827c-c330da186a7d",
   "metadata": {},
   "source": [
    "## Project Introduction\n",
    "This project aims to predict antibiotic resistance using structured electronic health record (EHR) data from the Antibiotic Resistance Microbiology Dataset (ARMD). The goal is to classify whether a bacterial isolate is susceptible (S) or resistant (R) to a given antibiotic, based on clinical, demographic, microbiological, and treatment-related features. This binary classification model supports empirical antibiotic selection and contributes to combating antimicrobial resistance in clinical settings."
   ]
  },
  {
   "cell_type": "code",
   "execution_count": 3,
   "id": "2ad97912-cea9-437d-b03f-1d61d164e3c3",
   "metadata": {},
   "outputs": [
    {
     "name": "stdout",
     "output_type": "stream",
     "text": [
      "(2184195, 38)\n"
     ]
    }
   ],
   "source": [
    "import pandas as pd\n",
    "from sklearn.preprocessing import LabelEncoder\n",
    "from sklearn.impute import SimpleImputer\n",
    "\n",
    "final_armd_ds = 'ARMD_Dataset/selected_features_with_deltas.parquet'\n",
    "\n",
    "df = pd.read_parquet(final_armd_ds)\n",
    "print(df.shape)\n",
    "\n"
   ]
  },
  {
   "cell_type": "markdown",
   "id": "da80262e-189b-4caf-98ad-2d023a78a4e2",
   "metadata": {},
   "source": [
    "### Separate target + binary encoding"
   ]
  },
  {
   "cell_type": "code",
   "execution_count": 5,
   "id": "08762e35-c894-477c-a046-1a62d0691e66",
   "metadata": {},
   "outputs": [
    {
     "name": "stdout",
     "output_type": "stream",
     "text": [
      "y:  (2184195,)\n",
      "X:  (2184195, 37)\n"
     ]
    }
   ],
   "source": [
    "target_col = 'susceptibility_label'\n",
    "df[target_col] = df[target_col].map({'S': 0, 'R': 1})  \n",
    "y = df[target_col]\n",
    "X = df.drop(columns=[target_col])\n",
    "print('y: ',y.shape)\n",
    "print('X: ',X.shape)"
   ]
  },
  {
   "cell_type": "markdown",
   "id": "d5c3bb57-29bc-46a6-9dea-06c03823d6cf",
   "metadata": {},
   "source": [
    "### Missing values handle "
   ]
  },
  {
   "cell_type": "code",
   "execution_count": 7,
   "id": "3b1b9e93-f5ec-46a0-80ac-b79ed2383de1",
   "metadata": {},
   "outputs": [
    {
     "data": {
      "text/plain": [
       "organism_x                              0\n",
       "antibiotic_x                            0\n",
       "resistant_time_to_culturetime       29367\n",
       "age                                     0\n",
       "gender                                  0\n",
       "adi_score                               0\n",
       "adi_state_rank                          0\n",
       "median_wbc                          11684\n",
       "median_neutrophils                  11684\n",
       "median_lymphocytes                  11684\n",
       "median_hgb                          11684\n",
       "median_plt                          11684\n",
       "median_na                           11684\n",
       "median_hco3                         11684\n",
       "median_bun                          11684\n",
       "median_cr                           11684\n",
       "median_lactate                      11684\n",
       "median_procalcitonin                11684\n",
       "median_heartrate                    29737\n",
       "median_resprate                     34359\n",
       "median_temp                         30766\n",
       "median_sysbp                        30071\n",
       "median_diasbp                       30071\n",
       "medication_category                 36667\n",
       "medication_time_to_culturetime      36667\n",
       "first_wbc                         2180852\n",
       "last_wbc                           244743\n",
       "first_cr                           281424\n",
       "last_cr                           2179260\n",
       "first_lactate                     2183824\n",
       "last_lactate                      2181179\n",
       "first_procalcitonin               2184177\n",
       "last_procalcitonin                2175755\n",
       "delta_wbc                         2181313\n",
       "delta_cr                          2183861\n",
       "delta_lactate                     2184177\n",
       "delta_procalcitonin               2184195\n",
       "dtype: int64"
      ]
     },
     "execution_count": 7,
     "metadata": {},
     "output_type": "execute_result"
    }
   ],
   "source": [
    "X.isna().sum()"
   ]
  },
  {
   "cell_type": "code",
   "execution_count": 8,
   "id": "9076309f-91ae-4b19-9545-cdcab95eadeb",
   "metadata": {},
   "outputs": [
    {
     "name": "stdout",
     "output_type": "stream",
     "text": [
      "<class 'pandas.core.frame.DataFrame'>\n",
      "RangeIndex: 2184195 entries, 0 to 2184194\n",
      "Data columns (total 37 columns):\n",
      " #   Column                          Dtype  \n",
      "---  ------                          -----  \n",
      " 0   organism_x                      string \n",
      " 1   antibiotic_x                    string \n",
      " 2   resistant_time_to_culturetime   float64\n",
      " 3   age                             string \n",
      " 4   gender                          string \n",
      " 5   adi_score                       string \n",
      " 6   adi_state_rank                  string \n",
      " 7   median_wbc                      string \n",
      " 8   median_neutrophils              string \n",
      " 9   median_lymphocytes              string \n",
      " 10  median_hgb                      string \n",
      " 11  median_plt                      string \n",
      " 12  median_na                       string \n",
      " 13  median_hco3                     string \n",
      " 14  median_bun                      string \n",
      " 15  median_cr                       string \n",
      " 16  median_lactate                  string \n",
      " 17  median_procalcitonin            string \n",
      " 18  median_heartrate                float32\n",
      " 19  median_resprate                 float32\n",
      " 20  median_temp                     float32\n",
      " 21  median_sysbp                    float32\n",
      " 22  median_diasbp                   float32\n",
      " 23  medication_category             string \n",
      " 24  medication_time_to_culturetime  float64\n",
      " 25  first_wbc                       Float64\n",
      " 26  last_wbc                        Float64\n",
      " 27  first_cr                        Float64\n",
      " 28  last_cr                         Float64\n",
      " 29  first_lactate                   Float64\n",
      " 30  last_lactate                    Float64\n",
      " 31  first_procalcitonin             Float64\n",
      " 32  last_procalcitonin              Float64\n",
      " 33  delta_wbc                       Float64\n",
      " 34  delta_cr                        Float64\n",
      " 35  delta_lactate                   Float64\n",
      " 36  delta_procalcitonin             Float64\n",
      "dtypes: Float64(12), float32(5), float64(2), string(18)\n",
      "memory usage: 599.9 MB\n"
     ]
    }
   ],
   "source": [
    "X.info()"
   ]
  },
  {
   "cell_type": "code",
   "execution_count": 9,
   "id": "ed6f1ab8-db31-4fe7-b5ba-a3c699ed74ec",
   "metadata": {},
   "outputs": [
    {
     "name": "stdout",
     "output_type": "stream",
     "text": [
      "categorical_cols: Index(['organism_x', 'antibiotic_x', 'age', 'gender', 'adi_score',\n",
      "       'adi_state_rank', 'median_wbc', 'median_neutrophils',\n",
      "       'median_lymphocytes', 'median_hgb', 'median_plt', 'median_na',\n",
      "       'median_hco3', 'median_bun', 'median_cr', 'median_lactate',\n",
      "       'median_procalcitonin', 'medication_category'],\n",
      "      dtype='object')\n",
      "--------------------------------------------\n",
      "numeric_cols: Index(['resistant_time_to_culturetime', 'median_heartrate', 'median_resprate',\n",
      "       'median_temp', 'median_sysbp', 'median_diasbp',\n",
      "       'medication_time_to_culturetime', 'first_wbc', 'last_wbc', 'first_cr',\n",
      "       'last_cr', 'first_lactate', 'last_lactate', 'first_procalcitonin',\n",
      "       'last_procalcitonin', 'delta_wbc', 'delta_cr', 'delta_lactate',\n",
      "       'delta_procalcitonin'],\n",
      "      dtype='object')\n"
     ]
    }
   ],
   "source": [
    "categorical_cols = X.select_dtypes(include=['string']).columns\n",
    "numeric_cols = X.select_dtypes(include=['number']).columns\n",
    "print(f'categorical_cols: {categorical_cols}')\n",
    "print('--------------------------------------------')\n",
    "print(f'numeric_cols: {numeric_cols}')"
   ]
  },
  {
   "cell_type": "markdown",
   "id": "76c9e4c0-2eba-43b0-99dd-67b5b1f051a5",
   "metadata": {},
   "source": [
    "### Encode categorical columns"
   ]
  },
  {
   "cell_type": "code",
   "execution_count": 15,
   "id": "c58c0c93-e116-40f2-a5b3-27e60dda4f6b",
   "metadata": {},
   "outputs": [],
   "source": [
    "label_encoders = {}\n",
    "for col in categorical_cols:\n",
    "    le = LabelEncoder()\n",
    "    X[col] = le.fit_transform(X[col].astype(str))\n",
    "    label_encoders[col] = le  # Save encoder if needed later\n"
   ]
  },
  {
   "cell_type": "markdown",
   "id": "ba3ce83a-a501-4e32-bf54-968ac7bfc4c4",
   "metadata": {},
   "source": [
    "### Verify All Columns Are Numeric"
   ]
  },
  {
   "cell_type": "code",
   "execution_count": 18,
   "id": "5db3142f-158c-4737-aa5f-511284928aed",
   "metadata": {},
   "outputs": [
    {
     "name": "stdout",
     "output_type": "stream",
     "text": [
      "Non-numeric columns: []\n"
     ]
    }
   ],
   "source": [
    "non_numeric_cols = X.select_dtypes(exclude=[\"number\"]).columns\n",
    "print(\"Non-numeric columns:\", non_numeric_cols.tolist())\n"
   ]
  },
  {
   "cell_type": "markdown",
   "id": "11e5ce76-3271-4df0-996e-4b83e1277e57",
   "metadata": {},
   "source": [
    "### Fill missing values (numeric only here, since all is numeric now)"
   ]
  },
  {
   "cell_type": "code",
   "execution_count": 22,
   "id": "482e8b61-1b33-4315-bfa8-35d0b78ef5b1",
   "metadata": {},
   "outputs": [],
   "source": [
    "# Drop columns with all missing values\n",
    "X_non_empty = X.dropna(axis=1, how='all')\n",
    "\n",
    "# Apply imputer only to columns with at least some non-missing data\n",
    "imputer = SimpleImputer(strategy='median')\n",
    "X_imputed_array = imputer.fit_transform(X_non_empty)\n",
    "X_imputed = pd.DataFrame(X_imputed_array, columns=X_non_empty.columns)\n"
   ]
  },
  {
   "cell_type": "code",
   "execution_count": 26,
   "id": "ead86aec-95ee-43f2-a862-0e987b5c98ed",
   "metadata": {},
   "outputs": [
    {
     "name": "stdout",
     "output_type": "stream",
     "text": [
      "(2184195, 36)\n",
      "(2184195, 36)\n"
     ]
    }
   ],
   "source": [
    "print(X_imputed_array.shape)\n",
    "print(X_imputed.shape)"
   ]
  },
  {
   "cell_type": "markdown",
   "id": "a0974890-63b9-4ca9-bc56-a50c419acf36",
   "metadata": {},
   "source": [
    "### Combine imputed features with target"
   ]
  },
  {
   "cell_type": "code",
   "execution_count": 29,
   "id": "686fcfef-2f97-4d6c-913f-54b7a5ee9e0c",
   "metadata": {},
   "outputs": [],
   "source": [
    "df_numeric = X_imputed.copy()\n",
    "df_numeric['susceptibility_label'] = y.values\n"
   ]
  },
  {
   "cell_type": "markdown",
   "id": "7ed89361-9066-4602-8ee4-aa35b8561df4",
   "metadata": {},
   "source": [
    "### Save as Parquet"
   ]
  },
  {
   "cell_type": "code",
   "execution_count": 34,
   "id": "e547ed31-c382-4824-8d8b-493802e57adf",
   "metadata": {},
   "outputs": [
    {
     "name": "stdout",
     "output_type": "stream",
     "text": [
      "✅ All features numeric and saved to 'numeric_dataset.parquet'\n"
     ]
    }
   ],
   "source": [
    "df_numeric.to_parquet(\"numeric_dataset_labelEncoder.parquet\", index=False)\n",
    "print(\"✅ All features numeric and saved to 'numeric_dataset.parquet'\")"
   ]
  },
  {
   "cell_type": "markdown",
   "id": "7b84c3f6-f58b-421e-836f-20ae0d974bdc",
   "metadata": {},
   "source": [
    "## Load the Data"
   ]
  },
  {
   "cell_type": "code",
   "execution_count": 36,
   "id": "785c9863-59d2-4285-83ad-9eaa640b88d1",
   "metadata": {},
   "outputs": [
    {
     "name": "stdout",
     "output_type": "stream",
     "text": [
      "y:  (2184195,)\n",
      "X:  (2184195, 36)\n"
     ]
    }
   ],
   "source": [
    "import pandas as pd\n",
    "\n",
    "df = pd.read_parquet(\"numeric_dataset_labelEncoder.parquet\")\n",
    "X = df.drop(columns=[\"susceptibility_label\"])\n",
    "y = df[\"susceptibility_label\"]\n",
    "print('y: ',y.shape)\n",
    "print('X: ',X.shape)"
   ]
  },
  {
   "cell_type": "markdown",
   "id": "b540419a-c224-4c60-a637-4217bae7875b",
   "metadata": {},
   "source": [
    "## Correlation Features\n"
   ]
  },
  {
   "cell_type": "code",
   "execution_count": 40,
   "id": "abb5974f-88de-40ea-9ba0-768fb28adfe2",
   "metadata": {},
   "outputs": [
    {
     "name": "stdout",
     "output_type": "stream",
     "text": [
      "susceptibility_label              1.000000\n",
      "median_heartrate                  0.162111\n",
      "median_diasbp                     0.106129\n",
      "median_plt                        0.103091\n",
      "median_hco3                       0.096921\n",
      "organism_x                        0.087757\n",
      "median_sysbp                      0.066204\n",
      "medication_category               0.062786\n",
      "median_lactate                    0.062596\n",
      "median_wbc                        0.059287\n",
      "median_hgb                        0.008144\n",
      "delta_wbc                         0.007449\n",
      "last_wbc                          0.006466\n",
      "delta_lactate                     0.001549\n",
      "last_lactate                      0.000324\n",
      "last_procalcitonin                0.000243\n",
      "delta_cr                         -0.000105\n",
      "first_lactate                    -0.001241\n",
      "last_cr                          -0.006196\n",
      "first_wbc                        -0.013252\n",
      "median_neutrophils               -0.015547\n",
      "resistant_time_to_culturetime    -0.016621\n",
      "median_lymphocytes               -0.033181\n",
      "median_na                        -0.034865\n",
      "medication_time_to_culturetime   -0.039694\n",
      "gender                           -0.040069\n",
      "median_resprate                  -0.049607\n",
      "median_temp                      -0.051721\n",
      "median_bun                       -0.071629\n",
      "median_procalcitonin             -0.079208\n",
      "adi_state_rank                   -0.087235\n",
      "age                              -0.109437\n",
      "median_cr                        -0.110065\n",
      "adi_score                        -0.140626\n",
      "antibiotic_x                     -0.182421\n",
      "first_cr                         -0.184195\n",
      "first_procalcitonin                    NaN\n",
      "Name: susceptibility_label, dtype: float64\n"
     ]
    }
   ],
   "source": [
    "correlation = df.corr()['susceptibility_label'].sort_values(ascending=False)\n",
    "print(correlation)"
   ]
  },
  {
   "cell_type": "markdown",
   "id": "b6d8ea4e-6303-41a9-ae5c-184f483b32ed",
   "metadata": {},
   "source": [
    "## Train/Test Split + Scale"
   ]
  },
  {
   "cell_type": "code",
   "execution_count": 45,
   "id": "7366d60e-78a9-45c2-9620-3bb1a5782c49",
   "metadata": {},
   "outputs": [],
   "source": [
    "from sklearn.model_selection import train_test_split\n",
    "from sklearn.preprocessing import StandardScaler\n",
    "\n",
    "X_train, X_test, y_train, y_test = train_test_split(\n",
    "    X, y, test_size=0.2, random_state=42, stratify=y\n",
    ")\n",
    "\n",
    "scaler = StandardScaler()\n",
    "X_train_scaled = scaler.fit_transform(X_train)\n",
    "X_test_scaled = scaler.transform(X_test)\n"
   ]
  },
  {
   "cell_type": "markdown",
   "id": "34771638-add8-4be7-ad0b-972619fb1dc8",
   "metadata": {},
   "source": [
    "## Models implementation"
   ]
  },
  {
   "cell_type": "code",
   "execution_count": null,
   "id": "73b2fcd6-9e48-4d72-b2c9-31a2c22dfa4f",
   "metadata": {},
   "outputs": [],
   "source": [
    "from imblearn.under_sampling import RandomUnderSampler\n",
    "rus = RandomUnderSampler(random_state=42)\n",
    "X_res, y_res = rus.fit_resample(X_train, y_train)\n",
    "from sklearn.model_selection import RandomizedSearchCV\n",
    "\n",
    "param_grid = {\n",
    "    'randomforestclassifier__n_estimators': [100, 200],\n",
    "    'randomforestclassifier__max_depth': [10, 20, None],\n",
    "    'randomforestclassifier__min_samples_split': [2, 10],\n",
    "    'randomforestclassifier__min_samples_leaf': [1, 5, 10],\n",
    "    'randomforestclassifier__class_weight': ['balanced', {0: 1, 1: 2}]\n",
    "}\n",
    "search = RandomizedSearchCV(model, param_grid, cv=3, scoring='roc_auc', n_iter=10, n_jobs=-1)\n",
    "search.fit(X_train, y_train)\n",
    "\n",
    "importances = model.named_steps['randomforestclassifier'].feature_importances_\n",
    "feature_importance_df = pd.DataFrame({\n",
    "    'feature': X_train.columns,\n",
    "    'importance': importances\n",
    "}).sort_values(by='importance', ascending=False)\n",
    "\n",
    "plt.figure(figsize=(6,6))\n",
    "plt.scatter(y_prob, y_test, alpha=0.01)\n",
    "plt.xlabel('Predicted Probability')\n",
    "plt.ylabel('True Label')\n",
    "plt.title('Predicted Probability vs. True Label')\n",
    "plt.show()\n"
   ]
  },
  {
   "cell_type": "markdown",
   "id": "5a134d12-162c-4bca-8e7c-c6b6c93709f9",
   "metadata": {},
   "source": [
    "## Best Models and Techniques for Overlapping Classes"
   ]
  },
  {
   "cell_type": "markdown",
   "id": "0e4bbfad-65f7-482c-b217-22c4767d514a",
   "metadata": {},
   "source": [
    "**Gradient Boosting Trees (e.g., XGBoost, LightGBM, CatBoost)**\n",
    "- They handle non-linear boundaries well and are more robust to overlapping regions than Random Forests.\n",
    "- LightGBM is very fast on large datasets.\n",
    "- Use `scale_pos_weight` to handle class imbalance, and tune `max_depth`, `min_child_weight`, and `learning_rate`."
   ]
  },
  {
   "cell_type": "markdown",
   "id": "fbadb306-6458-4c4d-a431-648a70ac78f7",
   "metadata": {},
   "source": [
    "## LightGBM Modeling Pipeline"
   ]
  },
  {
   "cell_type": "code",
   "execution_count": null,
   "id": "1797ba09-73c3-427d-a180-483221321912",
   "metadata": {},
   "outputs": [],
   "source": [
    "from lightgbm import LGBMClassifier\n",
    "from sklearn.metrics import classification_report, roc_auc_score, confusion_matrix\n",
    "import matplotlib.pyplot as plt\n",
    "\n",
    "# 1. Estimate imbalance ratio for scale_pos_weight\n",
    "neg, pos = (y_train == 0).sum(), (y_train == 1).sum()\n",
    "imbalance_ratio = neg / pos\n",
    "\n",
    "# 2. Define the LightGBM model\n",
    "lgbm = LGBMClassifier(\n",
    "    n_estimators=200,\n",
    "    learning_rate=0.05,\n",
    "    max_depth=10,\n",
    "    min_child_weight=30,\n",
    "    subsample=0.8,\n",
    "    colsample_bytree=0.8,\n",
    "    scale_pos_weight=imbalance_ratio,\n",
    "    random_state=42,\n",
    "    n_jobs=-1\n",
    ")\n",
    "\n",
    "# 3. Train the model\n",
    "lgbm.fit(X_train, y_train)\n",
    "\n",
    "# 4. Predict probabilities and adjust threshold\n",
    "y_prob = lgbm.predict_proba(X_test)[:, 1]\n",
    "y_pred_adj = (y_prob > 0.4).astype(int)\n",
    "\n",
    "# 5. Evaluate performance\n",
    "print(\"LightGBM Performance:\")\n",
    "print(classification_report(y_test, y_pred_adj))\n",
    "print(f\"\\nROC AUC Score: {roc_auc_score(y_test, y_prob):.3f}\")\n",
    "print(\"\\nConfusion Matrix:\")\n",
    "print(confusion_matrix(y_test, y_pred_adj))\n",
    "\n",
    "# 6. Plot histogram of predicted probabilities\n",
    "plt.figure(figsize=(10, 4))\n",
    "plt.hist(y_prob[y_test==0], bins=50, alpha=0.5, label='Class 0')\n",
    "plt.hist(y_prob[y_test==1], bins=50, alpha=0.5, label='Class 1')\n",
    "plt.legend()\n",
    "plt.title(\"LightGBM: Probability Distributions by True Class\")\n",
    "plt.xlabel(\"Predicted Probability\")\n",
    "plt.ylabel(\"Count\")\n",
    "plt.show()\n"
   ]
  }
 ],
 "metadata": {
  "kernelspec": {
   "display_name": "Python 3 (ipykernel)",
   "language": "python",
   "name": "python3"
  },
  "language_info": {
   "codemirror_mode": {
    "name": "ipython",
    "version": 3
   },
   "file_extension": ".py",
   "mimetype": "text/x-python",
   "name": "python",
   "nbconvert_exporter": "python",
   "pygments_lexer": "ipython3",
   "version": "3.11.5"
  }
 },
 "nbformat": 4,
 "nbformat_minor": 5
}
