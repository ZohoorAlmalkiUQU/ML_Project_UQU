{
 "cells": [
  {
   "cell_type": "markdown",
   "id": "02554b9a-4a5d-4ca0-8b12-076f45afa0ea",
   "metadata": {},
   "source": [
    "# Antibiotic resistance prediction"
   ]
  },
  {
   "cell_type": "markdown",
   "id": "782d8e5d-14df-428e-827c-c330da186a7d",
   "metadata": {},
   "source": [
    "## Project Introduction\n",
    "This project aims to predict antibiotic resistance using structured electronic health record (EHR) data from the Antibiotic Resistance Microbiology Dataset (ARMD). The goal is to classify whether a bacterial isolate is susceptible (S) or resistant (R) to a given antibiotic, based on clinical, demographic, microbiological, and treatment-related features. This binary classification model supports empirical antibiotic selection and contributes to combating antimicrobial resistance in clinical settings."
   ]
  },
  {
   "cell_type": "code",
   "execution_count": 3,
   "id": "3b53c479-d29f-411d-9d18-f6fa9f32a51b",
   "metadata": {},
   "outputs": [
    {
     "name": "stdout",
     "output_type": "stream",
     "text": [
      "(2184195, 27)\n"
     ]
    }
   ],
   "source": [
    "import pandas as pd\n",
    "from sklearn.preprocessing import LabelEncoder\n",
    "from sklearn.impute import SimpleImputer\n",
    "\n",
    "final_armd_ds = 'ARMD_Dataset/selected_features_output.parquet'\n",
    "\n",
    "df = pd.read_parquet(final_armd_ds)\n",
    "print(df.shape)\n"
   ]
  },
  {
   "cell_type": "markdown",
   "id": "da80262e-189b-4caf-98ad-2d023a78a4e2",
   "metadata": {},
   "source": [
    "### Separate target + binary encoding"
   ]
  },
  {
   "cell_type": "code",
   "execution_count": 5,
   "id": "08762e35-c894-477c-a046-1a62d0691e66",
   "metadata": {},
   "outputs": [
    {
     "name": "stdout",
     "output_type": "stream",
     "text": [
      "y:  (2184195,)\n",
      "X:  (2184195, 26)\n"
     ]
    }
   ],
   "source": [
    "target_col = 'susceptibility_label'\n",
    "df[target_col] = df[target_col].map({'S': 0, 'R': 1})  \n",
    "y = df[target_col]\n",
    "X = df.drop(columns=[target_col])\n",
    "print('y: ',y.shape)\n",
    "print('X: ',X.shape)"
   ]
  },
  {
   "cell_type": "markdown",
   "id": "bd23cb24-2e0e-4876-b66c-0ff9c5eaddec",
   "metadata": {},
   "source": [
    "### Identify column types"
   ]
  },
  {
   "cell_type": "code",
   "execution_count": 7,
   "id": "9076309f-91ae-4b19-9545-cdcab95eadeb",
   "metadata": {},
   "outputs": [
    {
     "name": "stdout",
     "output_type": "stream",
     "text": [
      "<class 'pandas.core.frame.DataFrame'>\n",
      "RangeIndex: 2184195 entries, 0 to 2184194\n",
      "Data columns (total 26 columns):\n",
      " #   Column                          Dtype  \n",
      "---  ------                          -----  \n",
      " 0   organism_x                      string \n",
      " 1   antibiotic_x                    string \n",
      " 2   resistant_time_to_culturetime   float64\n",
      " 3   age                             string \n",
      " 4   gender                          string \n",
      " 5   adi_score                       string \n",
      " 6   adi_state_rank                  string \n",
      " 7   median_wbc                      string \n",
      " 8   median_neutrophils              string \n",
      " 9   median_lymphocytes              string \n",
      " 10  median_hgb                      string \n",
      " 11  median_plt                      string \n",
      " 12  median_na                       string \n",
      " 13  median_hco3                     string \n",
      " 14  median_bun                      string \n",
      " 15  median_cr                       string \n",
      " 16  median_lactate                  string \n",
      " 17  median_procalcitonin            string \n",
      " 18  median_heartrate                float32\n",
      " 19  median_resprate                 float32\n",
      " 20  median_temp                     float32\n",
      " 21  median_sysbp                    float32\n",
      " 22  median_diasbp                   float32\n",
      " 23  medication_category             string \n",
      " 24  medication_time_to_culturetime  float64\n",
      " 25  nursing_home_visit_culture      float64\n",
      "dtypes: float32(5), float64(3), string(18)\n",
      "memory usage: 391.6 MB\n"
     ]
    }
   ],
   "source": [
    "X.info()"
   ]
  },
  {
   "cell_type": "code",
   "execution_count": 8,
   "id": "ed6f1ab8-db31-4fe7-b5ba-a3c699ed74ec",
   "metadata": {},
   "outputs": [
    {
     "name": "stdout",
     "output_type": "stream",
     "text": [
      "categorical_cols: Index(['organism_x', 'antibiotic_x', 'age', 'gender', 'adi_score',\n",
      "       'adi_state_rank', 'median_wbc', 'median_neutrophils',\n",
      "       'median_lymphocytes', 'median_hgb', 'median_plt', 'median_na',\n",
      "       'median_hco3', 'median_bun', 'median_cr', 'median_lactate',\n",
      "       'median_procalcitonin', 'medication_category'],\n",
      "      dtype='object')\n",
      "--------------------------------------------\n",
      "numeric_cols: Index(['resistant_time_to_culturetime', 'median_heartrate', 'median_resprate',\n",
      "       'median_temp', 'median_sysbp', 'median_diasbp',\n",
      "       'medication_time_to_culturetime', 'nursing_home_visit_culture'],\n",
      "      dtype='object')\n"
     ]
    }
   ],
   "source": [
    "categorical_cols = X.select_dtypes(include=['string']).columns\n",
    "numeric_cols = X.select_dtypes(include=['number']).columns\n",
    "print(f'categorical_cols: {categorical_cols}')\n",
    "print('--------------------------------------------')\n",
    "print(f'numeric_cols: {numeric_cols}')"
   ]
  },
  {
   "cell_type": "markdown",
   "id": "76c9e4c0-2eba-43b0-99dd-67b5b1f051a5",
   "metadata": {},
   "source": [
    "### Encode categorical columns"
   ]
  },
  {
   "cell_type": "code",
   "execution_count": 10,
   "id": "c58c0c93-e116-40f2-a5b3-27e60dda4f6b",
   "metadata": {},
   "outputs": [],
   "source": [
    "label_encoders = {}\n",
    "for col in categorical_cols:\n",
    "    le = LabelEncoder()\n",
    "    X[col] = le.fit_transform(X[col].astype(str))\n",
    "    label_encoders[col] = le  # Save encoder if needed later\n"
   ]
  },
  {
   "cell_type": "markdown",
   "id": "ba3ce83a-a501-4e32-bf54-968ac7bfc4c4",
   "metadata": {},
   "source": [
    "### Verify All Columns Are Numeric"
   ]
  },
  {
   "cell_type": "code",
   "execution_count": 12,
   "id": "5db3142f-158c-4737-aa5f-511284928aed",
   "metadata": {},
   "outputs": [
    {
     "name": "stdout",
     "output_type": "stream",
     "text": [
      "Non-numeric columns: []\n"
     ]
    }
   ],
   "source": [
    "non_numeric_cols = X.select_dtypes(exclude=[\"number\"]).columns\n",
    "print(\"Non-numeric columns:\", non_numeric_cols.tolist())\n"
   ]
  },
  {
   "cell_type": "markdown",
   "id": "15b15167-0c2e-4569-9106-9681e89fe460",
   "metadata": {},
   "source": [
    "### Fill missing values (numeric only here, since all is numeric now)"
   ]
  },
  {
   "cell_type": "code",
   "execution_count": 14,
   "id": "21203654-2805-4613-8ee4-257ce720b4ee",
   "metadata": {},
   "outputs": [],
   "source": [
    "imputer = SimpleImputer(strategy='median')\n",
    "X_imputed = pd.DataFrame(imputer.fit_transform(X), columns=X.columns)\n"
   ]
  },
  {
   "cell_type": "markdown",
   "id": "a0974890-63b9-4ca9-bc56-a50c419acf36",
   "metadata": {},
   "source": [
    "### Combine imputed features with target"
   ]
  },
  {
   "cell_type": "code",
   "execution_count": 16,
   "id": "686fcfef-2f97-4d6c-913f-54b7a5ee9e0c",
   "metadata": {},
   "outputs": [],
   "source": [
    "df_numeric = X_imputed.copy()\n",
    "df_numeric['susceptibility_label'] = y.values\n"
   ]
  },
  {
   "cell_type": "markdown",
   "id": "7ed89361-9066-4602-8ee4-aa35b8561df4",
   "metadata": {},
   "source": [
    "### Save as Parquet"
   ]
  },
  {
   "cell_type": "code",
   "execution_count": 18,
   "id": "e547ed31-c382-4824-8d8b-493802e57adf",
   "metadata": {},
   "outputs": [
    {
     "name": "stdout",
     "output_type": "stream",
     "text": [
      "✅ All features numeric and saved to 'numeric_dataset.parquet'\n"
     ]
    }
   ],
   "source": [
    "df_numeric.to_parquet(\"numeric_dataset.parquet\", index=False)\n",
    "print(\"✅ All features numeric and saved to 'numeric_dataset.parquet'\")"
   ]
  },
  {
   "cell_type": "markdown",
   "id": "7b84c3f6-f58b-421e-836f-20ae0d974bdc",
   "metadata": {},
   "source": [
    "## Load the Data"
   ]
  },
  {
   "cell_type": "code",
   "execution_count": 31,
   "id": "785c9863-59d2-4285-83ad-9eaa640b88d1",
   "metadata": {},
   "outputs": [],
   "source": [
    "import pandas as pd\n",
    "\n",
    "df = pd.read_parquet(\"numeric_dataset.parquet\")\n",
    "X = df.drop(columns=[\"susceptibility_label\"])\n",
    "y = df[\"susceptibility_label\"]\n"
   ]
  },
  {
   "cell_type": "markdown",
   "id": "b6d8ea4e-6303-41a9-ae5c-184f483b32ed",
   "metadata": {},
   "source": [
    "## Train/Test Split + Scale"
   ]
  },
  {
   "cell_type": "code",
   "execution_count": 42,
   "id": "7366d60e-78a9-45c2-9620-3bb1a5782c49",
   "metadata": {},
   "outputs": [],
   "source": [
    "from sklearn.model_selection import train_test_split\n",
    "\n",
    "X_train, X_test, y_train, y_test = train_test_split(\n",
    "    X, y, test_size=0.2, random_state=42, stratify=y\n",
    ")\n",
    "\n",
    "scaler = StandardScaler()\n",
    "X_train_scaled = scaler.fit_transform(X_train)\n",
    "X_test_scaled = scaler.transform(X_test)\n"
   ]
  },
  {
   "cell_type": "markdown",
   "id": "34771638-add8-4be7-ad0b-972619fb1dc8",
   "metadata": {},
   "source": [
    "## Try Baseline Models"
   ]
  },
  {
   "cell_type": "code",
   "execution_count": 44,
   "id": "73b2fcd6-9e48-4d72-b2c9-31a2c22dfa4f",
   "metadata": {},
   "outputs": [
    {
     "name": "stderr",
     "output_type": "stream",
     "text": [
      "D:\\anaconda3\\Lib\\site-packages\\sklearn\\linear_model\\_logistic.py:465: ConvergenceWarning: lbfgs failed to converge (status=1):\n",
      "STOP: TOTAL NO. of ITERATIONS REACHED LIMIT.\n",
      "\n",
      "Increase the number of iterations (max_iter) or scale the data as shown in:\n",
      "    https://scikit-learn.org/stable/modules/preprocessing.html\n",
      "Please also refer to the documentation for alternative solver options:\n",
      "    https://scikit-learn.org/stable/modules/linear_model.html#logistic-regression\n",
      "  n_iter_i = _check_optimize_result(\n"
     ]
    },
    {
     "name": "stdout",
     "output_type": "stream",
     "text": [
      "\n",
      "LogisticRegression\n",
      "              precision    recall  f1-score   support\n",
      "\n",
      "           0       0.59      0.99      0.74    249846\n",
      "           1       0.85      0.08      0.15    186993\n",
      "\n",
      "    accuracy                           0.60    436839\n",
      "   macro avg       0.72      0.54      0.45    436839\n",
      "weighted avg       0.70      0.60      0.49    436839\n",
      "\n",
      "ROC AUC: 0.561\n",
      "\n",
      "RandomForest\n",
      "              precision    recall  f1-score   support\n",
      "\n",
      "           0       0.59      0.99      0.74    249846\n",
      "           1       0.85      0.09      0.16    186993\n",
      "\n",
      "    accuracy                           0.60    436839\n",
      "   macro avg       0.72      0.54      0.45    436839\n",
      "weighted avg       0.70      0.60      0.49    436839\n",
      "\n",
      "ROC AUC: 0.548\n"
     ]
    }
   ],
   "source": [
    "from sklearn.linear_model import LogisticRegression\n",
    "from sklearn.ensemble import RandomForestClassifier\n",
    "from sklearn.metrics import classification_report, roc_auc_score\n",
    "\n",
    "models = {\n",
    "    \"LogisticRegression\": LogisticRegression(max_iter=2000),\n",
    "    \"RandomForest\": RandomForestClassifier(n_estimators=100)\n",
    "}\n",
    "\n",
    "for name, model in models.items():\n",
    "    model.fit(X_train, y_train)\n",
    "    y_pred = model.predict(X_test)\n",
    "    y_prob = model.predict_proba(X_test)[:, 1]\n",
    "    \n",
    "    print(f\"\\n{name}\")\n",
    "    print(classification_report(y_test, y_pred))\n",
    "    print(f\"ROC AUC: {roc_auc_score(y_test, y_prob):.3f}\")\n"
   ]
  },
  {
   "cell_type": "code",
   "execution_count": null,
   "id": "6b30ff6c-7d24-479c-b3a5-4864ea8155ef",
   "metadata": {},
   "outputs": [],
   "source": []
  }
 ],
 "metadata": {
  "kernelspec": {
   "display_name": "Python 3 (ipykernel)",
   "language": "python",
   "name": "python3"
  },
  "language_info": {
   "codemirror_mode": {
    "name": "ipython",
    "version": 3
   },
   "file_extension": ".py",
   "mimetype": "text/x-python",
   "name": "python",
   "nbconvert_exporter": "python",
   "pygments_lexer": "ipython3",
   "version": "3.11.5"
  }
 },
 "nbformat": 4,
 "nbformat_minor": 5
}
