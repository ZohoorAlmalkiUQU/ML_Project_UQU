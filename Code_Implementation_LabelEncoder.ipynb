{
 "cells": [
  {
   "cell_type": "markdown",
   "id": "02554b9a-4a5d-4ca0-8b12-076f45afa0ea",
   "metadata": {},
   "source": [
    "# Antibiotic resistance prediction"
   ]
  },
  {
   "cell_type": "markdown",
   "id": "782d8e5d-14df-428e-827c-c330da186a7d",
   "metadata": {},
   "source": [
    "## Project Introduction\n",
    "This project aims to predict antibiotic resistance using structured electronic health record (EHR) data from the Antibiotic Resistance Microbiology Dataset (ARMD). The goal is to classify whether a bacterial isolate is susceptible (S) or resistant (R) to a given antibiotic, based on clinical, demographic, microbiological, and treatment-related features. This binary classification model supports empirical antibiotic selection and contributes to combating antimicrobial resistance in clinical settings."
   ]
  },
  {
   "cell_type": "code",
   "execution_count": 3,
   "id": "3b53c479-d29f-411d-9d18-f6fa9f32a51b",
   "metadata": {},
   "outputs": [
    {
     "name": "stdout",
     "output_type": "stream",
     "text": [
      "(2184195, 27)\n"
     ]
    }
   ],
   "source": [
    "import pandas as pd\n",
    "from sklearn.preprocessing import LabelEncoder\n",
    "from sklearn.impute import SimpleImputer\n",
    "\n",
    "final_armd_ds = 'ARMD_Dataset/selected_features_output.parquet'\n",
    "\n",
    "df = pd.read_parquet(final_armd_ds)\n",
    "print(df.shape)\n"
   ]
  },
  {
   "cell_type": "markdown",
   "id": "da80262e-189b-4caf-98ad-2d023a78a4e2",
   "metadata": {},
   "source": [
    "### Separate target + binary encoding"
   ]
  },
  {
   "cell_type": "code",
   "execution_count": 5,
   "id": "08762e35-c894-477c-a046-1a62d0691e66",
   "metadata": {},
   "outputs": [
    {
     "name": "stdout",
     "output_type": "stream",
     "text": [
      "y:  (2184195,)\n",
      "X:  (2184195, 26)\n"
     ]
    }
   ],
   "source": [
    "target_col = 'susceptibility_label'\n",
    "df[target_col] = df[target_col].map({'S': 0, 'R': 1})  \n",
    "y = df[target_col]\n",
    "X = df.drop(columns=[target_col])\n",
    "print('y: ',y.shape)\n",
    "print('X: ',X.shape)"
   ]
  },
  {
   "cell_type": "markdown",
   "id": "bd23cb24-2e0e-4876-b66c-0ff9c5eaddec",
   "metadata": {},
   "source": [
    "### Identify column types"
   ]
  },
  {
   "cell_type": "code",
   "execution_count": 7,
   "id": "9076309f-91ae-4b19-9545-cdcab95eadeb",
   "metadata": {},
   "outputs": [
    {
     "name": "stdout",
     "output_type": "stream",
     "text": [
      "<class 'pandas.core.frame.DataFrame'>\n",
      "RangeIndex: 2184195 entries, 0 to 2184194\n",
      "Data columns (total 26 columns):\n",
      " #   Column                          Dtype  \n",
      "---  ------                          -----  \n",
      " 0   organism_x                      string \n",
      " 1   antibiotic_x                    string \n",
      " 2   resistant_time_to_culturetime   float64\n",
      " 3   age                             string \n",
      " 4   gender                          string \n",
      " 5   adi_score                       string \n",
      " 6   adi_state_rank                  string \n",
      " 7   median_wbc                      string \n",
      " 8   median_neutrophils              string \n",
      " 9   median_lymphocytes              string \n",
      " 10  median_hgb                      string \n",
      " 11  median_plt                      string \n",
      " 12  median_na                       string \n",
      " 13  median_hco3                     string \n",
      " 14  median_bun                      string \n",
      " 15  median_cr                       string \n",
      " 16  median_lactate                  string \n",
      " 17  median_procalcitonin            string \n",
      " 18  median_heartrate                float32\n",
      " 19  median_resprate                 float32\n",
      " 20  median_temp                     float32\n",
      " 21  median_sysbp                    float32\n",
      " 22  median_diasbp                   float32\n",
      " 23  medication_category             string \n",
      " 24  medication_time_to_culturetime  float64\n",
      " 25  nursing_home_visit_culture      float64\n",
      "dtypes: float32(5), float64(3), string(18)\n",
      "memory usage: 391.6 MB\n"
     ]
    }
   ],
   "source": [
    "X.info()"
   ]
  },
  {
   "cell_type": "code",
   "execution_count": 8,
   "id": "ed6f1ab8-db31-4fe7-b5ba-a3c699ed74ec",
   "metadata": {},
   "outputs": [
    {
     "name": "stdout",
     "output_type": "stream",
     "text": [
      "categorical_cols: Index(['organism_x', 'antibiotic_x', 'age', 'gender', 'adi_score',\n",
      "       'adi_state_rank', 'median_wbc', 'median_neutrophils',\n",
      "       'median_lymphocytes', 'median_hgb', 'median_plt', 'median_na',\n",
      "       'median_hco3', 'median_bun', 'median_cr', 'median_lactate',\n",
      "       'median_procalcitonin', 'medication_category'],\n",
      "      dtype='object')\n",
      "--------------------------------------------\n",
      "numeric_cols: Index(['resistant_time_to_culturetime', 'median_heartrate', 'median_resprate',\n",
      "       'median_temp', 'median_sysbp', 'median_diasbp',\n",
      "       'medication_time_to_culturetime', 'nursing_home_visit_culture'],\n",
      "      dtype='object')\n"
     ]
    }
   ],
   "source": [
    "categorical_cols = X.select_dtypes(include=['string']).columns\n",
    "numeric_cols = X.select_dtypes(include=['number']).columns\n",
    "print(f'categorical_cols: {categorical_cols}')\n",
    "print('--------------------------------------------')\n",
    "print(f'numeric_cols: {numeric_cols}')"
   ]
  },
  {
   "cell_type": "markdown",
   "id": "76c9e4c0-2eba-43b0-99dd-67b5b1f051a5",
   "metadata": {},
   "source": [
    "### Encode categorical columns"
   ]
  },
  {
   "cell_type": "code",
   "execution_count": 10,
   "id": "c58c0c93-e116-40f2-a5b3-27e60dda4f6b",
   "metadata": {},
   "outputs": [],
   "source": [
    "label_encoders = {}\n",
    "for col in categorical_cols:\n",
    "    le = LabelEncoder()\n",
    "    X[col] = le.fit_transform(X[col].astype(str))\n",
    "    label_encoders[col] = le  # Save encoder if needed later\n"
   ]
  },
  {
   "cell_type": "markdown",
   "id": "ba3ce83a-a501-4e32-bf54-968ac7bfc4c4",
   "metadata": {},
   "source": [
    "### Verify All Columns Are Numeric"
   ]
  },
  {
   "cell_type": "code",
   "execution_count": 12,
   "id": "5db3142f-158c-4737-aa5f-511284928aed",
   "metadata": {},
   "outputs": [
    {
     "name": "stdout",
     "output_type": "stream",
     "text": [
      "Non-numeric columns: []\n"
     ]
    }
   ],
   "source": [
    "non_numeric_cols = X.select_dtypes(exclude=[\"number\"]).columns\n",
    "print(\"Non-numeric columns:\", non_numeric_cols.tolist())\n"
   ]
  },
  {
   "cell_type": "markdown",
   "id": "15b15167-0c2e-4569-9106-9681e89fe460",
   "metadata": {},
   "source": [
    "### Fill missing values (numeric only here, since all is numeric now)"
   ]
  },
  {
   "cell_type": "code",
   "execution_count": 14,
   "id": "21203654-2805-4613-8ee4-257ce720b4ee",
   "metadata": {},
   "outputs": [],
   "source": [
    "imputer = SimpleImputer(strategy='median')\n",
    "X_imputed = pd.DataFrame(imputer.fit_transform(X), columns=X.columns)\n"
   ]
  },
  {
   "cell_type": "markdown",
   "id": "a0974890-63b9-4ca9-bc56-a50c419acf36",
   "metadata": {},
   "source": [
    "### Combine imputed features with target"
   ]
  },
  {
   "cell_type": "code",
   "execution_count": 16,
   "id": "686fcfef-2f97-4d6c-913f-54b7a5ee9e0c",
   "metadata": {},
   "outputs": [],
   "source": [
    "df_numeric = X_imputed.copy()\n",
    "df_numeric['susceptibility_label'] = y.values\n"
   ]
  },
  {
   "cell_type": "markdown",
   "id": "7ed89361-9066-4602-8ee4-aa35b8561df4",
   "metadata": {},
   "source": [
    "### Save as Parquet"
   ]
  },
  {
   "cell_type": "code",
   "execution_count": 18,
   "id": "e547ed31-c382-4824-8d8b-493802e57adf",
   "metadata": {},
   "outputs": [
    {
     "name": "stdout",
     "output_type": "stream",
     "text": [
      "✅ All features numeric and saved to 'numeric_dataset.parquet'\n"
     ]
    }
   ],
   "source": [
    "df_numeric.to_parquet(\"numeric_dataset.parquet\", index=False)\n",
    "print(\"✅ All features numeric and saved to 'numeric_dataset.parquet'\")"
   ]
  },
  {
   "cell_type": "markdown",
   "id": "7b84c3f6-f58b-421e-836f-20ae0d974bdc",
   "metadata": {},
   "source": [
    "## Load the Data"
   ]
  },
  {
   "cell_type": "code",
   "execution_count": 20,
   "id": "785c9863-59d2-4285-83ad-9eaa640b88d1",
   "metadata": {},
   "outputs": [],
   "source": [
    "import pandas as pd\n",
    "\n",
    "df = pd.read_parquet(\"numeric_dataset.parquet\")\n",
    "X = df.drop(columns=[\"susceptibility_label\"])\n",
    "y = df[\"susceptibility_label\"]\n"
   ]
  },
  {
   "cell_type": "markdown",
   "id": "b6d8ea4e-6303-41a9-ae5c-184f483b32ed",
   "metadata": {},
   "source": [
    "## Train/Test Split + Scale"
   ]
  },
  {
   "cell_type": "code",
   "execution_count": 23,
   "id": "7366d60e-78a9-45c2-9620-3bb1a5782c49",
   "metadata": {},
   "outputs": [],
   "source": [
    "from sklearn.model_selection import train_test_split\n",
    "from sklearn.preprocessing import StandardScaler\n",
    "\n",
    "X_train, X_test, y_train, y_test = train_test_split(\n",
    "    X, y, test_size=0.2, random_state=42, stratify=y\n",
    ")\n",
    "\n",
    "scaler = StandardScaler()\n",
    "X_train_scaled = scaler.fit_transform(X_train)\n",
    "X_test_scaled = scaler.transform(X_test)\n"
   ]
  },
  {
   "cell_type": "code",
   "execution_count": 59,
   "id": "08828bc0-5cdb-4eb4-8c92-7baa8a3c79a5",
   "metadata": {},
   "outputs": [
    {
     "data": {
      "text/html": [
       "<div>\n",
       "<style scoped>\n",
       "    .dataframe tbody tr th:only-of-type {\n",
       "        vertical-align: middle;\n",
       "    }\n",
       "\n",
       "    .dataframe tbody tr th {\n",
       "        vertical-align: top;\n",
       "    }\n",
       "\n",
       "    .dataframe thead th {\n",
       "        text-align: right;\n",
       "    }\n",
       "</style>\n",
       "<table border=\"1\" class=\"dataframe\">\n",
       "  <thead>\n",
       "    <tr style=\"text-align: right;\">\n",
       "      <th></th>\n",
       "      <th>0</th>\n",
       "      <th>1</th>\n",
       "      <th>2</th>\n",
       "      <th>3</th>\n",
       "      <th>4</th>\n",
       "      <th>5</th>\n",
       "      <th>6</th>\n",
       "      <th>7</th>\n",
       "      <th>8</th>\n",
       "      <th>9</th>\n",
       "      <th>...</th>\n",
       "      <th>16</th>\n",
       "      <th>17</th>\n",
       "      <th>18</th>\n",
       "      <th>19</th>\n",
       "      <th>20</th>\n",
       "      <th>21</th>\n",
       "      <th>22</th>\n",
       "      <th>23</th>\n",
       "      <th>24</th>\n",
       "      <th>25</th>\n",
       "    </tr>\n",
       "  </thead>\n",
       "  <tbody>\n",
       "    <tr>\n",
       "      <th>0</th>\n",
       "      <td>0.241613</td>\n",
       "      <td>0.088981</td>\n",
       "      <td>0.166916</td>\n",
       "      <td>0.260847</td>\n",
       "      <td>0.340181</td>\n",
       "      <td>0.168909</td>\n",
       "      <td>0.311403</td>\n",
       "      <td>-0.738378</td>\n",
       "      <td>1.658450</td>\n",
       "      <td>3.104303</td>\n",
       "      <td>...</td>\n",
       "      <td>-0.789639</td>\n",
       "      <td>2.968541</td>\n",
       "      <td>-0.032443</td>\n",
       "      <td>0.261998</td>\n",
       "      <td>0.284884</td>\n",
       "      <td>-0.27569</td>\n",
       "      <td>-0.132247</td>\n",
       "      <td>0.986696</td>\n",
       "      <td>-0.693750</td>\n",
       "      <td>-0.010903</td>\n",
       "    </tr>\n",
       "    <tr>\n",
       "      <th>1</th>\n",
       "      <td>0.241613</td>\n",
       "      <td>0.088981</td>\n",
       "      <td>-0.543946</td>\n",
       "      <td>0.260847</td>\n",
       "      <td>0.340181</td>\n",
       "      <td>0.168909</td>\n",
       "      <td>0.311403</td>\n",
       "      <td>-0.367096</td>\n",
       "      <td>0.115553</td>\n",
       "      <td>-0.358592</td>\n",
       "      <td>...</td>\n",
       "      <td>-0.183834</td>\n",
       "      <td>-0.154238</td>\n",
       "      <td>-0.032443</td>\n",
       "      <td>0.261998</td>\n",
       "      <td>0.284884</td>\n",
       "      <td>-0.27569</td>\n",
       "      <td>-0.132247</td>\n",
       "      <td>-0.170805</td>\n",
       "      <td>-0.524563</td>\n",
       "      <td>-0.010903</td>\n",
       "    </tr>\n",
       "    <tr>\n",
       "      <th>2</th>\n",
       "      <td>0.241613</td>\n",
       "      <td>0.088981</td>\n",
       "      <td>-0.120716</td>\n",
       "      <td>0.260847</td>\n",
       "      <td>0.340181</td>\n",
       "      <td>0.168909</td>\n",
       "      <td>0.311403</td>\n",
       "      <td>-0.367096</td>\n",
       "      <td>0.115553</td>\n",
       "      <td>-0.358592</td>\n",
       "      <td>...</td>\n",
       "      <td>-0.183834</td>\n",
       "      <td>-0.154238</td>\n",
       "      <td>-0.032443</td>\n",
       "      <td>0.261998</td>\n",
       "      <td>0.284884</td>\n",
       "      <td>-0.27569</td>\n",
       "      <td>-0.132247</td>\n",
       "      <td>0.407946</td>\n",
       "      <td>0.241613</td>\n",
       "      <td>-0.010903</td>\n",
       "    </tr>\n",
       "    <tr>\n",
       "      <th>3</th>\n",
       "      <td>0.241613</td>\n",
       "      <td>0.088981</td>\n",
       "      <td>-0.354931</td>\n",
       "      <td>0.260847</td>\n",
       "      <td>0.340181</td>\n",
       "      <td>0.168909</td>\n",
       "      <td>0.311403</td>\n",
       "      <td>-0.367096</td>\n",
       "      <td>0.115553</td>\n",
       "      <td>-0.358592</td>\n",
       "      <td>...</td>\n",
       "      <td>-0.183834</td>\n",
       "      <td>-0.154238</td>\n",
       "      <td>-0.032443</td>\n",
       "      <td>0.261998</td>\n",
       "      <td>0.284884</td>\n",
       "      <td>-0.27569</td>\n",
       "      <td>-0.132247</td>\n",
       "      <td>0.407946</td>\n",
       "      <td>-0.485891</td>\n",
       "      <td>-0.010903</td>\n",
       "    </tr>\n",
       "    <tr>\n",
       "      <th>4</th>\n",
       "      <td>0.241613</td>\n",
       "      <td>0.088981</td>\n",
       "      <td>-0.120716</td>\n",
       "      <td>0.260847</td>\n",
       "      <td>0.340181</td>\n",
       "      <td>0.168909</td>\n",
       "      <td>0.311403</td>\n",
       "      <td>-0.367096</td>\n",
       "      <td>0.115553</td>\n",
       "      <td>-0.358592</td>\n",
       "      <td>...</td>\n",
       "      <td>-0.183834</td>\n",
       "      <td>-0.154238</td>\n",
       "      <td>-0.032443</td>\n",
       "      <td>0.261998</td>\n",
       "      <td>0.284884</td>\n",
       "      <td>-0.27569</td>\n",
       "      <td>-0.132247</td>\n",
       "      <td>-1.038930</td>\n",
       "      <td>-0.470181</td>\n",
       "      <td>-0.010903</td>\n",
       "    </tr>\n",
       "  </tbody>\n",
       "</table>\n",
       "<p>5 rows × 26 columns</p>\n",
       "</div>"
      ],
      "text/plain": [
       "         0         1         2         3         4         5         6   \\\n",
       "0  0.241613  0.088981  0.166916  0.260847  0.340181  0.168909  0.311403   \n",
       "1  0.241613  0.088981 -0.543946  0.260847  0.340181  0.168909  0.311403   \n",
       "2  0.241613  0.088981 -0.120716  0.260847  0.340181  0.168909  0.311403   \n",
       "3  0.241613  0.088981 -0.354931  0.260847  0.340181  0.168909  0.311403   \n",
       "4  0.241613  0.088981 -0.120716  0.260847  0.340181  0.168909  0.311403   \n",
       "\n",
       "         7         8         9   ...        16        17        18        19  \\\n",
       "0 -0.738378  1.658450  3.104303  ... -0.789639  2.968541 -0.032443  0.261998   \n",
       "1 -0.367096  0.115553 -0.358592  ... -0.183834 -0.154238 -0.032443  0.261998   \n",
       "2 -0.367096  0.115553 -0.358592  ... -0.183834 -0.154238 -0.032443  0.261998   \n",
       "3 -0.367096  0.115553 -0.358592  ... -0.183834 -0.154238 -0.032443  0.261998   \n",
       "4 -0.367096  0.115553 -0.358592  ... -0.183834 -0.154238 -0.032443  0.261998   \n",
       "\n",
       "         20       21        22        23        24        25  \n",
       "0  0.284884 -0.27569 -0.132247  0.986696 -0.693750 -0.010903  \n",
       "1  0.284884 -0.27569 -0.132247 -0.170805 -0.524563 -0.010903  \n",
       "2  0.284884 -0.27569 -0.132247  0.407946  0.241613 -0.010903  \n",
       "3  0.284884 -0.27569 -0.132247  0.407946 -0.485891 -0.010903  \n",
       "4  0.284884 -0.27569 -0.132247 -1.038930 -0.470181 -0.010903  \n",
       "\n",
       "[5 rows x 26 columns]"
      ]
     },
     "execution_count": 59,
     "metadata": {},
     "output_type": "execute_result"
    }
   ],
   "source": [
    "df = pd.DataFrame(X_train_scaled)\n",
    "df.head()"
   ]
  },
  {
   "cell_type": "markdown",
   "id": "34771638-add8-4be7-ad0b-972619fb1dc8",
   "metadata": {},
   "source": [
    "## Models implementation"
   ]
  },
  {
   "cell_type": "code",
   "execution_count": 49,
   "id": "73b2fcd6-9e48-4d72-b2c9-31a2c22dfa4f",
   "metadata": {},
   "outputs": [
    {
     "name": "stdout",
     "output_type": "stream",
     "text": [
      "Optimized Logistic Regression Performance:\n",
      "              precision    recall  f1-score   support\n",
      "\n",
      "           0       0.72      0.12      0.20    249846\n",
      "           1       0.44      0.94      0.60    186993\n",
      "\n",
      "    accuracy                           0.47    436839\n",
      "   macro avg       0.58      0.53      0.40    436839\n",
      "weighted avg       0.60      0.47      0.37    436839\n",
      "\n",
      "\n",
      "ROC AUC Score: 0.561\n",
      "\n",
      "Confusion Matrix:\n",
      "[[ 29841 220005]\n",
      " [ 11830 175163]]\n"
     ]
    },
    {
     "data": {
      "image/png": "[encoded data removed]",
      "text/plain": [
       "<Figure size 1000x400 with 1 Axes>"
      ]
     },
     "metadata": {},
     "output_type": "display_data"
    }
   ],
   "source": [
    "from sklearn.preprocessing import RobustScaler\n",
    "from sklearn.linear_model import LogisticRegression\n",
    "from sklearn.pipeline import make_pipeline\n",
    "from sklearn.calibration import CalibratedClassifierCV\n",
    "from sklearn.metrics import classification_report, roc_auc_score, confusion_matrix\n",
    "import matplotlib.pyplot as plt\n",
    "import pandas as pd\n",
    "\n",
    "# 1. Create the modeling pipeline\n",
    "model = make_pipeline(\n",
    "    RobustScaler(),  # Better for handling outliers\n",
    "    LogisticRegression(\n",
    "        max_iter=5000,\n",
    "        class_weight='balanced',  # Automatic class balancing\n",
    "        random_state=42,\n",
    "        solver='saga',\n",
    "        penalty='l2',\n",
    "        C=0.1  # Stronger regularization\n",
    "    )\n",
    ")\n",
    "\n",
    "# 2. Train with probability calibration\n",
    "calibrated_model = CalibratedClassifierCV(model, cv=3)\n",
    "calibrated_model.fit(X_train_scaled, y_train)\n",
    "\n",
    "# 3. Make predictions (with adjusted threshold)\n",
    "y_prob = calibrated_model.predict_proba(X_test_scaled)[:,1]\n",
    "y_pred_adj = (y_prob > 0.4).astype(int)  # Using 0.4 threshold instead of default 0.5\n",
    "\n",
    "# 4. Evaluate performance\n",
    "print(\"Optimized Logistic Regression Performance:\")\n",
    "print(classification_report(y_test, y_pred_adj))\n",
    "print(f\"\\nROC AUC Score: {roc_auc_score(y_test, y_prob):.3f}\")\n",
    "print(\"\\nConfusion Matrix:\")\n",
    "print(confusion_matrix(y_test, y_pred_adj))\n",
    "\n",
    "# 5. Visual inspection of probabilities\n",
    "plt.figure(figsize=(10, 4))\n",
    "plt.hist(y_prob[y_test==0], bins=50, alpha=0.5, label='Class 0')\n",
    "plt.hist(y_prob[y_test==1], bins=50, alpha=0.5, label='Class 1')\n",
    "plt.legend()\n",
    "plt.title(\"Probability Distributions by True Class\")\n",
    "plt.xlabel(\"Predicted Probability\")\n",
    "plt.ylabel(\"Count\")\n",
    "plt.show()"
   ]
  },
  {
   "cell_type": "code",
   "execution_count": 31,
   "id": "6b30ff6c-7d24-479c-b3a5-4864ea8155ef",
   "metadata": {},
   "outputs": [
    {
     "name": "stdout",
     "output_type": "stream",
     "text": [
      "Class distribution in training set:\n",
      "susceptibility_label\n",
      "0    0.57194\n",
      "1    0.42806\n",
      "Name: proportion, dtype: float64\n",
      "\n",
      "Feature summary statistics:\n",
      "         organism_x  antibiotic_x  resistant_time_to_culturetime  \\\n",
      "count  1.747356e+06  1.747356e+06                   1.747356e+06   \n",
      "mean   3.222250e+01  2.150982e+01                   1.673782e+02   \n",
      "std    3.217963e+00  5.508763e+00                   2.433664e+02   \n",
      "min    0.000000e+00  0.000000e+00                   1.000000e+00   \n",
      "25%    3.300000e+01  2.200000e+01                   8.100000e+01   \n",
      "50%    3.300000e+01  2.200000e+01                   1.120000e+02   \n",
      "75%    3.300000e+01  2.200000e+01                   1.710000e+02   \n",
      "max    5.500000e+01  3.500000e+01                   4.577000e+03   \n",
      "\n",
      "                age        gender     adi_score  adi_state_rank    median_wbc  \\\n",
      "count  1.747356e+06  1.747356e+06  1.747356e+06    1.747356e+06  1.747356e+06   \n",
      "mean   3.748861e+00  8.962799e-01  3.063761e+01    8.272129e+00  4.483091e+01   \n",
      "std    9.627853e-01  3.048972e-01  8.065857e+00    2.337396e+00  4.040059e+01   \n",
      "min    0.000000e+00  0.000000e+00  0.000000e+00    0.000000e+00  0.000000e+00   \n",
      "25%    4.000000e+00  1.000000e+00  3.200000e+01    9.000000e+00  3.000000e+01   \n",
      "50%    4.000000e+00  1.000000e+00  3.200000e+01    9.000000e+00  3.000000e+01   \n",
      "75%    4.000000e+00  1.000000e+00  3.200000e+01    9.000000e+00  3.000000e+01   \n",
      "max    8.000000e+00  1.000000e+00  5.900000e+01    1.000000e+01  1.790000e+02   \n",
      "\n",
      "       median_neutrophils  median_lymphocytes  ...  median_lactate  \\\n",
      "count        1.747356e+06        1.747356e+06  ...    1.747356e+06   \n",
      "mean         4.117617e+01        6.349217e+00  ...    6.103453e+01   \n",
      "std          7.129448e+00        1.212858e+01  ...    1.650695e+01   \n",
      "min          0.000000e+00        0.000000e+00  ...    0.000000e+00   \n",
      "25%          4.200000e+01        2.000000e+00  ...    5.800000e+01   \n",
      "50%          4.200000e+01        2.000000e+00  ...    5.800000e+01   \n",
      "75%          4.200000e+01        2.000000e+00  ...    5.800000e+01   \n",
      "max          5.300000e+01        4.400000e+01  ...    1.180000e+02   \n",
      "\n",
      "       median_procalcitonin  median_heartrate  median_resprate   median_temp  \\\n",
      "count          1.747356e+06      1.747356e+06     1.747356e+06  1.747356e+06   \n",
      "mean           1.779026e+01      9.524016e+01     1.980661e+01  9.927858e+01   \n",
      "std            5.123643e+00      7.402650e+00     7.381227e-01  4.262314e-01   \n",
      "min            0.000000e+00      4.400000e+01     9.000000e+00  9.390000e+01   \n",
      "25%            1.700000e+01      9.500000e+01     2.000000e+01  9.940000e+01   \n",
      "50%            1.700000e+01      9.500000e+01     2.000000e+01  9.940000e+01   \n",
      "75%            1.700000e+01      9.500000e+01     2.000000e+01  9.940000e+01   \n",
      "max            3.300000e+01      1.670000e+02     4.000000e+01  1.049000e+02   \n",
      "\n",
      "       median_sysbp  median_diasbp  medication_category  \\\n",
      "count  1.747356e+06   1.747356e+06         1.747356e+06   \n",
      "mean   9.119280e+01   6.445646e+01         6.590253e+00   \n",
      "std    7.953869e+00   3.451588e+00         3.455722e+00   \n",
      "min    6.100000e+01   3.700000e+01         0.000000e+00   \n",
      "25%    8.900000e+01   6.400000e+01         3.000000e+00   \n",
      "50%    8.900000e+01   6.400000e+01         6.000000e+00   \n",
      "75%    8.900000e+01   6.400000e+01         1.000000e+01   \n",
      "max    2.190000e+02   1.270000e+02         1.200000e+01   \n",
      "\n",
      "       medication_time_to_culturetime  nursing_home_visit_culture  \n",
      "count                    1.747356e+06                1.747356e+06  \n",
      "mean                     6.160683e+02                1.003156e+00  \n",
      "std                      8.274861e+02                2.894311e-01  \n",
      "min                      1.000000e+00                0.000000e+00  \n",
      "25%                      1.300000e+02                1.000000e+00  \n",
      "50%                      2.120000e+02                1.000000e+00  \n",
      "75%                      8.160000e+02                1.000000e+00  \n",
      "max                      5.099000e+03                2.800000e+01  \n",
      "\n",
      "[8 rows x 26 columns]\n"
     ]
    }
   ],
   "source": [
    "print(\"Class distribution in training set:\")\n",
    "print(y_train.value_counts(normalize=True))\n",
    "\n",
    "print(\"\\nFeature summary statistics:\")\n",
    "print(X_train.describe())"
   ]
  },
  {
   "cell_type": "code",
   "execution_count": 46,
   "id": "af7cc20f-1b68-4361-b3b6-8c711ba691c3",
   "metadata": {},
   "outputs": [
    {
     "name": "stdout",
     "output_type": "stream",
     "text": [
      "Optimal Threshold: 0.347\n",
      "\n",
      "Classification Report:\n",
      "              precision    recall  f1-score   support\n",
      "\n",
      "           0       0.80      0.09      0.16    249846\n",
      "           1       0.44      0.97      0.61    186993\n",
      "\n",
      "    accuracy                           0.47    436839\n",
      "   macro avg       0.62      0.53      0.39    436839\n",
      "weighted avg       0.65      0.47      0.35    436839\n",
      "\n",
      "\n",
      "ROC AUC: 0.566\n"
     ]
    },
    {
     "data": {
      "image/png": "[encoded data removed]",
      "text/plain": [
       "<Figure size 1500x500 with 3 Axes>"
      ]
     },
     "metadata": {},
     "output_type": "display_data"
    }
   ],
   "source": [
    "from sklearn.ensemble import HistGradientBoostingClassifier\n",
    "from sklearn.model_selection import train_test_split\n",
    "from sklearn.metrics import (classification_report, \n",
    "                           roc_auc_score,\n",
    "                           ConfusionMatrixDisplay,\n",
    "                           f1_score)\n",
    "import numpy as np\n",
    "import matplotlib.pyplot as plt\n",
    "\n",
    "# 1. Data Preparation\n",
    "# Convert binary features to int (if not already)\n",
    "binary_cols = ['gender', 'nursing_home_visit_culture']\n",
    "X_train[binary_cols] = X_train[binary_cols].astype(int)\n",
    "X_test[binary_cols] = X_test[binary_cols].astype(int)\n",
    "\n",
    "# 2. Create Validation Set for Threshold Tuning\n",
    "X_temp, X_val, y_temp, y_val = train_test_split(\n",
    "    X_train, \n",
    "    y_train, \n",
    "    test_size=0.2, \n",
    "    random_state=42,\n",
    "    stratify=y_train\n",
    ")\n",
    "\n",
    "# 3. Train Model with Class Balancing\n",
    "model = HistGradientBoostingClassifier(\n",
    "    class_weight='balanced',\n",
    "    random_state=42,\n",
    "    max_iter=200,\n",
    "    early_stopping=True,\n",
    "    scoring='balanced_accuracy',\n",
    "    max_depth=5,  # Prevent overfitting\n",
    "    min_samples_leaf=50,  # Better for imbalanced data\n",
    "    l2_regularization=0.1  # Additional regularization\n",
    ")\n",
    "\n",
    "model.fit(X_temp, y_temp)\n",
    "\n",
    "# 4. Find Optimal Threshold\n",
    "y_val_prob = model.predict_proba(X_val)[:,1]\n",
    "thresholds = np.linspace(0.2, 0.8, 50)  # Wider range than before\n",
    "best_thresh = thresholds[np.argmax([\n",
    "    f1_score(y_val, (y_val_prob > t).astype(int)) \n",
    "    for t in thresholds\n",
    "])]\n",
    "\n",
    "# 5. Final Evaluation\n",
    "y_prob = model.predict_proba(X_test)[:,1]\n",
    "y_pred_adj = (y_prob > best_thresh).astype(int)\n",
    "\n",
    "print(f\"Optimal Threshold: {best_thresh:.3f}\")\n",
    "print(\"\\nClassification Report:\")\n",
    "print(classification_report(y_test, y_pred_adj))\n",
    "print(f\"\\nROC AUC: {roc_auc_score(y_test, y_prob):.3f}\")\n",
    "\n",
    "# 6. Visual Diagnostics\n",
    "fig, (ax1, ax2) = plt.subplots(1, 2, figsize=(15,5))\n",
    "\n",
    "# Confusion Matrix\n",
    "ConfusionMatrixDisplay.from_predictions(\n",
    "    y_test, y_pred_adj,\n",
    "    display_labels=['Susceptible', 'Resistant'],\n",
    "    cmap='Blues',\n",
    "    ax=ax1\n",
    ")\n",
    "ax1.set_title(\"Confusion Matrix\")\n",
    "\n",
    "# Probability Distributions\n",
    "ax2.hist(y_prob[y_test==0], bins=50, alpha=0.5, label='Susceptible')\n",
    "ax2.hist(y_prob[y_test==1], bins=50, alpha=0.5, label='Resistant')\n",
    "ax2.axvline(best_thresh, color='red', linestyle='--')\n",
    "ax2.set_title(\"Probability Distributions\")\n",
    "ax2.legend()\n",
    "plt.show()"
   ]
  },
  {
   "cell_type": "code",
   "execution_count": null,
   "id": "70fb8ade-3187-4459-98ad-fb31614c650a",
   "metadata": {},
   "outputs": [],
   "source": []
  }
 ],
 "metadata": {
  "kernelspec": {
   "display_name": "Python 3 (ipykernel)",
   "language": "python",
   "name": "python3"
  },
  "language_info": {
   "codemirror_mode": {
    "name": "ipython",
    "version": 3
   },
   "file_extension": ".py",
   "mimetype": "text/x-python",
   "name": "python",
   "nbconvert_exporter": "python",
   "pygments_lexer": "ipython3",
   "version": "3.11.5"
  }
 },
 "nbformat": 4,
 "nbformat_minor": 5
}
