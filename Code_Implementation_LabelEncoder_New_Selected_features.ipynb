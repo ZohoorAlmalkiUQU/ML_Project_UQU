{
 "cells": [
  {
   "cell_type": "markdown",
   "id": "02554b9a-4a5d-4ca0-8b12-076f45afa0ea",
   "metadata": {},
   "source": [
    "# Antibiotic resistance prediction"
   ]
  },
  {
   "cell_type": "markdown",
   "id": "782d8e5d-14df-428e-827c-c330da186a7d",
   "metadata": {},
   "source": [
    "## Project Introduction\n",
    "This project aims to predict antibiotic resistance using structured electronic health record (EHR) data from the Antibiotic Resistance Microbiology Dataset (ARMD). The goal is to classify whether a bacterial isolate is susceptible (S) or resistant (R) to a given antibiotic, based on clinical, demographic, microbiological, and treatment-related features. This binary classification model supports empirical antibiotic selection and contributes to combating antimicrobial resistance in clinical settings."
   ]
  },
  {
   "cell_type": "code",
   "execution_count": 6,
   "id": "3b53c479-d29f-411d-9d18-f6fa9f32a51b",
   "metadata": {},
   "outputs": [
    {
     "name": "stdout",
     "output_type": "stream",
     "text": [
      "(2184195, 9)\n"
     ]
    }
   ],
   "source": [
    "import pandas as pd\n",
    "from sklearn.preprocessing import LabelEncoder\n",
    "from sklearn.impute import SimpleImputer\n",
    "\n",
    "final_armd_ds = 'ARMD_Dataset/selected_features_optimized.parquet'\n",
    "\n",
    "df = pd.read_parquet(final_armd_ds)\n",
    "print(df.shape)\n"
   ]
  },
  {
   "cell_type": "markdown",
   "id": "da80262e-189b-4caf-98ad-2d023a78a4e2",
   "metadata": {},
   "source": [
    "### Separate target + binary encoding"
   ]
  },
  {
   "cell_type": "code",
   "execution_count": 8,
   "id": "08762e35-c894-477c-a046-1a62d0691e66",
   "metadata": {},
   "outputs": [
    {
     "name": "stdout",
     "output_type": "stream",
     "text": [
      "y:  (2184195,)\n",
      "X:  (2184195, 8)\n"
     ]
    }
   ],
   "source": [
    "target_col = 'susceptibility_label'\n",
    "df[target_col] = df[target_col].map({'S': 0, 'R': 1})  \n",
    "y = df[target_col]\n",
    "X = df.drop(columns=[target_col])\n",
    "print('y: ',y.shape)\n",
    "print('X: ',X.shape)"
   ]
  },
  {
   "cell_type": "markdown",
   "id": "bd23cb24-2e0e-4876-b66c-0ff9c5eaddec",
   "metadata": {},
   "source": [
    "### Identify column types"
   ]
  },
  {
   "cell_type": "code",
   "execution_count": 10,
   "id": "9076309f-91ae-4b19-9545-cdcab95eadeb",
   "metadata": {},
   "outputs": [
    {
     "name": "stdout",
     "output_type": "stream",
     "text": [
      "<class 'pandas.core.frame.DataFrame'>\n",
      "RangeIndex: 2184195 entries, 0 to 2184194\n",
      "Data columns (total 8 columns):\n",
      " #   Column                          Dtype  \n",
      "---  ------                          -----  \n",
      " 0   organism_x                      string \n",
      " 1   antibiotic_x                    string \n",
      " 2   resistant_time_to_culturetime   float64\n",
      " 3   age                             Float64\n",
      " 4   adi_score                       Int64  \n",
      " 5   lactate_trend                   Float64\n",
      " 6   cr_trend                        Float64\n",
      " 7   neutrophil_to_lymphocyte_ratio  Float64\n",
      "dtypes: Float64(4), Int64(1), float64(1), string(2)\n",
      "memory usage: 143.7 MB\n"
     ]
    }
   ],
   "source": [
    "X.info()"
   ]
  },
  {
   "cell_type": "code",
   "execution_count": 12,
   "id": "ed6f1ab8-db31-4fe7-b5ba-a3c699ed74ec",
   "metadata": {},
   "outputs": [
    {
     "name": "stdout",
     "output_type": "stream",
     "text": [
      "categorical_cols: Index(['organism_x', 'antibiotic_x'], dtype='object')\n",
      "--------------------------------------------\n",
      "numeric_cols: Index(['resistant_time_to_culturetime', 'age', 'adi_score', 'lactate_trend',\n",
      "       'cr_trend', 'neutrophil_to_lymphocyte_ratio'],\n",
      "      dtype='object')\n"
     ]
    }
   ],
   "source": [
    "categorical_cols = X.select_dtypes(include=['string']).columns\n",
    "numeric_cols = X.select_dtypes(include=['number']).columns\n",
    "print(f'categorical_cols: {categorical_cols}')\n",
    "print('--------------------------------------------')\n",
    "print(f'numeric_cols: {numeric_cols}')"
   ]
  },
  {
   "cell_type": "markdown",
   "id": "76c9e4c0-2eba-43b0-99dd-67b5b1f051a5",
   "metadata": {},
   "source": [
    "### Encode categorical columns"
   ]
  },
  {
   "cell_type": "code",
   "execution_count": 14,
   "id": "c58c0c93-e116-40f2-a5b3-27e60dda4f6b",
   "metadata": {},
   "outputs": [],
   "source": [
    "label_encoders = {}\n",
    "for col in categorical_cols:\n",
    "    le = LabelEncoder()\n",
    "    X[col] = le.fit_transform(X[col].astype(str))\n",
    "    label_encoders[col] = le  # Save encoder if needed later\n"
   ]
  },
  {
   "cell_type": "markdown",
   "id": "ba3ce83a-a501-4e32-bf54-968ac7bfc4c4",
   "metadata": {},
   "source": [
    "### Verify All Columns Are Numeric"
   ]
  },
  {
   "cell_type": "code",
   "execution_count": 16,
   "id": "5db3142f-158c-4737-aa5f-511284928aed",
   "metadata": {},
   "outputs": [
    {
     "name": "stdout",
     "output_type": "stream",
     "text": [
      "Non-numeric columns: []\n"
     ]
    }
   ],
   "source": [
    "non_numeric_cols = X.select_dtypes(exclude=[\"number\"]).columns\n",
    "print(\"Non-numeric columns:\", non_numeric_cols.tolist())\n"
   ]
  },
  {
   "cell_type": "markdown",
   "id": "15b15167-0c2e-4569-9106-9681e89fe460",
   "metadata": {},
   "source": [
    "### Fill missing values (numeric only here, since all is numeric now)"
   ]
  },
  {
   "cell_type": "code",
   "execution_count": 20,
   "id": "21203654-2805-4613-8ee4-257ce720b4ee",
   "metadata": {},
   "outputs": [],
   "source": [
    "# Drop columns with all missing values\n",
    "X_non_empty = X.dropna(axis=1, how='all')\n",
    "\n",
    "# Apply imputer only to columns with at least some non-missing data\n",
    "imputer = SimpleImputer(strategy='median')\n",
    "X_imputed_array = imputer.fit_transform(X_non_empty)\n",
    "X_imputed = pd.DataFrame(X_imputed_array, columns=X_non_empty.columns)\n"
   ]
  },
  {
   "cell_type": "markdown",
   "id": "a0974890-63b9-4ca9-bc56-a50c419acf36",
   "metadata": {},
   "source": [
    "### Combine imputed features with target"
   ]
  },
  {
   "cell_type": "code",
   "execution_count": 22,
   "id": "686fcfef-2f97-4d6c-913f-54b7a5ee9e0c",
   "metadata": {},
   "outputs": [],
   "source": [
    "df_numeric = X_imputed.copy()\n",
    "df_numeric['susceptibility_label'] = y.values\n"
   ]
  },
  {
   "cell_type": "markdown",
   "id": "7ed89361-9066-4602-8ee4-aa35b8561df4",
   "metadata": {},
   "source": [
    "### Save as Parquet"
   ]
  },
  {
   "cell_type": "code",
   "execution_count": 26,
   "id": "e547ed31-c382-4824-8d8b-493802e57adf",
   "metadata": {},
   "outputs": [
    {
     "name": "stdout",
     "output_type": "stream",
     "text": [
      "✅ All features numeric and saved to 'numeric_dataset.parquet'\n"
     ]
    }
   ],
   "source": [
    "df_numeric.to_parquet(\"selected_features_optimized_LabelEncoder.parquet\", index=False)\n",
    "print(\"✅ All features numeric and saved to 'numeric_dataset.parquet'\")"
   ]
  },
  {
   "cell_type": "markdown",
   "id": "7b84c3f6-f58b-421e-836f-20ae0d974bdc",
   "metadata": {},
   "source": [
    "## Load the Data"
   ]
  },
  {
   "cell_type": "code",
   "execution_count": 13,
   "id": "785c9863-59d2-4285-83ad-9eaa640b88d1",
   "metadata": {},
   "outputs": [],
   "source": [
    "import pandas as pd\n",
    "\n",
    "df = pd.read_parquet(\"selected_features_optimized_LabelEncoder.parquet\")\n",
    "X = df.drop(columns=[\"susceptibility_label\"])\n",
    "y = df[\"susceptibility_label\"]\n"
   ]
  },
  {
   "cell_type": "markdown",
   "id": "b6d8ea4e-6303-41a9-ae5c-184f483b32ed",
   "metadata": {},
   "source": [
    "## Train/Test Split + Scale"
   ]
  },
  {
   "cell_type": "code",
   "execution_count": 16,
   "id": "7366d60e-78a9-45c2-9620-3bb1a5782c49",
   "metadata": {},
   "outputs": [],
   "source": [
    "from sklearn.model_selection import train_test_split\n",
    "from sklearn.preprocessing import StandardScaler\n",
    "\n",
    "X_train, X_test, y_train, y_test = train_test_split(\n",
    "    X, y, test_size=0.2, random_state=42, stratify=y\n",
    ")\n",
    "\n",
    "scaler = StandardScaler()\n",
    "X_train_scaled = scaler.fit_transform(X_train)\n",
    "X_test_scaled = scaler.transform(X_test)\n"
   ]
  },
  {
   "cell_type": "code",
   "execution_count": 18,
   "id": "08828bc0-5cdb-4eb4-8c92-7baa8a3c79a5",
   "metadata": {},
   "outputs": [
    {
     "data": {
      "text/html": [
       "<div>\n",
       "<style scoped>\n",
       "    .dataframe tbody tr th:only-of-type {\n",
       "        vertical-align: middle;\n",
       "    }\n",
       "\n",
       "    .dataframe tbody tr th {\n",
       "        vertical-align: top;\n",
       "    }\n",
       "\n",
       "    .dataframe thead th {\n",
       "        text-align: right;\n",
       "    }\n",
       "</style>\n",
       "<table border=\"1\" class=\"dataframe\">\n",
       "  <thead>\n",
       "    <tr style=\"text-align: right;\">\n",
       "      <th></th>\n",
       "      <th>0</th>\n",
       "      <th>1</th>\n",
       "      <th>2</th>\n",
       "      <th>3</th>\n",
       "      <th>4</th>\n",
       "      <th>5</th>\n",
       "      <th>6</th>\n",
       "    </tr>\n",
       "  </thead>\n",
       "  <tbody>\n",
       "    <tr>\n",
       "      <th>0</th>\n",
       "      <td>0.241613</td>\n",
       "      <td>0.088981</td>\n",
       "      <td>0.166916</td>\n",
       "      <td>0.321444</td>\n",
       "      <td>0.001692</td>\n",
       "      <td>-0.005236</td>\n",
       "      <td>-0.010448</td>\n",
       "    </tr>\n",
       "    <tr>\n",
       "      <th>1</th>\n",
       "      <td>0.241613</td>\n",
       "      <td>0.088981</td>\n",
       "      <td>-0.543946</td>\n",
       "      <td>0.321444</td>\n",
       "      <td>0.001692</td>\n",
       "      <td>-0.005236</td>\n",
       "      <td>-0.010448</td>\n",
       "    </tr>\n",
       "    <tr>\n",
       "      <th>2</th>\n",
       "      <td>0.241613</td>\n",
       "      <td>0.088981</td>\n",
       "      <td>-0.120716</td>\n",
       "      <td>0.321444</td>\n",
       "      <td>0.001692</td>\n",
       "      <td>-0.005236</td>\n",
       "      <td>-0.010448</td>\n",
       "    </tr>\n",
       "    <tr>\n",
       "      <th>3</th>\n",
       "      <td>0.241613</td>\n",
       "      <td>0.088981</td>\n",
       "      <td>-0.354931</td>\n",
       "      <td>0.321444</td>\n",
       "      <td>0.001692</td>\n",
       "      <td>-0.005236</td>\n",
       "      <td>-0.010448</td>\n",
       "    </tr>\n",
       "    <tr>\n",
       "      <th>4</th>\n",
       "      <td>0.241613</td>\n",
       "      <td>0.088981</td>\n",
       "      <td>-0.120716</td>\n",
       "      <td>0.321444</td>\n",
       "      <td>0.001692</td>\n",
       "      <td>-0.005236</td>\n",
       "      <td>-0.010448</td>\n",
       "    </tr>\n",
       "  </tbody>\n",
       "</table>\n",
       "</div>"
      ],
      "text/plain": [
       "          0         1         2         3         4         5         6\n",
       "0  0.241613  0.088981  0.166916  0.321444  0.001692 -0.005236 -0.010448\n",
       "1  0.241613  0.088981 -0.543946  0.321444  0.001692 -0.005236 -0.010448\n",
       "2  0.241613  0.088981 -0.120716  0.321444  0.001692 -0.005236 -0.010448\n",
       "3  0.241613  0.088981 -0.354931  0.321444  0.001692 -0.005236 -0.010448\n",
       "4  0.241613  0.088981 -0.120716  0.321444  0.001692 -0.005236 -0.010448"
      ]
     },
     "execution_count": 18,
     "metadata": {},
     "output_type": "execute_result"
    }
   ],
   "source": [
    "df = pd.DataFrame(X_train_scaled)\n",
    "df.head()"
   ]
  },
  {
   "cell_type": "markdown",
   "id": "34771638-add8-4be7-ad0b-972619fb1dc8",
   "metadata": {},
   "source": [
    "## Models implementation"
   ]
  },
  {
   "cell_type": "code",
   "execution_count": 21,
   "id": "73b2fcd6-9e48-4d72-b2c9-31a2c22dfa4f",
   "metadata": {},
   "outputs": [
    {
     "name": "stdout",
     "output_type": "stream",
     "text": [
      "Random Forest Performance:\n",
      "              precision    recall  f1-score   support\n",
      "\n",
      "           0       0.80      0.09      0.17    249846\n",
      "           1       0.44      0.97      0.61    186993\n",
      "\n",
      "    accuracy                           0.47    436839\n",
      "   macro avg       0.62      0.53      0.39    436839\n",
      "weighted avg       0.65      0.47      0.36    436839\n",
      "\n",
      "\n",
      "ROC AUC Score: 0.563\n",
      "\n",
      "Confusion Matrix:\n",
      "[[ 23376 226470]\n",
      " [  5944 181049]]\n"
     ]
    },
    {
     "data": {
      "image/png": "[encoded data removed]",
      "text/plain": [
       "<Figure size 1000x400 with 1 Axes>"
      ]
     },
     "metadata": {},
     "output_type": "display_data"
    }
   ],
   "source": [
    "from sklearn.preprocessing import RobustScaler\n",
    "from sklearn.ensemble import RandomForestClassifier\n",
    "from sklearn.pipeline import make_pipeline\n",
    "from sklearn.calibration import CalibratedClassifierCV\n",
    "from sklearn.metrics import classification_report, roc_auc_score, confusion_matrix\n",
    "import matplotlib.pyplot as plt\n",
    "import pandas as pd\n",
    "\n",
    "# 1. Create the modeling pipeline\n",
    "model = make_pipeline(\n",
    "    RobustScaler(),  # Still useful for scaling, though Random Forests are less sensitive\n",
    "    RandomForestClassifier(\n",
    "        n_estimators=200,  # Number of trees in the forest\n",
    "        max_depth=None,    # Let trees grow fully (can tune this)\n",
    "        min_samples_split=2, \n",
    "        min_samples_leaf=1,\n",
    "        class_weight='balanced',  # Automatic class balancing\n",
    "        random_state=42,\n",
    "        n_jobs=-1  # Use all available cores\n",
    "    )\n",
    ")\n",
    "\n",
    "# 2. Train with probability calibration (Random Forests sometimes benefit from calibration)\n",
    "calibrated_model = CalibratedClassifierCV(model, cv=3)\n",
    "calibrated_model.fit(X_train_scaled, y_train)\n",
    "\n",
    "# 3. Make predictions (with adjusted threshold)\n",
    "y_prob = calibrated_model.predict_proba(X_test_scaled)[:,1]\n",
    "y_pred_adj = (y_prob > 0.4).astype(int)  # Using 0.4 threshold instead of default 0.5\n",
    "\n",
    "# 4. Evaluate performance\n",
    "print(\"Random Forest Performance:\")\n",
    "print(classification_report(y_test, y_pred_adj))\n",
    "print(f\"\\nROC AUC Score: {roc_auc_score(y_test, y_prob):.3f}\")\n",
    "print(\"\\nConfusion Matrix:\")\n",
    "print(confusion_matrix(y_test, y_pred_adj))\n",
    "\n",
    "# 5. Visual inspection of probabilities\n",
    "plt.figure(figsize=(10, 4))\n",
    "plt.hist(y_prob[y_test==0], bins=50, alpha=0.5, label='Class 0')\n",
    "plt.hist(y_prob[y_test==1], bins=50, alpha=0.5, label='Class 1')\n",
    "plt.legend()\n",
    "plt.title(\"Probability Distributions by True Class\")\n",
    "plt.xlabel(\"Predicted Probability\")\n",
    "plt.ylabel(\"Count\")\n",
    "plt.show()"
   ]
  },
  {
   "cell_type": "code",
   "execution_count": null,
   "id": "0265d07f-8cb0-4d44-a439-7c4bdd04ad98",
   "metadata": {},
   "outputs": [],
   "source": []
  }
 ],
 "metadata": {
  "kernelspec": {
   "display_name": "Python 3 (ipykernel)",
   "language": "python",
   "name": "python3"
  },
  "language_info": {
   "codemirror_mode": {
    "name": "ipython",
    "version": 3
   },
   "file_extension": ".py",
   "mimetype": "text/x-python",
   "name": "python",
   "nbconvert_exporter": "python",
   "pygments_lexer": "ipython3",
   "version": "3.11.5"
  }
 },
 "nbformat": 4,
 "nbformat_minor": 5
}
