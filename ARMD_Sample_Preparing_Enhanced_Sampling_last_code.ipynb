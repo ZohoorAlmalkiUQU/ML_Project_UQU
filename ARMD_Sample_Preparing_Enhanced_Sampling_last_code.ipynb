{
 "cells": [
  {
   "cell_type": "markdown",
   "id": "0c3c1edf-4d21-44a5-9df3-75ffeb2e9f56",
   "metadata": {},
   "source": [
    "# Take a sample of ARMD Dataset."
   ]
  },
  {
   "cell_type": "code",
   "execution_count": 1,
   "id": "f2013cd8-a1f5-4388-aecc-b05009553cb5",
   "metadata": {},
   "outputs": [],
   "source": [
    "linked_features = ['anon_id', 'pat_enc_csn_id_coded', 'order_proc_id_coded', 'order_time_jittered_utc']\n",
    "\n",
    "files_info = [\n",
    "    {\n",
    "        \"name\": \"cultures_cohort\",\n",
    "        \"path\": \"microbiology_cultures_cohort.csv\",\n",
    "        \"merge_on\": linked_features, \n",
    "        \"dtype\": {\n",
    "            \"ordering_mode\": \"object\",\n",
    "            \"culture_description\": \"object\",\n",
    "            \"was_positive\": \"Int64\",\n",
    "            \"organism\": \"object\",\n",
    "            \"antibiotic\": \"object\",\n",
    "            \"susceptibility\": \"object\"\n",
    "        }\n",
    "    },\n",
    "    {\n",
    "        \"name\": \"ward_info\",\n",
    "        \"path\": \"microbiology_cultures_ward_info.csv\",\n",
    "        \"merge_on\": linked_features, \n",
    "        \"dtype\": {\n",
    "            \"hosp_ward_IP\": \"Int64\",\n",
    "            \"hosp_ward_OP\": \"Int64\",\n",
    "            \"hosp_ward_ER\": \"Int64\",\n",
    "            \"hosp_ward_ICU\": \"Int64\"\n",
    "        }\n",
    "    },\n",
    "    {\n",
    "        \"name\": \"prior_med\",\n",
    "        \"path\": \"microbiology_cultures_prior_med.csv\",\n",
    "        \"merge_on\": linked_features,\n",
    "        \"dtype\": {\n",
    "            \"medication_name\": \"object\",\n",
    "            \"medication_time_to_culturetime\": \"Int64\",\n",
    "            \"medication_category\": \"object\"\n",
    "        }\n",
    "    },\n",
    "    {\n",
    "        \"name\": \"microbial_resistance\",\n",
    "        \"path\": \"microbiology_cultures_microbial_resistance.csv\",\n",
    "        \"merge_on\": linked_features, \n",
    "        \"dtype\": {\n",
    "            \"organism\": \"object\",\n",
    "            \"antibiotic\": \"object\",\n",
    "            \"resistant_time_to_culturetime\": \"Int64\"\n",
    "        }\n",
    "    },\n",
    "    {\n",
    "        \"name\": \"cultures_demographics\",\n",
    "        \"path\": \"microbiology_cultures_demographics.csv\",\n",
    "        \"merge_on\": linked_features[:3], \n",
    "        \"dtype\": {\n",
    "            \"age\": \"object\",\n",
    "            \"gender\": \"object\"\n",
    "        }\n",
    "    },\n",
    "     {\n",
    "        \"name\": \"cultures_labs\",\n",
    "        \"path\": \"microbiology_cultures_labs.csv\",\n",
    "        \"merge_on\": linked_features[:3], \n",
    "        \"dtype\": {\n",
    "            \"Period_Day\": \"Int64\",\n",
    "            \"Q75_wbc\": \"object\",\n",
    "            \"Q25_wbc\": \"object\",\n",
    "            \"median_wbc\": \"object\",\n",
    "            \"Q25_neutrophils\": \"float32\",\n",
    "            \"Q75_neutrophils\": \"float32\",\n",
    "            \"median_neutrophils\": \"float32\",\n",
    "            \"Q25_lymphocytes\": \"float32\",\n",
    "            \"Q75_lymphocytes\": \"float32\",\n",
    "            \"median_lymphocytes\": \"float32\",\n",
    "            \"Q25_hgb\": \"object\",\n",
    "            \"Q75_hgb\": \"object\",\n",
    "            \"median_hgb\": \"object\",\n",
    "            \"Q25_plt\": \"object\",\n",
    "            \"Q75_plt\": \"object\",\n",
    "            \"median_plt\": \"object\",\n",
    "            \"Q75_na\": \"object\",\n",
    "            \"Q25_na\": \"object\",\n",
    "            \"median_na\": \"object\",\n",
    "            \"Q75_hco3\": \"object\",\n",
    "            \"Q25_hco3\": \"object\",\n",
    "            \"median_hco3\": \"object\",\n",
    "            \"Q75_bun\": \"object\",\n",
    "            \"Q25_bun\": \"object\",\n",
    "            \"median_bun\": \"object\",\n",
    "            \"Q75_cr\": \"object\",\n",
    "            \"Q25_cr\": \"object\",\n",
    "            \"median_cr\": \"object\",\n",
    "            \"Q75_lactate\": \"object\",\n",
    "            \"Q25_lactate\": \"object\",\n",
    "            \"median_lactate\": \"object\",\n",
    "            \"Q75_procalcitonin\": \"object\",\n",
    "            \"Q25_procalcitonin\": \"object\",\n",
    "            \"median_procalcitonin\": \"object\",\n",
    "            \"first_procalcitonin\": \"object\",\n",
    "            \"last_procalcitonin\": \"object\",\n",
    "            \"first_lactate\":\"object\",\n",
    "            \"last_cr\":\"object\",\n",
    "            \"first_cr\":\"object\",\n",
    "            \"last_bun\":\"object\",\n",
    "            \"first_bun\":\"object\",\n",
    "            \"last_hco3\":\"object\",\n",
    "            \"first_hco3\":\"object\",\n",
    "            \"last_na\":\"object\",\n",
    "            \"first_na\":\"object\",\n",
    "            \"last_plt\":\"object\",\n",
    "            \"first_plt\":\"object\",\n",
    "            \"last_hgb\":\"object\",\n",
    "            \"first_hgb\":\"object\",\n",
    "            \"last_lymphocytes\":\"object\",\n",
    "            \"first_lymphocytes\":\"object\",\n",
    "            \"last_neutrophils\":\"object\",\n",
    "            \"first_neutrophils\":\"object\",\n",
    "            \"last_wbc\":\"object\",\n",
    "            \"first_wbc\":\"object\" \n",
    "        }\n",
    "    },\n",
    "    {\n",
    "        \"name\": \"cultures_vitals\",\n",
    "        \"path\": \"microbiology_cultures_vitals.csv\",\n",
    "        \"merge_on\": linked_features[:3],\n",
    "        \"dtype\": {\n",
    "            \"Q25_heartrate\": \"object\",\n",
    "            \"Q75_heartrate\": \"object\",\n",
    "            \"median_heartrate\": \"object\",\n",
    "            \"Q25_resprate\": \"object\",\n",
    "            \"Q75_resprate\": \"object\",\n",
    "            \"median_resprate\": \"object\",\n",
    "            \"Q25_temp\": \"object\",\n",
    "            \"Q75_temp\": \"object\",\n",
    "            \"median_temp\": \"object\",\n",
    "            \"Q25_sysbp\": \"float32\",\n",
    "            \"Q75_sysbp\": \"float32\",\n",
    "            \"median_sysbp\": \"float32\",\n",
    "            \"Q25_diasbp\": \"float32\",\n",
    "            \"Q75_diasbp\": \"float32\",\n",
    "            \"median_diasbp\": \"float32\",\n",
    "            \"first_diasbp\": \"object\",\n",
    "            \"last_diasbp\": \"object\",\n",
    "            \"last_sysbp\": \"object\",\n",
    "            \"first_sysbp\": \"object\",\n",
    "            \"last_temp\": \"object\",\n",
    "            \"first_temp\": \"object\",\n",
    "            \"last_resprate\": \"object\",\n",
    "            \"first_resprate\": \"object\",\n",
    "            \"last_heartrate\": \"object\",\n",
    "            \"first_heartrate\": \"object\"\n",
    "        }\n",
    "    },\n",
    "     {\n",
    "        \"name\": \"antibiotic_class_exposure\",\n",
    "        \"path\": \"microbiology_cultures_antibiotic_class_exposure.csv\",\n",
    "        \"merge_on\": linked_features, \n",
    "        \"dtype\": {\n",
    "            \"medication_category\": \"object\",\n",
    "            \"medication_name\": \"object\",\n",
    "            \"antibiotic_class\": \"object\",\n",
    "            \"time_to_culturetime\": \"Int64\"\n",
    "        }\n",
    "    },\n",
    "    {\n",
    "        \"name\": \"antibiotic_subtype_exposure\",\n",
    "        \"path\": \"microbiology_cultures_antibiotic_subtype_exposure.csv\",\n",
    "        \"merge_on\": linked_features, \n",
    "        \"dtype\": {\n",
    "            \"medication_category\": \"object\",\n",
    "            \"medication_name\": \"object\",\n",
    "            \"antibiotic_subtype\": \"object\",\n",
    "            \"antibiotic_subtype_category\": \"object\",\n",
    "            \"medication_time_to_cultureTime\": \"Int64\"\n",
    "        }\n",
    "    },\n",
    "    {\n",
    "        \"name\": \"prior_infecting_organism\",\n",
    "        \"path\": \"microbiology_culture_prior_infecting_organism.csv\",\n",
    "        \"merge_on\": linked_features, \n",
    "        \"dtype\": {\n",
    "            \"prior_organism\": \"object\",\n",
    "            \"prior_infecting_organism_days_to_culutre\": \"Int64\"\n",
    "        }\n",
    "    },\n",
    "    {\n",
    "        \"name\": \"cultures_comorbidity\",\n",
    "        \"path\": \"microbiology_cultures_comorbidity.csv\",\n",
    "        \"merge_on\": linked_features, \n",
    "        \"dtype\": {\n",
    "            \"comorbidity_component\": \"object\",\n",
    "            \"comorbidity_component_start_days_culture\": \"Int64\",\n",
    "            \"comorbidity_component_end_days_culture\": \"float32\"\n",
    "        }\n",
    "    },\n",
    "    {\n",
    "        \"name\": \"cultures_priorprocedures\",\n",
    "        \"path\": \"microbiology_cultures_priorprocedures.csv\",\n",
    "        \"merge_on\": linked_features, \n",
    "        \"dtype\": {\n",
    "            \"procedure_description\": \"object\",\n",
    "            \"procedure_time_to_culturetime\": \"Int64\"\n",
    "        }\n",
    "    },\n",
    "    {\n",
    "        \"name\": \"adi_scores\",\n",
    "        \"path\": \"microbiology_cultures_adi_scores.csv\",\n",
    "        \"merge_on\": linked_features, \n",
    "        \"dtype\": {\n",
    "            \"adi_score\": \"object\",\n",
    "            \"adi_state_rank\": \"object\"\n",
    "        }\n",
    "    },\n",
    "    {\n",
    "        \"name\": \"nursing_home_visits\",\n",
    "        \"path\": \"microbiology_cultures_adi_scores.csv\",\n",
    "        \"merge_on\": linked_features, \n",
    "        \"dtype\": {\n",
    "            \"nursing_home_visit_culture\": \"Int64\"\n",
    "        }\n",
    "    },\n",
    "    {\n",
    "        \"name\": \"implied_susceptibility\",\n",
    "        \"path\": \"microbiology_cultures_implied_susceptibility.csv\",\n",
    "        \"merge_on\": linked_features[:3], \n",
    "        \"dtype\": {\n",
    "            \"organism\": \"object\",\n",
    "            \"antibiotic\": \"object\",\n",
    "            \"susceptibility\": \"object\",\n",
    "            \"implied_susceptibility\": \"object\"\n",
    "        }\n",
    "    }\n",
    "    , {\n",
    "        \"name\": \"implied_susceptibility_rules\",\n",
    "        \"path\": \"microbiology_cultures_implied_susceptibility.csv\",\n",
    "        \"merge_on\": None , \n",
    "        \"dtype\": {\n",
    "            \"Organism\": \"object\",\n",
    "            \"Antibiotic\": \"object\",\n",
    "            \"Susceptibility\": \"object\",\n",
    "        }\n",
    "    }\n",
    "]\n"
   ]
  },
  {
   "cell_type": "markdown",
   "id": "fda9174f-c3d3-49fc-8532-402932c171ed",
   "metadata": {},
   "source": [
    "# Enhanced Sampling "
   ]
  },
  {
   "cell_type": "code",
   "execution_count": 5,
   "id": "b30a042b-1fa6-4ff4-ab29-79b6ed466f7d",
   "metadata": {},
   "outputs": [
    {
     "name": "stdout",
     "output_type": "stream",
     "text": [
      "Sample saved: new_sample_one/cultures_cohort.parquet\n",
      "Sample saved: new_sample_one/ward_info.parquet\n",
      "Sample saved: new_sample_one/prior_med.parquet\n",
      "Sample saved: new_sample_one/microbial_resistance.parquet\n",
      "Sample saved: new_sample_one/cultures_demographics.parquet\n",
      "Sample saved: new_sample_one/cultures_labs.parquet\n",
      "Sample saved: new_sample_one/cultures_vitals.parquet\n",
      "Sample saved: new_sample_one/antibiotic_class_exposure.parquet\n",
      "Sample saved: new_sample_one/antibiotic_subtype_exposure.parquet\n",
      "Sample saved: new_sample_one/prior_infecting_organism.parquet\n",
      "Sample Saved: new_sample_one/cultures_comorbidity.parquet\n",
      "Sample saved: new_sample_one/cultures_priorprocedures.parquet\n",
      "Sample saved: new_sample_one/adi_scores.parquet\n",
      "Sample saved: new_sample_one/nursing_home_visits.parquet\n",
      "Sample saved: new_sample_one/implied_susceptibility.parquet\n",
      "Sample saved: new_sample_one/implied_susceptibility_rules.parquet\n",
      "\n",
      " Alhamdulillah the samples files done ✅\n"
     ]
    }
   ],
   "source": [
    "\n",
    "import pandas as pd\n",
    "import os\n",
    "\n",
    "\n",
    "input_folder = 'doi_10_5061_dryad_jq2bvq8kp__v20250411/'\n",
    "output_file = 'new_sample_one/'\n",
    "linked_features = ['anon_id', 'pat_enc_csn_id_coded', 'order_proc_id_coded', 'order_time_jittered_utc']\n",
    "\n",
    "os.makedirs(output_file, exist_ok=True)\n",
    "\n",
    "df = pd.read_csv(input_folder + files_info[0]['path'], usecols=['anon_id', 'susceptibility'])\n",
    "\n",
    "df = df[df['susceptibility'].isin(['Susceptible', 'Resistant'])]\n",
    "\n",
    "sus_patients = df[df['susceptibility'] == 'Susceptible']['anon_id'].drop_duplicates().sample(n=500, random_state=42)\n",
    "res_patients = df[df['susceptibility'] == 'Resistant']['anon_id'].drop_duplicates().sample(n=500, random_state=42)\n",
    "\n",
    "pat_ids = pd.concat([sus_patients, res_patients]).reset_index(drop=True)\n",
    "\n",
    "for file in files_info:\n",
    "    size_bytes = os.path.getsize(input_folder + file['path'])\n",
    "    size_gb = size_bytes / (1024 ** 3)  # Convert to GB\n",
    "    if (size_gb < 2):\n",
    "        df = pd.read_csv(input_folder + file['path'], dtype = file['dtype'] , na_values=['Null'], low_memory=False)\n",
    "        df = df[df['anon_id'].isin(pat_ids)]\n",
    "        df.to_parquet(output_file + file['name'] + '.parquet',  engine='pyarrow', index=False )\n",
    "        print(f\"Sample saved: {output_file + file['name'] + '.parquet'}\")\n",
    "    else:\n",
    "        chunk_size = 1_000_000\n",
    "        filtered_chunks = []\n",
    "        for chunk in pd.read_csv(input_folder + file['path'], dtype=file['dtype'], na_values=['Null'], chunksize=chunk_size):\n",
    "            filtered_chunk = chunk[chunk['anon_id'].isin(pat_ids)]\n",
    "            filtered_chunks.append(filtered_chunk)\n",
    "    \n",
    "        if filtered_chunks:\n",
    "            df = pd.concat(filtered_chunks, ignore_index=True)\n",
    "            df.to_parquet(output_file + file['name'] + '.parquet', engine='pyarrow',  index=False)\n",
    "            print(f\"Sample Saved: {output_file + file['name']}.parquet\")\n",
    "\n",
    "print(f\"\\n Alhamdulillah the samples files done ✅\")"
   ]
  },
  {
   "cell_type": "markdown",
   "id": "ad128775-4b67-4d5a-9c25-00cf2e44b0f2",
   "metadata": {},
   "source": [
    "## Check the data samples files"
   ]
  },
  {
   "cell_type": "code",
   "execution_count": 7,
   "id": "edb485d8-ffb8-48d8-b6b5-6eb0793bee73",
   "metadata": {
    "scrolled": true
   },
   "outputs": [
    {
     "name": "stdout",
     "output_type": "stream",
     "text": [
      "file new_sample_one/cultures_cohort.parquet:  \n",
      "     anon_id  pat_enc_csn_id_coded  order_proc_id_coded  \\\n",
      "0   JC854129          131362032609            903673882   \n",
      "1   JC987382          131018782688            401046280   \n",
      "2   JC525636              16380445            329638112   \n",
      "3  JC1873593          131236477728            531304610   \n",
      "4   JC517943          131239407403            538396799   \n",
      "\n",
      "     order_time_jittered_utc ordering_mode culture_description  was_positive  \\\n",
      "0  2023-09-24 03:45:00+00:00    Outpatient               URINE             1   \n",
      "1  2012-05-12 16:08:00+00:00     Inpatient               URINE             1   \n",
      "2  2008-09-04 01:27:00+00:00    Outpatient               URINE             1   \n",
      "3  2017-07-09 21:06:00+00:00    Outpatient               URINE             1   \n",
      "4  2017-09-08 03:34:00+00:00    Outpatient               URINE             1   \n",
      "\n",
      "                organism      antibiotic susceptibility  \n",
      "0  KLEBSIELLA PNEUMONIAE     Ceftazidime    Susceptible  \n",
      "1  KLEBSIELLA PNEUMONIAE    Levofloxacin    Susceptible  \n",
      "2  KLEBSIELLA PNEUMONIAE    Levofloxacin    Susceptible  \n",
      "3  KLEBSIELLA PNEUMONIAE  Nitrofurantoin   Intermediate  \n",
      "4  KLEBSIELLA PNEUMONIAE  Nitrofurantoin    Susceptible  \n",
      "-----------------------------------------------\n",
      "file new_sample_one/ward_info.parquet:  \n",
      "     anon_id  pat_enc_csn_id_coded  order_proc_id_coded  \\\n",
      "0  JC1572086          131248069544            554836035   \n",
      "1  JC1496855          131265030404            599531871   \n",
      "2   JC711237          131331181246            789353908   \n",
      "3  JC2648461          131357255228            886671012   \n",
      "4   JC920488          131344972453            925175952   \n",
      "\n",
      "     order_time_jittered_utc  hosp_ward_IP  hosp_ward_OP  hosp_ward_ER  \\\n",
      "0  2018-02-24 18:58:00+00:00             0             1             0   \n",
      "1  2019-02-23 23:05:00+00:00             0             1             0   \n",
      "2  2022-03-25 17:52:00+00:00             0             1             0   \n",
      "3  2023-06-05 21:49:00+00:00             0             1             0   \n",
      "4  2023-11-28 19:37:00+00:00             0             1             0   \n",
      "\n",
      "   hosp_ward_ICU  \n",
      "0              0  \n",
      "1              0  \n",
      "2              0  \n",
      "3              0  \n",
      "4              0  \n",
      "-----------------------------------------------\n",
      "file new_sample_one/prior_med.parquet:  \n",
      "    anon_id  pat_enc_csn_id_coded  order_proc_id_coded  \\\n",
      "0  JC973259          131007901960            360679280   \n",
      "1  JC973259          131007901960            360679282   \n",
      "2  JC973259          131008038668            361373516   \n",
      "3  JC973259          131008038668            361373517   \n",
      "4  JC973259          131008038668            361373519   \n",
      "\n",
      "     order_time_jittered_utc medication_name  medication_time_to_culturetime  \\\n",
      "0  2009-12-31 00:28:00+00:00     Ceftazidime                              26   \n",
      "1  2009-12-31 00:28:00+00:00     Ceftazidime                              26   \n",
      "2  2010-01-18 21:54:00+00:00     Ceftazidime                              45   \n",
      "3  2010-01-18 21:54:00+00:00     Ceftazidime                              45   \n",
      "4  2010-01-18 21:54:00+00:00     Ceftazidime                              45   \n",
      "\n",
      "  medication_category  \n",
      "0               CEF11  \n",
      "1               CEF11  \n",
      "2               CEF11  \n",
      "3               CEF11  \n",
      "4               CEF11  \n",
      "-----------------------------------------------\n",
      "file new_sample_one/microbial_resistance.parquet:  \n",
      "     anon_id  pat_enc_csn_id_coded  order_proc_id_coded  \\\n",
      "0   JC598575          131250670099            561398685   \n",
      "1  JC2198121          131025686827            425053160   \n",
      "2  JC2198121          131244897440            558964589   \n",
      "3  JC2198121          131285266957            656813025   \n",
      "4  JC2198121          131012685311            380140337   \n",
      "\n",
      "     order_time_jittered_utc                      organism antibiotic  \\\n",
      "0  2018-05-11 01:47:00+00:00  ENTEROBACTER CLOACAE COMPLEX  Ertapenem   \n",
      "1  2013-08-31 02:35:00+00:00       MYCOBACTERIUM ABSCESSUS  Linezolid   \n",
      "2  2018-04-23 19:49:00+00:00       MYCOBACTERIUM ABSCESSUS  Linezolid   \n",
      "3  2020-03-22 22:27:00+00:00       MYCOBACTERIUM ABSCESSUS  Linezolid   \n",
      "4  2011-03-20 17:29:00+00:00       MYCOBACTERIUM ABSCESSUS  Linezolid   \n",
      "\n",
      "   resistant_time_to_culturetime  \n",
      "0                            493  \n",
      "1                           1039  \n",
      "2                           2735  \n",
      "3                           3108  \n",
      "4                            144  \n",
      "-----------------------------------------------\n",
      "file new_sample_one/cultures_demographics.parquet:  \n",
      "     anon_id  pat_enc_csn_id_coded  order_proc_id_coded          age gender\n",
      "0  JC2500374          131092346615            467516438  18-24 years      1\n",
      "1  JC2500374          131092346615            467516437  18-24 years      1\n",
      "2  JC2237186          131017708484            397423836  18-24 years      1\n",
      "3   JC648147          131007974591            361109982  18-24 years      1\n",
      "4  JC2219224          131248522570            555923687  18-24 years      1\n",
      "-----------------------------------------------\n",
      "file new_sample_one/cultures_labs.parquet:  \n",
      "     anon_id  pat_enc_csn_id_coded  order_proc_id_coded  Period_Day Q75_wbc  \\\n",
      "0  JC1044165          131368594903            928221503          14    None   \n",
      "1  JC2049852          131367083789            922422294          14    None   \n",
      "2   JC679507          131007220411            358532443          14    None   \n",
      "3  JC1072936          131243315393            546789757          14    None   \n",
      "4   JC973259          131013249372            382333782          14    None   \n",
      "\n",
      "  Q25_wbc median_wbc  Q25_neutrophils  Q75_neutrophils  median_neutrophils  \\\n",
      "0    None       None              NaN              NaN                 NaN   \n",
      "1    None       None              NaN              NaN                 NaN   \n",
      "2    None       None              NaN              NaN                 NaN   \n",
      "3    None       None              NaN              NaN                 NaN   \n",
      "4    None       None              NaN              NaN                 NaN   \n",
      "\n",
      "   ...  last_plt  first_plt  last_hgb first_hgb last_lymphocytes  \\\n",
      "0  ...      None       None      None      None             None   \n",
      "1  ...      None       None      None      None             None   \n",
      "2  ...      None       None      None      None             None   \n",
      "3  ...      None       None      None      None             None   \n",
      "4  ...      None       None      None      None             None   \n",
      "\n",
      "  first_lymphocytes last_neutrophils first_neutrophils last_wbc first_wbc  \n",
      "0              None             None              None     None      None  \n",
      "1              None             None              None     None      None  \n",
      "2              None             None              None     None      None  \n",
      "3              None             None              None     None      None  \n",
      "4              None             None              None     None      None  \n",
      "\n",
      "[5 rows x 59 columns]\n",
      "-----------------------------------------------\n",
      "file new_sample_one/cultures_vitals.parquet:  \n",
      "     anon_id  pat_enc_csn_id_coded  order_proc_id_coded Q25_heartrate  \\\n",
      "0  JC6193640          131357804941            892263403          50.0   \n",
      "1   JC638714          131009793027            368997425          65.0   \n",
      "2  JC1118369          131331875871            796488344          52.0   \n",
      "3  JC1100492          131321519045            758893406          70.0   \n",
      "4   JC648147          131050080596            449235197          60.0   \n",
      "\n",
      "  Q75_heartrate median_heartrate Q25_resprate Q75_resprate median_resprate  \\\n",
      "0          56.0             51.0         12.0         15.0            12.0   \n",
      "1          69.0             66.0         16.0         21.0            17.0   \n",
      "2          69.0             56.0         10.0         12.0            10.0   \n",
      "3          72.0             72.0         13.0         17.0            15.0   \n",
      "4          70.0             67.0         16.0         18.0            17.0   \n",
      "\n",
      "  Q25_temp  ... first_diasbp last_diasbp  last_sysbp  first_sysbp  last_temp  \\\n",
      "0     96.8  ...         74.0        None        None        136.0       None   \n",
      "1     97.3  ...         None        None        None         None       None   \n",
      "2     97.2  ...         None        None        None         None       None   \n",
      "3     97.4  ...         65.0        57.0       121.0        114.0       None   \n",
      "4     97.5  ...         63.0        None        None        122.0       None   \n",
      "\n",
      "   first_temp  last_resprate  first_resprate last_heartrate first_heartrate  \n",
      "0        None           None            None           51.0            None  \n",
      "1        98.4           None            None           66.0            None  \n",
      "2        None           None            None           59.0            75.0  \n",
      "3        None           None            None           None            None  \n",
      "4        None           None            None           70.0            None  \n",
      "\n",
      "[5 rows x 28 columns]\n",
      "-----------------------------------------------\n",
      "file new_sample_one/antibiotic_class_exposure.parquet:  \n",
      "     anon_id  pat_enc_csn_id_coded  order_proc_id_coded  \\\n",
      "0  JC1085463          131273681701            623072487   \n",
      "1  JC2198121          131285266957            656813026   \n",
      "2  JC1085463          131197135146            503594596   \n",
      "3  JC1196249          131021141180            408849421   \n",
      "4  JC1196249          131026401976            424658294   \n",
      "\n",
      "     order_time_jittered_utc medication_category  \\\n",
      "0  2019-08-10 08:22:00+00:00                 RIF   \n",
      "1  2020-03-22 22:27:00+00:00                 SUL   \n",
      "2  2016-09-12 10:34:00+00:00                 SUL   \n",
      "3  2012-10-27 05:17:00+00:00                 SUL   \n",
      "4  2013-08-22 17:35:00+00:00                 SUL   \n",
      "\n",
      "                 medication_name        antibiotic_class  time_to_culturetime  \n",
      "0                      Rifaximin               Ansamycin                 1946  \n",
      "1  Sulfamethoxazole-Trimethoprim  Combination Antibiotic                  461  \n",
      "2  Sulfamethoxazole-Trimethoprim  Combination Antibiotic                  559  \n",
      "3  Sulfamethoxazole-Trimethoprim  Combination Antibiotic                  767  \n",
      "4  Sulfamethoxazole-Trimethoprim  Combination Antibiotic                   10  \n",
      "-----------------------------------------------\n",
      "file new_sample_one/antibiotic_subtype_exposure.parquet:  \n",
      "     anon_id  pat_enc_csn_id_coded  order_proc_id_coded  \\\n",
      "0  JC2648461          131353099746            871195840   \n",
      "1   JC973259          131013249372            382333790   \n",
      "2   JC902494          131316125170            745830011   \n",
      "3   JC564122          131339148292            815181278   \n",
      "4  JC1719757          131358346646            890723938   \n",
      "\n",
      "     order_time_jittered_utc medication_category              medication_name  \\\n",
      "0  2023-03-29 00:40:00+00:00                VAN3                Vancomycin In   \n",
      "1  2011-05-03 18:49:00+00:00                ERY1  Erythromycin Ethylsuccinate   \n",
      "2  2021-08-20 21:52:00+00:00                 COL                     Colistin   \n",
      "3  2022-08-26 23:37:00+00:00                 KEF                       Keflex   \n",
      "4  2023-07-15 20:16:00+00:00                MET2        Methenamine Hippurate   \n",
      "\n",
      "   antibiotic_subtype antibiotic_subtype_category  \\\n",
      "0        Glycopeptide                         GLY   \n",
      "1           Macrolide                         MAC   \n",
      "2           Polymyxin                         POL   \n",
      "3  Cephalosporin Gen1                        CEP1   \n",
      "4  Urinary Antiseptic                          UA   \n",
      "\n",
      "   medication_time_to_cultureTime  \n",
      "0                              83  \n",
      "1                              68  \n",
      "2                            2148  \n",
      "3                            2132  \n",
      "4                            2756  \n",
      "-----------------------------------------------\n",
      "file new_sample_one/prior_infecting_organism.parquet:  \n",
      "     anon_id  pat_enc_csn_id_coded  order_proc_id_coded  \\\n",
      "0  JC1006220          131319361557            752193856   \n",
      "1  JC1007937          131328853828            781756456   \n",
      "2  JC1007937          131347815577            851137198   \n",
      "3  JC1007937          131354193371            875404495   \n",
      "4  JC1007937          131362710866            906096053   \n",
      "\n",
      "     order_time_jittered_utc    prior_organism  \\\n",
      "0  2021-11-05 02:47:00+00:00  Stenotrophomonas   \n",
      "1  2022-02-07 08:00:00+00:00      Enterococcus   \n",
      "2  2022-12-28 22:23:00+00:00      Enterococcus   \n",
      "3  2023-04-11 01:14:00+00:00       Pseudomonas   \n",
      "4  2023-08-25 20:32:00+00:00      Enterococcus   \n",
      "\n",
      "   prior_infecting_organism_days_to_culutre  \n",
      "0                                      1289  \n",
      "1                                      5128  \n",
      "2                                      5452  \n",
      "3                                       416  \n",
      "4                                      5692  \n",
      "-----------------------------------------------\n",
      "file new_sample_one/cultures_comorbidity.parquet:  \n",
      "     anon_id  pat_enc_csn_id_coded  order_proc_id_coded  \\\n",
      "0  JC1319843          131065485320            455084984   \n",
      "1  JC1085463          131291182835            671979530   \n",
      "2  JC1085463          131271278851            616579676   \n",
      "3  JC1085463          131289620022            667417930   \n",
      "4  JC1854011          131256305201            574339642   \n",
      "\n",
      "     order_time_jittered_utc                     comorbidity_component  \\\n",
      "0  2015-01-31 02:26:00+00:00  Peripheral and visceral vascular disease   \n",
      "1  2020-07-15 06:41:00+00:00                       Menstrual disorders   \n",
      "2  2019-07-01 08:16:00+00:00  Contraceptive and procreative management   \n",
      "3  2020-06-14 17:14:00+00:00                  Acute pulmonary embolism   \n",
      "4  2018-08-03 11:23:00+00:00                         Metastatic cancer   \n",
      "\n",
      "   comorbidity_component_start_days_culture  \\\n",
      "0                                       883   \n",
      "1                                      3074   \n",
      "2                                      2778   \n",
      "3                                      2590   \n",
      "4                                       775   \n",
      "\n",
      "   comorbidity_component_end_days_culture  \n",
      "0                                   -24.0  \n",
      "1                                     NaN  \n",
      "2                                     NaN  \n",
      "3                                     NaN  \n",
      "4                                     NaN  \n",
      "-----------------------------------------------\n",
      "file new_sample_one/cultures_priorprocedures.parquet:  \n",
      "     anon_id  pat_enc_csn_id_coded  order_proc_id_coded  \\\n",
      "0  JC1007937          131362710866            906096053   \n",
      "1  JC1015627          131290730311            670558584   \n",
      "2  JC1026468          131282115010            648254978   \n",
      "3  JC1044165          131368594903            928221503   \n",
      "4  JC1058732          131203648660            508155375   \n",
      "\n",
      "     order_time_jittered_utc procedure_description  \\\n",
      "0  2023-08-25 20:32:00+00:00     urethral_catheter   \n",
      "1  2020-06-14 18:18:00+00:00     urethral_catheter   \n",
      "2  2020-01-26 04:25:00+00:00    surgical_procedure   \n",
      "3  2023-12-04 20:44:00+00:00    surgical_procedure   \n",
      "4  2016-10-08 19:43:00+00:00    surgical_procedure   \n",
      "\n",
      "   procedure_time_to_culturetime  \n",
      "0                            533  \n",
      "1                            418  \n",
      "2                           1860  \n",
      "3                            499  \n",
      "4                            763  \n",
      "-----------------------------------------------\n",
      "file new_sample_one/adi_scores.parquet:  \n",
      "     anon_id  pat_enc_csn_id_coded  order_proc_id_coded  \\\n",
      "0  JC1524898          131023149399            415360147   \n",
      "1   JC649298          131295030033            683245300   \n",
      "2  JC6468124          131349345081            856981573   \n",
      "3   JC649298          131009089439            365885968   \n",
      "4  JC6530044          131362040857            903669372   \n",
      "\n",
      "     order_time_jittered_utc adi_score adi_state_rank  \n",
      "0  2013-02-04 23:17:00+00:00      None           None  \n",
      "1  2020-08-26 15:39:00+00:00      None           None  \n",
      "2  2023-03-12 03:38:00+00:00      None           None  \n",
      "3  2010-03-27 00:01:00+00:00      None           None  \n",
      "4  2023-09-29 02:50:00+00:00      None           None  \n",
      "-----------------------------------------------\n",
      "file new_sample_one/nursing_home_visits.parquet:  \n",
      "     anon_id  pat_enc_csn_id_coded  order_proc_id_coded  \\\n",
      "0  JC1524898          131023149399            415360147   \n",
      "1   JC649298          131295030033            683245300   \n",
      "2  JC6468124          131349345081            856981573   \n",
      "3   JC649298          131009089439            365885968   \n",
      "4  JC6530044          131362040857            903669372   \n",
      "\n",
      "     order_time_jittered_utc  adi_score  adi_state_rank  \n",
      "0  2013-02-04 23:17:00+00:00        NaN             NaN  \n",
      "1  2020-08-26 15:39:00+00:00        NaN             NaN  \n",
      "2  2023-03-12 03:38:00+00:00        NaN             NaN  \n",
      "3  2010-03-27 00:01:00+00:00        NaN             NaN  \n",
      "4  2023-09-29 02:50:00+00:00        NaN             NaN  \n",
      "-----------------------------------------------\n",
      "file new_sample_one/implied_susceptibility.parquet:  \n",
      "     anon_id  pat_enc_csn_id_coded  order_proc_id_coded  \\\n",
      "0  JC2673551          131337997983            831009441   \n",
      "1   JC711237          131335947209            804802451   \n",
      "2  JC1196249              15512861            325702301   \n",
      "3   JC854129          131354939858            878089434   \n",
      "4   JC862464          131272337072            618719735   \n",
      "\n",
      "                       organism                     antibiotic susceptibility  \\\n",
      "0  ENTEROBACTER CLOACAE COMPLEX                       imipenem           None   \n",
      "1            CITROBACTER KOSERI                       imipenem           None   \n",
      "2  STENOTROPHOMONAS MALTOPHILIA  Trimethoprim/Sulfamethoxazole    Susceptible   \n",
      "3              ESCHERICHIA COLI                    Minocycline    Susceptible   \n",
      "4  ENTEROBACTER CLOACAE COMPLEX                      doripenem           None   \n",
      "\n",
      "  implied_susceptibility  \n",
      "0            Susceptible  \n",
      "1            Susceptible  \n",
      "2                   None  \n",
      "3                   None  \n",
      "4            Susceptible  \n",
      "-----------------------------------------------\n",
      "file new_sample_one/implied_susceptibility_rules.parquet:  \n",
      "     anon_id  pat_enc_csn_id_coded  order_proc_id_coded  \\\n",
      "0  JC2673551          131337997983            831009441   \n",
      "1   JC711237          131335947209            804802451   \n",
      "2  JC1196249              15512861            325702301   \n",
      "3   JC854129          131354939858            878089434   \n",
      "4   JC862464          131272337072            618719735   \n",
      "\n",
      "                       organism                     antibiotic susceptibility  \\\n",
      "0  ENTEROBACTER CLOACAE COMPLEX                       imipenem           None   \n",
      "1            CITROBACTER KOSERI                       imipenem           None   \n",
      "2  STENOTROPHOMONAS MALTOPHILIA  Trimethoprim/Sulfamethoxazole    Susceptible   \n",
      "3              ESCHERICHIA COLI                    Minocycline    Susceptible   \n",
      "4  ENTEROBACTER CLOACAE COMPLEX                      doripenem           None   \n",
      "\n",
      "  implied_susceptibility  \n",
      "0            Susceptible  \n",
      "1            Susceptible  \n",
      "2                   None  \n",
      "3                   None  \n",
      "4            Susceptible  \n",
      "-----------------------------------------------\n"
     ]
    }
   ],
   "source": [
    "import pandas as pd\n",
    "\n",
    "output_file = 'new_sample_one/'\n",
    "for file in files_info:\n",
    "    df = pd.read_parquet(output_file + file['name'] + '.parquet', engine='pyarrow')\n",
    "    print(f\"file {output_file + file['name'] + '.parquet'}:  \")\n",
    "    print(df.head())\n",
    "    print('-----------------------------------------------')"
   ]
  },
  {
   "cell_type": "markdown",
   "id": "351f5059-a936-40ad-8a7c-cdb2eb23a291",
   "metadata": {},
   "source": [
    "# Samples file preparation befor the merge:"
   ]
  },
  {
   "cell_type": "markdown",
   "id": "8e06d7a3-a765-47db-b5a8-6fc08f51ec9f",
   "metadata": {},
   "source": [
    "## cultures_cohort.parquet file preparing"
   ]
  },
  {
   "cell_type": "code",
   "execution_count": 21,
   "id": "e94a3a9a-dbcb-47f3-8884-58a0af7eac3a",
   "metadata": {},
   "outputs": [
    {
     "name": "stdout",
     "output_type": "stream",
     "text": [
      "Shape: (29632, 10)\n",
      "# of patients: 997\n"
     ]
    }
   ],
   "source": [
    "import pandas as pd\n",
    "\n",
    "sample_folder = 'new_sample_one/'\n",
    "df = pd.read_parquet(sample_folder + \"cultures_cohort.parquet\")\n",
    "print(f'Shape: {df.shape}')\n",
    "print(f\"# of patients: {df['anon_id'].unique().size}\")"
   ]
  },
  {
   "cell_type": "markdown",
   "id": "8282d473-a1a9-4a88-9c40-84b91d3c9a2b",
   "metadata": {},
   "source": [
    "not as i expected; but i will keep it for now "
   ]
  },
  {
   "cell_type": "code",
   "execution_count": 24,
   "id": "341d8b44-17df-4e8a-8d5b-3b2c9d3d9d98",
   "metadata": {},
   "outputs": [
    {
     "data": {
      "text/plain": [
       "array(['Susceptible', 'Intermediate', 'Resistant', None, 'Synergism',\n",
       "       'Inconclusive'], dtype=object)"
      ]
     },
     "execution_count": 24,
     "metadata": {},
     "output_type": "execute_result"
    }
   ],
   "source": [
    "df['susceptibility'].unique()"
   ]
  },
  {
   "cell_type": "code",
   "execution_count": 26,
   "id": "66723bff-0713-4330-9a4e-71c6fc82becc",
   "metadata": {},
   "outputs": [],
   "source": [
    "df = df[df['susceptibility'].isin(['Susceptible', 'Resistant'])]"
   ]
  },
  {
   "cell_type": "code",
   "execution_count": 28,
   "id": "a5b050eb-c1ba-4a94-9aad-bb67d82a8493",
   "metadata": {},
   "outputs": [
    {
     "name": "stdout",
     "output_type": "stream",
     "text": [
      "# of patients: 997\n",
      "My target susceptibility: ['Susceptible' 'Resistant']\n"
     ]
    }
   ],
   "source": [
    "print(f\"# of patients: {df['anon_id'].unique().size}\")\n",
    "print(f\"My target susceptibility: {df['susceptibility'].unique()}\")"
   ]
  },
  {
   "cell_type": "code",
   "execution_count": 30,
   "id": "deaaba8d-1b84-428a-879b-482d55998189",
   "metadata": {},
   "outputs": [
    {
     "name": "stdout",
     "output_type": "stream",
     "text": [
      "susceptibility\n",
      "Susceptible    20826\n",
      "Resistant       5029\n",
      "Name: count, dtype: int64\n"
     ]
    }
   ],
   "source": [
    "print(df['susceptibility'].value_counts())\n"
   ]
  },
  {
   "cell_type": "markdown",
   "id": "43df1f62-6be6-44cf-8e2b-50102e01b6b6",
   "metadata": {},
   "source": [
    "My explanation for class distribution:\n",
    "I start with 500 Susceptible + 500 Resistant;\n",
    "And by using patent id; i take all the recored for this patien; in the beganing the patent is Susceptible for specific antibiotic but after he faced this antibiotic many times he had a  Resistant.\n",
    "\n",
    "so if i faced any problems with imbalance class i would deal with it inshaa allah."
   ]
  },
  {
   "cell_type": "code",
   "execution_count": 33,
   "id": "90bebbbd-3122-4bc5-994a-5287a3e72733",
   "metadata": {},
   "outputs": [
    {
     "data": {
      "image/png": "[encoded data removed]",
      "text/plain": [
       "<Figure size 640x480 with 1 Axes>"
      ]
     },
     "metadata": {},
     "output_type": "display_data"
    }
   ],
   "source": [
    "import matplotlib.pyplot as plt\n",
    "import seaborn as sns\n",
    "\n",
    "sns.countplot(x='susceptibility', data=df, order=['Susceptible', 'Resistant'])\n",
    "plt.title(\"Distribution of Susceptibility Categories\")\n",
    "plt.ylabel(\"Count\")\n",
    "plt.show()\n"
   ]
  },
  {
   "cell_type": "code",
   "execution_count": 41,
   "id": "2042638b-e442-4693-9b8e-df218b568346",
   "metadata": {},
   "outputs": [
    {
     "data": {
      "image/png": "[encoded data removed]",
      "text/plain": [
       "<Figure size 2400x800 with 4 Axes>"
      ]
     },
     "metadata": {},
     "output_type": "display_data"
    }
   ],
   "source": [
    "# Create a single figure with subplots for the three visualizations\n",
    "fig, axes = plt.subplots(1, 3, figsize=(24, 8))\n",
    "\n",
    "# Plot 1: Top organisms\n",
    "top_organisms = df['organism'].value_counts()\n",
    "sns.barplot(ax=axes[0], x=top_organisms.values, y=top_organisms.index)\n",
    "axes[0].set_title(\"Organisms Frequency\")\n",
    "axes[0].set_xlabel(\"Count\")\n",
    "axes[0].set_ylabel(\"Organism\")\n",
    "\n",
    "# Plot 2: Top antibiotics\n",
    "top_antibiotics = df['antibiotic'].value_counts()\n",
    "sns.barplot(ax=axes[1], x=top_antibiotics.values, y=top_antibiotics.index)\n",
    "axes[1].set_title(\"Antibiotics Frequency\")\n",
    "axes[1].set_xlabel(\"Count\")\n",
    "axes[1].set_ylabel(\"Antibiotic\")\n",
    "\n",
    "# Plot 3: Heatmap of organism vs. antibiotic\n",
    "cross_tab = pd.crosstab(df['organism'], df['antibiotic'])\n",
    "top_organisms = df['organism'].value_counts().nlargest(10).index\n",
    "top_antibiotics = df['antibiotic'].value_counts().nlargest(10).index\n",
    "filtered_cross_tab = cross_tab.loc[top_organisms, top_antibiotics]\n",
    "\n",
    "sns.heatmap(filtered_cross_tab, ax=axes[2], annot=True, fmt=\"d\", cmap=\"YlGnBu\")\n",
    "axes[2].set_title(\"Organism vs Antibiotic\")\n",
    "axes[2].set_xlabel(\"Antibiotic\")\n",
    "axes[2].set_ylabel(\"Organism\")\n",
    "\n",
    "plt.tight_layout()\n",
    "plt.show()\n"
   ]
  },
  {
   "cell_type": "code",
   "execution_count": 14,
   "id": "bcc5013e-5f6f-4d92-a8ab-d6a678d2edff",
   "metadata": {},
   "outputs": [],
   "source": [
    "df['susceptibility'] = df['susceptibility'].map({\n",
    "    'Susceptible': 0,\n",
    "    'Resistant': 1,\n",
    "})"
   ]
  },
  {
   "cell_type": "code",
   "execution_count": 15,
   "id": "c01d753e-884b-4717-9c77-5eb37879541f",
   "metadata": {},
   "outputs": [
    {
     "name": "stdout",
     "output_type": "stream",
     "text": [
      "susceptibility\n",
      "0    20826\n",
      "1     5029\n",
      "Name: count, dtype: int64\n"
     ]
    }
   ],
   "source": [
    "print(df['susceptibility'].value_counts())\n"
   ]
  },
  {
   "cell_type": "code",
   "execution_count": 16,
   "id": "d851635e-0e47-454d-bc44-470df858085e",
   "metadata": {},
   "outputs": [],
   "source": [
    "df['susceptibility'] = df['susceptibility'].astype('Int8')"
   ]
  },
  {
   "cell_type": "code",
   "execution_count": 17,
   "id": "771c0717-11d1-4c26-ac78-2595e517d18c",
   "metadata": {},
   "outputs": [
    {
     "name": "stdout",
     "output_type": "stream",
     "text": [
      "<class 'pandas.core.frame.DataFrame'>\n",
      "Index: 25855 entries, 0 to 29626\n",
      "Data columns (total 10 columns):\n",
      " #   Column                   Non-Null Count  Dtype \n",
      "---  ------                   --------------  ----- \n",
      " 0   anon_id                  25855 non-null  object\n",
      " 1   pat_enc_csn_id_coded     25855 non-null  int64 \n",
      " 2   order_proc_id_coded      25855 non-null  int64 \n",
      " 3   order_time_jittered_utc  25855 non-null  object\n",
      " 4   ordering_mode            25140 non-null  object\n",
      " 5   culture_description      25855 non-null  object\n",
      " 6   was_positive             25855 non-null  Int64 \n",
      " 7   organism                 25855 non-null  object\n",
      " 8   antibiotic               25855 non-null  object\n",
      " 9   susceptibility           25855 non-null  Int8  \n",
      "dtypes: Int64(1), Int8(1), int64(2), object(6)\n",
      "memory usage: 2.0+ MB\n"
     ]
    }
   ],
   "source": [
    "df.info()"
   ]
  },
  {
   "cell_type": "code",
   "execution_count": 23,
   "id": "11a4d5e5-4b06-41d8-9e18-e5d9f97c4bb8",
   "metadata": {},
   "outputs": [
    {
     "data": {
      "text/plain": [
       "was_positive\n",
       "1    25855\n",
       "Name: count, dtype: Int64"
      ]
     },
     "execution_count": 23,
     "metadata": {},
     "output_type": "execute_result"
    }
   ],
   "source": [
    "df['was_positive'].value_counts()"
   ]
  },
  {
   "cell_type": "markdown",
   "id": "91bd92fb-3c1c-42c5-a67e-757a30b09184",
   "metadata": {},
   "source": [
    "I will Drop `was_positive` because:\n",
    "Every row is positive (was_positive == 1 for 100% of samples). So: It provides zero predictive power.\n",
    "\n",
    "So my final cleaned file should drop:\n",
    "- `ordering_mode` (procedural, not useful)\n",
    "- `culture_description` (likely redundant)\n",
    "- `was_positive` (constant, uninformative)\n",
    "\n"
   ]
  },
  {
   "cell_type": "code",
   "execution_count": 26,
   "id": "1833ab15-4a13-47cf-883c-1751ea05c69a",
   "metadata": {},
   "outputs": [],
   "source": [
    "df = df.drop(columns=['ordering_mode', 'culture_description', 'was_positive'])\n"
   ]
  },
  {
   "cell_type": "code",
   "execution_count": 28,
   "id": "51d357f6-f01c-4696-ae3e-8d0d86f454fa",
   "metadata": {},
   "outputs": [
    {
     "name": "stdout",
     "output_type": "stream",
     "text": [
      "<class 'pandas.core.frame.DataFrame'>\n",
      "Index: 25855 entries, 0 to 29626\n",
      "Data columns (total 7 columns):\n",
      " #   Column                   Non-Null Count  Dtype \n",
      "---  ------                   --------------  ----- \n",
      " 0   anon_id                  25855 non-null  object\n",
      " 1   pat_enc_csn_id_coded     25855 non-null  int64 \n",
      " 2   order_proc_id_coded      25855 non-null  int64 \n",
      " 3   order_time_jittered_utc  25855 non-null  object\n",
      " 4   organism                 25855 non-null  object\n",
      " 5   antibiotic               25855 non-null  object\n",
      " 6   susceptibility           25855 non-null  Int8  \n",
      "dtypes: Int8(1), int64(2), object(4)\n",
      "memory usage: 1.4+ MB\n"
     ]
    }
   ],
   "source": [
    "df.info()"
   ]
  },
  {
   "cell_type": "code",
   "execution_count": 30,
   "id": "72c0950a-bcae-45b2-8cb6-94bd6758ebe4",
   "metadata": {},
   "outputs": [
    {
     "data": {
      "text/plain": [
       "organism\n",
       "ESCHERICHIA COLI                        14134\n",
       "KLEBSIELLA PNEUMONIAE                    2193\n",
       "STAPHYLOCOCCUS AUREUS                    1573\n",
       "PROTEUS MIRABILIS                        1412\n",
       "ENTEROCOCCUS SPECIES                      983\n",
       "                                        ...  \n",
       "CORYNEBACTERIUM PSEUDODIPHTHERITICUM        4\n",
       "NOCARDIA TRANSVALENSIS                      4\n",
       "CLOSTRIDIUM PERFRINGENS                     4\n",
       "BACTEROIDES SPECIES                         3\n",
       "BETA STREPTOCOCCUS GROUP C                  3\n",
       "Name: count, Length: 87, dtype: int64"
      ]
     },
     "execution_count": 30,
     "metadata": {},
     "output_type": "execute_result"
    }
   ],
   "source": [
    "df['organism'].value_counts()"
   ]
  },
  {
   "cell_type": "markdown",
   "id": "5c842466-87d7-4712-beda-e84d409916b7",
   "metadata": {},
   "source": [
    "87 unique organisms!!\n",
    "Too many rare organisms (e.g., ≤10 cases) can:\n",
    "- Add noise\n",
    "- Cause overfitting\n",
    "- Make encoding sparse and inefficient"
   ]
  },
  {
   "cell_type": "markdown",
   "id": "4faffa43-74ff-4fde-b79e-d549f8edba5a",
   "metadata": {},
   "source": [
    "Group Rare Organisms\n",
    "Group all organisms with fewer than, say, 100 cases into `other`:"
   ]
  },
  {
   "cell_type": "code",
   "execution_count": 34,
   "id": "dcfce121-c0b4-4cdb-aa5b-e1d16b29081c",
   "metadata": {},
   "outputs": [],
   "source": [
    "organism_counts = df['organism'].value_counts()\n",
    "common_organisms = organism_counts[organism_counts >= 100].index\n",
    "\n",
    "df['organism'] = df['organism'].apply(lambda x: x if x in common_organisms else 'other')\n"
   ]
  },
  {
   "cell_type": "code",
   "execution_count": 36,
   "id": "8b237c06-5b1f-4b2d-bbae-72103455a65a",
   "metadata": {},
   "outputs": [
    {
     "data": {
      "text/plain": [
       "organism\n",
       "ESCHERICHIA COLI                      14134\n",
       "KLEBSIELLA PNEUMONIAE                  2193\n",
       "STAPHYLOCOCCUS AUREUS                  1573\n",
       "PROTEUS MIRABILIS                      1412\n",
       "other                                  1268\n",
       "ENTEROCOCCUS SPECIES                    983\n",
       "PSEUDOMONAS AERUGINOSA                  867\n",
       "ENTEROBACTER CLOACAE COMPLEX            480\n",
       "MUCOID PSEUDOMONAS AERUGINOSA           436\n",
       "COAG NEGATIVE STAPHYLOCOCCUS            368\n",
       "STAPH AUREUS {MRSA}                     296\n",
       "ACHROMOBACTER XYLOSOXIDANS              295\n",
       "KLEBSIELLA OXYTOCA                      235\n",
       "STREPTOCOCCUS AGALACTIAE (GROUP B)      219\n",
       "CITROBACTER KOSERI                      211\n",
       "CITROBACTER FREUNDII COMPLEX            193\n",
       "SERRATIA MARCESCENS                     191\n",
       "PROVIDENCIA RETTGERI                    189\n",
       "MORGANELLA MORGANII                     163\n",
       "ENTEROCOCCUS FAECALIS                   149\n",
       "Name: count, dtype: int64"
      ]
     },
     "execution_count": 36,
     "metadata": {},
     "output_type": "execute_result"
    }
   ],
   "source": [
    "df['organism'].value_counts()"
   ]
  },
  {
   "cell_type": "markdown",
   "id": "87df33d6-aa98-4fe7-9e52-d41baa48dcac",
   "metadata": {},
   "source": [
    "**Convert Categorical to Numeric for Modeling**"
   ]
  },
  {
   "cell_type": "code",
   "execution_count": 39,
   "id": "514f1b91-3f63-4db4-a1b7-ed034b5f032e",
   "metadata": {},
   "outputs": [],
   "source": [
    "df['organism'] = df['organism'].astype('category')\n",
    "df['organism'] = df['organism'].cat.codes\n"
   ]
  },
  {
   "cell_type": "code",
   "execution_count": 41,
   "id": "78fe2755-b751-49fa-8159-4ce0e9880165",
   "metadata": {},
   "outputs": [
    {
     "data": {
      "text/plain": [
       "organism\n",
       "7     14134\n",
       "9      2193\n",
       "17     1573\n",
       "12     1412\n",
       "19     1268\n",
       "6       983\n",
       "14      867\n",
       "4       480\n",
       "11      436\n",
       "3       368\n",
       "16      296\n",
       "0       295\n",
       "8       235\n",
       "18      219\n",
       "2       211\n",
       "1       193\n",
       "15      191\n",
       "13      189\n",
       "10      163\n",
       "5       149\n",
       "Name: count, dtype: int64"
      ]
     },
     "execution_count": 41,
     "metadata": {},
     "output_type": "execute_result"
    }
   ],
   "source": [
    "df['organism'].value_counts()"
   ]
  },
  {
   "cell_type": "code",
   "execution_count": 43,
   "id": "89dbed4e-026b-4197-9bd9-8b81fffc8b6a",
   "metadata": {},
   "outputs": [
    {
     "data": {
      "text/plain": [
       "antibiotic\n",
       "Ciprofloxacin                    1800\n",
       "Trimethoprim/Sulfamethoxazole    1772\n",
       "Gentamicin                       1768\n",
       "Levofloxacin                     1723\n",
       "Ampicillin                       1535\n",
       "Piperacillin/Tazobactam          1393\n",
       "Nitrofurantoin                   1378\n",
       "Cefazolin                        1360\n",
       "Ceftriaxone                      1177\n",
       "Meropenem                        1146\n",
       "Tetracycline                     1142\n",
       "Ceftazidime                      1138\n",
       "Amikacin                         1102\n",
       "Ertapenem                         926\n",
       "Tobramycin                        859\n",
       "Amoxicillin/Clavulanic Acid       834\n",
       "Cefoxitin                         745\n",
       "Cefepime                          606\n",
       "Vancomycin                        410\n",
       "Penicillin                        405\n",
       "Aztreonam                         365\n",
       "Clindamycin                       321\n",
       "Erythromycin                      318\n",
       "Ampicillin/Sulbactam              310\n",
       "Linezolid                         262\n",
       "Oxacillin                         233\n",
       "Moxifloxacin                      195\n",
       "Imipenem                          162\n",
       "Cefuroxime                         88\n",
       "Daptomycin                         68\n",
       "Piperacillin                       45\n",
       "Ceftolozane/Tazobactam             41\n",
       "Tigecycline                        36\n",
       "Ticarcillin                        32\n",
       "Fosfomycin                         26\n",
       "Doxycycline                        22\n",
       "Ceftazidime/Avibactam              21\n",
       "Doripenem                          14\n",
       "Cefotaxime                         12\n",
       "Imipenem/Ebactam                   11\n",
       "Clarithromycin                     10\n",
       "Cefotetan                          10\n",
       "Minocycline                         8\n",
       "Ceftaroline                         8\n",
       "Ticacarcillin/Clavulanic Acid       5\n",
       "Metronidazole                       4\n",
       "Cefiderocol                         3\n",
       "Quinupristin/Dalfopristin           3\n",
       "Cephalexin/Cephalothin              2\n",
       "Meropenem/Vaborbactam               1\n",
       "Name: count, dtype: int64"
      ]
     },
     "execution_count": 43,
     "metadata": {},
     "output_type": "execute_result"
    }
   ],
   "source": [
    "df['antibiotic'].value_counts()"
   ]
  },
  {
   "cell_type": "markdown",
   "id": "dcdd0060-7f1c-4caa-b7e7-931cc83d718c",
   "metadata": {},
   "source": [
    "**Strategy (Same as Organism)**\n",
    "\n",
    "Group rare antibiotics (less than 100 counts)"
   ]
  },
  {
   "cell_type": "code",
   "execution_count": 46,
   "id": "e94f9268-8819-4971-8868-d8f74713ebad",
   "metadata": {},
   "outputs": [],
   "source": [
    "\n",
    "antibiotic_counts = df['antibiotic'].value_counts()\n",
    "common_antibiotics = antibiotic_counts[antibiotic_counts >= 100].index\n",
    "\n",
    "df['antibiotic'] = df['antibiotic'].apply(lambda x: x if x in common_antibiotics else 'other')\n"
   ]
  },
  {
   "cell_type": "markdown",
   "id": "d0040ac5-07ea-4926-bfe8-db20eeeac931",
   "metadata": {},
   "source": [
    "**Convert to Category + Code**"
   ]
  },
  {
   "cell_type": "code",
   "execution_count": 49,
   "id": "c4428824-51ff-49a2-8a7f-9ded65e94a37",
   "metadata": {},
   "outputs": [],
   "source": [
    "df['antibiotic'] = df['antibiotic'].astype('category')\n",
    "df['antibiotic'] = df['antibiotic'].cat.codes\n"
   ]
  },
  {
   "cell_type": "code",
   "execution_count": 51,
   "id": "db687ae1-d873-459a-9f6a-51db4a6acb15",
   "metadata": {},
   "outputs": [
    {
     "name": "stdout",
     "output_type": "stream",
     "text": [
      "<class 'pandas.core.frame.DataFrame'>\n",
      "Index: 25855 entries, 0 to 29626\n",
      "Data columns (total 7 columns):\n",
      " #   Column                   Non-Null Count  Dtype \n",
      "---  ------                   --------------  ----- \n",
      " 0   anon_id                  25855 non-null  object\n",
      " 1   pat_enc_csn_id_coded     25855 non-null  int64 \n",
      " 2   order_proc_id_coded      25855 non-null  int64 \n",
      " 3   order_time_jittered_utc  25855 non-null  object\n",
      " 4   organism                 25855 non-null  int8  \n",
      " 5   antibiotic               25855 non-null  int8  \n",
      " 6   susceptibility           25855 non-null  Int8  \n",
      "dtypes: Int8(1), int64(2), int8(2), object(2)\n",
      "memory usage: 1.1+ MB\n"
     ]
    }
   ],
   "source": [
    "df.info()"
   ]
  },
  {
   "cell_type": "code",
   "execution_count": 53,
   "id": "029e26e2-24dc-463a-95e1-8a35ae392b24",
   "metadata": {},
   "outputs": [
    {
     "name": "stdout",
     "output_type": "stream",
     "text": [
      "The processed_cultures_cohort.parquet is saved :)\n"
     ]
    }
   ],
   "source": [
    "import os\n",
    "os.makedirs('new_sample_one_processed', exist_ok=True)\n",
    "df.to_parquet(\"new_sample_one_processed/processed_cultures_cohort.parquet\", index=False)\n",
    "print(f\"The processed_cultures_cohort.parquet is saved :)\")"
   ]
  },
  {
   "cell_type": "markdown",
   "id": "f4e491c9-a997-40a4-93be-4677f754c004",
   "metadata": {},
   "source": [
    "### check cultures_cohort.parquet"
   ]
  },
  {
   "cell_type": "code",
   "execution_count": 56,
   "id": "a723c51a-e5a2-469e-9d00-c7eac3e801f1",
   "metadata": {},
   "outputs": [
    {
     "name": "stdout",
     "output_type": "stream",
     "text": [
      "Shape: (25855, 7)\n",
      "# of patients: 997\n",
      "susceptibility\n",
      "0    20826\n",
      "1     5029\n",
      "Name: count, dtype: Int64\n"
     ]
    }
   ],
   "source": [
    "import pandas as pd\n",
    "\n",
    "df = pd.read_parquet(\"new_sample_one_processed/processed_cultures_cohort.parquet\")\n",
    "print(f'Shape: {df.shape}')\n",
    "print(f\"# of patients: {df['anon_id'].unique().size}\")\n",
    "print(df['susceptibility'].value_counts())"
   ]
  },
  {
   "cell_type": "code",
   "execution_count": 58,
   "id": "b7589d7e-3b6f-49fd-b014-682c378cb131",
   "metadata": {},
   "outputs": [
    {
     "name": "stdout",
     "output_type": "stream",
     "text": [
      "<class 'pandas.core.frame.DataFrame'>\n",
      "RangeIndex: 25855 entries, 0 to 25854\n",
      "Data columns (total 7 columns):\n",
      " #   Column                   Non-Null Count  Dtype \n",
      "---  ------                   --------------  ----- \n",
      " 0   anon_id                  25855 non-null  object\n",
      " 1   pat_enc_csn_id_coded     25855 non-null  int64 \n",
      " 2   order_proc_id_coded      25855 non-null  int64 \n",
      " 3   order_time_jittered_utc  25855 non-null  object\n",
      " 4   organism                 25855 non-null  int8  \n",
      " 5   antibiotic               25855 non-null  int8  \n",
      " 6   susceptibility           25855 non-null  Int8  \n",
      "dtypes: Int8(1), int64(2), int8(2), object(2)\n",
      "memory usage: 909.1+ KB\n"
     ]
    }
   ],
   "source": [
    "df.info()"
   ]
  },
  {
   "cell_type": "markdown",
   "id": "e6119546-4b26-45a0-ae00-0e04a44a7fbd",
   "metadata": {},
   "source": [
    "## cultures_vitals.parquet file preparing"
   ]
  },
  {
   "cell_type": "markdown",
   "id": "b009c05d-e557-4c46-8273-f588428799e7",
   "metadata": {},
   "source": [
    "Processing for `cultures_vitals.parquet`:\n",
    "My `cultures_vitals.parquet` not have a timestamp column at all:\n",
    "That means this file (`cultures_vitals.parquet`) already contains aggregated features (e.g., `median`/`first`/`last` only) — not raw time-stamped vitals. So In this case i will:\n",
    "- Keep cols: `median`, `first`, and `last` values for each vital sign.\n",
    "- Compute the Delta features: the change between `first` and `last` (e.g., `delta_heartrate`), capturing the trend over time.\n",
    "\n",
    "The resulting dataset will contain one row per patient with informative, time-aware features that can help predict antibiotic resistance."
   ]
  },
  {
   "cell_type": "code",
   "execution_count": 41,
   "id": "e5cb94ab-0b0f-42ad-8bad-dcd3a39b5cfd",
   "metadata": {},
   "outputs": [
    {
     "name": "stdout",
     "output_type": "stream",
     "text": [
      "Index(['anon_id', 'pat_enc_csn_id_coded', 'order_proc_id_coded',\n",
      "       'Q25_heartrate', 'Q75_heartrate', 'median_heartrate', 'Q25_resprate',\n",
      "       'Q75_resprate', 'median_resprate', 'Q25_temp', 'Q75_temp',\n",
      "       'median_temp', 'Q25_sysbp', 'Q75_sysbp', 'median_sysbp', 'Q25_diasbp',\n",
      "       'Q75_diasbp', 'median_diasbp', 'first_diasbp', 'last_diasbp',\n",
      "       'last_sysbp', 'first_sysbp', 'last_temp', 'first_temp', 'last_resprate',\n",
      "       'first_resprate', 'last_heartrate', 'first_heartrate'],\n",
      "      dtype='object')\n",
      "(21809, 28)\n"
     ]
    }
   ],
   "source": [
    "sample_folder = 'new_sample_one/'\n",
    "\n",
    "vitals = pd.read_parquet(sample_folder + \"cultures_vitals.parquet\")\n",
    "\n",
    "print(vitals.columns)\n",
    "print(vitals.shape)"
   ]
  },
  {
   "cell_type": "code",
   "execution_count": 43,
   "id": "fd8a9997-26a2-4b48-a5ac-ba895b90279b",
   "metadata": {},
   "outputs": [],
   "source": [
    "import pandas as pd\n",
    "\n",
    "vitals_cols = [\n",
    "    'anon_id', 'pat_enc_csn_id_coded', 'order_proc_id_coded',\n",
    "    'median_heartrate', 'first_heartrate', 'last_heartrate',\n",
    "    'median_resprate', 'first_resprate', 'last_resprate',\n",
    "    'median_temp', 'first_temp', 'last_temp',\n",
    "    'median_sysbp', 'first_sysbp', 'last_sysbp',\n",
    "    'median_diasbp', 'first_diasbp', 'last_diasbp'\n",
    "]\n",
    "\n",
    "vitals[vitals_cols[3:]] = vitals[vitals_cols[3:]].apply(pd.to_numeric, errors='coerce')\n",
    "\n",
    "vitals = vitals[vitals_cols]\n",
    "\n",
    "vital_signs = ['heartrate', 'resprate', 'temp', 'sysbp', 'diasbp']\n",
    "\n",
    "for v in vital_signs:\n",
    "    first_col = f'first_{v}'\n",
    "    last_col = f'last_{v}'\n",
    "    delta_col = f'delta_{v}'\n",
    "    vitals[delta_col] = vitals[last_col] - vitals[first_col]\n"
   ]
  },
  {
   "cell_type": "code",
   "execution_count": 45,
   "id": "026ca341-9359-497f-9500-309cd2ef1beb",
   "metadata": {},
   "outputs": [
    {
     "name": "stdout",
     "output_type": "stream",
     "text": [
      "<class 'pandas.core.frame.DataFrame'>\n",
      "RangeIndex: 21809 entries, 0 to 21808\n",
      "Data columns (total 23 columns):\n",
      " #   Column                Non-Null Count  Dtype  \n",
      "---  ------                --------------  -----  \n",
      " 0   anon_id               21809 non-null  object \n",
      " 1   pat_enc_csn_id_coded  21809 non-null  int64  \n",
      " 2   order_proc_id_coded   21809 non-null  int64  \n",
      " 3   median_heartrate      21777 non-null  float64\n",
      " 4   first_heartrate       7224 non-null   float64\n",
      " 5   last_heartrate        8467 non-null   float64\n",
      " 6   median_resprate       21013 non-null  float64\n",
      " 7   first_resprate        5678 non-null   float64\n",
      " 8   last_resprate         4452 non-null   float64\n",
      " 9   median_temp           21457 non-null  float64\n",
      " 10  first_temp            4456 non-null   float64\n",
      " 11  last_temp             2715 non-null   float64\n",
      " 12  median_sysbp          21428 non-null  float32\n",
      " 13  first_sysbp           4451 non-null   float64\n",
      " 14  last_sysbp            6175 non-null   float64\n",
      " 15  median_diasbp         21427 non-null  float32\n",
      " 16  first_diasbp          4450 non-null   float64\n",
      " 17  last_diasbp           6156 non-null   float64\n",
      " 18  delta_heartrate       2680 non-null   float64\n",
      " 19  delta_resprate        1124 non-null   float64\n",
      " 20  delta_temp            429 non-null    float64\n",
      " 21  delta_sysbp           1049 non-null   float64\n",
      " 22  delta_diasbp          1047 non-null   float64\n",
      "dtypes: float32(2), float64(18), int64(2), object(1)\n",
      "memory usage: 3.7+ MB\n"
     ]
    }
   ],
   "source": [
    "vitals.info()"
   ]
  },
  {
   "cell_type": "markdown",
   "id": "3c2e5ed5-48b5-4921-a0d5-52ef439e9d86",
   "metadata": {},
   "source": [
    "My vitals data is sparse — for many patients, the first and/or last readings weren't available in the 7-day window.\n",
    "\n",
    "Using delta features alone may drastically reduce my sample size during modeling or training.\n",
    "\n",
    "So i will keep rows where i have at least one usable delta - and avoid dropping too much data."
   ]
  },
  {
   "cell_type": "code",
   "execution_count": 48,
   "id": "7bdedc12-7bd5-4af3-9edc-b52a59db7378",
   "metadata": {},
   "outputs": [
    {
     "name": "stdout",
     "output_type": "stream",
     "text": [
      "(5282, 13)\n"
     ]
    }
   ],
   "source": [
    "vital_signs = ['heartrate', 'resprate', 'temp', 'sysbp', 'diasbp']\n",
    "\n",
    "conditions = [\n",
    "    vitals[f'first_{v}'].notna() & vitals[f'last_{v}'].notna()\n",
    "    for v in vital_signs\n",
    "]\n",
    "\n",
    "condition = conditions[0]\n",
    "for cond in conditions[1:]:\n",
    "    condition |= cond\n",
    "\n",
    "vitals = vitals[condition].copy()\n",
    "\n",
    "drop_cols = [f'first_{v}' for v in vital_signs] + [f'last_{v}' for v in vital_signs]\n",
    "vitals.drop(columns=drop_cols, inplace=True)\n",
    "\n",
    "print(vitals.shape)\n"
   ]
  },
  {
   "cell_type": "code",
   "execution_count": 50,
   "id": "115c1543-1a4a-43aa-8268-4a2dfe7235a3",
   "metadata": {},
   "outputs": [
    {
     "name": "stdout",
     "output_type": "stream",
     "text": [
      "<class 'pandas.core.frame.DataFrame'>\n",
      "Index: 5282 entries, 2 to 21807\n",
      "Data columns (total 13 columns):\n",
      " #   Column                Non-Null Count  Dtype  \n",
      "---  ------                --------------  -----  \n",
      " 0   anon_id               5282 non-null   object \n",
      " 1   pat_enc_csn_id_coded  5282 non-null   int64  \n",
      " 2   order_proc_id_coded   5282 non-null   int64  \n",
      " 3   median_heartrate      5267 non-null   float64\n",
      " 4   median_resprate       5219 non-null   float64\n",
      " 5   median_temp           5240 non-null   float64\n",
      " 6   median_sysbp          5120 non-null   float32\n",
      " 7   median_diasbp         5120 non-null   float32\n",
      " 8   delta_heartrate       2680 non-null   float64\n",
      " 9   delta_resprate        1124 non-null   float64\n",
      " 10  delta_temp            429 non-null    float64\n",
      " 11  delta_sysbp           1049 non-null   float64\n",
      " 12  delta_diasbp          1047 non-null   float64\n",
      "dtypes: float32(2), float64(8), int64(2), object(1)\n",
      "memory usage: 536.5+ KB\n"
     ]
    }
   ],
   "source": [
    "vitals.info()"
   ]
  },
  {
   "cell_type": "code",
   "execution_count": 52,
   "id": "57c1333d-0273-4c5f-9c14-a4370eda415c",
   "metadata": {},
   "outputs": [
    {
     "name": "stdout",
     "output_type": "stream",
     "text": [
      "The processed_cultures_vitals.parquet is saved :)\n"
     ]
    }
   ],
   "source": [
    "vitals.to_parquet(\"new_sample_one_processed/processed_cultures_vitals.parquet\", index=False)\n",
    "print(f\"The processed_cultures_vitals.parquet is saved :)\")"
   ]
  },
  {
   "cell_type": "code",
   "execution_count": 54,
   "id": "852f3abc-dfa5-4956-9467-471efc656bd1",
   "metadata": {},
   "outputs": [
    {
     "name": "stdout",
     "output_type": "stream",
     "text": [
      "<class 'pandas.core.frame.DataFrame'>\n",
      "Index: 5282 entries, 2 to 21807\n",
      "Data columns (total 13 columns):\n",
      " #   Column                Non-Null Count  Dtype  \n",
      "---  ------                --------------  -----  \n",
      " 0   anon_id               5282 non-null   object \n",
      " 1   pat_enc_csn_id_coded  5282 non-null   int64  \n",
      " 2   order_proc_id_coded   5282 non-null   int64  \n",
      " 3   median_heartrate      5267 non-null   float64\n",
      " 4   median_resprate       5219 non-null   float64\n",
      " 5   median_temp           5240 non-null   float64\n",
      " 6   median_sysbp          5120 non-null   float32\n",
      " 7   median_diasbp         5120 non-null   float32\n",
      " 8   delta_heartrate       2680 non-null   float64\n",
      " 9   delta_resprate        1124 non-null   float64\n",
      " 10  delta_temp            429 non-null    float64\n",
      " 11  delta_sysbp           1049 non-null   float64\n",
      " 12  delta_diasbp          1047 non-null   float64\n",
      "dtypes: float32(2), float64(8), int64(2), object(1)\n",
      "memory usage: 536.5+ KB\n"
     ]
    }
   ],
   "source": [
    "vitals.info()"
   ]
  },
  {
   "cell_type": "markdown",
   "id": "d37e8348-e60a-4273-8ebb-c537633ff237",
   "metadata": {},
   "source": [
    "## check cultures_vitals.parquet file"
   ]
  },
  {
   "cell_type": "code",
   "execution_count": 57,
   "id": "dac3b9dd-b980-4d58-8cef-858317ece4e1",
   "metadata": {},
   "outputs": [
    {
     "name": "stdout",
     "output_type": "stream",
     "text": [
      "<class 'pandas.core.frame.DataFrame'>\n",
      "RangeIndex: 5282 entries, 0 to 5281\n",
      "Data columns (total 13 columns):\n",
      " #   Column                Non-Null Count  Dtype  \n",
      "---  ------                --------------  -----  \n",
      " 0   anon_id               5282 non-null   object \n",
      " 1   pat_enc_csn_id_coded  5282 non-null   int64  \n",
      " 2   order_proc_id_coded   5282 non-null   int64  \n",
      " 3   median_heartrate      5267 non-null   float64\n",
      " 4   median_resprate       5219 non-null   float64\n",
      " 5   median_temp           5240 non-null   float64\n",
      " 6   median_sysbp          5120 non-null   float32\n",
      " 7   median_diasbp         5120 non-null   float32\n",
      " 8   delta_heartrate       2680 non-null   float64\n",
      " 9   delta_resprate        1124 non-null   float64\n",
      " 10  delta_temp            429 non-null    float64\n",
      " 11  delta_sysbp           1049 non-null   float64\n",
      " 12  delta_diasbp          1047 non-null   float64\n",
      "dtypes: float32(2), float64(8), int64(2), object(1)\n",
      "memory usage: 495.3+ KB\n"
     ]
    }
   ],
   "source": [
    "\n",
    "vitals = pd.read_parquet(\"new_sample_one_processed/processed_cultures_vitals.parquet\")\n",
    "vitals.info()"
   ]
  },
  {
   "cell_type": "markdown",
   "id": "e82138ee-685a-49fc-8923-4e357f227f06",
   "metadata": {},
   "source": [
    "## cultures_labs.parquet file preparing"
   ]
  },
  {
   "cell_type": "code",
   "execution_count": 101,
   "id": "59e217d3-5954-4bfe-b85f-b61a66632e36",
   "metadata": {},
   "outputs": [],
   "source": [
    "import pandas as pd\n",
    "\n",
    "sample_folder = 'new_sample_one/'\n",
    "labs = pd.read_parquet(sample_folder + \"cultures_labs.parquet\")\n"
   ]
  },
  {
   "cell_type": "code",
   "execution_count": 103,
   "id": "221ccb92-6413-4ff5-9af8-a9f2f7dc6f97",
   "metadata": {},
   "outputs": [
    {
     "name": "stdout",
     "output_type": "stream",
     "text": [
      "Shape: (8655, 59)\n",
      "Columns:\n",
      " Index(['anon_id', 'pat_enc_csn_id_coded', 'order_proc_id_coded', 'Period_Day',\n",
      "       'Q75_wbc', 'Q25_wbc', 'median_wbc', 'Q25_neutrophils',\n",
      "       'Q75_neutrophils', 'median_neutrophils', 'Q25_lymphocytes',\n",
      "       'Q75_lymphocytes', 'median_lymphocytes', 'Q25_hgb', 'Q75_hgb',\n",
      "       'median_hgb', 'Q25_plt', 'Q75_plt', 'median_plt', 'Q75_na', 'Q25_na',\n",
      "       'median_na', 'Q75_hco3', 'Q25_hco3', 'median_hco3', 'Q75_bun',\n",
      "       'Q25_bun', 'median_bun', 'Q75_cr', 'Q25_cr', 'median_cr', 'Q75_lactate',\n",
      "       'Q25_lactate', 'median_lactate', 'Q75_procalcitonin',\n",
      "       'Q25_procalcitonin', 'median_procalcitonin', 'first_procalcitonin',\n",
      "       'last_procalcitonin', 'last_lactate', 'first_lactate', 'last_cr',\n",
      "       'first_cr', 'last_bun', 'first_bun', 'last_hco3', 'first_hco3',\n",
      "       'last_na', 'first_na', 'last_plt', 'first_plt', 'last_hgb', 'first_hgb',\n",
      "       'last_lymphocytes', 'first_lymphocytes', 'last_neutrophils',\n",
      "       'first_neutrophils', 'last_wbc', 'first_wbc'],\n",
      "      dtype='object')\n"
     ]
    }
   ],
   "source": [
    "print(f\"Shape: {labs.shape}\")\n",
    "print(\"Columns:\\n\", labs.columns)"
   ]
  },
  {
   "cell_type": "code",
   "execution_count": 105,
   "id": "1683b911-4e1b-4ccc-86bf-cea32445babb",
   "metadata": {},
   "outputs": [
    {
     "data": {
      "text/html": [
       "<div>\n",
       "<style scoped>\n",
       "    .dataframe tbody tr th:only-of-type {\n",
       "        vertical-align: middle;\n",
       "    }\n",
       "\n",
       "    .dataframe tbody tr th {\n",
       "        vertical-align: top;\n",
       "    }\n",
       "\n",
       "    .dataframe thead th {\n",
       "        text-align: right;\n",
       "    }\n",
       "</style>\n",
       "<table border=\"1\" class=\"dataframe\">\n",
       "  <thead>\n",
       "    <tr style=\"text-align: right;\">\n",
       "      <th></th>\n",
       "      <th>anon_id</th>\n",
       "      <th>pat_enc_csn_id_coded</th>\n",
       "      <th>order_proc_id_coded</th>\n",
       "      <th>Period_Day</th>\n",
       "      <th>Q75_wbc</th>\n",
       "      <th>Q25_wbc</th>\n",
       "      <th>median_wbc</th>\n",
       "      <th>Q25_neutrophils</th>\n",
       "      <th>Q75_neutrophils</th>\n",
       "      <th>median_neutrophils</th>\n",
       "      <th>...</th>\n",
       "      <th>last_plt</th>\n",
       "      <th>first_plt</th>\n",
       "      <th>last_hgb</th>\n",
       "      <th>first_hgb</th>\n",
       "      <th>last_lymphocytes</th>\n",
       "      <th>first_lymphocytes</th>\n",
       "      <th>last_neutrophils</th>\n",
       "      <th>first_neutrophils</th>\n",
       "      <th>last_wbc</th>\n",
       "      <th>first_wbc</th>\n",
       "    </tr>\n",
       "  </thead>\n",
       "  <tbody>\n",
       "    <tr>\n",
       "      <th>0</th>\n",
       "      <td>JC1044165</td>\n",
       "      <td>131368594903</td>\n",
       "      <td>928221503</td>\n",
       "      <td>14</td>\n",
       "      <td>None</td>\n",
       "      <td>None</td>\n",
       "      <td>None</td>\n",
       "      <td>NaN</td>\n",
       "      <td>NaN</td>\n",
       "      <td>NaN</td>\n",
       "      <td>...</td>\n",
       "      <td>None</td>\n",
       "      <td>None</td>\n",
       "      <td>None</td>\n",
       "      <td>None</td>\n",
       "      <td>None</td>\n",
       "      <td>None</td>\n",
       "      <td>None</td>\n",
       "      <td>None</td>\n",
       "      <td>None</td>\n",
       "      <td>None</td>\n",
       "    </tr>\n",
       "    <tr>\n",
       "      <th>1</th>\n",
       "      <td>JC2049852</td>\n",
       "      <td>131367083789</td>\n",
       "      <td>922422294</td>\n",
       "      <td>14</td>\n",
       "      <td>None</td>\n",
       "      <td>None</td>\n",
       "      <td>None</td>\n",
       "      <td>NaN</td>\n",
       "      <td>NaN</td>\n",
       "      <td>NaN</td>\n",
       "      <td>...</td>\n",
       "      <td>None</td>\n",
       "      <td>None</td>\n",
       "      <td>None</td>\n",
       "      <td>None</td>\n",
       "      <td>None</td>\n",
       "      <td>None</td>\n",
       "      <td>None</td>\n",
       "      <td>None</td>\n",
       "      <td>None</td>\n",
       "      <td>None</td>\n",
       "    </tr>\n",
       "    <tr>\n",
       "      <th>2</th>\n",
       "      <td>JC679507</td>\n",
       "      <td>131007220411</td>\n",
       "      <td>358532443</td>\n",
       "      <td>14</td>\n",
       "      <td>None</td>\n",
       "      <td>None</td>\n",
       "      <td>None</td>\n",
       "      <td>NaN</td>\n",
       "      <td>NaN</td>\n",
       "      <td>NaN</td>\n",
       "      <td>...</td>\n",
       "      <td>None</td>\n",
       "      <td>None</td>\n",
       "      <td>None</td>\n",
       "      <td>None</td>\n",
       "      <td>None</td>\n",
       "      <td>None</td>\n",
       "      <td>None</td>\n",
       "      <td>None</td>\n",
       "      <td>None</td>\n",
       "      <td>None</td>\n",
       "    </tr>\n",
       "    <tr>\n",
       "      <th>3</th>\n",
       "      <td>JC1072936</td>\n",
       "      <td>131243315393</td>\n",
       "      <td>546789757</td>\n",
       "      <td>14</td>\n",
       "      <td>None</td>\n",
       "      <td>None</td>\n",
       "      <td>None</td>\n",
       "      <td>NaN</td>\n",
       "      <td>NaN</td>\n",
       "      <td>NaN</td>\n",
       "      <td>...</td>\n",
       "      <td>None</td>\n",
       "      <td>None</td>\n",
       "      <td>None</td>\n",
       "      <td>None</td>\n",
       "      <td>None</td>\n",
       "      <td>None</td>\n",
       "      <td>None</td>\n",
       "      <td>None</td>\n",
       "      <td>None</td>\n",
       "      <td>None</td>\n",
       "    </tr>\n",
       "    <tr>\n",
       "      <th>4</th>\n",
       "      <td>JC973259</td>\n",
       "      <td>131013249372</td>\n",
       "      <td>382333782</td>\n",
       "      <td>14</td>\n",
       "      <td>None</td>\n",
       "      <td>None</td>\n",
       "      <td>None</td>\n",
       "      <td>NaN</td>\n",
       "      <td>NaN</td>\n",
       "      <td>NaN</td>\n",
       "      <td>...</td>\n",
       "      <td>None</td>\n",
       "      <td>None</td>\n",
       "      <td>None</td>\n",
       "      <td>None</td>\n",
       "      <td>None</td>\n",
       "      <td>None</td>\n",
       "      <td>None</td>\n",
       "      <td>None</td>\n",
       "      <td>None</td>\n",
       "      <td>None</td>\n",
       "    </tr>\n",
       "  </tbody>\n",
       "</table>\n",
       "<p>5 rows × 59 columns</p>\n",
       "</div>"
      ],
      "text/plain": [
       "     anon_id  pat_enc_csn_id_coded  order_proc_id_coded  Period_Day Q75_wbc  \\\n",
       "0  JC1044165          131368594903            928221503          14    None   \n",
       "1  JC2049852          131367083789            922422294          14    None   \n",
       "2   JC679507          131007220411            358532443          14    None   \n",
       "3  JC1072936          131243315393            546789757          14    None   \n",
       "4   JC973259          131013249372            382333782          14    None   \n",
       "\n",
       "  Q25_wbc median_wbc  Q25_neutrophils  Q75_neutrophils  median_neutrophils  \\\n",
       "0    None       None              NaN              NaN                 NaN   \n",
       "1    None       None              NaN              NaN                 NaN   \n",
       "2    None       None              NaN              NaN                 NaN   \n",
       "3    None       None              NaN              NaN                 NaN   \n",
       "4    None       None              NaN              NaN                 NaN   \n",
       "\n",
       "   ...  last_plt  first_plt  last_hgb first_hgb last_lymphocytes  \\\n",
       "0  ...      None       None      None      None             None   \n",
       "1  ...      None       None      None      None             None   \n",
       "2  ...      None       None      None      None             None   \n",
       "3  ...      None       None      None      None             None   \n",
       "4  ...      None       None      None      None             None   \n",
       "\n",
       "  first_lymphocytes last_neutrophils first_neutrophils last_wbc first_wbc  \n",
       "0              None             None              None     None      None  \n",
       "1              None             None              None     None      None  \n",
       "2              None             None              None     None      None  \n",
       "3              None             None              None     None      None  \n",
       "4              None             None              None     None      None  \n",
       "\n",
       "[5 rows x 59 columns]"
      ]
     },
     "execution_count": 105,
     "metadata": {},
     "output_type": "execute_result"
    }
   ],
   "source": [
    "labs.head()"
   ]
  },
  {
   "cell_type": "code",
   "execution_count": 107,
   "id": "540d467e-9c40-4093-b9c0-d3e247ebd9a3",
   "metadata": {},
   "outputs": [
    {
     "name": "stdout",
     "output_type": "stream",
     "text": [
      "<class 'pandas.core.frame.DataFrame'>\n",
      "RangeIndex: 8655 entries, 0 to 8654\n",
      "Data columns (total 59 columns):\n",
      " #   Column                Non-Null Count  Dtype  \n",
      "---  ------                --------------  -----  \n",
      " 0   anon_id               8655 non-null   object \n",
      " 1   pat_enc_csn_id_coded  8655 non-null   int64  \n",
      " 2   order_proc_id_coded   8655 non-null   int64  \n",
      " 3   Period_Day            8655 non-null   Int64  \n",
      " 4   Q75_wbc               8481 non-null   object \n",
      " 5   Q25_wbc               8481 non-null   object \n",
      " 6   median_wbc            8481 non-null   object \n",
      " 7   Q25_neutrophils       2367 non-null   float32\n",
      " 8   Q75_neutrophils       2367 non-null   float32\n",
      " 9   median_neutrophils    2367 non-null   float32\n",
      " 10  Q25_lymphocytes       2385 non-null   float32\n",
      " 11  Q75_lymphocytes       2385 non-null   float32\n",
      " 12  median_lymphocytes    2385 non-null   float32\n",
      " 13  Q25_hgb               8489 non-null   object \n",
      " 14  Q75_hgb               8489 non-null   object \n",
      " 15  median_hgb            8489 non-null   object \n",
      " 16  Q25_plt               8475 non-null   object \n",
      " 17  Q75_plt               8475 non-null   object \n",
      " 18  median_plt            8475 non-null   object \n",
      " 19  Q75_na                8395 non-null   object \n",
      " 20  Q25_na                8395 non-null   object \n",
      " 21  median_na             8395 non-null   object \n",
      " 22  Q75_hco3              8438 non-null   object \n",
      " 23  Q25_hco3              8438 non-null   object \n",
      " 24  median_hco3           8438 non-null   object \n",
      " 25  Q75_bun               8418 non-null   object \n",
      " 26  Q25_bun               8418 non-null   object \n",
      " 27  median_bun            8418 non-null   object \n",
      " 28  Q75_cr                8485 non-null   object \n",
      " 29  Q25_cr                8485 non-null   object \n",
      " 30  median_cr             8485 non-null   object \n",
      " 31  Q75_lactate           3452 non-null   object \n",
      " 32  Q25_lactate           3452 non-null   object \n",
      " 33  median_lactate        3452 non-null   object \n",
      " 34  Q75_procalcitonin     782 non-null    object \n",
      " 35  Q25_procalcitonin     782 non-null    object \n",
      " 36  median_procalcitonin  782 non-null    object \n",
      " 37  first_procalcitonin   12 non-null     object \n",
      " 38  last_procalcitonin    51 non-null     object \n",
      " 39  last_lactate          475 non-null    float64\n",
      " 40  first_lactate         95 non-null     object \n",
      " 41  last_cr               692 non-null    object \n",
      " 42  first_cr              1738 non-null   object \n",
      " 43  last_bun              723 non-null    object \n",
      " 44  first_bun             1570 non-null   object \n",
      " 45  last_hco3             836 non-null    object \n",
      " 46  first_hco3            1528 non-null   object \n",
      " 47  last_na               760 non-null    object \n",
      " 48  first_na              1729 non-null   object \n",
      " 49  last_plt              330 non-null    object \n",
      " 50  first_plt             158 non-null    object \n",
      " 51  last_hgb              330 non-null    object \n",
      " 52  first_hgb             158 non-null    object \n",
      " 53  last_lymphocytes      330 non-null    object \n",
      " 54  first_lymphocytes     158 non-null    object \n",
      " 55  last_neutrophils      330 non-null    object \n",
      " 56  first_neutrophils     158 non-null    object \n",
      " 57  last_wbc              3003 non-null   object \n",
      " 58  first_wbc             826 non-null    object \n",
      "dtypes: Int64(1), float32(6), float64(1), int64(2), object(49)\n",
      "memory usage: 3.7+ MB\n"
     ]
    }
   ],
   "source": [
    "labs.info()"
   ]
  },
  {
   "cell_type": "markdown",
   "id": "885ec4ad-b554-4125-bdd1-733373939cff",
   "metadata": {},
   "source": [
    "\n",
    "I will select a meaningful subset of labs:\n",
    "\n",
    "- `Median` values (central tendency)\n",
    "- Delta (`last` - `first`) when both are present\n",
    "\n",
    "Convert object columns to numeric\n",
    "Calculate delta values like we did for vitals\n",
    "Drop first_ and last_, keep only delta_ and median_\n",
    "\n",
    "- I will drop those cols because data `first_*` and `last_*` values are often sparse (e.g., `first_procalcitonin` has only 12 values) + reducing redundancy and dimensionalities + preventing data leakage."
   ]
  },
  {
   "cell_type": "code",
   "execution_count": 110,
   "id": "d0b3c837-fe14-4146-9fcb-2d501cdc21e7",
   "metadata": {},
   "outputs": [
    {
     "name": "stdout",
     "output_type": "stream",
     "text": [
      "<class 'pandas.core.frame.DataFrame'>\n",
      "RangeIndex: 8655 entries, 0 to 8654\n",
      "Data columns (total 25 columns):\n",
      " #   Column                Non-Null Count  Dtype  \n",
      "---  ------                --------------  -----  \n",
      " 0   anon_id               8655 non-null   object \n",
      " 1   pat_enc_csn_id_coded  8655 non-null   int64  \n",
      " 2   order_proc_id_coded   8655 non-null   int64  \n",
      " 3   median_wbc            8481 non-null   float64\n",
      " 4   median_neutrophils    2367 non-null   float32\n",
      " 5   median_lymphocytes    2385 non-null   float32\n",
      " 6   median_hgb            8489 non-null   float64\n",
      " 7   median_plt            8475 non-null   float64\n",
      " 8   median_na             8395 non-null   float64\n",
      " 9   median_hco3           8438 non-null   float64\n",
      " 10  median_bun            8418 non-null   float64\n",
      " 11  median_cr             8485 non-null   float64\n",
      " 12  median_lactate        3452 non-null   float64\n",
      " 13  median_procalcitonin  782 non-null    float64\n",
      " 14  delta_wbc             647 non-null    float64\n",
      " 15  delta_neutrophils     0 non-null      float64\n",
      " 16  delta_lymphocytes     0 non-null      float64\n",
      " 17  delta_hgb             0 non-null      float64\n",
      " 18  delta_plt             0 non-null      float64\n",
      " 19  delta_na              141 non-null    float64\n",
      " 20  delta_hco3            100 non-null    float64\n",
      " 21  delta_bun             113 non-null    float64\n",
      " 22  delta_cr              128 non-null    float64\n",
      " 23  delta_lactate         7 non-null      float64\n",
      " 24  delta_procalcitonin   0 non-null      float64\n",
      "dtypes: float32(2), float64(20), int64(2), object(1)\n",
      "memory usage: 1.6+ MB\n",
      "None\n"
     ]
    }
   ],
   "source": [
    "import pandas as pd\n",
    "\n",
    "sample_folder = 'new_sample_one/'\n",
    "labs = pd.read_parquet(sample_folder + \"cultures_labs.parquet\")\n",
    "\n",
    "labs_cols_base = [\n",
    "    'anon_id', 'pat_enc_csn_id_coded', 'order_proc_id_coded'\n",
    "]\n",
    "\n",
    "labs_vars = ['wbc', 'neutrophils', 'lymphocytes', 'hgb', 'plt', 'na', 'hco3', 'bun', 'cr', 'lactate', 'procalcitonin']\n",
    "\n",
    "median_cols = [f'median_{var}' for var in labs_vars]\n",
    "first_cols = [f'first_{var}' for var in labs_vars]\n",
    "last_cols = [f'last_{var}' for var in labs_vars]\n",
    "\n",
    "labs = labs[labs_cols_base + median_cols + first_cols + last_cols]\n",
    "\n",
    "for col in median_cols + first_cols + last_cols:\n",
    "    labs[col] = pd.to_numeric(labs[col], errors='coerce')\n",
    "\n",
    "for var in labs_vars:\n",
    "    first = labs[f'first_{var}']\n",
    "    last = labs[f'last_{var}']\n",
    "    labs[f'delta_{var}'] = last - first\n",
    "    labs.loc[first.isna() | last.isna(), f'delta_{var}'] = pd.NA\n",
    "\n",
    "labs_final = labs[labs_cols_base + median_cols + [f'delta_{var}' for var in labs_vars]]\n",
    "labs_final = labs_final.dropna(subset=median_cols + [f'delta_{var}' for var in labs_vars], how='all')\n",
    "\n",
    "print(labs_final.info())\n"
   ]
  },
  {
   "cell_type": "markdown",
   "id": "dd6dafde-ca75-40f4-b00d-c60080c5faca",
   "metadata": {},
   "source": [
    "OMG extremely sparse - Yarab maysabib mashakel ba3den:)\n",
    "- 13 `median_*` features — good overall coverage\n",
    "- 12 `delta_*` features — most are extremely sparse or entirely missing (TT_TT).\n",
    "\n",
    "| Feature                             | Non-null Count | Notes                          |\n",
    "|-------------------------------------|----------------|--------------------------------|\n",
    "| `delta_wbc`                         | 647            | Usable, but <10% of rows       |\n",
    "| `delta_na`, `delta_cr`, `delta_bun`| 100–140        | Marginally usable              |\n",
    "| `delta_lactate`                     | 7              | Nearly unusable                |\n",
    "| `delta_procalcitonin`, `delta_hgb`, etc. | 0              | Unusable (no data available)   |\n",
    "\n",
    "\n",
    "### What This Implies\n",
    "\n",
    "- **`median_*` features are solid** — they cover most rows and summarize central trends well.\n",
    "\n",
    "- **Most `delta_*` features are too sparse to be useful**:\n",
    "  - Using them in modeling may either introduce noise or cause instability 😭.\n",
    "  - Features with **0 non-null values** should be **dropped**.\n",
    "  - For **low-count features** (e.g., <1–5% non-null), it may be better to drop them:\n",
    "    - But i will use **models robust to missingness** (e.g., XGBoost with `missing` parameter).\n",
    "    - So i will drop columns with 0 non-null values or <1% non-null\n"
   ]
  },
  {
   "cell_type": "code",
   "execution_count": 115,
   "id": "e9a6d9a1-9345-4766-bc40-56a149f80c84",
   "metadata": {},
   "outputs": [
    {
     "name": "stdout",
     "output_type": "stream",
     "text": [
      "Original shape: (8655, 25)\n",
      "Filtered shape: (8655, 19)\n"
     ]
    }
   ],
   "source": [
    "threshold = 0.01  # 1%\n",
    "\n",
    "labs_filtered = labs_final.dropna(axis=1, thresh=int(len(labs) * threshold))\n",
    "\n",
    "print(f\"Original shape: {labs_final.shape}\")\n",
    "print(f\"Filtered shape: {labs_filtered.shape}\")\n"
   ]
  },
  {
   "cell_type": "code",
   "execution_count": 117,
   "id": "fb2a7c1e-1741-496e-8316-14c1b18fdc01",
   "metadata": {},
   "outputs": [],
   "source": [
    "labs_filtered.to_parquet(\"new_sample_one_processed/processed_cultures_labs.parquet\", index=False)\n",
    "print(f\"The processed_cultures_labs.parquet is saved :)\")"
   ]
  },
  {
   "cell_type": "markdown",
   "id": "4784ad9a-1212-4651-8271-1d92cb334a77",
   "metadata": {},
   "source": [
    "## check processed_cultures_labs.parquet"
   ]
  },
  {
   "cell_type": "code",
   "execution_count": 120,
   "id": "3b868b8b-28c6-4e82-b12e-f9b7bf05835e",
   "metadata": {},
   "outputs": [
    {
     "name": "stdout",
     "output_type": "stream",
     "text": [
      "<class 'pandas.core.frame.DataFrame'>\n",
      "RangeIndex: 8655 entries, 0 to 8654\n",
      "Data columns (total 19 columns):\n",
      " #   Column                Non-Null Count  Dtype  \n",
      "---  ------                --------------  -----  \n",
      " 0   anon_id               8655 non-null   object \n",
      " 1   pat_enc_csn_id_coded  8655 non-null   int64  \n",
      " 2   order_proc_id_coded   8655 non-null   int64  \n",
      " 3   median_wbc            8481 non-null   float64\n",
      " 4   median_neutrophils    2367 non-null   float32\n",
      " 5   median_lymphocytes    2385 non-null   float32\n",
      " 6   median_hgb            8489 non-null   float64\n",
      " 7   median_plt            8475 non-null   float64\n",
      " 8   median_na             8395 non-null   float64\n",
      " 9   median_hco3           8438 non-null   float64\n",
      " 10  median_bun            8418 non-null   float64\n",
      " 11  median_cr             8485 non-null   float64\n",
      " 12  median_lactate        3452 non-null   float64\n",
      " 13  median_procalcitonin  782 non-null    float64\n",
      " 14  delta_wbc             647 non-null    float64\n",
      " 15  delta_na              141 non-null    float64\n",
      " 16  delta_hco3            100 non-null    float64\n",
      " 17  delta_bun             113 non-null    float64\n",
      " 18  delta_cr              128 non-null    float64\n",
      "dtypes: float32(2), float64(14), int64(2), object(1)\n",
      "memory usage: 1.2+ MB\n"
     ]
    }
   ],
   "source": [
    "import pandas as pd\n",
    "labs = pd.read_parquet(\"new_sample_one_processed/processed_cultures_labs.parquet\")\n",
    "labs.info()"
   ]
  },
  {
   "cell_type": "markdown",
   "id": "1e168e39-7905-4e1a-9c57-b6462fc79dee",
   "metadata": {},
   "source": [
    "## cultures_meds.parquet file preparing"
   ]
  },
  {
   "cell_type": "code",
   "execution_count": 1,
   "id": "a5da7c97-86d9-4bba-8c84-671c6350bcbe",
   "metadata": {},
   "outputs": [
    {
     "name": "stdout",
     "output_type": "stream",
     "text": [
      "<class 'pandas.core.frame.DataFrame'>\n",
      "RangeIndex: 10597 entries, 0 to 10596\n",
      "Data columns (total 7 columns):\n",
      " #   Column                          Non-Null Count  Dtype \n",
      "---  ------                          --------------  ----- \n",
      " 0   anon_id                         10597 non-null  object\n",
      " 1   pat_enc_csn_id_coded            10597 non-null  int64 \n",
      " 2   order_proc_id_coded             10597 non-null  int64 \n",
      " 3   order_time_jittered_utc         10597 non-null  object\n",
      " 4   medication_name                 10597 non-null  object\n",
      " 5   medication_time_to_culturetime  10597 non-null  Int64 \n",
      " 6   medication_category             10597 non-null  object\n",
      "dtypes: Int64(1), int64(2), object(4)\n",
      "memory usage: 590.0+ KB\n"
     ]
    }
   ],
   "source": [
    "import pandas as pd\n",
    "\n",
    "sample_folder = 'new_sample_one/'\n",
    "meds = pd.read_parquet(sample_folder + \"prior_med.parquet\")\n",
    "meds.info()"
   ]
  },
  {
   "cell_type": "code",
   "execution_count": 3,
   "id": "fdc15a37-294f-41d5-aa1b-d1a8390d8523",
   "metadata": {},
   "outputs": [
    {
     "data": {
      "text/plain": [
       "medication_name\n",
       "Cefazolin        4621\n",
       "Metronidazole    1120\n",
       "Ciprofloxacin     977\n",
       "Levofloxacin      951\n",
       "Vancomycin        593\n",
       "Ertapenem         430\n",
       "Colistin          405\n",
       "Ceftriaxone       386\n",
       "Aztreonam         368\n",
       "Gentamicin        368\n",
       "Cefepime          102\n",
       "Ampicillin         76\n",
       "Ceftazidime        71\n",
       "Linezolid          68\n",
       "Amikacin           61\n",
       "Name: count, dtype: int64"
      ]
     },
     "execution_count": 3,
     "metadata": {},
     "output_type": "execute_result"
    }
   ],
   "source": [
    "meds['medication_name'].value_counts()"
   ]
  },
  {
   "cell_type": "code",
   "execution_count": 5,
   "id": "b97ca32e-1493-4e7a-b1ec-8fff25152b2d",
   "metadata": {},
   "outputs": [
    {
     "data": {
      "text/plain": [
       "medication_category\n",
       "CEF      4621\n",
       "MET1     1120\n",
       "CIP3      977\n",
       "LEV       951\n",
       "VAN       593\n",
       "ERT       430\n",
       "COL       405\n",
       "CEF2      386\n",
       "AZT1      368\n",
       "GEN1      368\n",
       "CEF6      102\n",
       "AMP1       76\n",
       "CEF11      71\n",
       "LIN        68\n",
       "AMI        61\n",
       "Name: count, dtype: int64"
      ]
     },
     "execution_count": 5,
     "metadata": {},
     "output_type": "execute_result"
    }
   ],
   "source": [
    "meds['medication_category'].value_counts()"
   ]
  },
  {
   "cell_type": "markdown",
   "id": "7f388b74-55e9-481a-9cef-bd857cc10624",
   "metadata": {},
   "source": [
    "There’s a 1:1 mapping between `medication_name` and `medication_category` - so i  will pick one `medication_category`."
   ]
  },
  {
   "cell_type": "markdown",
   "id": "3b85bb64-8149-4b69-93c3-5f68b0a9892f",
   "metadata": {},
   "source": [
    "**Convert to Category + Codes**"
   ]
  },
  {
   "cell_type": "code",
   "execution_count": 9,
   "id": "7ae62ad5-3691-4618-b673-dc68b4b1b58c",
   "metadata": {},
   "outputs": [],
   "source": [
    "meds['medication_category'] = meds['medication_category'].astype('category')\n",
    "meds['medication_category'] = meds['medication_category'].cat.codes\n"
   ]
  },
  {
   "cell_type": "code",
   "execution_count": 11,
   "id": "4ed4c710-8fae-4291-a6a4-ac633f7e76c8",
   "metadata": {},
   "outputs": [
    {
     "data": {
      "text/plain": [
       "medication_category\n",
       "3     4621\n",
       "13    1120\n",
       "7      977\n",
       "11     951\n",
       "14     593\n",
       "9      430\n",
       "8      405\n",
       "5      386\n",
       "2      368\n",
       "10     368\n",
       "6      102\n",
       "1       76\n",
       "4       71\n",
       "12      68\n",
       "0       61\n",
       "Name: count, dtype: int64"
      ]
     },
     "execution_count": 11,
     "metadata": {},
     "output_type": "execute_result"
    }
   ],
   "source": [
    "meds['medication_category'].value_counts()"
   ]
  },
  {
   "cell_type": "code",
   "execution_count": 13,
   "id": "10a782fa-c375-4e34-b54b-61e4dc0775fa",
   "metadata": {},
   "outputs": [
    {
     "data": {
      "text/plain": [
       "medication_time_to_culturetime\n",
       "2       32\n",
       "41      31\n",
       "35      29\n",
       "17      29\n",
       "21      25\n",
       "        ..\n",
       "1251     1\n",
       "1702     1\n",
       "2110     1\n",
       "179      1\n",
       "1445     1\n",
       "Name: count, Length: 2817, dtype: Int64"
      ]
     },
     "execution_count": 13,
     "metadata": {},
     "output_type": "execute_result"
    }
   ],
   "source": [
    "meds['medication_time_to_culturetime'].value_counts()"
   ]
  },
  {
   "cell_type": "code",
   "execution_count": 15,
   "id": "940cb192-334e-4794-8ee0-69716be438f0",
   "metadata": {},
   "outputs": [
    {
     "data": {
      "text/plain": [
       "5586"
      ]
     },
     "execution_count": 15,
     "metadata": {},
     "output_type": "execute_result"
    }
   ],
   "source": [
    "meds['medication_time_to_culturetime'].max()"
   ]
  },
  {
   "cell_type": "code",
   "execution_count": 17,
   "id": "fb85c5ad-19a2-4b01-a166-134acdeef7e4",
   "metadata": {},
   "outputs": [
    {
     "data": {
      "text/plain": [
       "1"
      ]
     },
     "execution_count": 17,
     "metadata": {},
     "output_type": "execute_result"
    }
   ],
   "source": [
    "meds['medication_time_to_culturetime'].min()"
   ]
  },
  {
   "cell_type": "markdown",
   "id": "2f12c3fb-09f6-488d-ab57-f8e4661ab550",
   "metadata": {},
   "source": [
    "`medication_time_to_culturetime` has a wide range — from 1 to 5586 days before culture - a range from 1 to 5586 days (~15.3 years):\n",
    "- Values within a reasonable clinical window, like 0–90 days, are potentially useful.\n",
    "- These could reflect recent treatments that impact microbiological resistance.\n",
    "- Very large values (years ago) are likely not relevant to the current infection episode.\n",
    "- 5586 days is almost certainly old history — e.g., prior admissions, legacy data.\n",
    "- Including them might introduce noise.\n",
    "\n",
    "**Bacteria evolve quickly:**\n",
    "- Resistance can develop or disappear in weeks or months.\n",
    "- An antibiotic used 5+ years ago probably doesn't affect the bacteria causing an infection today.\n",
    "\n",
    "I will create binary flag for \"any med within 30 days\""
   ]
  },
  {
   "cell_type": "code",
   "execution_count": 20,
   "id": "677aead7-6614-448a-9e3c-08b66b3ad540",
   "metadata": {},
   "outputs": [],
   "source": [
    "import pandas as pd\n",
    "\n",
    "\n",
    "meds = meds.drop(columns=['medication_name'])\n",
    "\n",
    "meds = meds[meds['medication_time_to_culturetime'] <= 180]\n",
    "\n",
    "meds['med_within_30_days'] = meds['medication_time_to_culturetime'] <= 30\n"
   ]
  },
  {
   "cell_type": "code",
   "execution_count": 22,
   "id": "36e4e261-fbcb-4928-8525-0a9d4a006146",
   "metadata": {},
   "outputs": [
    {
     "data": {
      "text/plain": [
       "(2085, 7)"
      ]
     },
     "execution_count": 22,
     "metadata": {},
     "output_type": "execute_result"
    }
   ],
   "source": [
    "meds.shape"
   ]
  },
  {
   "cell_type": "code",
   "execution_count": 24,
   "id": "c730a4d2-4991-4c04-94d4-cd4bf08d5b5c",
   "metadata": {},
   "outputs": [
    {
     "name": "stdout",
     "output_type": "stream",
     "text": [
      "<class 'pandas.core.frame.DataFrame'>\n",
      "Index: 2085 entries, 0 to 10596\n",
      "Data columns (total 7 columns):\n",
      " #   Column                          Non-Null Count  Dtype  \n",
      "---  ------                          --------------  -----  \n",
      " 0   anon_id                         2085 non-null   object \n",
      " 1   pat_enc_csn_id_coded            2085 non-null   int64  \n",
      " 2   order_proc_id_coded             2085 non-null   int64  \n",
      " 3   order_time_jittered_utc         2085 non-null   object \n",
      " 4   medication_time_to_culturetime  2085 non-null   Int64  \n",
      " 5   medication_category             2085 non-null   int8   \n",
      " 6   med_within_30_days              2085 non-null   boolean\n",
      "dtypes: Int64(1), boolean(1), int64(2), int8(1), object(2)\n",
      "memory usage: 105.9+ KB\n"
     ]
    }
   ],
   "source": [
    "meds.info()"
   ]
  },
  {
   "cell_type": "code",
   "execution_count": 26,
   "id": "37504f9e-ec9c-4def-995e-5ca030dca0e7",
   "metadata": {},
   "outputs": [
    {
     "name": "stdout",
     "output_type": "stream",
     "text": [
      "The processed_prior_med.parquet is saved :)\n"
     ]
    }
   ],
   "source": [
    "meds.to_parquet(\"new_sample_one_processed/processed_prior_med.parquet\", index=False)\n",
    "print(f\"The processed_prior_med.parquet is saved :)\")"
   ]
  },
  {
   "cell_type": "markdown",
   "id": "82d0da0f-6167-4b09-95fc-df0ed63c86c6",
   "metadata": {},
   "source": [
    "## check /processed_prior_med.parquet file"
   ]
  },
  {
   "cell_type": "code",
   "execution_count": 28,
   "id": "68d244e5-80f2-4ea9-9caf-ded603481a77",
   "metadata": {},
   "outputs": [
    {
     "name": "stdout",
     "output_type": "stream",
     "text": [
      "<class 'pandas.core.frame.DataFrame'>\n",
      "RangeIndex: 2085 entries, 0 to 2084\n",
      "Data columns (total 7 columns):\n",
      " #   Column                          Non-Null Count  Dtype  \n",
      "---  ------                          --------------  -----  \n",
      " 0   anon_id                         2085 non-null   object \n",
      " 1   pat_enc_csn_id_coded            2085 non-null   int64  \n",
      " 2   order_proc_id_coded             2085 non-null   int64  \n",
      " 3   order_time_jittered_utc         2085 non-null   object \n",
      " 4   medication_time_to_culturetime  2085 non-null   Int64  \n",
      " 5   medication_category             2085 non-null   int8   \n",
      " 6   med_within_30_days              2085 non-null   boolean\n",
      "dtypes: Int64(1), boolean(1), int64(2), int8(1), object(2)\n",
      "memory usage: 89.7+ KB\n"
     ]
    }
   ],
   "source": [
    "import pandas as pd\n",
    "\n",
    "meds = pd.read_parquet(\"new_sample_one_processed/processed_prior_med.parquet\")\n",
    "meds.info()\n"
   ]
  },
  {
   "cell_type": "markdown",
   "id": "38a44b30-72c9-4383-83e9-dbb59e1f2c8d",
   "metadata": {},
   "source": [
    "## cultures_demographics.parquet file praparing"
   ]
  },
  {
   "cell_type": "code",
   "execution_count": 43,
   "id": "53528161-ecaa-4479-b59f-044dc24594d0",
   "metadata": {},
   "outputs": [
    {
     "name": "stdout",
     "output_type": "stream",
     "text": [
      "<class 'pandas.core.frame.DataFrame'>\n",
      "RangeIndex: 4875 entries, 0 to 4874\n",
      "Data columns (total 5 columns):\n",
      " #   Column                Non-Null Count  Dtype \n",
      "---  ------                --------------  ----- \n",
      " 0   anon_id               4875 non-null   object\n",
      " 1   pat_enc_csn_id_coded  4875 non-null   int64 \n",
      " 2   order_proc_id_coded   4875 non-null   int64 \n",
      " 3   age                   4875 non-null   object\n",
      " 4   gender                4875 non-null   object\n",
      "dtypes: int64(2), object(3)\n",
      "memory usage: 190.6+ KB\n"
     ]
    }
   ],
   "source": [
    "import pandas as pd\n",
    "\n",
    "demo = pd.read_parquet(\"new_sample_one/cultures_demographics.parquet\")\n",
    "demo.info()"
   ]
  },
  {
   "cell_type": "code",
   "execution_count": 45,
   "id": "766ec611-612b-4a50-8e87-a1ff8ef465ef",
   "metadata": {},
   "outputs": [
    {
     "data": {
      "image/png": "[encoded data removed]",
      "text/plain": [
       "<Figure size 1000x500 with 1 Axes>"
      ]
     },
     "metadata": {},
     "output_type": "display_data"
    },
    {
     "data": {
      "image/png": "[encoded data removed]",
      "text/plain": [
       "<Figure size 600x500 with 1 Axes>"
      ]
     },
     "metadata": {},
     "output_type": "display_data"
    },
    {
     "data": {
      "image/png": "[encoded data removed]",
      "text/plain": [
       "<Figure size 1000x600 with 1 Axes>"
      ]
     },
     "metadata": {},
     "output_type": "display_data"
    }
   ],
   "source": [
    "# Simulate the structure of the demographics DataFrame\n",
    "demo = pd.DataFrame({\n",
    "    \"age\": [\"20-29\", \"30-39\", \"40-49\", \"50-59\", \"60-69\", \"70-79\", \"80-89\", \"90+\"] * 609 + [\"20-29\", \"30-39\", \"40-49\"],\n",
    "    \"gender\": [\"Female\", \"Male\"] * 2437 + [\"Female\"]\n",
    "})\n",
    "\n",
    "# Visualization 1: Age distribution\n",
    "plt.figure(figsize=(10, 5))\n",
    "sns.countplot(data=demo, x='age', order=sorted(demo['age'].unique()))\n",
    "plt.title(\"Age Group Distribution\")\n",
    "plt.xlabel(\"Age Group\")\n",
    "plt.ylabel(\"Count\")\n",
    "plt.tight_layout()\n",
    "plt.show()\n",
    "\n",
    "# Visualization 2: Gender distribution\n",
    "plt.figure(figsize=(6, 5))\n",
    "sns.countplot(data=demo, x='gender')\n",
    "plt.title(\"Gender Distribution\")\n",
    "plt.xlabel(\"Gender\")\n",
    "plt.ylabel(\"Count\")\n",
    "plt.tight_layout()\n",
    "plt.show()\n",
    "\n",
    "# Visualization 3: Age distribution by gender\n",
    "plt.figure(figsize=(10, 6))\n",
    "sns.countplot(data=demo, x='age', hue='gender', order=sorted(demo['age'].unique()))\n",
    "plt.title(\"Age Group Distribution by Gender\")\n",
    "plt.xlabel(\"Age Group\")\n",
    "plt.ylabel(\"Count\")\n",
    "plt.legend(title=\"Gender\")\n",
    "plt.tight_layout()\n",
    "plt.show()\n"
   ]
  },
  {
   "cell_type": "code",
   "execution_count": 81,
   "id": "d1f27242-0114-4337-8484-3a7b49e592d0",
   "metadata": {},
   "outputs": [
    {
     "data": {
      "text/plain": [
       "gender\n",
       "0    3285\n",
       "1    1590\n",
       "Name: count, dtype: int64"
      ]
     },
     "execution_count": 81,
     "metadata": {},
     "output_type": "execute_result"
    }
   ],
   "source": [
    "demo['gender'].value_counts()"
   ]
  },
  {
   "cell_type": "code",
   "execution_count": 83,
   "id": "a5021f25-5833-4e3b-a4a3-796d1519db1d",
   "metadata": {},
   "outputs": [
    {
     "data": {
      "text/plain": [
       "age\n",
       "65-74 years    928\n",
       "75-84 years    855\n",
       "55-64 years    681\n",
       "25-34 years    662\n",
       "45-54 years    521\n",
       "35-44 years    411\n",
       "18-24 years    282\n",
       "85-89 years    279\n",
       "above 90       256\n",
       "Name: count, dtype: int64"
      ]
     },
     "execution_count": 83,
     "metadata": {},
     "output_type": "execute_result"
    }
   ],
   "source": [
    "demo['age'].value_counts()"
   ]
  },
  {
   "cell_type": "markdown",
   "id": "0d6dabae-9e12-499f-aa71-659459545b62",
   "metadata": {},
   "source": [
    "`gender` is already encoded as `0` and `1` — i wll keep as-is.\n",
    "\n",
    "`age` is in age group strings (e.g., `'65-74 years'`, `'above 90'`) — we’ll convert this into ordinal or numeric features."
   ]
  },
  {
   "cell_type": "code",
   "execution_count": 86,
   "id": "fcf47efa-ce01-4937-80d2-26cd2958cd63",
   "metadata": {},
   "outputs": [],
   "source": [
    "age_order = {\n",
    "    '18-24 years': 0,\n",
    "    '25-34 years': 1,\n",
    "    '35-44 years': 2,\n",
    "    '45-54 years': 3,\n",
    "    '55-64 years': 4,\n",
    "    '65-74 years': 5,\n",
    "    '75-84 years': 6,\n",
    "    '85-89 years': 7,\n",
    "    'above 90': 8\n",
    "}\n",
    "\n",
    "demo['age'] = demo['age'].map(age_order)\n"
   ]
  },
  {
   "cell_type": "markdown",
   "id": "675eb4a0-44ae-4bb9-a9d6-ce2f92f90d12",
   "metadata": {},
   "source": [
    "downcast integer columns\n"
   ]
  },
  {
   "cell_type": "code",
   "execution_count": 94,
   "id": "12a29186-b991-40b1-85fe-84b8db86f0f8",
   "metadata": {},
   "outputs": [],
   "source": [
    "demo['age'] = demo['age'].astype('int8')\n",
    "demo['gender'] = demo['gender'].astype('int8') "
   ]
  },
  {
   "cell_type": "code",
   "execution_count": 96,
   "id": "c01a6509-64ae-4a8c-915c-4beccca28302",
   "metadata": {},
   "outputs": [
    {
     "name": "stdout",
     "output_type": "stream",
     "text": [
      "The processed_cultures_demographics.parquet is saved :)\n"
     ]
    }
   ],
   "source": [
    "demo.to_parquet(\"new_sample_one_processed/processed_cultures_demographics.parquet\", index=False)\n",
    "print(f\"The processed_cultures_demographics.parquet is saved :)\")"
   ]
  },
  {
   "cell_type": "markdown",
   "id": "37fc2ffa-4171-44f6-b6ec-b8df5e5158dd",
   "metadata": {},
   "source": [
    "## check processed_cultures_demographics.parquet file"
   ]
  },
  {
   "cell_type": "code",
   "execution_count": 174,
   "id": "7acc607f-090e-4df7-8325-218d2d50a835",
   "metadata": {},
   "outputs": [
    {
     "name": "stdout",
     "output_type": "stream",
     "text": [
      "<class 'pandas.core.frame.DataFrame'>\n",
      "RangeIndex: 4875 entries, 0 to 4874\n",
      "Data columns (total 5 columns):\n",
      " #   Column                Non-Null Count  Dtype \n",
      "---  ------                --------------  ----- \n",
      " 0   anon_id               4875 non-null   object\n",
      " 1   pat_enc_csn_id_coded  4875 non-null   int64 \n",
      " 2   order_proc_id_coded   4875 non-null   int64 \n",
      " 3   age                   4875 non-null   int8  \n",
      " 4   gender                4875 non-null   int8  \n",
      "dtypes: int64(2), int8(2), object(1)\n",
      "memory usage: 123.9+ KB\n"
     ]
    }
   ],
   "source": [
    "import pandas as pd\n",
    "demo = pd.read_parquet(\"new_sample_one_processed/processed_cultures_demographics.parquet\")\n",
    "demo.info()"
   ]
  },
  {
   "cell_type": "markdown",
   "id": "7b736058-16b1-46ff-a449-438a004bce76",
   "metadata": {},
   "source": [
    "## antibiotic_class_exposure.parquet file preparing "
   ]
  },
  {
   "cell_type": "code",
   "execution_count": 54,
   "id": "f216c48a-11b1-4281-9cd1-4d4a1a0f01a4",
   "metadata": {},
   "outputs": [
    {
     "name": "stdout",
     "output_type": "stream",
     "text": [
      "<class 'pandas.core.frame.DataFrame'>\n",
      "RangeIndex: 63174 entries, 0 to 63173\n",
      "Data columns (total 8 columns):\n",
      " #   Column                   Non-Null Count  Dtype \n",
      "---  ------                   --------------  ----- \n",
      " 0   anon_id                  63174 non-null  object\n",
      " 1   pat_enc_csn_id_coded     63174 non-null  int64 \n",
      " 2   order_proc_id_coded      63174 non-null  int64 \n",
      " 3   order_time_jittered_utc  63174 non-null  object\n",
      " 4   medication_category      63174 non-null  object\n",
      " 5   medication_name          63174 non-null  object\n",
      " 6   antibiotic_class         63174 non-null  object\n",
      " 7   time_to_culturetime      63174 non-null  Int64 \n",
      "dtypes: Int64(1), int64(2), object(5)\n",
      "memory usage: 3.9+ MB\n"
     ]
    }
   ],
   "source": [
    "import pandas as pd\n",
    "class_df = pd.read_parquet(\"new_sample_one/antibiotic_class_exposure.parquet\")\n",
    "class_df.info()\n"
   ]
  },
  {
   "cell_type": "code",
   "execution_count": 56,
   "id": "343bbc3d-1ebd-4585-b279-5f92e8d4dd8d",
   "metadata": {},
   "outputs": [
    {
     "data": {
      "text/plain": [
       "antibiotic_class\n",
       "Beta Lactam                   23370\n",
       "Fluoroquinolone               11276\n",
       "Macrolide Lincosamide          6364\n",
       "Combination Antibiotic         6118\n",
       "Nitrofuran                     3678\n",
       "Nitroimidazole                 3026\n",
       "Ansamycin                      1981\n",
       "Glycopeptide                   1942\n",
       "Tetracycline                   1530\n",
       "Oxazolidinone                  1134\n",
       "Aminoglycoside                  851\n",
       "Polymyxin, Lipopeptide          405\n",
       "Urinary Antiseptic              377\n",
       "Monobactam                      368\n",
       "Fosfomycin                      318\n",
       "Sulfonamide                     227\n",
       "Folate Synthesis Inhibitor      116\n",
       "Antitubercular                   93\n",
       "Name: count, dtype: int64"
      ]
     },
     "execution_count": 56,
     "metadata": {},
     "output_type": "execute_result"
    }
   ],
   "source": [
    "class_df['antibiotic_class'].value_counts()"
   ]
  },
  {
   "cell_type": "markdown",
   "id": "3b6ad5f7-17fc-43a8-a4ec-c1bf866a2ffb",
   "metadata": {},
   "source": [
    "Keeps only useful columns: `anon_id`, `pat_enc_csn_id_coded`, `order_proc_id_coded`, `order_time_jittered_utc`, `antibiotic_class`, `time_to_culturetime`.\n",
    "\n",
    "Drops redundant ones: `medication_name`, `medication_category`.\n",
    "\n",
    "Filters to only exposures within the last 365 days (biologically relevant)."
   ]
  },
  {
   "cell_type": "code",
   "execution_count": 59,
   "id": "993e8625-f282-46b4-8abb-2c17685443c8",
   "metadata": {},
   "outputs": [
    {
     "name": "stdout",
     "output_type": "stream",
     "text": [
      "<class 'pandas.core.frame.DataFrame'>\n",
      "Index: 19818 entries, 4 to 63170\n",
      "Data columns (total 6 columns):\n",
      " #   Column                   Non-Null Count  Dtype \n",
      "---  ------                   --------------  ----- \n",
      " 0   anon_id                  19818 non-null  object\n",
      " 1   pat_enc_csn_id_coded     19818 non-null  int64 \n",
      " 2   order_proc_id_coded      19818 non-null  int64 \n",
      " 3   order_time_jittered_utc  19818 non-null  object\n",
      " 4   antibiotic_class         19818 non-null  object\n",
      " 5   time_to_culturetime      19818 non-null  Int64 \n",
      "dtypes: Int64(1), int64(2), object(3)\n",
      "memory usage: 1.1+ MB\n",
      "None\n"
     ]
    }
   ],
   "source": [
    "import pandas as pd\n",
    "\n",
    "class_df = class_df.drop(columns=[\n",
    "    \"medication_name\",      \n",
    "    \"medication_category\" \n",
    "])\n",
    "\n",
    "class_df = class_df[class_df[\"time_to_culturetime\"] <= 365]\n",
    "\n",
    "print(class_df.info())\n"
   ]
  },
  {
   "cell_type": "markdown",
   "id": "eac4a404-ef88-4440-ae49-d9394dd418a1",
   "metadata": {},
   "source": [
    "Check Value Distribution `antibiotic_class`"
   ]
  },
  {
   "cell_type": "code",
   "execution_count": 62,
   "id": "e9b32749-9415-403d-92a1-648292cf9336",
   "metadata": {},
   "outputs": [
    {
     "data": {
      "text/plain": [
       "antibiotic_class\n",
       "Beta Lactam                   7264\n",
       "Fluoroquinolone               3562\n",
       "Combination Antibiotic        1820\n",
       "Macrolide Lincosamide         1754\n",
       "Nitrofuran                    1041\n",
       "Nitroimidazole                 928\n",
       "Ansamycin                      796\n",
       "Glycopeptide                   679\n",
       "Tetracycline                   579\n",
       "Oxazolidinone                  405\n",
       "Aminoglycoside                 368\n",
       "Fosfomycin                     164\n",
       "Urinary Antiseptic             153\n",
       "Monobactam                     109\n",
       "Polymyxin, Lipopeptide          69\n",
       "Sulfonamide                     48\n",
       "Antitubercular                  48\n",
       "Folate Synthesis Inhibitor      31\n",
       "Name: count, dtype: int64"
      ]
     },
     "execution_count": 62,
     "metadata": {},
     "output_type": "execute_result"
    }
   ],
   "source": [
    "class_df['antibiotic_class'].value_counts()\n"
   ]
  },
  {
   "cell_type": "code",
   "execution_count": 64,
   "id": "0ec9475a-93b0-4823-9778-fcd2f9dc8035",
   "metadata": {},
   "outputs": [],
   "source": [
    "class_counts = class_df['antibiotic_class'].value_counts()\n",
    "common_classes = class_counts[class_counts >= 100].index\n",
    "\n",
    "class_df['antibiotic_class'] = class_df['antibiotic_class'].apply(\n",
    "    lambda x: x if x in common_classes else 'other'\n",
    ")\n"
   ]
  },
  {
   "cell_type": "markdown",
   "id": "8b41e5f1-19a5-4b10-b86f-370f307c471e",
   "metadata": {},
   "source": [
    "Convert to Category + Encode"
   ]
  },
  {
   "cell_type": "code",
   "execution_count": 67,
   "id": "aca9e59d-30cd-4c57-95d8-bf99fc1daadf",
   "metadata": {},
   "outputs": [],
   "source": [
    "class_df['antibiotic_class'] = class_df['antibiotic_class'].astype('category')\n",
    "class_df['antibiotic_class'] = class_df['antibiotic_class'].cat.codes\n"
   ]
  },
  {
   "cell_type": "code",
   "execution_count": 69,
   "id": "52110413-b425-4bd4-b23e-e45d6673c2d3",
   "metadata": {},
   "outputs": [
    {
     "name": "stdout",
     "output_type": "stream",
     "text": [
      "<class 'pandas.core.frame.DataFrame'>\n",
      "Index: 19818 entries, 4 to 63170\n",
      "Data columns (total 6 columns):\n",
      " #   Column                   Non-Null Count  Dtype \n",
      "---  ------                   --------------  ----- \n",
      " 0   anon_id                  19818 non-null  object\n",
      " 1   pat_enc_csn_id_coded     19818 non-null  int64 \n",
      " 2   order_proc_id_coded      19818 non-null  int64 \n",
      " 3   order_time_jittered_utc  19818 non-null  object\n",
      " 4   antibiotic_class         19818 non-null  int8  \n",
      " 5   time_to_culturetime      19818 non-null  Int64 \n",
      "dtypes: Int64(1), int64(2), int8(1), object(2)\n",
      "memory usage: 967.7+ KB\n"
     ]
    }
   ],
   "source": [
    "class_df.info()"
   ]
  },
  {
   "cell_type": "code",
   "execution_count": 71,
   "id": "105997c8-1672-41a4-ad06-d7221f22db0a",
   "metadata": {},
   "outputs": [
    {
     "name": "stdout",
     "output_type": "stream",
     "text": [
      "The processed_antibiotic_class_exposure.parquet is saved :)\n"
     ]
    }
   ],
   "source": [
    "class_df.to_parquet(\"new_sample_one_processed/processed_antibiotic_class_exposure.parquet\", index=False)\n",
    "print(f\"The processed_antibiotic_class_exposure.parquet is saved :)\")"
   ]
  },
  {
   "cell_type": "markdown",
   "id": "1233ca57-0060-4578-84e4-0d08fbc5a2d5",
   "metadata": {},
   "source": [
    "## check antibiotic_class_exposure.parquet "
   ]
  },
  {
   "cell_type": "code",
   "execution_count": 74,
   "id": "c0ebe710-ed78-4d44-b19d-9c4f7e2a72d2",
   "metadata": {},
   "outputs": [
    {
     "name": "stdout",
     "output_type": "stream",
     "text": [
      "<class 'pandas.core.frame.DataFrame'>\n",
      "RangeIndex: 19818 entries, 0 to 19817\n",
      "Data columns (total 6 columns):\n",
      " #   Column                   Non-Null Count  Dtype \n",
      "---  ------                   --------------  ----- \n",
      " 0   anon_id                  19818 non-null  object\n",
      " 1   pat_enc_csn_id_coded     19818 non-null  int64 \n",
      " 2   order_proc_id_coded      19818 non-null  int64 \n",
      " 3   order_time_jittered_utc  19818 non-null  object\n",
      " 4   antibiotic_class         19818 non-null  int8  \n",
      " 5   time_to_culturetime      19818 non-null  Int64 \n",
      "dtypes: Int64(1), int64(2), int8(1), object(2)\n",
      "memory usage: 813.0+ KB\n"
     ]
    }
   ],
   "source": [
    "import pandas as dp\n",
    "\n",
    "class_df = pd.read_parquet(\"new_sample_one_processed/processed_antibiotic_class_exposure.parquet\")\n",
    "class_df.info()"
   ]
  },
  {
   "cell_type": "markdown",
   "id": "1fc9950b-5d17-4888-a4a1-d2dc051acd81",
   "metadata": {},
   "source": [
    "## antibiotic_subtype_exposure.parquet file preparing "
   ]
  },
  {
   "cell_type": "code",
   "execution_count": 79,
   "id": "d04d8da1-e7dd-42c8-ac4c-9c237c549fab",
   "metadata": {},
   "outputs": [
    {
     "name": "stdout",
     "output_type": "stream",
     "text": [
      "<class 'pandas.core.frame.DataFrame'>\n",
      "RangeIndex: 63174 entries, 0 to 63173\n",
      "Data columns (total 9 columns):\n",
      " #   Column                          Non-Null Count  Dtype \n",
      "---  ------                          --------------  ----- \n",
      " 0   anon_id                         63174 non-null  object\n",
      " 1   pat_enc_csn_id_coded            63174 non-null  int64 \n",
      " 2   order_proc_id_coded             63174 non-null  int64 \n",
      " 3   order_time_jittered_utc         63174 non-null  object\n",
      " 4   medication_category             63174 non-null  object\n",
      " 5   medication_name                 63174 non-null  object\n",
      " 6   antibiotic_subtype              63174 non-null  object\n",
      " 7   antibiotic_subtype_category     63174 non-null  object\n",
      " 8   medication_time_to_cultureTime  63174 non-null  Int64 \n",
      "dtypes: Int64(1), int64(2), object(6)\n",
      "memory usage: 4.4+ MB\n"
     ]
    }
   ],
   "source": [
    "import pandas as pd\n",
    "subtype_df = pd.read_parquet(\"new_sample_one/antibiotic_subtype_exposure.parquet\")\n",
    "subtype_df.info()\n"
   ]
  },
  {
   "cell_type": "code",
   "execution_count": 81,
   "id": "e940107b-684c-42d7-9dab-ed936612f563",
   "metadata": {},
   "outputs": [
    {
     "data": {
      "text/plain": [
       "antibiotic_subtype_category\n",
       "CEP1    11301\n",
       "FLQ     11276\n",
       "BLC      7964\n",
       "SULC     6118\n",
       "MAC      4923\n",
       "NIT      3678\n",
       "NIM      3026\n",
       "ANS      1981\n",
       "GLY      1942\n",
       "CEP3     1745\n",
       "TET      1530\n",
       "PEN      1445\n",
       "LIN      1441\n",
       "OXA      1134\n",
       "AMG       851\n",
       "CAR       510\n",
       "POL       405\n",
       "UA        377\n",
       "MON       368\n",
       "FOS       318\n",
       "CEP2      268\n",
       "SUL       227\n",
       "CEP4      137\n",
       "FSI       116\n",
       "AT         93\n",
       "Name: count, dtype: int64"
      ]
     },
     "execution_count": 81,
     "metadata": {},
     "output_type": "execute_result"
    }
   ],
   "source": [
    "subtype_df['antibiotic_subtype_category'].value_counts()"
   ]
  },
  {
   "cell_type": "code",
   "execution_count": 83,
   "id": "950ff0f2-60a6-47b5-be92-52c3cf6ecd0b",
   "metadata": {},
   "outputs": [
    {
     "data": {
      "text/plain": [
       "antibiotic_subtype\n",
       "Cephalosporin Gen1            11301\n",
       "Fluoroquinolone               11276\n",
       "Beta Lactam Combo              7964\n",
       "Sulfonamide Combo              6118\n",
       "Macrolide                      4923\n",
       "Nitrofuran                     3678\n",
       "Nitroimidazole                 3026\n",
       "Ansamycin                      1981\n",
       "Glycopeptide                   1942\n",
       "Cephalosporin Gen3             1745\n",
       "Tetracycline                   1530\n",
       "Penicillin                     1445\n",
       "Lincosamide                    1441\n",
       "Oxazolidinone                  1134\n",
       "Aminoglycoside                  851\n",
       "Carbapenem                      510\n",
       "Polymyxin                       405\n",
       "Urinary Antiseptic              377\n",
       "Monobactam                      368\n",
       "Fosfomycin                      318\n",
       "Cephalosporin Gen2              268\n",
       "Sulfonamide                     227\n",
       "Cephalosporin Gen4              137\n",
       "Folate Synthesis Inhibitor      116\n",
       "Antitubercular                   93\n",
       "Name: count, dtype: int64"
      ]
     },
     "execution_count": 83,
     "metadata": {},
     "output_type": "execute_result"
    }
   ],
   "source": [
    "subtype_df['antibiotic_subtype'].value_counts()"
   ]
  },
  {
   "cell_type": "markdown",
   "id": "5cc384cb-0a9a-492f-8803-c3b58805ed9d",
   "metadata": {},
   "source": [
    "`antibiotic_subtype`:\n",
    "Useful. Captures granular details of prior antibiotic exposure (e.g., *Cephalosporin Gen1*, *Fluoroquinolone*), which may help identify specific resistance patterns that broader classes cannot. Important for understanding generation-specific effects (e.g., *Gen1* vs. *Gen3* cephalosporins).\n",
    "\n",
    "`antibiotic_subtype_category`:\n",
    "Redundant with `antibiotic_subtype` (e.g., *FLQ* maps to *Fluoroquinolone*). I will drop it.\n",
    "\n",
    "`time_to_culturetime`:\n",
    "Important for differentiating recent vs. historical exposure, which may affect resistance likelihood.\n",
    "\n",
    "`medication_name` and `medication_category`:\n",
    "Likely redundant — already handled in `prior_med.parquet`."
   ]
  },
  {
   "cell_type": "code",
   "execution_count": 86,
   "id": "0debfa6b-e37c-4cff-bf75-2d2c2ed9fa47",
   "metadata": {},
   "outputs": [
    {
     "name": "stdout",
     "output_type": "stream",
     "text": [
      "<class 'pandas.core.frame.DataFrame'>\n",
      "RangeIndex: 63174 entries, 0 to 63173\n",
      "Data columns (total 6 columns):\n",
      " #   Column                          Non-Null Count  Dtype \n",
      "---  ------                          --------------  ----- \n",
      " 0   anon_id                         63174 non-null  object\n",
      " 1   pat_enc_csn_id_coded            63174 non-null  int64 \n",
      " 2   order_proc_id_coded             63174 non-null  int64 \n",
      " 3   order_time_jittered_utc         63174 non-null  object\n",
      " 4   antibiotic_subtype              63174 non-null  object\n",
      " 5   medication_time_to_cultureTime  63174 non-null  Int64 \n",
      "dtypes: Int64(1), int64(2), object(3)\n",
      "memory usage: 3.0+ MB\n",
      "None\n"
     ]
    }
   ],
   "source": [
    "# Drop redundant columns\n",
    "subtype_df = subtype_df.drop(columns=[\n",
    "    \"medication_name\",               # Redundant: already handled in prior_med\n",
    "    \"medication_category\",           # Redundant\n",
    "    \"antibiotic_subtype_category\"    # Redundant with antibiotic_subtype\n",
    "])\n",
    "\n",
    "print(subtype_df.info())\n"
   ]
  },
  {
   "cell_type": "code",
   "execution_count": 88,
   "id": "da70408d-ddd8-4550-8591-c3e91f291779",
   "metadata": {},
   "outputs": [
    {
     "data": {
      "text/plain": [
       "antibiotic_subtype\n",
       "Cephalosporin Gen1            11301\n",
       "Fluoroquinolone               11276\n",
       "Beta Lactam Combo              7964\n",
       "Sulfonamide Combo              6118\n",
       "Macrolide                      4923\n",
       "Nitrofuran                     3678\n",
       "Nitroimidazole                 3026\n",
       "Ansamycin                      1981\n",
       "Glycopeptide                   1942\n",
       "Cephalosporin Gen3             1745\n",
       "Tetracycline                   1530\n",
       "Penicillin                     1445\n",
       "Lincosamide                    1441\n",
       "Oxazolidinone                  1134\n",
       "Aminoglycoside                  851\n",
       "Carbapenem                      510\n",
       "Polymyxin                       405\n",
       "Urinary Antiseptic              377\n",
       "Monobactam                      368\n",
       "Fosfomycin                      318\n",
       "Cephalosporin Gen2              268\n",
       "Sulfonamide                     227\n",
       "Cephalosporin Gen4              137\n",
       "Folate Synthesis Inhibitor      116\n",
       "Antitubercular                   93\n",
       "Name: count, dtype: int64"
      ]
     },
     "execution_count": 88,
     "metadata": {},
     "output_type": "execute_result"
    }
   ],
   "source": [
    "subtype_df['antibiotic_subtype'].value_counts()"
   ]
  },
  {
   "cell_type": "markdown",
   "id": "9cd02f81-ed58-4559-833a-35edd0952cc1",
   "metadata": {},
   "source": [
    "## Convert antibiotic_subtype to category and encode"
   ]
  },
  {
   "cell_type": "code",
   "execution_count": 91,
   "id": "be5a523b-93e8-4ad6-a0e9-9842e238e81f",
   "metadata": {},
   "outputs": [],
   "source": [
    "subtype_df['antibiotic_subtype'] = subtype_df['antibiotic_subtype'].astype('category')\n",
    "subtype_df['antibiotic_subtype'] = subtype_df['antibiotic_subtype'].cat.codes"
   ]
  },
  {
   "cell_type": "code",
   "execution_count": 93,
   "id": "c5c9718a-73e5-4caf-bd14-574c27221a74",
   "metadata": {},
   "outputs": [
    {
     "name": "stdout",
     "output_type": "stream",
     "text": [
      "The processed_antibiotic_subtype_exposure.parquet is saved :)\n"
     ]
    }
   ],
   "source": [
    "subtype_df.to_parquet(\"new_sample_one_processed/processed_antibiotic_subtype_exposure.parquet\", index=False)\n",
    "print(f\"The processed_antibiotic_subtype_exposure.parquet is saved :)\")"
   ]
  },
  {
   "cell_type": "markdown",
   "id": "70b32a99-0375-4cb0-8859-f7e754569dba",
   "metadata": {},
   "source": [
    "## check antibiotic_subtype_exposure.parquet file"
   ]
  },
  {
   "cell_type": "code",
   "execution_count": 97,
   "id": "03f7976b-cfad-44c9-9b1e-772722f2cc8f",
   "metadata": {},
   "outputs": [
    {
     "name": "stdout",
     "output_type": "stream",
     "text": [
      "<class 'pandas.core.frame.DataFrame'>\n",
      "RangeIndex: 63174 entries, 0 to 63173\n",
      "Data columns (total 6 columns):\n",
      " #   Column                          Non-Null Count  Dtype \n",
      "---  ------                          --------------  ----- \n",
      " 0   anon_id                         63174 non-null  object\n",
      " 1   pat_enc_csn_id_coded            63174 non-null  int64 \n",
      " 2   order_proc_id_coded             63174 non-null  int64 \n",
      " 3   order_time_jittered_utc         63174 non-null  object\n",
      " 4   antibiotic_subtype              63174 non-null  int8  \n",
      " 5   medication_time_to_cultureTime  63174 non-null  Int64 \n",
      "dtypes: Int64(1), int64(2), int8(1), object(2)\n",
      "memory usage: 2.5+ MB\n"
     ]
    }
   ],
   "source": [
    "import pandas as dp\n",
    "\n",
    "class_df = pd.read_parquet(\"new_sample_one_processed/processed_antibiotic_subtype_exposure.parquet\")\n",
    "class_df.info()"
   ]
  },
  {
   "cell_type": "markdown",
   "id": "7188e868-03b2-4246-8194-5da1e5244a94",
   "metadata": {},
   "source": [
    "## cultures_comorbidity.parquet file preparing"
   ]
  },
  {
   "cell_type": "code",
   "execution_count": 47,
   "id": "4cd9523c-4363-4546-aeef-e19339e9eb6d",
   "metadata": {},
   "outputs": [
    {
     "name": "stdout",
     "output_type": "stream",
     "text": [
      "<class 'pandas.core.frame.DataFrame'>\n",
      "RangeIndex: 2277646 entries, 0 to 2277645\n",
      "Data columns (total 7 columns):\n",
      " #   Column                                    Dtype  \n",
      "---  ------                                    -----  \n",
      " 0   anon_id                                   object \n",
      " 1   pat_enc_csn_id_coded                      int64  \n",
      " 2   order_proc_id_coded                       int64  \n",
      " 3   order_time_jittered_utc                   object \n",
      " 4   comorbidity_component                     object \n",
      " 5   comorbidity_component_start_days_culture  Int64  \n",
      " 6   comorbidity_component_end_days_culture    float32\n",
      "dtypes: Int64(1), float32(1), int64(2), object(3)\n",
      "memory usage: 115.1+ MB\n"
     ]
    }
   ],
   "source": [
    "import pandas as pd\n",
    "como = pd.read_parquet(\"new_sample_one/cultures_comorbidity.parquet\")\n",
    "como.info()\n"
   ]
  },
  {
   "cell_type": "markdown",
   "id": "d9c26ef0-8a8e-42ae-b9ed-4e24528643fd",
   "metadata": {},
   "source": [
    "wow (2.2M rows) is too large :) \n",
    "\n",
    "it likely includes many comorbidity records per patient, possibly across time.\n",
    "\n",
    "Each row likely means:\n",
    "“This patient had comorbidity X active between X and Y days relative to the culture.”\n",
    "\n",
    "This allows temporally aware features, but also means:\n",
    "- I must aggregate it per culture.\n",
    "- Raw format is not usable as-is.\n",
    "\n",
    "Steps: \n",
    "\n",
    "1. Filter: Keep only comorbidities active at or before the culture date.\n",
    "\n",
    "    - comorbidity_component_start_days_culture <= 0\n",
    "\n",
    "    - AND (either no end or ends after culture): comorbidity_component_end_days_culture >= 0 or NaN\n",
    "\n",
    "2. Pivot: Turn the long table into one row per order_proc_id_coded with binary flags:\n",
    "\n",
    "3. I will drop very rare comorbidities (<1%) :)."
   ]
  },
  {
   "cell_type": "code",
   "execution_count": 50,
   "id": "a46ec461-7761-4b05-ae1a-babbe86e2c7d",
   "metadata": {},
   "outputs": [
    {
     "name": "stdout",
     "output_type": "stream",
     "text": [
      "Max comorbidity_component_start_days_culture = 7891\n",
      "Min comorbidity_component_start_days_culture = 0\n",
      "Max comorbidity_component_end_days_culture = 5565.0\n",
      "Min comorbidity_component_end_days_culture = -5013.0\n"
     ]
    }
   ],
   "source": [
    "print(f'Max comorbidity_component_start_days_culture = {como[\"comorbidity_component_start_days_culture\"].max()}')\n",
    "print(f'Min comorbidity_component_start_days_culture = {como[\"comorbidity_component_start_days_culture\"].min()}')\n",
    "print(f'Max comorbidity_component_end_days_culture = {como[\"comorbidity_component_end_days_culture\"].max()}')\n",
    "print(f'Min comorbidity_component_end_days_culture = {como[\"comorbidity_component_end_days_culture\"].min()}')"
   ]
  },
  {
   "cell_type": "markdown",
   "id": "22ab0088-1fc4-43d4-8f16-9d0945b300f3",
   "metadata": {},
   "source": [
    "- Some comorbidities start years after the culture (max start = 7891 days).\n",
    "- Others end years before culture (min end = –5013 days).\n",
    "Still makes perfect sense :) — it selects only comorbidities that were:\n",
    "\n",
    "Still makes perfect sense ✅ — it selects only comorbidities that were:\n",
    "- Already active on or before the culture (start_days <= 0)\n",
    "- And still ongoing at culture time (end_days >= 0 or unknown)\n",
    "These are the comorbidities most likely to influence resistance at the time of infection.\n"
   ]
  },
  {
   "cell_type": "code",
   "execution_count": 53,
   "id": "061f42e3-4287-475a-96ef-2e029f452326",
   "metadata": {},
   "outputs": [
    {
     "data": {
      "text/plain": [
       "comorbidity_component\n",
       "Congestive heart failure                                                      230026\n",
       "Other specified status                                                         60619\n",
       "Abnormal findings without diagnosis                                            57061\n",
       "Organ transplant status                                                        52370\n",
       "Personal/family history of disease                                             49741\n",
       "                                                                               ...  \n",
       "Encounter for mental health conditions                                             3\n",
       "OB-related trauma to perineum and vulva                                            3\n",
       "Perinatal infections                                                               2\n",
       "Obstetric history affecting care in pregnancy                                      2\n",
       "Newborn affected by maternal conditions or complications of labor/delivery         1\n",
       "Name: count, Length: 466, dtype: int64"
      ]
     },
     "execution_count": 53,
     "metadata": {},
     "output_type": "execute_result"
    }
   ],
   "source": [
    "como['comorbidity_component'].value_counts()"
   ]
  },
  {
   "cell_type": "markdown",
   "id": "385082c5-4436-4e8c-8fca-a339d89409d7",
   "metadata": {},
   "source": [
    "As i said befor i will drop Rare Comorbidities\n",
    "I should drop any comorbidity present in <1% of rows. This:\n",
    "- Removes noise\n",
    "- Reduces dimensionality\n",
    "- Keeps only conditions likely to generalize in your model\n"
   ]
  },
  {
   "cell_type": "code",
   "execution_count": 56,
   "id": "94f65fa1-6a1f-4dbf-90a0-12f6acda1b78",
   "metadata": {},
   "outputs": [],
   "source": [
    "import pandas as pd\n",
    "\n",
    "active_como = como[\n",
    "    (como[\"comorbidity_component_start_days_culture\"] <= 0) &\n",
    "    (\n",
    "        (como[\"comorbidity_component_end_days_culture\"].isna()) |\n",
    "        (como[\"comorbidity_component_end_days_culture\"] >= 0)\n",
    "    )\n",
    "]\n",
    "\n",
    "# Step 2: Pivot to get binary indicators per comorbidity\n",
    "# Each comorbidity becomes a column: 1 if present, 0 if not\n",
    "pivot_como = (\n",
    "    active_como\n",
    "    .drop_duplicates(subset=[\"order_proc_id_coded\", \"comorbidity_component\"])\n",
    "    .assign(value=1)\n",
    "    .pivot(index=\"order_proc_id_coded\", columns=\"comorbidity_component\", values=\"value\")\n",
    "    .fillna(0)\n",
    "    .astype(\"int8\")\n",
    "    .reset_index()\n",
    ")\n",
    "\n",
    "# Step 3: Drop very rare comorbidities (<1% prevalence)\n",
    "n_rows = pivot_como.shape[0]\n",
    "threshold = int(n_rows * 0.01)\n",
    "\n",
    "# Keep only columns with at least 1% non-zero values\n",
    "common_como_cols = [\n",
    "    col for col in pivot_como.columns[1:]  # skip index col\n",
    "    if pivot_como[col].sum() >= threshold\n",
    "]\n",
    "\n",
    "# Final cleaned dataset\n",
    "pivot_como_filtered = pivot_como[[\"order_proc_id_coded\"] + common_como_cols]\n"
   ]
  },
  {
   "cell_type": "code",
   "execution_count": 58,
   "id": "d5aef186-2e1f-4716-9903-2a47252816fb",
   "metadata": {},
   "outputs": [
    {
     "name": "stdout",
     "output_type": "stream",
     "text": [
      "Final shape: (4554, 175)\n",
      "Kept comorbidities: ['Abdominal hernia', 'Abdominal pain and other digestive/abdomen signs and symptoms', 'Abnormal findings without diagnosis', 'Acquired absence of limb or organ', 'Acute and unspecified renal failure', 'Acute hemorrhagic cerebrovascular disease', 'Acute myocardial infarction', 'Acute phlebitis; thrombophlebitis and thromboembolism', 'Adverse effects of drugs and medicaments, initial encounter', 'Alcohol-related disorders', 'Anxiety and fear-related disorders', 'Aplastic anemia', 'Aspiration pneumonitis', 'Asthma', 'Bacterial infections', 'Benign neoplasms', 'Biliary tract disease', 'Blindness and vision defects', 'Breast cancer - all other types', 'Calculus of urinary tract', 'Cardiac arrhythmias', 'Cardiac dysrhythmias', 'Cerebral infarction', 'Chronic kidney disease', 'Chronic obstructive pulmonary disease and bronchiectasis', 'Chronic pulmonary disease', 'Chronic rheumatic heart disease', 'Circulatory signs and symptoms', 'Coagulation and hemorrhagic disorders', 'Coagulopathy', 'Complication of genitourinary device, implant or graft, initial encounter', 'Complication of other surgical or medical care, injury, initial encounter', 'Complication of transplanted organs or tissue, initial encounter', 'Conditions due to neoplasm or the treatment of neoplasm', 'Conduction disorders', 'Congestive heart failure', 'Coronary atherosclerosis and other heart disease', 'Cystic fibrosis', 'Deficiency anemia', 'Depression', 'Depressive disorders', 'Diabetes mellitus with complication', 'Diabetes mellitus without complication', 'Diabetes, complicated', 'Diabetes, uncomplicated', 'Diseases of mouth; excluding dental', 'Diseases of white blood cells', 'Disorders of lipid metabolism', 'Diverticulosis and diverticulitis', 'Drug induced or toxic related condition', 'Dysphagia', 'Encounter for administrative purposes', 'Encounter for observation and examination for conditions ruled out (excludes infectious disease, neoplasm, mental disorders)', 'Epilepsy; convulsions', 'Esophageal disorders', 'Exposure, encounters, screening or contact with infectious disease', 'Fever', 'Fluid and electrolyte disorders', 'Fungal infections', 'Gastrointestinal hemorrhage', 'Genitourinary congenital anomalies', 'Genitourinary signs and symptoms', 'Glaucoma', 'Gout', 'Headache; including migraine', 'Hearing loss', 'Heart failure', 'Hematuria', 'Hepatic failure', 'Hepatitis', 'Hyperplasia of prostate', 'Hypertension, complicated', 'Hypotension', 'Immunity disorders', 'Implant, device or graft related encounter', 'Intestinal infection', 'Intestinal obstruction and ileus', 'Invalid PDX', 'Leukemia - acute myeloid leukemia (AML)', 'Liver disease', 'Low back pain', 'Malaise and fatigue', 'Malnutrition', 'Medical examination/evaluation', 'Menopausal disorders', 'Metastatic cancer', 'Multiple myeloma', 'Muscle disorders', 'Musculoskeletal pain, not low back pain', 'Myocarditis and cardiomyopathy', 'Nausea and vomiting', 'Neoplasm-related encounters', 'Neoplasms of unspecified nature or uncertain behavior', 'Nerve and nerve root disorders', 'Nervous system pain and pain syndromes', 'Nervous system signs and symptoms', 'Neurocognitive disorders', 'Non-Hodgkin lymphoma', 'Noninfectious gastroenteritis', 'Nonrheumatic and unspecified valve disorders', 'Nonspecific chest pain', 'Nutritional anemia', 'Nutritional deficiencies', 'Obesity', 'Organ transplant status', 'Osteoarthritis', 'Osteoporosis', 'Other aftercare encounter', 'Other and ill-defined heart disease', 'Other general signs and symptoms', 'Other neurological disorders', 'Other specified and unspecified circulatory disease', 'Other specified and unspecified diseases of bladder and urethra', 'Other specified and unspecified diseases of kidney and ureters', 'Other specified and unspecified disorders of stomach and duodenum', 'Other specified and unspecified endocrine disorders', 'Other specified and unspecified gastrointestinal disorders', 'Other specified and unspecified liver disease', 'Other specified and unspecified lower respiratory disease', 'Other specified and unspecified nutritional and metabolic disorders', 'Other specified and unspecified skin disorders', 'Other specified and unspecified upper respiratory disease', 'Other specified bone disease and musculoskeletal deformities', 'Other specified connective tissue disease', 'Other specified diseases of veins and lymphatics', 'Other specified encounters and counseling', 'Other specified female genital disorders', 'Other specified hereditary and degenerative nervous system conditions', 'Other specified inflammatory condition of skin', 'Other specified nervous system disorders', 'Other specified status', 'Other specified upper respiratory infections', 'Other unspecified injury', 'Pancreatic disorders (excluding diabetes)', 'Paralysis (other than cerebral palsy)', 'Parasitic, other specified and unspecified infections', 'Peripheral and visceral vascular disease', 'Peripheral vascular disorders', 'Peritonitis and intra-abdominal abscess', 'Personal/family history of disease', 'Pleurisy, pleural effusion and pulmonary collapse', 'Pneumonia (except that caused by tuberculosis)', 'Polyneuropathies', 'Pressure ulcer of skin', 'Pulmonary heart disease', 'Regional enteritis and ulcerative colitis', 'Renal failure', 'Resistance to antimicrobial drugs', 'Respiratory failure; insufficiency; arrest', 'Respiratory signs and symptoms', 'Rheumatoid arthritis and related disease', 'Rheumatoid arthritis/collagen vascular diseases', 'Secondary malignancies', 'Septicemia', 'Sequela of cerebral infarction and other cerebrovascular disease', 'Shock', 'Sinusitis', 'Skin and subcutaneous tissue infections', 'Skin/Subcutaneous signs and symptoms', 'Sleep wake disorders', 'Solid tumor without metastasis', 'Spondylopathies/spondyloarthropathy (including infective)', 'Superficial injury; contusion, initial encounter', 'Systemic lupus erythematosus and connective tissue disorders', 'Thyroid disorders', 'Tobacco-related disorders', 'Trauma- and stressor-related disorders', 'Uncomplicated pregnancy, delivery or puerperium', 'Urinary incontinence', 'Urinary system cancers - bladder', 'Urinary tract infections', 'Valvular disease', 'Viral infection', 'Weight loss']\n"
     ]
    }
   ],
   "source": [
    "print(\"Final shape:\", pivot_como_filtered.shape)\n",
    "print(\"Kept comorbidities:\", common_como_cols)\n"
   ]
  },
  {
   "cell_type": "markdown",
   "id": "de38b928-856d-4d57-907c-305d33799b15",
   "metadata": {},
   "source": [
    "OMG i am crying 😭 right now. Allah Al-must3an.\n",
    "\n",
    "Let’s Reduce the Comorbidities Now (Clean + Efficient)\n",
    "I’ll simplify by:\n",
    "\n",
    "- Step 1: Identify most common clinically relevant comorbidities (e.g., diabetes, CHF, CKD, cancer, transplant).\n",
    "- Step 2: Group similar/related conditions under umbrella terms.\n",
    "- Step 3: Create a small set of binary flags (10–20 max).\n",
    "\n",
    "### ✅ Reduced Comorbidity Feature Groupings\n",
    "\n",
    "| Feature Name             | Description / Included Conditions                                      |\n",
    "|--------------------------|------------------------------------------------------------------------|\n",
    "| `has_diabetes`           | Diabetes mellitus (Type 1 or 2), insulin dependence                    |\n",
    "| `has_chf`                | Congestive heart failure, chronic heart failure                        |\n",
    "| `has_ckd`                | Chronic kidney disease, renal failure                                  |\n",
    "| `has_cancer`             | Solid tumors, hematologic malignancies (e.g., leukemia, lymphoma)      |\n",
    "| `has_transplant`         | History of organ or bone marrow transplant                             |\n",
    "| `has_immunosuppression`  | HIV/AIDS, immunodeficiency syndromes, long-term immunosuppressive meds |\n",
    "| `has_copd`               | Chronic obstructive pulmonary disease, chronic bronchitis, emphysema   |\n",
    "| `has_liver_disease`      | Cirrhosis, hepatitis, liver failure                                    |\n",
    "| `has_dementia`           | Alzheimer’s disease, vascular dementia                                 |\n",
    "| `has_stroke`             | Stroke, cerebrovascular accident (CVA), residual deficits              |\n",
    "| `has_other_comorbid`     | Any other less frequent or uncategorized comorbidity                   |\n",
    "\n",
    "Zero energy.\n",
    "Yarb :(."
   ]
  },
  {
   "cell_type": "code",
   "execution_count": 61,
   "id": "e41f6ca1-7a41-4c30-8850-52573c70c95a",
   "metadata": {},
   "outputs": [],
   "source": [
    "import pandas as pd\n",
    "import numpy as np\n",
    "\n",
    "# Load raw comorbidity file\n",
    "como = pd.read_parquet(\"new_sample_one/cultures_comorbidity.parquet\")\n",
    "\n",
    "# Filter active at culture time\n",
    "active_como = como[\n",
    "    (como[\"comorbidity_component_start_days_culture\"] <= 0) &\n",
    "    (\n",
    "        (como[\"comorbidity_component_end_days_culture\"].isna()) |\n",
    "        (como[\"comorbidity_component_end_days_culture\"] >= 0)\n",
    "    )\n",
    "].copy()\n",
    "\n",
    "# Define mapping from component to new grouped feature\n",
    "group_mapping = {\n",
    "    \"has_diabetes\": [\"diabetes\"],\n",
    "    \"has_chf\": [\"heart failure\"],\n",
    "    \"has_ckd\": [\"chronic kidney\", \"renal failure\"],\n",
    "    \"has_cancer\": [\"malignancy\", \"cancer\", \"neoplasm\", \"leukemia\", \"lymphoma\"],\n",
    "    \"has_transplant\": [\"transplant\"],\n",
    "    \"has_immunosuppression\": [\"hiv\", \"immunodeficiency\", \"immunosuppress\", \"long-term (current) drug therapy\"],\n",
    "    \"has_copd\": [\"copd\", \"chronic obstructive\", \"emphysema\", \"chronic bronchitis\"],\n",
    "    \"has_liver_disease\": [\"cirrhosis\", \"liver\", \"hepatitis\"],\n",
    "    \"has_dementia\": [\"dementia\", \"alzheimer\"],\n",
    "    \"has_stroke\": [\"stroke\", \"cerebrovascular\", \"cva\"],\n",
    "}\n",
    "\n",
    "# Normalize component text for matching\n",
    "active_como[\"component_clean\"] = active_como[\"comorbidity_component\"].str.lower()\n",
    "\n",
    "# Create binary flags based on keyword matching\n",
    "grouped_flags = []\n",
    "for new_col, keywords in group_mapping.items():\n",
    "    mask = active_como[\"component_clean\"].apply(lambda x: any(k in x for k in keywords))\n",
    "    matched = active_como[mask][[\"order_proc_id_coded\"]].drop_duplicates()\n",
    "    matched[new_col] = 1\n",
    "    grouped_flags.append(matched)\n",
    "\n",
    "# Combine all flags into one dataframe\n",
    "reduced_como = pd.DataFrame({\"order_proc_id_coded\": active_como[\"order_proc_id_coded\"].unique()})\n",
    "for df in grouped_flags:\n",
    "    reduced_como = reduced_como.merge(df, on=\"order_proc_id_coded\", how=\"left\")\n",
    "\n",
    "# Fill NaNs with 0 (i.e., patient didn't have that comorbidity)\n",
    "reduced_como = reduced_como.fillna(0).astype({col: 'int8' for col in reduced_como.columns if col != \"order_proc_id_coded\"})\n",
    "\n",
    "# Add \"has_other_comorbid\" if any unmatched component exists\n",
    "matched_ids = pd.concat(grouped_flags)[\"order_proc_id_coded\"].unique()\n",
    "all_ids = active_como[\"order_proc_id_coded\"].unique()\n",
    "unmatched_ids = set(all_ids) - set(matched_ids)\n",
    "\n",
    "reduced_como[\"has_other_comorbid\"] = reduced_como[\"order_proc_id_coded\"].isin(unmatched_ids).astype(\"int8\")\n"
   ]
  },
  {
   "cell_type": "code",
   "execution_count": 62,
   "id": "270c1de4-c311-48ec-a754-55cbf5e73ab7",
   "metadata": {},
   "outputs": [
    {
     "name": "stdout",
     "output_type": "stream",
     "text": [
      "Reduced shape: (4554, 12)\n",
      "Columns: ['order_proc_id_coded', 'has_diabetes', 'has_chf', 'has_ckd', 'has_cancer', 'has_transplant', 'has_immunosuppression', 'has_copd', 'has_liver_disease', 'has_dementia', 'has_stroke', 'has_other_comorbid']\n"
     ]
    }
   ],
   "source": [
    "print(\"Reduced shape:\", reduced_como.shape)\n",
    "print(\"Columns:\", reduced_como.columns.tolist())\n"
   ]
  },
  {
   "cell_type": "code",
   "execution_count": 65,
   "id": "8372ea33-c201-4529-8199-9fedf35bef7e",
   "metadata": {},
   "outputs": [
    {
     "data": {
      "image/png": "[encoded data removed]",
      "text/plain": [
       "<Figure size 1200x600 with 1 Axes>"
      ]
     },
     "metadata": {},
     "output_type": "display_data"
    }
   ],
   "source": [
    "# Simulate the comorbidity DataFrame structure with binary comorbidity features\n",
    "import numpy as np\n",
    "\n",
    "np.random.seed(0)\n",
    "como = pd.DataFrame({\n",
    "    \"order_proc_id_coded\": range(4554),\n",
    "    \"has_diabetes\": np.random.randint(0, 2, 4554),\n",
    "    \"has_chf\": np.random.randint(0, 2, 4554),\n",
    "    \"has_ckd\": np.random.randint(0, 2, 4554),\n",
    "    \"has_cancer\": np.random.randint(0, 2, 4554),\n",
    "    \"has_transplant\": np.random.randint(0, 2, 4554),\n",
    "    \"has_immunosuppression\": np.random.randint(0, 2, 4554),\n",
    "    \"has_copd\": np.random.randint(0, 2, 4554),\n",
    "    \"has_liver_disease\": np.random.randint(0, 2, 4554),\n",
    "    \"has_dementia\": np.random.randint(0, 2, 4554),\n",
    "    \"has_stroke\": np.random.randint(0, 2, 4554),\n",
    "    \"has_other_comorbid\": np.random.randint(0, 2, 4554)\n",
    "})\n",
    "\n",
    "# Calculate frequency of each comorbidity\n",
    "comorbidity_counts = como.drop(columns=[\"order_proc_id_coded\"]).sum().sort_values(ascending=False)\n",
    "\n",
    "# Bar plot for comorbidity prevalence\n",
    "plt.figure(figsize=(12, 6))\n",
    "sns.barplot(x=comorbidity_counts.values, y=comorbidity_counts.index)\n",
    "plt.title(\"Comorbidity Frequency in Dataset\")\n",
    "plt.xlabel(\"Number of Patients\")\n",
    "plt.ylabel(\"Comorbidity\")\n",
    "plt.tight_layout()\n",
    "plt.show()\n"
   ]
  },
  {
   "cell_type": "code",
   "execution_count": 278,
   "id": "d2093ed8-15a2-4eff-9d3b-6dfdf9b4d19a",
   "metadata": {},
   "outputs": [
    {
     "name": "stdout",
     "output_type": "stream",
     "text": [
      "The processed_cultures_comorbidity.parquet is saved :)\n"
     ]
    }
   ],
   "source": [
    "reduced_como.to_parquet(\"new_sample_one_processed/processed_cultures_comorbidity.parquet\", index=False)\n",
    "print(f\"The processed_cultures_comorbidity.parquet is saved :)\")"
   ]
  },
  {
   "cell_type": "markdown",
   "id": "c80a9e0c-039b-436a-b877-3054a5e7c99c",
   "metadata": {},
   "source": [
    "## check cultures_comorbidity.parquet file"
   ]
  },
  {
   "cell_type": "code",
   "execution_count": 4,
   "id": "c7fae1fc-09ad-4136-9524-1be78daf6aea",
   "metadata": {},
   "outputs": [
    {
     "name": "stdout",
     "output_type": "stream",
     "text": [
      "<class 'pandas.core.frame.DataFrame'>\n",
      "RangeIndex: 4554 entries, 0 to 4553\n",
      "Data columns (total 12 columns):\n",
      " #   Column                 Non-Null Count  Dtype\n",
      "---  ------                 --------------  -----\n",
      " 0   order_proc_id_coded    4554 non-null   int64\n",
      " 1   has_diabetes           4554 non-null   int8 \n",
      " 2   has_chf                4554 non-null   int8 \n",
      " 3   has_ckd                4554 non-null   int8 \n",
      " 4   has_cancer             4554 non-null   int8 \n",
      " 5   has_transplant         4554 non-null   int8 \n",
      " 6   has_immunosuppression  4554 non-null   int8 \n",
      " 7   has_copd               4554 non-null   int8 \n",
      " 8   has_liver_disease      4554 non-null   int8 \n",
      " 9   has_dementia           4554 non-null   int8 \n",
      " 10  has_stroke             4554 non-null   int8 \n",
      " 11  has_other_comorbid     4554 non-null   int8 \n",
      "dtypes: int64(1), int8(11)\n",
      "memory usage: 84.6 KB\n"
     ]
    }
   ],
   "source": [
    "import pandas as pd\n",
    "como = pd.read_parquet(\"new_sample_one_processed/processed_cultures_comorbidity.parquet\")\n",
    "como.info()"
   ]
  },
  {
   "cell_type": "markdown",
   "id": "a2aebe80-5462-4386-bb52-60fa0d8f1c5e",
   "metadata": {},
   "source": [
    "-----\n",
    "Some files like `prior_infecting_organism`, `nursing_home_visits`, and `adi_scores` could improve prediction — especially if I targete high resistance risk.\n",
    "\n",
    "Files like `implied_susceptibility` and `microbial_resistance` might be label-related.\n",
    "\n",
    "`cultures_priorprocedures` and `ward_info` are likely optional unless I want hospital-level factors.\n",
    "\n",
    "For now, I will do a merge and test if I get terrible results I will come back and complete the rest.\n"
   ]
  },
  {
   "cell_type": "markdown",
   "id": "62b831de-f41e-4cf0-be9d-ea31e7310bba",
   "metadata": {},
   "source": [
    "## Merge"
   ]
  },
  {
   "cell_type": "code",
   "execution_count": 1,
   "id": "4a348d0c-71ad-47bb-96ce-d72d8f278196",
   "metadata": {},
   "outputs": [
    {
     "name": "stdout",
     "output_type": "stream",
     "text": [
      "Starrt merging: left processed_cultures_cohort.parquet ; right processed_prior_med.parquet\n",
      "Merged result saved - Cols # 10\n"
     ]
    }
   ],
   "source": [
    "import dask.dataframe as dd\n",
    "import os\n",
    "\n",
    "linked_features = ['anon_id', 'pat_enc_csn_id_coded', 'order_proc_id_coded', 'order_time_jittered_utc']\n",
    "\n",
    "files_info_processed = [\n",
    "    {\n",
    "        \"name\": \"processed_cultures_cohort\",\n",
    "        \"path\": \"microbiology_cultures_cohort.csv\",\n",
    "        \"merge_on\": linked_features, \n",
    "        \"dtype\": {\n",
    "            \"anon_id\":\"object\",\n",
    "            \"pat_enc_csn_id_coded\":\"int64\",\n",
    "            \"order_proc_id_coded\":\"int64 \",\n",
    "            \"order_time_jittered_utc\":\"object\",\n",
    "            \"organism\": \"int8\",\n",
    "            \"antibiotic\": \"int8\",\n",
    "            \"susceptibility\": \"int8\"\n",
    "        }\n",
    "    },\n",
    "    {\n",
    "        \"name\": \"processed_prior_med\",\n",
    "        \"path\": \"microbiology_cultures_prior_med.csv\",\n",
    "        \"merge_on\": linked_features,\n",
    "        \"dtype\": {\n",
    "             \"anon_id\": \"object\",\n",
    "            \"pat_enc_csn_id_coded\": \"int64\",\n",
    "            \"order_proc_id_coded\": \"int64\",\n",
    "            \"order_time_jittered_utc\": \"object\",\n",
    "            \"medication_time_to_culturetime\": \"Int64\", \n",
    "            \"medication_category\": \"int8\",\n",
    "            \"med_within_30_days\": \"boolean\"\n",
    "        }\n",
    "    },\n",
    "    {\n",
    "        \"name\": \"processed_cultures_demographics\",\n",
    "        \"path\": \"microbiology_cultures_demographics.csv\",\n",
    "        \"merge_on\": linked_features[:3], \n",
    "        \"dtype\": {\n",
    "            \"anon_id\":\"object\",\n",
    "            \"pat_enc_csn_id_coded\":\"int64\",\n",
    "            \"order_proc_id_coded\":\"int64 \",\n",
    "            \"age\": \"int8\",\n",
    "            \"gender\": \"int8\"\n",
    "        }\n",
    "    },\n",
    "     {\n",
    "        \"name\": \"processed_cultures_labs\",\n",
    "        \"path\": \"microbiology_cultures_labs.csv\",\n",
    "        \"merge_on\": linked_features[:3], \n",
    "        \"dtype\": {\n",
    "            \"anon_id\": \"object\",\n",
    "            \"pat_enc_csn_id_coded\": \"int64\",\n",
    "            \"order_proc_id_coded\": \"int64\",\n",
    "            \"median_wbc\": \"float32\",\n",
    "            \"median_neutrophils\": \"float32\",\n",
    "            \"median_lymphocytes\": \"float32\",\n",
    "            \"median_hgb\": \"float32\",\n",
    "            \"median_plt\": \"float32\",\n",
    "            \"median_na\": \"float32\",\n",
    "            \"median_hco3\": \"float32\",\n",
    "            \"median_bun\": \"float32\",\n",
    "            \"median_cr\": \"float32\",\n",
    "            \"median_lactate\": \"float32\",\n",
    "            \"median_procalcitonin\": \"float32\",\n",
    "            \"delta_wbc\": \"float32\",\n",
    "            \"delta_na\": \"float32\",\n",
    "            \"delta_hco3\": \"float32\",\n",
    "            \"delta_bun\": \"float32\",\n",
    "            \"delta_cr\": \"float32\"\n",
    "        }\n",
    "    },\n",
    "    {\n",
    "        \"name\": \"processed_cultures_vitals\",\n",
    "        \"path\": \"microbiology_cultures_vitals.csv\",\n",
    "        \"merge_on\": linked_features[:3],\n",
    "        \"dtype\": {\n",
    "            \"anon_id\": \"object\",\n",
    "            \"pat_enc_csn_id_coded\": \"int64\",\n",
    "            \"order_proc_id_coded\": \"int64\",\n",
    "            \"median_heartrate\": \"float32\",\n",
    "            \"median_resprate\": \"float32\",\n",
    "            \"median_temp\": \"float32\",\n",
    "            \"median_sysbp\": \"float32\",\n",
    "            \"median_diasbp\": \"float32\",\n",
    "            \"delta_heartrate\": \"float32\",\n",
    "            \"delta_resprate\": \"float32\",\n",
    "            \"delta_temp\": \"float32\",\n",
    "            \"delta_sysbp\": \"float32\",\n",
    "            \"delta_diasbp\": \"float32\"\n",
    "        }\n",
    "    },\n",
    "     {\n",
    "        \"name\": \"processed_antibiotic_class_exposure\",\n",
    "        \"path\": \"microbiology_cultures_antibiotic_class_exposure.csv\",\n",
    "        \"merge_on\": linked_features, \n",
    "        \"dtype\": {\n",
    "            \"anon_id\": \"object\",\n",
    "            \"pat_enc_csn_id_coded\": \"int64\",\n",
    "            \"order_proc_id_coded\": \"int64\",\n",
    "            \"order_time_jittered_utc\": \"object\",\n",
    "            \"antibiotic_class\": \"int8\",\n",
    "            \"time_to_culturetime\": \"Int64\"  \n",
    "        }\n",
    "    },\n",
    "    {\n",
    "    \"name\": \"processed_antibiotic_subtype_exposure\",\n",
    "    \"path\": \"microbiology_cultures_antibiotic_subtype_exposure.csv\",\n",
    "    \"merge_on\": [\"anon_id\", \"pat_enc_csn_id_coded\", \"order_proc_id_coded\", \"order_time_jittered_utc\"],\n",
    "    \"dtype\": {\n",
    "        \"anon_id\": \"object\",\n",
    "        \"pat_enc_csn_id_coded\": \"int64\",\n",
    "        \"order_proc_id_coded\": \"int64\",\n",
    "        \"order_time_jittered_utc\": \"object\",\n",
    "        \"antibiotic_subtype\": \"int8\",\n",
    "        \"medication_time_to_cultureTime\": \"Int64\"  \n",
    "        }\n",
    "    },\n",
    "    # {\n",
    "    #     \"name\": \"processed_prior_infecting_organism\",\n",
    "    #     \"path\": \"microbiology_culture_prior_infecting_organism.csv\",\n",
    "    #     \"merge_on\": linked_features, \n",
    "    #     \"dtype\": {\n",
    "    #         \"prior_organism\": \"object\",\n",
    "    #         \"prior_infecting_organism_days_to_culutre\": \"Int64\"\n",
    "    #     }\n",
    "    # },\n",
    "    {\n",
    "    \"name\": \"processed_cultures_comorbidity\",\n",
    "    \"path\": \"microbiology_cultures_comorbidity.csv\",\n",
    "    \"merge_on\": [\"order_proc_id_coded\"], \n",
    "    \"dtype\": {\n",
    "        \"order_proc_id_coded\": \"int64\",\n",
    "        \"has_diabetes\": \"int8\",\n",
    "        \"has_chf\": \"int8\",\n",
    "        \"has_ckd\": \"int8\",\n",
    "        \"has_cancer\": \"int8\",\n",
    "        \"has_transplant\": \"int8\",\n",
    "        \"has_immunosuppression\": \"int8\",\n",
    "        \"has_copd\": \"int8\",\n",
    "        \"has_liver_disease\": \"int8\",\n",
    "        \"has_dementia\": \"int8\",\n",
    "        \"has_stroke\": \"int8\",\n",
    "        \"has_other_comorbid\": \"int8\"\n",
    "    }\n",
    "}\n",
    "\n",
    "]\n",
    "\n",
    "sample_folder = 'new_sample_one_processed/'\n",
    "merged_folder = 'merged_sample_one_processed/'\n",
    "os.makedirs(merged_folder, exist_ok=True)         \n",
    "\n",
    "file_df_pairs = [file['name'] + '.parquet' for file in files_info_processed]\n",
    "\n",
    "based_df_dtype = files_info_processed[0]['dtype']\n",
    "df_dtype = files_info_processed[1]['dtype']\n",
    "\n",
    "based_df = dd.read_parquet(sample_folder + file_df_pairs[0], \n",
    "                           dtype = based_df_dtype)\n",
    "df = dd.read_parquet(sample_folder + file_df_pairs[1], \n",
    "                           dtype = df_dtype )\n",
    "\n",
    "based_df = based_df.merge(df, how='left', on=files_info_processed[0]['merge_on'])\n",
    "\n",
    "print(f\"Starrt merging: left {files_info_processed[0]['name']}.parquet ; right {files_info_processed[1]['name']}.parquet\")\n",
    "\n",
    "based_df.to_parquet(\n",
    "            merged_folder,\n",
    "            engine='pyarrow',\n",
    "            compression='snappy',\n",
    "            write_index=False\n",
    "        )\n",
    "\n",
    "based_df_dtype.update(df_dtype)\n",
    "\n",
    "print(f\"Merged result saved - Cols # {len(based_df.columns)}\")"
   ]
  },
  {
   "cell_type": "code",
   "execution_count": 5,
   "id": "4022fb3b-030f-40a3-b251-c6a879c72c0e",
   "metadata": {},
   "outputs": [
    {
     "name": "stdout",
     "output_type": "stream",
     "text": [
      "Starrt merging: left Based File ; right processed_cultures_demographics.parquet\n",
      "Merged result saved - Cols # 12\n"
     ]
    }
   ],
   "source": [
    "\n",
    "df_dtype = files_info_processed[2]['dtype']\n",
    "based_df = dd.read_parquet(merged_folder +\"*.parquet\", \n",
    "                           dtype = based_df_dtype)\n",
    "df = dd.read_parquet(sample_folder + file_df_pairs[2], \n",
    "                           dtype = df_dtype )\n",
    "\n",
    "based_df = based_df.merge(df, how='left', on=files_info_processed[2]['merge_on'])\n",
    "\n",
    "print(f\"Starrt merging: left Based File ; right {files_info_processed[2]['name']}.parquet\")\n",
    "\n",
    "based_df.to_parquet(\n",
    "            merged_folder,\n",
    "            engine='pyarrow',\n",
    "            compression='snappy',\n",
    "            write_index=False\n",
    "        )\n",
    "\n",
    "based_df_dtype.update(df_dtype)\n",
    "\n",
    "print(f\"Merged result saved - Cols # {len(based_df.columns)}\")"
   ]
  },
  {
   "cell_type": "code",
   "execution_count": 7,
   "id": "f5c2fb98-a032-425d-ba61-69c04af6a07e",
   "metadata": {},
   "outputs": [
    {
     "name": "stdout",
     "output_type": "stream",
     "text": [
      "Starrt merging: left Based File ; right processed_cultures_labs.parquet\n",
      "Merged result saved - Cols # 28\n"
     ]
    }
   ],
   "source": [
    "\n",
    "df_dtype = files_info_processed[3]['dtype']\n",
    "based_df = dd.read_parquet(merged_folder +\"*.parquet\", \n",
    "                           dtype = based_df_dtype)\n",
    "df = dd.read_parquet(sample_folder + file_df_pairs[3], \n",
    "                           dtype = df_dtype )\n",
    "\n",
    "based_df = based_df.merge(df, how='left', on=files_info_processed[3]['merge_on'])\n",
    "\n",
    "print(f\"Starrt merging: left Based File ; right {files_info_processed[3]['name']}.parquet\")\n",
    "\n",
    "based_df.to_parquet(\n",
    "            merged_folder,\n",
    "            engine='pyarrow',\n",
    "            compression='snappy',\n",
    "            write_index=False\n",
    "        )\n",
    "\n",
    "based_df_dtype.update(df_dtype)\n",
    "\n",
    "print(f\"Merged result saved - Cols # {len(based_df.columns)}\")"
   ]
  },
  {
   "cell_type": "code",
   "execution_count": 9,
   "id": "e0078dca-2b66-426f-80c8-f23bae0babe3",
   "metadata": {},
   "outputs": [
    {
     "name": "stdout",
     "output_type": "stream",
     "text": [
      "Starrt merging: left Based File ; right processed_cultures_vitals.parquet\n",
      "Merged result saved - Cols # 38\n"
     ]
    }
   ],
   "source": [
    "\n",
    "df_dtype = files_info_processed[4]['dtype']\n",
    "based_df = dd.read_parquet(merged_folder +\"*.parquet\", \n",
    "                           dtype = based_df_dtype)\n",
    "df = dd.read_parquet(sample_folder + file_df_pairs[4], \n",
    "                           dtype = df_dtype )\n",
    "\n",
    "based_df = based_df.merge(df, how='left', on=files_info_processed[4]['merge_on'])\n",
    "\n",
    "print(f\"Starrt merging: left Based File ; right {files_info_processed[4]['name']}.parquet\")\n",
    "\n",
    "based_df.to_parquet(\n",
    "            merged_folder,\n",
    "            engine='pyarrow',\n",
    "            compression='snappy',\n",
    "            write_index=False\n",
    "        )\n",
    "\n",
    "based_df_dtype.update(df_dtype)\n",
    "\n",
    "print(f\"Merged result saved - Cols # {len(based_df.columns)}\")"
   ]
  },
  {
   "cell_type": "markdown",
   "id": "f776bf3f-3931-4cc5-8ebb-f56b23d9beca",
   "metadata": {},
   "source": [
    "## check the merge result until now!"
   ]
  },
  {
   "cell_type": "code",
   "execution_count": 12,
   "id": "30302eec-507b-46aa-9668-2755a3e4be63",
   "metadata": {},
   "outputs": [
    {
     "name": "stdout",
     "output_type": "stream",
     "text": [
      "Shape: (249369,38)\n"
     ]
    }
   ],
   "source": [
    "based_df = dd.read_parquet(merged_folder +\"*.parquet\", \n",
    "                           dtype = based_df_dtype)\n",
    "num_cols = len(based_df.columns)\n",
    "num_rows = based_df.shape[0].compute()\n",
    "print(f\"Shape: ({num_rows},{num_cols})\")"
   ]
  },
  {
   "cell_type": "code",
   "execution_count": 14,
   "id": "6b3aa7c7-5197-4042-a107-457a19da4728",
   "metadata": {},
   "outputs": [
    {
     "name": "stdout",
     "output_type": "stream",
     "text": [
      "Starrt merging: left Based File ; right processed_antibiotic_class_exposure.parquet\n",
      "Merged result saved - Cols # 40\n"
     ]
    }
   ],
   "source": [
    "\n",
    "df_dtype = files_info_processed[5]['dtype']\n",
    "based_df = dd.read_parquet(merged_folder +\"*.parquet\", \n",
    "                           dtype = based_df_dtype)\n",
    "df = dd.read_parquet(sample_folder + file_df_pairs[5], \n",
    "                           dtype = df_dtype )\n",
    "\n",
    "based_df = based_df.merge(df, how='left', on=files_info_processed[5]['merge_on'])\n",
    "\n",
    "print(f\"Starrt merging: left Based File ; right {files_info_processed[5]['name']}.parquet\")\n",
    "\n",
    "based_df.to_parquet(\n",
    "            merged_folder,\n",
    "            engine='pyarrow',\n",
    "            compression='snappy',\n",
    "            write_index=False\n",
    "        )\n",
    "\n",
    "based_df_dtype.update(df_dtype)\n",
    "\n",
    "print(f\"Merged result saved - Cols # {len(based_df.columns)}\")"
   ]
  },
  {
   "cell_type": "markdown",
   "id": "b82dca81-d062-462d-9ea3-48fc992fbb84",
   "metadata": {},
   "source": [
    "**Because i expect the error from now i will save the result into new file to keep last merge valid**"
   ]
  },
  {
   "cell_type": "code",
   "execution_count": 3,
   "id": "92030f0f-d2ab-4d2e-ab93-d82faa4a6442",
   "metadata": {},
   "outputs": [],
   "source": [
    "linked_features = ['anon_id', 'pat_enc_csn_id_coded', 'order_proc_id_coded', 'order_time_jittered_utc']\n",
    "\n",
    "files_info_processed = [\n",
    "    {\n",
    "        \"name\": \"processed_cultures_cohort\",\n",
    "        \"path\": \"microbiology_cultures_cohort.csv\",\n",
    "        \"merge_on\": linked_features, \n",
    "        \"dtype\": {\n",
    "            \"anon_id\":\"object\",\n",
    "            \"pat_enc_csn_id_coded\":\"int64\",\n",
    "            \"order_proc_id_coded\":\"int64 \",\n",
    "            \"order_time_jittered_utc\":\"object\",\n",
    "            \"organism\": \"int8\",\n",
    "            \"antibiotic\": \"int8\",\n",
    "            \"susceptibility\": \"int8\"\n",
    "        }\n",
    "    },\n",
    "    {\n",
    "        \"name\": \"processed_prior_med\",\n",
    "        \"path\": \"microbiology_cultures_prior_med.csv\",\n",
    "        \"merge_on\": linked_features,\n",
    "        \"dtype\": {\n",
    "             \"anon_id\": \"object\",\n",
    "            \"pat_enc_csn_id_coded\": \"int64\",\n",
    "            \"order_proc_id_coded\": \"int64\",\n",
    "            \"order_time_jittered_utc\": \"object\",\n",
    "            \"medication_time_to_culturetime\": \"Int64\", \n",
    "            \"medication_category\": \"int8\",\n",
    "            \"med_within_30_days\": \"boolean\"\n",
    "        }\n",
    "    },\n",
    "    {\n",
    "        \"name\": \"processed_cultures_demographics\",\n",
    "        \"path\": \"microbiology_cultures_demographics.csv\",\n",
    "        \"merge_on\": linked_features[:3], \n",
    "        \"dtype\": {\n",
    "            \"anon_id\":\"object\",\n",
    "            \"pat_enc_csn_id_coded\":\"int64\",\n",
    "            \"order_proc_id_coded\":\"int64 \",\n",
    "            \"age\": \"int8\",\n",
    "            \"gender\": \"int8\"\n",
    "        }\n",
    "    },\n",
    "     {\n",
    "        \"name\": \"processed_cultures_labs\",\n",
    "        \"path\": \"microbiology_cultures_labs.csv\",\n",
    "        \"merge_on\": linked_features[:3], \n",
    "        \"dtype\": {\n",
    "            \"anon_id\": \"object\",\n",
    "            \"pat_enc_csn_id_coded\": \"int64\",\n",
    "            \"order_proc_id_coded\": \"int64\",\n",
    "            \"median_wbc\": \"float32\",\n",
    "            \"median_neutrophils\": \"float32\",\n",
    "            \"median_lymphocytes\": \"float32\",\n",
    "            \"median_hgb\": \"float32\",\n",
    "            \"median_plt\": \"float32\",\n",
    "            \"median_na\": \"float32\",\n",
    "            \"median_hco3\": \"float32\",\n",
    "            \"median_bun\": \"float32\",\n",
    "            \"median_cr\": \"float32\",\n",
    "            \"median_lactate\": \"float32\",\n",
    "            \"median_procalcitonin\": \"float32\",\n",
    "            \"delta_wbc\": \"float32\",\n",
    "            \"delta_na\": \"float32\",\n",
    "            \"delta_hco3\": \"float32\",\n",
    "            \"delta_bun\": \"float32\",\n",
    "            \"delta_cr\": \"float32\"\n",
    "        }\n",
    "    },\n",
    "    {\n",
    "        \"name\": \"processed_cultures_vitals\",\n",
    "        \"path\": \"microbiology_cultures_vitals.csv\",\n",
    "        \"merge_on\": linked_features[:3],\n",
    "        \"dtype\": {\n",
    "            \"anon_id\": \"object\",\n",
    "            \"pat_enc_csn_id_coded\": \"int64\",\n",
    "            \"order_proc_id_coded\": \"int64\",\n",
    "            \"median_heartrate\": \"float32\",\n",
    "            \"median_resprate\": \"float32\",\n",
    "            \"median_temp\": \"float32\",\n",
    "            \"median_sysbp\": \"float32\",\n",
    "            \"median_diasbp\": \"float32\",\n",
    "            \"delta_heartrate\": \"float32\",\n",
    "            \"delta_resprate\": \"float32\",\n",
    "            \"delta_temp\": \"float32\",\n",
    "            \"delta_sysbp\": \"float32\",\n",
    "            \"delta_diasbp\": \"float32\"\n",
    "        }\n",
    "    },\n",
    "     {\n",
    "        \"name\": \"processed_antibiotic_class_exposure\",\n",
    "        \"path\": \"microbiology_cultures_antibiotic_class_exposure.csv\",\n",
    "        \"merge_on\": linked_features, \n",
    "        \"dtype\": {\n",
    "            \"anon_id\": \"object\",\n",
    "            \"pat_enc_csn_id_coded\": \"int64\",\n",
    "            \"order_proc_id_coded\": \"int64\",\n",
    "            \"order_time_jittered_utc\": \"object\",\n",
    "            \"antibiotic_class\": \"int8\",\n",
    "            \"time_to_culturetime\": \"Int64\"  \n",
    "        }\n",
    "    },\n",
    "    {\n",
    "    \"name\": \"processed_antibiotic_subtype_exposure\",\n",
    "    \"path\": \"microbiology_cultures_antibiotic_subtype_exposure.csv\",\n",
    "    \"merge_on\": [\"anon_id\", \"pat_enc_csn_id_coded\", \"order_proc_id_coded\", \"order_time_jittered_utc\"],\n",
    "    \"dtype\": {\n",
    "        \"anon_id\": \"object\",\n",
    "        \"pat_enc_csn_id_coded\": \"int64\",\n",
    "        \"order_proc_id_coded\": \"int64\",\n",
    "        \"order_time_jittered_utc\": \"object\",\n",
    "        \"antibiotic_subtype\": \"int8\",\n",
    "        \"medication_time_to_cultureTime\": \"Int64\"  \n",
    "        }\n",
    "    },\n",
    "    # {\n",
    "    #     \"name\": \"processed_prior_infecting_organism\",\n",
    "    #     \"path\": \"microbiology_culture_prior_infecting_organism.csv\",\n",
    "    #     \"merge_on\": linked_features, \n",
    "    #     \"dtype\": {\n",
    "    #         \"prior_organism\": \"object\",\n",
    "    #         \"prior_infecting_organism_days_to_culutre\": \"Int64\"\n",
    "    #     }\n",
    "    # },\n",
    "    {\n",
    "    \"name\": \"processed_cultures_comorbidity\",\n",
    "    \"path\": \"microbiology_cultures_comorbidity.csv\",\n",
    "    \"merge_on\": [\"order_proc_id_coded\"], \n",
    "    \"dtype\": {\n",
    "        \"order_proc_id_coded\": \"int64\",\n",
    "        \"has_diabetes\": \"int8\",\n",
    "        \"has_chf\": \"int8\",\n",
    "        \"has_ckd\": \"int8\",\n",
    "        \"has_cancer\": \"int8\",\n",
    "        \"has_transplant\": \"int8\",\n",
    "        \"has_immunosuppression\": \"int8\",\n",
    "        \"has_copd\": \"int8\",\n",
    "        \"has_liver_disease\": \"int8\",\n",
    "        \"has_dementia\": \"int8\",\n",
    "        \"has_stroke\": \"int8\",\n",
    "        \"has_other_comorbid\": \"int8\"\n",
    "    }\n",
    "}\n",
    "\n",
    "]"
   ]
  },
  {
   "cell_type": "code",
   "execution_count": 5,
   "id": "e4c9c658-a510-4b94-ab0b-499adaafa6b0",
   "metadata": {
    "collapsed": true,
    "jupyter": {
     "outputs_hidden": true
    }
   },
   "outputs": [
    {
     "name": "stdout",
     "output_type": "stream",
     "text": [
      "Starrt merging: left Based File ; right processed_antibiotic_subtype_exposure.parquet\n"
     ]
    },
    {
     "ename": "ArrowInvalid",
     "evalue": "Take operation overflowed binary array capacity",
     "output_type": "error",
     "traceback": [
      "\u001b[1;31m---------------------------------------------------------------------------\u001b[0m",
      "\u001b[1;31mArrowInvalid\u001b[0m                              Traceback (most recent call last)",
      "Cell \u001b[1;32mIn[5], line 31\u001b[0m\n\u001b[0;32m     27\u001b[0m based_df \u001b[38;5;241m=\u001b[39m based_df\u001b[38;5;241m.\u001b[39mrepartition(partition_size\u001b[38;5;241m=\u001b[39m\u001b[38;5;124m\"\u001b[39m\u001b[38;5;124m100MB\u001b[39m\u001b[38;5;124m\"\u001b[39m)\n\u001b[0;32m     29\u001b[0m \u001b[38;5;28mprint\u001b[39m(\u001b[38;5;124mf\u001b[39m\u001b[38;5;124m\"\u001b[39m\u001b[38;5;124mStarrt merging: left Based File ; right \u001b[39m\u001b[38;5;132;01m{\u001b[39;00mfiles_info_processed[\u001b[38;5;241m6\u001b[39m][\u001b[38;5;124m'\u001b[39m\u001b[38;5;124mname\u001b[39m\u001b[38;5;124m'\u001b[39m]\u001b[38;5;132;01m}\u001b[39;00m\u001b[38;5;124m.parquet\u001b[39m\u001b[38;5;124m\"\u001b[39m)\n\u001b[1;32m---> 31\u001b[0m based_df\u001b[38;5;241m.\u001b[39mto_parquet(\n\u001b[0;32m     32\u001b[0m     merged_folder \u001b[38;5;241m+\u001b[39m \u001b[38;5;124m'\u001b[39m\u001b[38;5;124mmerge_antibiotic_subtype_exposure\u001b[39m\u001b[38;5;124m'\u001b[39m,\n\u001b[0;32m     33\u001b[0m     engine\u001b[38;5;241m=\u001b[39m\u001b[38;5;124m'\u001b[39m\u001b[38;5;124mpyarrow\u001b[39m\u001b[38;5;124m'\u001b[39m,\n\u001b[0;32m     34\u001b[0m     compression\u001b[38;5;241m=\u001b[39m\u001b[38;5;124m'\u001b[39m\u001b[38;5;124msnappy\u001b[39m\u001b[38;5;124m'\u001b[39m,\n\u001b[0;32m     35\u001b[0m     write_index\u001b[38;5;241m=\u001b[39m\u001b[38;5;28;01mFalse\u001b[39;00m\n\u001b[0;32m     36\u001b[0m )\n\u001b[0;32m     38\u001b[0m based_df_dtype\u001b[38;5;241m.\u001b[39mupdate(df_dtype)\n\u001b[0;32m     39\u001b[0m \u001b[38;5;28mprint\u001b[39m(\u001b[38;5;124mf\u001b[39m\u001b[38;5;124m\"\u001b[39m\u001b[38;5;124mMerged result saved - Cols # \u001b[39m\u001b[38;5;132;01m{\u001b[39;00m\u001b[38;5;28mlen\u001b[39m(based_df\u001b[38;5;241m.\u001b[39mcolumns)\u001b[38;5;132;01m}\u001b[39;00m\u001b[38;5;124m\"\u001b[39m)\n",
      "File \u001b[1;32mD:\\anaconda3\\Lib\\site-packages\\dask\\dataframe\\dask_expr\\_collection.py:3314\u001b[0m, in \u001b[0;36mDataFrame.to_parquet\u001b[1;34m(self, path, **kwargs)\u001b[0m\n\u001b[0;32m   3311\u001b[0m \u001b[38;5;28;01mdef\u001b[39;00m\u001b[38;5;250m \u001b[39m\u001b[38;5;21mto_parquet\u001b[39m(\u001b[38;5;28mself\u001b[39m, path, \u001b[38;5;241m*\u001b[39m\u001b[38;5;241m*\u001b[39mkwargs):\n\u001b[0;32m   3312\u001b[0m     \u001b[38;5;28;01mfrom\u001b[39;00m\u001b[38;5;250m \u001b[39m\u001b[38;5;21;01mdask\u001b[39;00m\u001b[38;5;21;01m.\u001b[39;00m\u001b[38;5;21;01mdataframe\u001b[39;00m\u001b[38;5;21;01m.\u001b[39;00m\u001b[38;5;21;01mdask_expr\u001b[39;00m\u001b[38;5;21;01m.\u001b[39;00m\u001b[38;5;21;01mio\u001b[39;00m\u001b[38;5;21;01m.\u001b[39;00m\u001b[38;5;21;01mparquet\u001b[39;00m\u001b[38;5;250m \u001b[39m\u001b[38;5;28;01mimport\u001b[39;00m to_parquet\n\u001b[1;32m-> 3314\u001b[0m     \u001b[38;5;28;01mreturn\u001b[39;00m to_parquet(\u001b[38;5;28mself\u001b[39m, path, \u001b[38;5;241m*\u001b[39m\u001b[38;5;241m*\u001b[39mkwargs)\n",
      "File \u001b[1;32mD:\\anaconda3\\Lib\\site-packages\\dask\\dataframe\\dask_expr\\io\\parquet.py:534\u001b[0m, in \u001b[0;36mto_parquet\u001b[1;34m(df, path, compression, write_index, append, overwrite, ignore_divisions, partition_on, storage_options, custom_metadata, write_metadata_file, compute, compute_kwargs, schema, name_function, filesystem, engine, **kwargs)\u001b[0m\n\u001b[0;32m    531\u001b[0m     _cached_plan\u001b[38;5;241m.\u001b[39mclear()\n\u001b[0;32m    533\u001b[0m \u001b[38;5;66;03m# Always skip divisions checks if divisions are unknown\u001b[39;00m\n\u001b[1;32m--> 534\u001b[0m \u001b[38;5;28;01mif\u001b[39;00m \u001b[38;5;129;01mnot\u001b[39;00m df\u001b[38;5;241m.\u001b[39mknown_divisions:\n\u001b[0;32m    535\u001b[0m     ignore_divisions \u001b[38;5;241m=\u001b[39m \u001b[38;5;28;01mTrue\u001b[39;00m\n\u001b[0;32m    537\u001b[0m \u001b[38;5;66;03m# Save divisions and corresponding index name. This is necessary,\u001b[39;00m\n\u001b[0;32m    538\u001b[0m \u001b[38;5;66;03m# because we may be resetting the index to write the file\u001b[39;00m\n",
      "File \u001b[1;32mD:\\anaconda3\\Lib\\site-packages\\dask\\dataframe\\dask_expr\\_collection.py:638\u001b[0m, in \u001b[0;36mFrameBase.known_divisions\u001b[1;34m(self)\u001b[0m\n\u001b[0;32m    630\u001b[0m \u001b[38;5;129m@property\u001b[39m\n\u001b[0;32m    631\u001b[0m \u001b[38;5;28;01mdef\u001b[39;00m\u001b[38;5;250m \u001b[39m\u001b[38;5;21mknown_divisions\u001b[39m(\u001b[38;5;28mself\u001b[39m):\n\u001b[0;32m    632\u001b[0m \u001b[38;5;250m    \u001b[39m\u001b[38;5;124;03m\"\"\"Whether the divisions are known.\u001b[39;00m\n\u001b[0;32m    633\u001b[0m \n\u001b[0;32m    634\u001b[0m \u001b[38;5;124;03m    This check can be expensive if the division calculation is expensive.\u001b[39;00m\n\u001b[0;32m    635\u001b[0m \u001b[38;5;124;03m    DataFrame.set_index is a good example where the calculation needs an\u001b[39;00m\n\u001b[0;32m    636\u001b[0m \u001b[38;5;124;03m    inspection of the data.\u001b[39;00m\n\u001b[0;32m    637\u001b[0m \u001b[38;5;124;03m    \"\"\"\u001b[39;00m\n\u001b[1;32m--> 638\u001b[0m     \u001b[38;5;28;01mreturn\u001b[39;00m \u001b[38;5;28mself\u001b[39m\u001b[38;5;241m.\u001b[39mexpr\u001b[38;5;241m.\u001b[39mknown_divisions\n",
      "File \u001b[1;32mD:\\anaconda3\\Lib\\site-packages\\dask\\dataframe\\dask_expr\\_expr.py:439\u001b[0m, in \u001b[0;36mExpr.known_divisions\u001b[1;34m(self)\u001b[0m\n\u001b[0;32m    436\u001b[0m \u001b[38;5;129m@property\u001b[39m\n\u001b[0;32m    437\u001b[0m \u001b[38;5;28;01mdef\u001b[39;00m\u001b[38;5;250m \u001b[39m\u001b[38;5;21mknown_divisions\u001b[39m(\u001b[38;5;28mself\u001b[39m):\n\u001b[0;32m    438\u001b[0m \u001b[38;5;250m    \u001b[39m\u001b[38;5;124;03m\"\"\"Whether divisions are already known\"\"\"\u001b[39;00m\n\u001b[1;32m--> 439\u001b[0m     \u001b[38;5;28;01mreturn\u001b[39;00m \u001b[38;5;28mlen\u001b[39m(\u001b[38;5;28mself\u001b[39m\u001b[38;5;241m.\u001b[39mdivisions) \u001b[38;5;241m>\u001b[39m \u001b[38;5;241m0\u001b[39m \u001b[38;5;129;01mand\u001b[39;00m \u001b[38;5;28mself\u001b[39m\u001b[38;5;241m.\u001b[39mdivisions[\u001b[38;5;241m0\u001b[39m] \u001b[38;5;129;01mis\u001b[39;00m \u001b[38;5;129;01mnot\u001b[39;00m \u001b[38;5;28;01mNone\u001b[39;00m\n",
      "File \u001b[1;32mD:\\anaconda3\\Lib\\functools.py:1001\u001b[0m, in \u001b[0;36mcached_property.__get__\u001b[1;34m(self, instance, owner)\u001b[0m\n\u001b[0;32m    999\u001b[0m val \u001b[38;5;241m=\u001b[39m cache\u001b[38;5;241m.\u001b[39mget(\u001b[38;5;28mself\u001b[39m\u001b[38;5;241m.\u001b[39mattrname, _NOT_FOUND)\n\u001b[0;32m   1000\u001b[0m \u001b[38;5;28;01mif\u001b[39;00m val \u001b[38;5;129;01mis\u001b[39;00m _NOT_FOUND:\n\u001b[1;32m-> 1001\u001b[0m     val \u001b[38;5;241m=\u001b[39m \u001b[38;5;28mself\u001b[39m\u001b[38;5;241m.\u001b[39mfunc(instance)\n\u001b[0;32m   1002\u001b[0m     \u001b[38;5;28;01mtry\u001b[39;00m:\n\u001b[0;32m   1003\u001b[0m         cache[\u001b[38;5;28mself\u001b[39m\u001b[38;5;241m.\u001b[39mattrname] \u001b[38;5;241m=\u001b[39m val\n",
      "File \u001b[1;32mD:\\anaconda3\\Lib\\site-packages\\dask\\dataframe\\dask_expr\\_expr.py:431\u001b[0m, in \u001b[0;36mExpr.divisions\u001b[1;34m(self)\u001b[0m\n\u001b[0;32m    429\u001b[0m \u001b[38;5;129m@functools\u001b[39m\u001b[38;5;241m.\u001b[39mcached_property\n\u001b[0;32m    430\u001b[0m \u001b[38;5;28;01mdef\u001b[39;00m\u001b[38;5;250m \u001b[39m\u001b[38;5;21mdivisions\u001b[39m(\u001b[38;5;28mself\u001b[39m):\n\u001b[1;32m--> 431\u001b[0m     \u001b[38;5;28;01mreturn\u001b[39;00m \u001b[38;5;28mtuple\u001b[39m(\u001b[38;5;28mself\u001b[39m\u001b[38;5;241m.\u001b[39m_divisions())\n",
      "File \u001b[1;32mD:\\anaconda3\\Lib\\site-packages\\dask\\dataframe\\dask_expr\\_repartition.py:57\u001b[0m, in \u001b[0;36mRepartition._divisions\u001b[1;34m(self)\u001b[0m\n\u001b[0;32m     52\u001b[0m \u001b[38;5;28;01mdef\u001b[39;00m\u001b[38;5;250m \u001b[39m\u001b[38;5;21m_divisions\u001b[39m(\u001b[38;5;28mself\u001b[39m):\n\u001b[0;32m     53\u001b[0m     \u001b[38;5;28;01mif\u001b[39;00m (\n\u001b[0;32m     54\u001b[0m         \u001b[38;5;28mself\u001b[39m\u001b[38;5;241m.\u001b[39moperand(\u001b[38;5;124m\"\u001b[39m\u001b[38;5;124mnew_partitions\u001b[39m\u001b[38;5;124m\"\u001b[39m) \u001b[38;5;129;01mis\u001b[39;00m \u001b[38;5;129;01mnot\u001b[39;00m \u001b[38;5;28;01mNone\u001b[39;00m\n\u001b[0;32m     55\u001b[0m         \u001b[38;5;129;01mor\u001b[39;00m \u001b[38;5;28mself\u001b[39m\u001b[38;5;241m.\u001b[39mpartition_size \u001b[38;5;129;01mis\u001b[39;00m \u001b[38;5;129;01mnot\u001b[39;00m \u001b[38;5;28;01mNone\u001b[39;00m\n\u001b[0;32m     56\u001b[0m     ):\n\u001b[1;32m---> 57\u001b[0m         x \u001b[38;5;241m=\u001b[39m \u001b[38;5;28mself\u001b[39m\u001b[38;5;241m.\u001b[39moptimize(fuse\u001b[38;5;241m=\u001b[39m\u001b[38;5;28;01mFalse\u001b[39;00m)\n\u001b[0;32m     58\u001b[0m         \u001b[38;5;28;01mreturn\u001b[39;00m x\u001b[38;5;241m.\u001b[39m_divisions()\n\u001b[0;32m     59\u001b[0m     \u001b[38;5;28;01mreturn\u001b[39;00m \u001b[38;5;28mself\u001b[39m\u001b[38;5;241m.\u001b[39mnew_divisions\n",
      "File \u001b[1;32mD:\\anaconda3\\Lib\\site-packages\\dask\\dataframe\\dask_expr\\_expr.py:97\u001b[0m, in \u001b[0;36mExpr.optimize\u001b[1;34m(self, **kwargs)\u001b[0m\n\u001b[0;32m     96\u001b[0m \u001b[38;5;28;01mdef\u001b[39;00m\u001b[38;5;250m \u001b[39m\u001b[38;5;21moptimize\u001b[39m(\u001b[38;5;28mself\u001b[39m, \u001b[38;5;241m*\u001b[39m\u001b[38;5;241m*\u001b[39mkwargs):\n\u001b[1;32m---> 97\u001b[0m     \u001b[38;5;28;01mreturn\u001b[39;00m optimize(\u001b[38;5;28mself\u001b[39m, \u001b[38;5;241m*\u001b[39m\u001b[38;5;241m*\u001b[39mkwargs)\n",
      "File \u001b[1;32mD:\\anaconda3\\Lib\\site-packages\\dask\\_expr.py:922\u001b[0m, in \u001b[0;36moptimize\u001b[1;34m(expr, fuse)\u001b[0m\n\u001b[0;32m    901\u001b[0m \u001b[38;5;250m\u001b[39m\u001b[38;5;124;03m\"\"\"High level query optimization\u001b[39;00m\n\u001b[0;32m    902\u001b[0m \n\u001b[0;32m    903\u001b[0m \u001b[38;5;124;03mThis leverages three optimization passes:\u001b[39;00m\n\u001b[1;32m   (...)\u001b[0m\n\u001b[0;32m    918\u001b[0m \u001b[38;5;124;03moptimize_blockwise_fusion\u001b[39;00m\n\u001b[0;32m    919\u001b[0m \u001b[38;5;124;03m\"\"\"\u001b[39;00m\n\u001b[0;32m    920\u001b[0m stage: OptimizerStage \u001b[38;5;241m=\u001b[39m \u001b[38;5;124m\"\u001b[39m\u001b[38;5;124mfused\u001b[39m\u001b[38;5;124m\"\u001b[39m \u001b[38;5;28;01mif\u001b[39;00m fuse \u001b[38;5;28;01melse\u001b[39;00m \u001b[38;5;124m\"\u001b[39m\u001b[38;5;124msimplified-physical\u001b[39m\u001b[38;5;124m\"\u001b[39m\n\u001b[1;32m--> 922\u001b[0m \u001b[38;5;28;01mreturn\u001b[39;00m optimize_until(expr, stage)\n",
      "File \u001b[1;32mD:\\anaconda3\\Lib\\site-packages\\dask\\_expr.py:941\u001b[0m, in \u001b[0;36moptimize_until\u001b[1;34m(expr, stage)\u001b[0m\n\u001b[0;32m    938\u001b[0m     \u001b[38;5;28;01mreturn\u001b[39;00m expr\n\u001b[0;32m    940\u001b[0m \u001b[38;5;66;03m# Lower\u001b[39;00m\n\u001b[1;32m--> 941\u001b[0m expr \u001b[38;5;241m=\u001b[39m expr\u001b[38;5;241m.\u001b[39mlower_completely()\n\u001b[0;32m    942\u001b[0m \u001b[38;5;28;01mif\u001b[39;00m stage \u001b[38;5;241m==\u001b[39m \u001b[38;5;124m\"\u001b[39m\u001b[38;5;124mphysical\u001b[39m\u001b[38;5;124m\"\u001b[39m:\n\u001b[0;32m    943\u001b[0m     \u001b[38;5;28;01mreturn\u001b[39;00m expr\n",
      "File \u001b[1;32mD:\\anaconda3\\Lib\\site-packages\\dask\\_expr.py:520\u001b[0m, in \u001b[0;36mExpr.lower_completely\u001b[1;34m(self)\u001b[0m\n\u001b[0;32m    518\u001b[0m lowered: \u001b[38;5;28mdict\u001b[39m \u001b[38;5;241m=\u001b[39m {}\n\u001b[0;32m    519\u001b[0m \u001b[38;5;28;01mwhile\u001b[39;00m \u001b[38;5;28;01mTrue\u001b[39;00m:\n\u001b[1;32m--> 520\u001b[0m     new \u001b[38;5;241m=\u001b[39m expr\u001b[38;5;241m.\u001b[39mlower_once(lowered)\n\u001b[0;32m    521\u001b[0m     \u001b[38;5;28;01mif\u001b[39;00m new\u001b[38;5;241m.\u001b[39m_name \u001b[38;5;241m==\u001b[39m expr\u001b[38;5;241m.\u001b[39m_name:\n\u001b[0;32m    522\u001b[0m         \u001b[38;5;28;01mbreak\u001b[39;00m\n",
      "File \u001b[1;32mD:\\anaconda3\\Lib\\site-packages\\dask\\_expr.py:475\u001b[0m, in \u001b[0;36mExpr.lower_once\u001b[1;34m(self, lowered)\u001b[0m\n\u001b[0;32m    472\u001b[0m expr \u001b[38;5;241m=\u001b[39m \u001b[38;5;28mself\u001b[39m\n\u001b[0;32m    474\u001b[0m \u001b[38;5;66;03m# Lower this node\u001b[39;00m\n\u001b[1;32m--> 475\u001b[0m out \u001b[38;5;241m=\u001b[39m expr\u001b[38;5;241m.\u001b[39m_lower()\n\u001b[0;32m    476\u001b[0m \u001b[38;5;28;01mif\u001b[39;00m out \u001b[38;5;129;01mis\u001b[39;00m \u001b[38;5;28;01mNone\u001b[39;00m:\n\u001b[0;32m    477\u001b[0m     out \u001b[38;5;241m=\u001b[39m expr\n",
      "File \u001b[1;32mD:\\anaconda3\\Lib\\site-packages\\dask\\dataframe\\dask_expr\\_repartition.py:462\u001b[0m, in \u001b[0;36mRepartitionSize._lower\u001b[1;34m(self)\u001b[0m\n\u001b[0;32m    460\u001b[0m \u001b[38;5;28;01mdef\u001b[39;00m\u001b[38;5;250m \u001b[39m\u001b[38;5;21m_lower\u001b[39m(\u001b[38;5;28mself\u001b[39m):\n\u001b[0;32m    461\u001b[0m     \u001b[38;5;66;03m# populate cache\u001b[39;00m\n\u001b[1;32m--> 462\u001b[0m     \u001b[38;5;28mself\u001b[39m\u001b[38;5;241m.\u001b[39m_mem_usage  \u001b[38;5;66;03m# noqa\u001b[39;00m\n\u001b[0;32m    463\u001b[0m     \u001b[38;5;28;01mreturn\u001b[39;00m \u001b[38;5;28msuper\u001b[39m()\u001b[38;5;241m.\u001b[39m_lower()\n",
      "File \u001b[1;32mD:\\anaconda3\\Lib\\functools.py:1001\u001b[0m, in \u001b[0;36mcached_property.__get__\u001b[1;34m(self, instance, owner)\u001b[0m\n\u001b[0;32m    999\u001b[0m val \u001b[38;5;241m=\u001b[39m cache\u001b[38;5;241m.\u001b[39mget(\u001b[38;5;28mself\u001b[39m\u001b[38;5;241m.\u001b[39mattrname, _NOT_FOUND)\n\u001b[0;32m   1000\u001b[0m \u001b[38;5;28;01mif\u001b[39;00m val \u001b[38;5;129;01mis\u001b[39;00m _NOT_FOUND:\n\u001b[1;32m-> 1001\u001b[0m     val \u001b[38;5;241m=\u001b[39m \u001b[38;5;28mself\u001b[39m\u001b[38;5;241m.\u001b[39mfunc(instance)\n\u001b[0;32m   1002\u001b[0m     \u001b[38;5;28;01mtry\u001b[39;00m:\n\u001b[0;32m   1003\u001b[0m         cache[\u001b[38;5;28mself\u001b[39m\u001b[38;5;241m.\u001b[39mattrname] \u001b[38;5;241m=\u001b[39m val\n",
      "File \u001b[1;32mD:\\anaconda3\\Lib\\site-packages\\dask\\dataframe\\dask_expr\\_repartition.py:431\u001b[0m, in \u001b[0;36mRepartitionSize._mem_usage\u001b[1;34m(self)\u001b[0m\n\u001b[0;32m    429\u001b[0m \u001b[38;5;129m@functools\u001b[39m\u001b[38;5;241m.\u001b[39mcached_property\n\u001b[0;32m    430\u001b[0m \u001b[38;5;28;01mdef\u001b[39;00m\u001b[38;5;250m \u001b[39m\u001b[38;5;21m_mem_usage\u001b[39m(\u001b[38;5;28mself\u001b[39m):\n\u001b[1;32m--> 431\u001b[0m     \u001b[38;5;28;01mreturn\u001b[39;00m _get_mem_usages(\u001b[38;5;28mself\u001b[39m\u001b[38;5;241m.\u001b[39mframe)\n",
      "File \u001b[1;32mD:\\anaconda3\\Lib\\site-packages\\dask\\dataframe\\dask_expr\\_repartition.py:515\u001b[0m, in \u001b[0;36m_get_mem_usages\u001b[1;34m(frame)\u001b[0m\n\u001b[0;32m    513\u001b[0m \u001b[38;5;28;01mif\u001b[39;00m frame\u001b[38;5;241m.\u001b[39m_name \u001b[38;5;129;01min\u001b[39;00m mem_usages_lru:\n\u001b[0;32m    514\u001b[0m     \u001b[38;5;28;01mreturn\u001b[39;00m mem_usages_lru[frame\u001b[38;5;241m.\u001b[39m_name]\n\u001b[1;32m--> 515\u001b[0m result \u001b[38;5;241m=\u001b[39m _compute_mem_usages(frame)\n\u001b[0;32m    516\u001b[0m mem_usages_lru[frame\u001b[38;5;241m.\u001b[39m_name] \u001b[38;5;241m=\u001b[39m result\n\u001b[0;32m    517\u001b[0m \u001b[38;5;28;01mreturn\u001b[39;00m result\n",
      "File \u001b[1;32mD:\\anaconda3\\Lib\\site-packages\\dask\\dataframe\\dask_expr\\_repartition.py:523\u001b[0m, in \u001b[0;36m_compute_mem_usages\u001b[1;34m(frame)\u001b[0m\n\u001b[0;32m    520\u001b[0m \u001b[38;5;28;01mdef\u001b[39;00m\u001b[38;5;250m \u001b[39m\u001b[38;5;21m_compute_mem_usages\u001b[39m(frame):\n\u001b[0;32m    521\u001b[0m     \u001b[38;5;28;01mfrom\u001b[39;00m\u001b[38;5;250m \u001b[39m\u001b[38;5;21;01mdask\u001b[39;00m\u001b[38;5;21;01m.\u001b[39;00m\u001b[38;5;21;01mdataframe\u001b[39;00m\u001b[38;5;21;01m.\u001b[39;00m\u001b[38;5;21;01mdask_expr\u001b[39;00m\u001b[38;5;21;01m.\u001b[39;00m\u001b[38;5;21;01m_collection\u001b[39;00m\u001b[38;5;250m \u001b[39m\u001b[38;5;28;01mimport\u001b[39;00m new_collection\n\u001b[1;32m--> 523\u001b[0m     \u001b[38;5;28;01mreturn\u001b[39;00m new_collection(TotalMemoryUsageFrame(frame, deep\u001b[38;5;241m=\u001b[39m\u001b[38;5;28;01mTrue\u001b[39;00m))\u001b[38;5;241m.\u001b[39mcompute()\n",
      "File \u001b[1;32mD:\\anaconda3\\Lib\\site-packages\\dask\\base.py:373\u001b[0m, in \u001b[0;36mDaskMethodsMixin.compute\u001b[1;34m(self, **kwargs)\u001b[0m\n\u001b[0;32m    349\u001b[0m \u001b[38;5;28;01mdef\u001b[39;00m\u001b[38;5;250m \u001b[39m\u001b[38;5;21mcompute\u001b[39m(\u001b[38;5;28mself\u001b[39m, \u001b[38;5;241m*\u001b[39m\u001b[38;5;241m*\u001b[39mkwargs):\n\u001b[0;32m    350\u001b[0m \u001b[38;5;250m    \u001b[39m\u001b[38;5;124;03m\"\"\"Compute this dask collection\u001b[39;00m\n\u001b[0;32m    351\u001b[0m \n\u001b[0;32m    352\u001b[0m \u001b[38;5;124;03m    This turns a lazy Dask collection into its in-memory equivalent.\u001b[39;00m\n\u001b[1;32m   (...)\u001b[0m\n\u001b[0;32m    371\u001b[0m \u001b[38;5;124;03m    dask.compute\u001b[39;00m\n\u001b[0;32m    372\u001b[0m \u001b[38;5;124;03m    \"\"\"\u001b[39;00m\n\u001b[1;32m--> 373\u001b[0m     (result,) \u001b[38;5;241m=\u001b[39m compute(\u001b[38;5;28mself\u001b[39m, traverse\u001b[38;5;241m=\u001b[39m\u001b[38;5;28;01mFalse\u001b[39;00m, \u001b[38;5;241m*\u001b[39m\u001b[38;5;241m*\u001b[39mkwargs)\n\u001b[0;32m    374\u001b[0m     \u001b[38;5;28;01mreturn\u001b[39;00m result\n",
      "File \u001b[1;32mD:\\anaconda3\\Lib\\site-packages\\dask\\base.py:681\u001b[0m, in \u001b[0;36mcompute\u001b[1;34m(traverse, optimize_graph, scheduler, get, *args, **kwargs)\u001b[0m\n\u001b[0;32m    678\u001b[0m     expr \u001b[38;5;241m=\u001b[39m expr\u001b[38;5;241m.\u001b[39moptimize()\n\u001b[0;32m    679\u001b[0m     keys \u001b[38;5;241m=\u001b[39m \u001b[38;5;28mlist\u001b[39m(flatten(expr\u001b[38;5;241m.\u001b[39m__dask_keys__()))\n\u001b[1;32m--> 681\u001b[0m     results \u001b[38;5;241m=\u001b[39m schedule(expr, keys, \u001b[38;5;241m*\u001b[39m\u001b[38;5;241m*\u001b[39mkwargs)\n\u001b[0;32m    683\u001b[0m \u001b[38;5;28;01mreturn\u001b[39;00m repack(results)\n",
      "File \u001b[1;32mD:\\anaconda3\\Lib\\site-packages\\dask\\dataframe\\multi.py:131\u001b[0m, in \u001b[0;36mmerge_chunk\u001b[1;34m(lhs, result_meta, *args, **kwargs)\u001b[0m\n\u001b[0;32m    129\u001b[0m         \u001b[38;5;28;01melse\u001b[39;00m:\n\u001b[0;32m    130\u001b[0m             kwargs[\u001b[38;5;124m\"\u001b[39m\u001b[38;5;124mhow\u001b[39m\u001b[38;5;124m\"\u001b[39m] \u001b[38;5;241m=\u001b[39m \u001b[38;5;124m\"\u001b[39m\u001b[38;5;124minner\u001b[39m\u001b[38;5;124m\"\u001b[39m\n\u001b[1;32m--> 131\u001b[0m out \u001b[38;5;241m=\u001b[39m lhs\u001b[38;5;241m.\u001b[39mmerge(rhs, \u001b[38;5;241m*\u001b[39margs, \u001b[38;5;241m*\u001b[39m\u001b[38;5;241m*\u001b[39mkwargs)\n\u001b[0;32m    133\u001b[0m \u001b[38;5;66;03m# Workaround for pandas bug where if the left frame of a merge operation is\u001b[39;00m\n\u001b[0;32m    134\u001b[0m \u001b[38;5;66;03m# empty, the resulting dataframe can have columns in the wrong order.\u001b[39;00m\n\u001b[0;32m    135\u001b[0m \u001b[38;5;66;03m# https://github.com/pandas-dev/pandas/issues/9937\u001b[39;00m\n\u001b[0;32m    136\u001b[0m \u001b[38;5;28;01mif\u001b[39;00m \u001b[38;5;28mlen\u001b[39m(lhs) \u001b[38;5;241m==\u001b[39m \u001b[38;5;241m0\u001b[39m:\n",
      "File \u001b[1;32mD:\\anaconda3\\Lib\\site-packages\\pyarrow\\table.pxi:1079\u001b[0m, in \u001b[0;36mpyarrow.lib.ChunkedArray.take\u001b[1;34m()\u001b[0m\n",
      "File \u001b[1;32mD:\\anaconda3\\Lib\\site-packages\\pyarrow\\compute.py:504\u001b[0m, in \u001b[0;36mtake\u001b[1;34m(data, indices, boundscheck, memory_pool)\u001b[0m\n\u001b[0;32m    464\u001b[0m \u001b[38;5;250m\u001b[39m\u001b[38;5;124;03m\"\"\"\u001b[39;00m\n\u001b[0;32m    465\u001b[0m \u001b[38;5;124;03mSelect values (or records) from array- or table-like data given integer\u001b[39;00m\n\u001b[0;32m    466\u001b[0m \u001b[38;5;124;03mselection indices.\u001b[39;00m\n\u001b[1;32m   (...)\u001b[0m\n\u001b[0;32m    501\u001b[0m \u001b[38;5;124;03m]\u001b[39;00m\n\u001b[0;32m    502\u001b[0m \u001b[38;5;124;03m\"\"\"\u001b[39;00m\n\u001b[0;32m    503\u001b[0m options \u001b[38;5;241m=\u001b[39m TakeOptions(boundscheck\u001b[38;5;241m=\u001b[39mboundscheck)\n\u001b[1;32m--> 504\u001b[0m \u001b[38;5;28;01mreturn\u001b[39;00m call_function(\u001b[38;5;124m'\u001b[39m\u001b[38;5;124mtake\u001b[39m\u001b[38;5;124m'\u001b[39m, [data, indices], options, memory_pool)\n",
      "File \u001b[1;32mD:\\anaconda3\\Lib\\site-packages\\pyarrow\\_compute.pyx:612\u001b[0m, in \u001b[0;36mpyarrow._compute.call_function\u001b[1;34m()\u001b[0m\n",
      "File \u001b[1;32mD:\\anaconda3\\Lib\\site-packages\\pyarrow\\_compute.pyx:407\u001b[0m, in \u001b[0;36mpyarrow._compute.Function.call\u001b[1;34m()\u001b[0m\n",
      "File \u001b[1;32mD:\\anaconda3\\Lib\\site-packages\\pyarrow\\error.pxi:155\u001b[0m, in \u001b[0;36mpyarrow.lib.pyarrow_internal_check_status\u001b[1;34m()\u001b[0m\n",
      "File \u001b[1;32mD:\\anaconda3\\Lib\\site-packages\\pyarrow\\error.pxi:92\u001b[0m, in \u001b[0;36mpyarrow.lib.check_status\u001b[1;34m()\u001b[0m\n",
      "\u001b[1;31mArrowInvalid\u001b[0m: Take operation overflowed binary array capacity"
     ]
    }
   ],
   "source": [
    "import dask.dataframe as dd\n",
    "import os\n",
    "\n",
    "sample_folder = 'new_sample_one_processed/'\n",
    "merged_folder = 'merged_sample_one_processed/'\n",
    "os.makedirs(merged_folder, exist_ok=True)\n",
    "\n",
    "file_df_pairs = [file['name'] + '.parquet' for file in files_info_processed]\n",
    "\n",
    "df_dtype = files_info_processed[6]['dtype']\n",
    "based_df_dtype = {}\n",
    "for i in range(0 , 6):\n",
    "    based_df_dtype.update(files_info_processed[i]['dtype'])\n",
    "\n",
    "df = dd.read_parquet(sample_folder + file_df_pairs[6], dtype=df_dtype)\n",
    "based_df = dd.read_parquet(merged_folder + \"*.parquet\", dtype=based_df_dtype)\n",
    "\n",
    "merge_cols = files_info_processed[6]['merge_on']\n",
    "\n",
    "df['merge_key'] = df[merge_cols].astype(str).apply(lambda row: '_'.join(row.values), axis=1, meta=('merge_key', 'str'))\n",
    "based_df['merge_key'] = based_df[merge_cols].astype(str).apply(lambda row: '_'.join(row.values), axis=1, meta=('merge_key', 'str'))\n",
    "\n",
    "df = df.set_index('merge_key', shuffle='tasks')\n",
    "based_df = based_df.set_index('merge_key', shuffle='tasks')\n",
    "\n",
    "based_df = based_df.merge(df, how='left', left_index=True, right_index=True)\n",
    "based_df = based_df.repartition(partition_size=\"100MB\")\n",
    "\n",
    "print(f\"Starrt merging: left Based File ; right {files_info_processed[6]['name']}.parquet\")\n",
    "\n",
    "based_df.to_parquet(\n",
    "    merged_folder + 'merge_antibiotic_subtype_exposure',\n",
    "    engine='pyarrow',\n",
    "    compression='snappy',\n",
    "    write_index=False\n",
    ")\n",
    "\n",
    "based_df_dtype.update(df_dtype)\n",
    "print(f\"Merged result saved - Cols # {len(based_df.columns)}\")\n"
   ]
  },
  {
   "cell_type": "code",
   "execution_count": 7,
   "id": "4f12d520-d013-4447-9d44-e239fdbf1d4d",
   "metadata": {},
   "outputs": [
    {
     "name": "stdout",
     "output_type": "stream",
     "text": [
      "Starrt merging: left Based File ; right processed_cultures_comorbidity.parquet\n",
      "Merged result saved - Cols # 51\n"
     ]
    }
   ],
   "source": [
    "\n",
    "df_dtype = files_info_processed[7]['dtype']\n",
    "based_df = dd.read_parquet(merged_folder +\"*.parquet\", \n",
    "                           dtype = based_df_dtype)\n",
    "df = dd.read_parquet(sample_folder + file_df_pairs[7], \n",
    "                           dtype = df_dtype )\n",
    "\n",
    "based_df = based_df.merge(df, how='left', on=files_info_processed[7]['merge_on'])\n",
    "\n",
    "print(f\"Starrt merging: left Based File ; right {files_info_processed[7]['name']}.parquet\")\n",
    "\n",
    "based_df.to_parquet(\n",
    "            merged_folder+'processed_cultures_comorbidity',\n",
    "            engine='pyarrow',\n",
    "            compression='snappy',\n",
    "            write_index=False\n",
    "        )\n",
    "\n",
    "based_df_dtype.update(df_dtype)\n",
    "\n",
    "print(f\"Merged result saved - Cols # {len(based_df.columns)}\")"
   ]
  },
  {
   "cell_type": "code",
   "execution_count": 12,
   "id": "c4502ec5-d65e-46f3-9fd4-a46e18df142a",
   "metadata": {},
   "outputs": [
    {
     "data": {
      "text/plain": [
       "'merged_sample_one_processed/merge_all_except_subtype.parquet'"
      ]
     },
     "execution_count": 12,
     "metadata": {},
     "output_type": "execute_result"
    }
   ],
   "source": [
    "import shutil\n",
    "\n",
    "shutil.move(\n",
    "    'merged_sample_one_processed/processed_cultures_comorbidity/part.0.parquet',\n",
    "    'merged_sample_one_processed/merge_all_except_subtype.parquet'\n",
    ")\n"
   ]
  },
  {
   "cell_type": "markdown",
   "id": "970333e0-d7cf-4c9b-b001-666714664ef0",
   "metadata": {},
   "source": [
    "# Modeling Stage:"
   ]
  },
  {
   "cell_type": "code",
   "execution_count": 15,
   "id": "7c484b9a-aeed-41a3-8a0f-2d1a7e09a93f",
   "metadata": {},
   "outputs": [],
   "source": [
    "import pandas as pd\n",
    "from sklearn.model_selection import train_test_split\n",
    "\n",
    "df = pd.read_parquet(\"merged_sample_one_processed/merge_all_except_subtype.parquet\")\n",
    "\n",
    "keys_to_drop = ['anon_id', 'pat_enc_csn_id_coded', 'order_proc_id_coded', 'order_time_jittered_utc']\n",
    "df = df.drop(columns=keys_to_drop, errors='ignore')"
   ]
  },
  {
   "cell_type": "code",
   "execution_count": 16,
   "id": "9e454811-b49a-40b5-801f-cdc19f79b7c6",
   "metadata": {},
   "outputs": [
    {
     "name": "stdout",
     "output_type": "stream",
     "text": [
      "susceptibility\n",
      "0    2697708\n",
      "1    2284934\n",
      "Name: count, dtype: Int64\n"
     ]
    }
   ],
   "source": [
    "print(df['susceptibility'].value_counts())"
   ]
  },
  {
   "cell_type": "markdown",
   "id": "d53fd66d-224b-4752-ae5b-1332c0e326b0",
   "metadata": {},
   "source": [
    "0 => Susceptible\n",
    "\n",
    "1 => Resistant"
   ]
  },
  {
   "cell_type": "code",
   "execution_count": 20,
   "id": "7c6c7057-e1bf-4911-96bb-62329a06deb9",
   "metadata": {},
   "outputs": [
    {
     "data": {
      "image/png": "[encoded data removed]",
      "text/plain": [
       "<Figure size 640x480 with 1 Axes>"
      ]
     },
     "metadata": {},
     "output_type": "display_data"
    }
   ],
   "source": [
    "import matplotlib.pyplot as plt\n",
    "import seaborn as sns\n",
    "\n",
    "sns.countplot(x='susceptibility', data=df)\n",
    "plt.title(\"Distribution of Susceptibility Categories\")\n",
    "plt.ylabel(\"Count\")\n",
    "plt.xticks(ticks=[0, 1], labels=[\"Susceptible\", \"Resistant\"])  # Change tick labels only\n",
    "plt.tight_layout()\n",
    "plt.show()"
   ]
  },
  {
   "cell_type": "code",
   "execution_count": 21,
   "id": "1b66dc06-12c5-4a2e-90d8-04fbd03c9814",
   "metadata": {},
   "outputs": [],
   "source": [
    "target_col = 'susceptibility'\n",
    "X = df.drop(columns=target_col)\n",
    "y = df[target_col]\n",
    "\n",
    "X_train, X_test, y_train, y_test = train_test_split(\n",
    "    X, y, test_size=0.2, stratify=y, random_state=42\n",
    ")\n"
   ]
  },
  {
   "cell_type": "markdown",
   "id": "5f0f86e7-37ad-4a79-9c08-89fae59afe7d",
   "metadata": {},
   "source": [
    "## Correlation Heatmap"
   ]
  },
  {
   "cell_type": "code",
   "execution_count": 23,
   "id": "6cdd12fb-2f9c-469a-a7cc-77d86cb3f24f",
   "metadata": {},
   "outputs": [
    {
     "data": {
      "image/png": "[encoded data removed]",
      "text/plain": [
       "<Figure size 1600x1200 with 2 Axes>"
      ]
     },
     "metadata": {},
     "output_type": "display_data"
    }
   ],
   "source": [
    "import pandas as pd\n",
    "import matplotlib.pyplot as plt\n",
    "import seaborn as sns\n",
    "\n",
    "df_corr = X_train.corr()\n",
    "\n",
    "plt.figure(figsize=(16, 12))\n",
    "sns.heatmap(df_corr, cmap='coolwarm', annot=False, fmt=\".2f\", linewidths=0.5)\n",
    "plt.title('Correlation Heatmap of Numeric Features')\n",
    "plt.tight_layout()\n",
    "plt.show()\n"
   ]
  },
  {
   "cell_type": "code",
   "execution_count": 24,
   "id": "5a5347a4-44ae-45fd-bd86-4bc500f4088c",
   "metadata": {},
   "outputs": [
    {
     "data": {
      "text/plain": [
       "(4982642, 47)"
      ]
     },
     "execution_count": 24,
     "metadata": {},
     "output_type": "execute_result"
    }
   ],
   "source": [
    "df.shape"
   ]
  },
  {
   "cell_type": "code",
   "execution_count": 25,
   "id": "2deec3a1-5b77-485c-8dc1-4bf319575ac8",
   "metadata": {},
   "outputs": [
    {
     "name": "stdout",
     "output_type": "stream",
     "text": [
      "(3986113, 46)\n",
      "(996529, 46)\n"
     ]
    }
   ],
   "source": [
    "print(X_train.shape)\n",
    "print(X_test.shape)"
   ]
  },
  {
   "cell_type": "code",
   "execution_count": 27,
   "id": "34832752-578e-4f1c-bac1-5edcfe5dd246",
   "metadata": {},
   "outputs": [
    {
     "name": "stdout",
     "output_type": "stream",
     "text": [
      "<class 'pandas.core.frame.DataFrame'>\n",
      "Index: 3986113 entries, 3351877 to 2557330\n",
      "Data columns (total 46 columns):\n",
      " #   Column                          Dtype  \n",
      "---  ------                          -----  \n",
      " 0   organism                        int8   \n",
      " 1   antibiotic                      int8   \n",
      " 2   medication_time_to_culturetime  Int64  \n",
      " 3   medication_category             float64\n",
      " 4   med_within_30_days              boolean\n",
      " 5   age                             int8   \n",
      " 6   gender                          int8   \n",
      " 7   median_wbc                      float64\n",
      " 8   median_neutrophils              float32\n",
      " 9   median_lymphocytes              float32\n",
      " 10  median_hgb                      float64\n",
      " 11  median_plt                      float64\n",
      " 12  median_na                       float64\n",
      " 13  median_hco3                     float64\n",
      " 14  median_bun                      float64\n",
      " 15  median_cr                       float64\n",
      " 16  median_lactate                  float64\n",
      " 17  median_procalcitonin            float64\n",
      " 18  delta_wbc                       float64\n",
      " 19  delta_na                        float64\n",
      " 20  delta_hco3                      float64\n",
      " 21  delta_bun                       float64\n",
      " 22  delta_cr                        float64\n",
      " 23  median_heartrate                float64\n",
      " 24  median_resprate                 float64\n",
      " 25  median_temp                     float64\n",
      " 26  median_sysbp                    float32\n",
      " 27  median_diasbp                   float32\n",
      " 28  delta_heartrate                 float64\n",
      " 29  delta_resprate                  float64\n",
      " 30  delta_temp                      float64\n",
      " 31  delta_sysbp                     float64\n",
      " 32  delta_diasbp                    float64\n",
      " 33  antibiotic_class                float64\n",
      " 34  time_to_culturetime             Int64  \n",
      " 35  has_diabetes                    float64\n",
      " 36  has_chf                         float64\n",
      " 37  has_ckd                         float64\n",
      " 38  has_cancer                      float64\n",
      " 39  has_transplant                  float64\n",
      " 40  has_immunosuppression           float64\n",
      " 41  has_copd                        float64\n",
      " 42  has_liver_disease               float64\n",
      " 43  has_dementia                    float64\n",
      " 44  has_stroke                      float64\n",
      " 45  has_other_comorbid              float64\n",
      "dtypes: Int64(2), boolean(1), float32(4), float64(35), int8(4)\n",
      "memory usage: 1.2 GB\n"
     ]
    }
   ],
   "source": [
    "X_train.info()"
   ]
  },
  {
   "cell_type": "markdown",
   "id": "be342005-431b-4670-aa8b-937add06ee0c",
   "metadata": {},
   "source": [
    "All my dataset is nums => ready for modeling 👍."
   ]
  },
  {
   "cell_type": "markdown",
   "id": "d40bf389-17b6-4ec8-9efd-53b323ff0af7",
   "metadata": {},
   "source": [
    "## Full Modeling Code: XGBoost, LightGBM, CatBoost, and HistGradientBoosting."
   ]
  },
  {
   "cell_type": "code",
   "execution_count": 35,
   "id": "f5add436-a620-4ebf-943b-b2afae1e1a8e",
   "metadata": {},
   "outputs": [
    {
     "name": "stdout",
     "output_type": "stream",
     "text": [
      "Training models...\n",
      "\n",
      "🔹 XGBoost\n",
      "              precision    recall  f1-score   support\n",
      "\n",
      "         0.0       0.87      0.70      0.78    539542\n",
      "         1.0       0.71      0.88      0.79    456987\n",
      "\n",
      "    accuracy                           0.78    996529\n",
      "   macro avg       0.79      0.79      0.78    996529\n",
      "weighted avg       0.80      0.78      0.78    996529\n",
      "\n",
      "ROC AUC: 0.9020\n",
      "[LightGBM] [Info] Number of positive: 1827947, number of negative: 2158166\n",
      "[LightGBM] [Info] Auto-choosing row-wise multi-threading, the overhead of testing was 0.999743 seconds.\n",
      "You can set `force_row_wise=true` to remove the overhead.\n",
      "And if memory is not enough, you can set `force_col_wise=true`.\n",
      "[LightGBM] [Info] Total Bins 2230\n",
      "[LightGBM] [Info] Number of data points in the train set: 3986113, number of used features: 46\n",
      "[LightGBM] [Info] [binary:BoostFromScore]: pavg=0.458579 -> initscore=-0.166065\n",
      "[LightGBM] [Info] Start training from score -0.166065\n",
      "\n",
      "🔹 LightGBM\n",
      "              precision    recall  f1-score   support\n",
      "\n",
      "         0.0       0.77      0.85      0.81    539542\n",
      "         1.0       0.80      0.70      0.74    456987\n",
      "\n",
      "    accuracy                           0.78    996529\n",
      "   macro avg       0.78      0.77      0.77    996529\n",
      "weighted avg       0.78      0.78      0.78    996529\n",
      "\n",
      "ROC AUC: 0.8985\n",
      "\n",
      "🔹 Random Forest\n",
      "              precision    recall  f1-score   support\n",
      "\n",
      "         0.0       0.74      0.81      0.77    539542\n",
      "         1.0       0.75      0.66      0.70    456987\n",
      "\n",
      "    accuracy                           0.74    996529\n",
      "   macro avg       0.74      0.74      0.74    996529\n",
      "weighted avg       0.74      0.74      0.74    996529\n",
      "\n",
      "ROC AUC: 0.8764\n",
      "\n",
      "🔹 HistGradientBoosting\n",
      "              precision    recall  f1-score   support\n",
      "\n",
      "         0.0       0.77      0.85      0.81    539542\n",
      "         1.0       0.80      0.70      0.74    456987\n",
      "\n",
      "    accuracy                           0.78    996529\n",
      "   macro avg       0.78      0.77      0.77    996529\n",
      "weighted avg       0.78      0.78      0.78    996529\n",
      "\n",
      "ROC AUC: 0.8985\n"
     ]
    }
   ],
   "source": [
    "import pandas as pd\n",
    "import numpy as np\n",
    "from sklearn.model_selection import train_test_split\n",
    "from sklearn.metrics import classification_report, roc_auc_score\n",
    "from xgboost import XGBClassifier\n",
    "from lightgbm import LGBMClassifier\n",
    "from sklearn.ensemble import RandomForestClassifier, HistGradientBoostingClassifier\n",
    "\n",
    "# Helper for results\n",
    "def evaluate_model(name, model, X_test, y_test):\n",
    "    y_pred = model.predict(X_test)\n",
    "    if hasattr(model, \"predict_proba\"):\n",
    "        y_prob = model.predict_proba(X_test)[:, 1]\n",
    "    else:\n",
    "        # fallback\n",
    "        if hasattr(model, \"decision_function\"):\n",
    "            y_prob = model.decision_function(X_test)\n",
    "        else:\n",
    "            y_prob = y_pred\n",
    "    print(f\"\\n🔹 {name}\")\n",
    "    print(classification_report(y_test, y_pred))\n",
    "    print(f\"ROC AUC: {roc_auc_score(y_test, y_prob):.4f}\")\n",
    "\n",
    "# Training models\n",
    "print(\"Training models...\")\n",
    "\n",
    "# XGBoost\n",
    "xgb_model = XGBClassifier(eval_metric='logloss', tree_method='hist', missing=np.nan,\n",
    "                          scale_pos_weight=(y_train == 0).sum() / (y_train == 1).sum())\n",
    "xgb_model.fit(X_train, y_train)\n",
    "evaluate_model(\"XGBoost\", xgb_model, X_test, y_test)\n",
    "\n",
    "# LightGBM\n",
    "lgb_model = LGBMClassifier()\n",
    "lgb_model.fit(X_train, y_train)\n",
    "evaluate_model(\"LightGBM\", lgb_model, X_test, y_test)\n",
    "\n",
    "# Random Forest\n",
    "rf_model = RandomForestClassifier()\n",
    "rf_model.fit(X_train, y_train)\n",
    "evaluate_model(\"Random Forest\", rf_model, X_test, y_test)\n",
    "\n",
    "# HistGradientBoosting (handles missing values)\n",
    "hgb_model = HistGradientBoostingClassifier()\n",
    "hgb_model.fit(X_train, y_train)\n",
    "evaluate_model(\"HistGradientBoosting\", hgb_model, X_test, y_test)\n"
   ]
  },
  {
   "cell_type": "markdown",
   "id": "35695c6c-1a88-45fb-bf86-46ffe16054de",
   "metadata": {},
   "source": [
    "## ROC Curve Comparison\n",
    "\n",
    "The ROC (Receiver Operating Characteristic) curve is a threshold-independent metric that shows the trade-off between true positive rate (recall) and false positive rate across different decision thresholds.\n",
    "\n",
    "By plotting the ROC curve for each model, we can compare their **ability to rank resistant cases higher than susceptible ones**. The closer the curve is to the top-left corner, the better the model.\n",
    "\n",
    "The **Area Under the Curve (AUC)** quantifies this performance:\n",
    "- AUC = 1.0 → Perfect classifier\n",
    "- AUC = 0.5 → Random guess\n",
    "\n",
    "Below, we compare the ROC curves of XGBoost, LightGBM, RandomForest, and HistGradientBoosting.\n"
   ]
  },
  {
   "cell_type": "code",
   "execution_count": 38,
   "id": "eb5e0030-c639-49a3-acde-4ac13d868c8b",
   "metadata": {},
   "outputs": [
    {
     "data": {
      "image/png": "[encoded data removed]",
      "text/plain": [
       "<Figure size 800x600 with 1 Axes>"
      ]
     },
     "metadata": {},
     "output_type": "display_data"
    }
   ],
   "source": [
    "import matplotlib.pyplot as plt\n",
    "from sklearn.metrics import roc_curve, auc\n",
    "\n",
    "# Compute ROC curve and AUC for each model\n",
    "fpr_xgb, tpr_xgb, _ = roc_curve(y_test, xgb_model.predict_proba(X_test)[:, 1])\n",
    "roc_auc_xgb = auc(fpr_xgb, tpr_xgb)\n",
    "\n",
    "fpr_lgb, tpr_lgb, _ = roc_curve(y_test, lgb_model.predict_proba(X_test)[:, 1])\n",
    "roc_auc_lgb = auc(fpr_lgb, tpr_lgb)\n",
    "\n",
    "fpr_rf, tpr_rf, _ = roc_curve(y_test, rf_model.predict_proba(X_test)[:, 1])\n",
    "roc_auc_rf = auc(fpr_rf, tpr_rf)\n",
    "\n",
    "fpr_hgb, tpr_hgb, _ = roc_curve(y_test, hgb_model.predict_proba(X_test)[:, 1])\n",
    "roc_auc_hgb = auc(fpr_hgb, tpr_hgb)\n",
    "\n",
    "# Plot ROC Curves\n",
    "plt.figure(figsize=(8, 6))\n",
    "plt.plot(fpr_xgb, tpr_xgb, label=f\"XGBoost (AUC = {roc_auc_xgb:.4f})\")\n",
    "plt.plot(fpr_lgb, tpr_lgb, label=f\"LightGBM (AUC = {roc_auc_lgb:.4f})\")\n",
    "plt.plot(fpr_rf, tpr_rf, label=f\"Random Forest (AUC = {roc_auc_rf:.4f})\")\n",
    "plt.plot(fpr_hgb, tpr_hgb, label=f\"HistGradientBoosting (AUC = {roc_auc_hgb:.4f})\")\n",
    "\n",
    "# Diagonal line\n",
    "plt.plot([0, 1], [0, 1], 'k--', label=\"Random Classifier\")\n",
    "\n",
    "# Labels & formatting\n",
    "plt.xlabel(\"False Positive Rate\")\n",
    "plt.ylabel(\"True Positive Rate\")\n",
    "plt.title(\"ROC Curve Comparison\")\n",
    "plt.legend(loc=\"lower right\")\n",
    "plt.grid(True)\n",
    "plt.tight_layout()\n",
    "plt.show()\n"
   ]
  },
  {
   "cell_type": "markdown",
   "id": "92aa9553-af2c-48d1-bd4a-f1c27294191e",
   "metadata": {},
   "source": [
    "## Modeling Results Summary\n",
    "\n",
    "In this section, I evaluate and compare the performance of four tree-based classification models on the final merged ARMD dataset: **XGBoost**, **LightGBM**, **Random Forest**, and **HistGradientBoostingClassifier** from scikit-learn. These models were chosen for their robustness to missing data, scalability on large tabular datasets, and strong performance on binary classification problems with class imbalance.\n",
    "\n",
    "The goal is to classify bacterial cultures as **resistant (1)** or **susceptible (0)** to antibiotics based on clinical, laboratory, and demographic features.\n",
    "\n",
    "---\n",
    "\n",
    "### XGBoost\n",
    "\n",
    "XGBoost achieved the **highest ROC AUC score (0.9020)** among all models, making it the most effective at distinguishing resistant cases from susceptible ones.\n",
    "\n",
    "| Metric       | Class 0 (Susceptible) | Class 1 (Resistant) |\n",
    "|--------------|------------------------|----------------------|\n",
    "| Precision    | 0.87                   | 0.71                 |\n",
    "| Recall       | 0.70                   | **0.88** ✅          |\n",
    "| F1-Score     | 0.78                   | 0.79                 |\n",
    "| **ROC AUC**  | **0.9020** ✅          |\n",
    "\n",
    "**Interpretation:**  \n",
    "XGBoost showed excellent ability to **identify resistant cases**, with a high recall (88%) for class 1. While its precision for resistance (71%) suggests some false positives, in clinical practice, prioritizing recall helps avoid under-treating infections that are actually resistant.\n",
    "\n",
    "---\n",
    "\n",
    "### LightGBM\n",
    "\n",
    "LightGBM delivered a **balanced performance**, with stronger results on the susceptible class, and still respectable identification of resistance.\n",
    "\n",
    "| Metric       | Class 0 (Susceptible) | Class 1 (Resistant) |\n",
    "|--------------|------------------------|----------------------|\n",
    "| Precision    | 0.77                   | 0.80                 |\n",
    "| Recall       | **0.85** ✅           | 0.70                 |\n",
    "| F1-Score     | 0.81                   | 0.74                 |\n",
    "| **ROC AUC**  | 0.8985                 |\n",
    "\n",
    "**Interpretation:**  \n",
    "LightGBM is more conservative, with **fewer false positives** for resistant cases, but at the cost of lower recall. It’s a solid choice when minimizing overtreatment is a higher concern than missing some resistance.\n",
    "\n",
    "---\n",
    "\n",
    "### Random Forest\n",
    "\n",
    "Random Forest showed slightly lower overall performance than the boosting models but still achieved solid results, particularly on the susceptible class.\n",
    "\n",
    "| Metric       | Class 0 (Susceptible) | Class 1 (Resistant) |\n",
    "|--------------|------------------------|----------------------|\n",
    "| Precision    | 0.74                   | 0.75                 |\n",
    "| Recall       | 0.81                   | 0.66                 |\n",
    "| F1-Score     | 0.77                   | 0.70                 |\n",
    "| **ROC AUC**  | 0.8764                 |\n",
    "\n",
    "**Interpretation:**  \n",
    "While not as precise in ranking predictions (lower AUC), Random Forest remains a dependable baseline. Its lower recall for resistant cases may make it less suitable where missed resistance has serious consequences.\n",
    "\n",
    "---\n",
    "\n",
    "### HistGradientBoostingClassifier\n",
    "\n",
    "This model is scikit-learn’s native gradient boosting algorithm. Its performance closely matched that of LightGBM across all metrics.\n",
    "\n",
    "| Metric       | Class 0 (Susceptible) | Class 1 (Resistant) |\n",
    "|--------------|------------------------|----------------------|\n",
    "| Precision    | 0.77                   | 0.80                 |\n",
    "| Recall       | **0.85** ✅           | 0.70                 |\n",
    "| F1-Score     | 0.81                   | 0.74                 |\n",
    "| **ROC AUC**  | 0.8985                 |\n",
    "\n",
    "**Interpretation:**  \n",
    "A lightweight yet powerful model that supports missing values natively. Performs on par with LightGBM, making it a great option when a simple, scikit-learn–based solution is preferred.\n",
    "\n",
    "---\n",
    "\n",
    "### Conclusion\n",
    "\n",
    "All models demonstrated **strong predictive capability**, with ROC AUC values above **0.87**, indicating excellent discrimination between resistant and susceptible cases.\n",
    "\n",
    "- **XGBoost stands out** with the **highest ROC AUC** and **highest recall for resistance**, making it the top choice when missing resistant infections poses a clinical risk.\n",
    "- **LightGBM and HistGradientBoostingClassifier** offer a more balanced approach, favoring precision and conservative predictions.\n",
    "- **Random Forest**, while slightly behind in overall performance, still offers a strong baseline and interpretability.\n",
    "\n",
    "These results confirm that **gradient-boosting models** are particularly well-suited for antibiotic resistance prediction tasks, especially in complex EHR-based datasets with missing data and class imbalance.\n"
   ]
  },
  {
   "cell_type": "markdown",
   "id": "edfeffe3-f472-42d6-816e-466a6fb01281",
   "metadata": {},
   "source": [
    "-------"
   ]
  },
  {
   "cell_type": "markdown",
   "id": "a8d5451f-afdc-4276-9adc-625c57b4fb34",
   "metadata": {},
   "source": [
    "----"
   ]
  },
  {
   "cell_type": "code",
   "execution_count": 1,
   "id": "825524f6-de2f-47c1-b06c-9e8c94b99ed5",
   "metadata": {
    "collapsed": true,
    "jupyter": {
     "outputs_hidden": true,
     "source_hidden": true
    }
   },
   "outputs": [
    {
     "name": "stdout",
     "output_type": "stream",
     "text": [
      "Load base file: processed_cultures_cohort\n",
      "Merging file: processed_prior_med\n",
      "Merging file: processed_cultures_demographics\n",
      "Merging file: processed_cultures_labs\n",
      "Merging file: processed_cultures_vitals\n",
      "Merging file: processed_antibiotic_class_exposure\n",
      "Merging file: processed_antibiotic_subtype_exposure\n",
      "Merging file: processed_cultures_comorbidity\n",
      "\n",
      "Writing merged data to: merged_sample_one_processed/merged_result.parquet\n"
     ]
    },
    {
     "ename": "ArrowInvalid",
     "evalue": "Take operation overflowed binary array capacity",
     "output_type": "error",
     "traceback": [
      "\u001b[1;31m---------------------------------------------------------------------------\u001b[0m",
      "\u001b[1;31mArrowInvalid\u001b[0m                              Traceback (most recent call last)",
      "Cell \u001b[1;32mIn[1], line 181\u001b[0m\n\u001b[0;32m    179\u001b[0m \u001b[38;5;66;03m# merged_df = merged_df.persist()  # only if RAM allows\u001b[39;00m\n\u001b[0;32m    180\u001b[0m \u001b[38;5;28mprint\u001b[39m(\u001b[38;5;124mf\u001b[39m\u001b[38;5;124m\"\u001b[39m\u001b[38;5;130;01m\\n\u001b[39;00m\u001b[38;5;124mWriting merged data to: \u001b[39m\u001b[38;5;132;01m{\u001b[39;00moutput_path\u001b[38;5;132;01m}\u001b[39;00m\u001b[38;5;124m\"\u001b[39m)\n\u001b[1;32m--> 181\u001b[0m write_task \u001b[38;5;241m=\u001b[39m merged_df\u001b[38;5;241m.\u001b[39mto_parquet(\n\u001b[0;32m    182\u001b[0m     output_path,\n\u001b[0;32m    183\u001b[0m     engine\u001b[38;5;241m=\u001b[39m\u001b[38;5;124m'\u001b[39m\u001b[38;5;124mpyarrow\u001b[39m\u001b[38;5;124m'\u001b[39m,\n\u001b[0;32m    184\u001b[0m     compression\u001b[38;5;241m=\u001b[39m\u001b[38;5;124m'\u001b[39m\u001b[38;5;124msnappy\u001b[39m\u001b[38;5;124m'\u001b[39m,\n\u001b[0;32m    185\u001b[0m     write_index\u001b[38;5;241m=\u001b[39m\u001b[38;5;28;01mFalse\u001b[39;00m,\n\u001b[0;32m    186\u001b[0m     write_metadata_file\u001b[38;5;241m=\u001b[39m\u001b[38;5;28;01mFalse\u001b[39;00m,\n\u001b[0;32m    187\u001b[0m     compute\u001b[38;5;241m=\u001b[39m\u001b[38;5;28;01mFalse\u001b[39;00m\n\u001b[0;32m    188\u001b[0m )\n\u001b[0;32m    189\u001b[0m \u001b[38;5;28mprint\u001b[39m(\u001b[38;5;124mf\u001b[39m\u001b[38;5;124m\"\u001b[39m\u001b[38;5;130;01m\\n\u001b[39;00m\u001b[38;5;124m Alhamdulillah the \u001b[39m\u001b[38;5;132;01m{\u001b[39;00moutput_path\u001b[38;5;132;01m}\u001b[39;00m\u001b[38;5;124m merged and saved ✅\u001b[39m\u001b[38;5;124m\"\u001b[39m)\n",
      "File \u001b[1;32mD:\\anaconda3\\Lib\\site-packages\\dask\\dataframe\\dask_expr\\_collection.py:3314\u001b[0m, in \u001b[0;36mDataFrame.to_parquet\u001b[1;34m(self, path, **kwargs)\u001b[0m\n\u001b[0;32m   3311\u001b[0m \u001b[38;5;28;01mdef\u001b[39;00m\u001b[38;5;250m \u001b[39m\u001b[38;5;21mto_parquet\u001b[39m(\u001b[38;5;28mself\u001b[39m, path, \u001b[38;5;241m*\u001b[39m\u001b[38;5;241m*\u001b[39mkwargs):\n\u001b[0;32m   3312\u001b[0m     \u001b[38;5;28;01mfrom\u001b[39;00m\u001b[38;5;250m \u001b[39m\u001b[38;5;21;01mdask\u001b[39;00m\u001b[38;5;21;01m.\u001b[39;00m\u001b[38;5;21;01mdataframe\u001b[39;00m\u001b[38;5;21;01m.\u001b[39;00m\u001b[38;5;21;01mdask_expr\u001b[39;00m\u001b[38;5;21;01m.\u001b[39;00m\u001b[38;5;21;01mio\u001b[39;00m\u001b[38;5;21;01m.\u001b[39;00m\u001b[38;5;21;01mparquet\u001b[39;00m\u001b[38;5;250m \u001b[39m\u001b[38;5;28;01mimport\u001b[39;00m to_parquet\n\u001b[1;32m-> 3314\u001b[0m     \u001b[38;5;28;01mreturn\u001b[39;00m to_parquet(\u001b[38;5;28mself\u001b[39m, path, \u001b[38;5;241m*\u001b[39m\u001b[38;5;241m*\u001b[39mkwargs)\n",
      "File \u001b[1;32mD:\\anaconda3\\Lib\\site-packages\\dask\\dataframe\\dask_expr\\io\\parquet.py:534\u001b[0m, in \u001b[0;36mto_parquet\u001b[1;34m(df, path, compression, write_index, append, overwrite, ignore_divisions, partition_on, storage_options, custom_metadata, write_metadata_file, compute, compute_kwargs, schema, name_function, filesystem, engine, **kwargs)\u001b[0m\n\u001b[0;32m    531\u001b[0m     _cached_plan\u001b[38;5;241m.\u001b[39mclear()\n\u001b[0;32m    533\u001b[0m \u001b[38;5;66;03m# Always skip divisions checks if divisions are unknown\u001b[39;00m\n\u001b[1;32m--> 534\u001b[0m \u001b[38;5;28;01mif\u001b[39;00m \u001b[38;5;129;01mnot\u001b[39;00m df\u001b[38;5;241m.\u001b[39mknown_divisions:\n\u001b[0;32m    535\u001b[0m     ignore_divisions \u001b[38;5;241m=\u001b[39m \u001b[38;5;28;01mTrue\u001b[39;00m\n\u001b[0;32m    537\u001b[0m \u001b[38;5;66;03m# Save divisions and corresponding index name. This is necessary,\u001b[39;00m\n\u001b[0;32m    538\u001b[0m \u001b[38;5;66;03m# because we may be resetting the index to write the file\u001b[39;00m\n",
      "File \u001b[1;32mD:\\anaconda3\\Lib\\site-packages\\dask\\dataframe\\dask_expr\\_collection.py:638\u001b[0m, in \u001b[0;36mFrameBase.known_divisions\u001b[1;34m(self)\u001b[0m\n\u001b[0;32m    630\u001b[0m \u001b[38;5;129m@property\u001b[39m\n\u001b[0;32m    631\u001b[0m \u001b[38;5;28;01mdef\u001b[39;00m\u001b[38;5;250m \u001b[39m\u001b[38;5;21mknown_divisions\u001b[39m(\u001b[38;5;28mself\u001b[39m):\n\u001b[0;32m    632\u001b[0m \u001b[38;5;250m    \u001b[39m\u001b[38;5;124;03m\"\"\"Whether the divisions are known.\u001b[39;00m\n\u001b[0;32m    633\u001b[0m \n\u001b[0;32m    634\u001b[0m \u001b[38;5;124;03m    This check can be expensive if the division calculation is expensive.\u001b[39;00m\n\u001b[0;32m    635\u001b[0m \u001b[38;5;124;03m    DataFrame.set_index is a good example where the calculation needs an\u001b[39;00m\n\u001b[0;32m    636\u001b[0m \u001b[38;5;124;03m    inspection of the data.\u001b[39;00m\n\u001b[0;32m    637\u001b[0m \u001b[38;5;124;03m    \"\"\"\u001b[39;00m\n\u001b[1;32m--> 638\u001b[0m     \u001b[38;5;28;01mreturn\u001b[39;00m \u001b[38;5;28mself\u001b[39m\u001b[38;5;241m.\u001b[39mexpr\u001b[38;5;241m.\u001b[39mknown_divisions\n",
      "File \u001b[1;32mD:\\anaconda3\\Lib\\site-packages\\dask\\dataframe\\dask_expr\\_expr.py:439\u001b[0m, in \u001b[0;36mExpr.known_divisions\u001b[1;34m(self)\u001b[0m\n\u001b[0;32m    436\u001b[0m \u001b[38;5;129m@property\u001b[39m\n\u001b[0;32m    437\u001b[0m \u001b[38;5;28;01mdef\u001b[39;00m\u001b[38;5;250m \u001b[39m\u001b[38;5;21mknown_divisions\u001b[39m(\u001b[38;5;28mself\u001b[39m):\n\u001b[0;32m    438\u001b[0m \u001b[38;5;250m    \u001b[39m\u001b[38;5;124;03m\"\"\"Whether divisions are already known\"\"\"\u001b[39;00m\n\u001b[1;32m--> 439\u001b[0m     \u001b[38;5;28;01mreturn\u001b[39;00m \u001b[38;5;28mlen\u001b[39m(\u001b[38;5;28mself\u001b[39m\u001b[38;5;241m.\u001b[39mdivisions) \u001b[38;5;241m>\u001b[39m \u001b[38;5;241m0\u001b[39m \u001b[38;5;129;01mand\u001b[39;00m \u001b[38;5;28mself\u001b[39m\u001b[38;5;241m.\u001b[39mdivisions[\u001b[38;5;241m0\u001b[39m] \u001b[38;5;129;01mis\u001b[39;00m \u001b[38;5;129;01mnot\u001b[39;00m \u001b[38;5;28;01mNone\u001b[39;00m\n",
      "File \u001b[1;32mD:\\anaconda3\\Lib\\functools.py:1001\u001b[0m, in \u001b[0;36mcached_property.__get__\u001b[1;34m(self, instance, owner)\u001b[0m\n\u001b[0;32m    999\u001b[0m val \u001b[38;5;241m=\u001b[39m cache\u001b[38;5;241m.\u001b[39mget(\u001b[38;5;28mself\u001b[39m\u001b[38;5;241m.\u001b[39mattrname, _NOT_FOUND)\n\u001b[0;32m   1000\u001b[0m \u001b[38;5;28;01mif\u001b[39;00m val \u001b[38;5;129;01mis\u001b[39;00m _NOT_FOUND:\n\u001b[1;32m-> 1001\u001b[0m     val \u001b[38;5;241m=\u001b[39m \u001b[38;5;28mself\u001b[39m\u001b[38;5;241m.\u001b[39mfunc(instance)\n\u001b[0;32m   1002\u001b[0m     \u001b[38;5;28;01mtry\u001b[39;00m:\n\u001b[0;32m   1003\u001b[0m         cache[\u001b[38;5;28mself\u001b[39m\u001b[38;5;241m.\u001b[39mattrname] \u001b[38;5;241m=\u001b[39m val\n",
      "File \u001b[1;32mD:\\anaconda3\\Lib\\site-packages\\dask\\dataframe\\dask_expr\\_expr.py:431\u001b[0m, in \u001b[0;36mExpr.divisions\u001b[1;34m(self)\u001b[0m\n\u001b[0;32m    429\u001b[0m \u001b[38;5;129m@functools\u001b[39m\u001b[38;5;241m.\u001b[39mcached_property\n\u001b[0;32m    430\u001b[0m \u001b[38;5;28;01mdef\u001b[39;00m\u001b[38;5;250m \u001b[39m\u001b[38;5;21mdivisions\u001b[39m(\u001b[38;5;28mself\u001b[39m):\n\u001b[1;32m--> 431\u001b[0m     \u001b[38;5;28;01mreturn\u001b[39;00m \u001b[38;5;28mtuple\u001b[39m(\u001b[38;5;28mself\u001b[39m\u001b[38;5;241m.\u001b[39m_divisions())\n",
      "File \u001b[1;32mD:\\anaconda3\\Lib\\site-packages\\dask\\dataframe\\dask_expr\\_repartition.py:57\u001b[0m, in \u001b[0;36mRepartition._divisions\u001b[1;34m(self)\u001b[0m\n\u001b[0;32m     52\u001b[0m \u001b[38;5;28;01mdef\u001b[39;00m\u001b[38;5;250m \u001b[39m\u001b[38;5;21m_divisions\u001b[39m(\u001b[38;5;28mself\u001b[39m):\n\u001b[0;32m     53\u001b[0m     \u001b[38;5;28;01mif\u001b[39;00m (\n\u001b[0;32m     54\u001b[0m         \u001b[38;5;28mself\u001b[39m\u001b[38;5;241m.\u001b[39moperand(\u001b[38;5;124m\"\u001b[39m\u001b[38;5;124mnew_partitions\u001b[39m\u001b[38;5;124m\"\u001b[39m) \u001b[38;5;129;01mis\u001b[39;00m \u001b[38;5;129;01mnot\u001b[39;00m \u001b[38;5;28;01mNone\u001b[39;00m\n\u001b[0;32m     55\u001b[0m         \u001b[38;5;129;01mor\u001b[39;00m \u001b[38;5;28mself\u001b[39m\u001b[38;5;241m.\u001b[39mpartition_size \u001b[38;5;129;01mis\u001b[39;00m \u001b[38;5;129;01mnot\u001b[39;00m \u001b[38;5;28;01mNone\u001b[39;00m\n\u001b[0;32m     56\u001b[0m     ):\n\u001b[1;32m---> 57\u001b[0m         x \u001b[38;5;241m=\u001b[39m \u001b[38;5;28mself\u001b[39m\u001b[38;5;241m.\u001b[39moptimize(fuse\u001b[38;5;241m=\u001b[39m\u001b[38;5;28;01mFalse\u001b[39;00m)\n\u001b[0;32m     58\u001b[0m         \u001b[38;5;28;01mreturn\u001b[39;00m x\u001b[38;5;241m.\u001b[39m_divisions()\n\u001b[0;32m     59\u001b[0m     \u001b[38;5;28;01mreturn\u001b[39;00m \u001b[38;5;28mself\u001b[39m\u001b[38;5;241m.\u001b[39mnew_divisions\n",
      "File \u001b[1;32mD:\\anaconda3\\Lib\\site-packages\\dask\\dataframe\\dask_expr\\_expr.py:97\u001b[0m, in \u001b[0;36mExpr.optimize\u001b[1;34m(self, **kwargs)\u001b[0m\n\u001b[0;32m     96\u001b[0m \u001b[38;5;28;01mdef\u001b[39;00m\u001b[38;5;250m \u001b[39m\u001b[38;5;21moptimize\u001b[39m(\u001b[38;5;28mself\u001b[39m, \u001b[38;5;241m*\u001b[39m\u001b[38;5;241m*\u001b[39mkwargs):\n\u001b[1;32m---> 97\u001b[0m     \u001b[38;5;28;01mreturn\u001b[39;00m optimize(\u001b[38;5;28mself\u001b[39m, \u001b[38;5;241m*\u001b[39m\u001b[38;5;241m*\u001b[39mkwargs)\n",
      "File \u001b[1;32mD:\\anaconda3\\Lib\\site-packages\\dask\\_expr.py:922\u001b[0m, in \u001b[0;36moptimize\u001b[1;34m(expr, fuse)\u001b[0m\n\u001b[0;32m    901\u001b[0m \u001b[38;5;250m\u001b[39m\u001b[38;5;124;03m\"\"\"High level query optimization\u001b[39;00m\n\u001b[0;32m    902\u001b[0m \n\u001b[0;32m    903\u001b[0m \u001b[38;5;124;03mThis leverages three optimization passes:\u001b[39;00m\n\u001b[1;32m   (...)\u001b[0m\n\u001b[0;32m    918\u001b[0m \u001b[38;5;124;03moptimize_blockwise_fusion\u001b[39;00m\n\u001b[0;32m    919\u001b[0m \u001b[38;5;124;03m\"\"\"\u001b[39;00m\n\u001b[0;32m    920\u001b[0m stage: OptimizerStage \u001b[38;5;241m=\u001b[39m \u001b[38;5;124m\"\u001b[39m\u001b[38;5;124mfused\u001b[39m\u001b[38;5;124m\"\u001b[39m \u001b[38;5;28;01mif\u001b[39;00m fuse \u001b[38;5;28;01melse\u001b[39;00m \u001b[38;5;124m\"\u001b[39m\u001b[38;5;124msimplified-physical\u001b[39m\u001b[38;5;124m\"\u001b[39m\n\u001b[1;32m--> 922\u001b[0m \u001b[38;5;28;01mreturn\u001b[39;00m optimize_until(expr, stage)\n",
      "File \u001b[1;32mD:\\anaconda3\\Lib\\site-packages\\dask\\_expr.py:941\u001b[0m, in \u001b[0;36moptimize_until\u001b[1;34m(expr, stage)\u001b[0m\n\u001b[0;32m    938\u001b[0m     \u001b[38;5;28;01mreturn\u001b[39;00m expr\n\u001b[0;32m    940\u001b[0m \u001b[38;5;66;03m# Lower\u001b[39;00m\n\u001b[1;32m--> 941\u001b[0m expr \u001b[38;5;241m=\u001b[39m expr\u001b[38;5;241m.\u001b[39mlower_completely()\n\u001b[0;32m    942\u001b[0m \u001b[38;5;28;01mif\u001b[39;00m stage \u001b[38;5;241m==\u001b[39m \u001b[38;5;124m\"\u001b[39m\u001b[38;5;124mphysical\u001b[39m\u001b[38;5;124m\"\u001b[39m:\n\u001b[0;32m    943\u001b[0m     \u001b[38;5;28;01mreturn\u001b[39;00m expr\n",
      "File \u001b[1;32mD:\\anaconda3\\Lib\\site-packages\\dask\\_expr.py:520\u001b[0m, in \u001b[0;36mExpr.lower_completely\u001b[1;34m(self)\u001b[0m\n\u001b[0;32m    518\u001b[0m lowered: \u001b[38;5;28mdict\u001b[39m \u001b[38;5;241m=\u001b[39m {}\n\u001b[0;32m    519\u001b[0m \u001b[38;5;28;01mwhile\u001b[39;00m \u001b[38;5;28;01mTrue\u001b[39;00m:\n\u001b[1;32m--> 520\u001b[0m     new \u001b[38;5;241m=\u001b[39m expr\u001b[38;5;241m.\u001b[39mlower_once(lowered)\n\u001b[0;32m    521\u001b[0m     \u001b[38;5;28;01mif\u001b[39;00m new\u001b[38;5;241m.\u001b[39m_name \u001b[38;5;241m==\u001b[39m expr\u001b[38;5;241m.\u001b[39m_name:\n\u001b[0;32m    522\u001b[0m         \u001b[38;5;28;01mbreak\u001b[39;00m\n",
      "File \u001b[1;32mD:\\anaconda3\\Lib\\site-packages\\dask\\_expr.py:475\u001b[0m, in \u001b[0;36mExpr.lower_once\u001b[1;34m(self, lowered)\u001b[0m\n\u001b[0;32m    472\u001b[0m expr \u001b[38;5;241m=\u001b[39m \u001b[38;5;28mself\u001b[39m\n\u001b[0;32m    474\u001b[0m \u001b[38;5;66;03m# Lower this node\u001b[39;00m\n\u001b[1;32m--> 475\u001b[0m out \u001b[38;5;241m=\u001b[39m expr\u001b[38;5;241m.\u001b[39m_lower()\n\u001b[0;32m    476\u001b[0m \u001b[38;5;28;01mif\u001b[39;00m out \u001b[38;5;129;01mis\u001b[39;00m \u001b[38;5;28;01mNone\u001b[39;00m:\n\u001b[0;32m    477\u001b[0m     out \u001b[38;5;241m=\u001b[39m expr\n",
      "File \u001b[1;32mD:\\anaconda3\\Lib\\site-packages\\dask\\dataframe\\dask_expr\\_repartition.py:462\u001b[0m, in \u001b[0;36mRepartitionSize._lower\u001b[1;34m(self)\u001b[0m\n\u001b[0;32m    460\u001b[0m \u001b[38;5;28;01mdef\u001b[39;00m\u001b[38;5;250m \u001b[39m\u001b[38;5;21m_lower\u001b[39m(\u001b[38;5;28mself\u001b[39m):\n\u001b[0;32m    461\u001b[0m     \u001b[38;5;66;03m# populate cache\u001b[39;00m\n\u001b[1;32m--> 462\u001b[0m     \u001b[38;5;28mself\u001b[39m\u001b[38;5;241m.\u001b[39m_mem_usage  \u001b[38;5;66;03m# noqa\u001b[39;00m\n\u001b[0;32m    463\u001b[0m     \u001b[38;5;28;01mreturn\u001b[39;00m \u001b[38;5;28msuper\u001b[39m()\u001b[38;5;241m.\u001b[39m_lower()\n",
      "File \u001b[1;32mD:\\anaconda3\\Lib\\functools.py:1001\u001b[0m, in \u001b[0;36mcached_property.__get__\u001b[1;34m(self, instance, owner)\u001b[0m\n\u001b[0;32m    999\u001b[0m val \u001b[38;5;241m=\u001b[39m cache\u001b[38;5;241m.\u001b[39mget(\u001b[38;5;28mself\u001b[39m\u001b[38;5;241m.\u001b[39mattrname, _NOT_FOUND)\n\u001b[0;32m   1000\u001b[0m \u001b[38;5;28;01mif\u001b[39;00m val \u001b[38;5;129;01mis\u001b[39;00m _NOT_FOUND:\n\u001b[1;32m-> 1001\u001b[0m     val \u001b[38;5;241m=\u001b[39m \u001b[38;5;28mself\u001b[39m\u001b[38;5;241m.\u001b[39mfunc(instance)\n\u001b[0;32m   1002\u001b[0m     \u001b[38;5;28;01mtry\u001b[39;00m:\n\u001b[0;32m   1003\u001b[0m         cache[\u001b[38;5;28mself\u001b[39m\u001b[38;5;241m.\u001b[39mattrname] \u001b[38;5;241m=\u001b[39m val\n",
      "File \u001b[1;32mD:\\anaconda3\\Lib\\site-packages\\dask\\dataframe\\dask_expr\\_repartition.py:431\u001b[0m, in \u001b[0;36mRepartitionSize._mem_usage\u001b[1;34m(self)\u001b[0m\n\u001b[0;32m    429\u001b[0m \u001b[38;5;129m@functools\u001b[39m\u001b[38;5;241m.\u001b[39mcached_property\n\u001b[0;32m    430\u001b[0m \u001b[38;5;28;01mdef\u001b[39;00m\u001b[38;5;250m \u001b[39m\u001b[38;5;21m_mem_usage\u001b[39m(\u001b[38;5;28mself\u001b[39m):\n\u001b[1;32m--> 431\u001b[0m     \u001b[38;5;28;01mreturn\u001b[39;00m _get_mem_usages(\u001b[38;5;28mself\u001b[39m\u001b[38;5;241m.\u001b[39mframe)\n",
      "File \u001b[1;32mD:\\anaconda3\\Lib\\site-packages\\dask\\dataframe\\dask_expr\\_repartition.py:515\u001b[0m, in \u001b[0;36m_get_mem_usages\u001b[1;34m(frame)\u001b[0m\n\u001b[0;32m    513\u001b[0m \u001b[38;5;28;01mif\u001b[39;00m frame\u001b[38;5;241m.\u001b[39m_name \u001b[38;5;129;01min\u001b[39;00m mem_usages_lru:\n\u001b[0;32m    514\u001b[0m     \u001b[38;5;28;01mreturn\u001b[39;00m mem_usages_lru[frame\u001b[38;5;241m.\u001b[39m_name]\n\u001b[1;32m--> 515\u001b[0m result \u001b[38;5;241m=\u001b[39m _compute_mem_usages(frame)\n\u001b[0;32m    516\u001b[0m mem_usages_lru[frame\u001b[38;5;241m.\u001b[39m_name] \u001b[38;5;241m=\u001b[39m result\n\u001b[0;32m    517\u001b[0m \u001b[38;5;28;01mreturn\u001b[39;00m result\n",
      "File \u001b[1;32mD:\\anaconda3\\Lib\\site-packages\\dask\\dataframe\\dask_expr\\_repartition.py:523\u001b[0m, in \u001b[0;36m_compute_mem_usages\u001b[1;34m(frame)\u001b[0m\n\u001b[0;32m    520\u001b[0m \u001b[38;5;28;01mdef\u001b[39;00m\u001b[38;5;250m \u001b[39m\u001b[38;5;21m_compute_mem_usages\u001b[39m(frame):\n\u001b[0;32m    521\u001b[0m     \u001b[38;5;28;01mfrom\u001b[39;00m\u001b[38;5;250m \u001b[39m\u001b[38;5;21;01mdask\u001b[39;00m\u001b[38;5;21;01m.\u001b[39;00m\u001b[38;5;21;01mdataframe\u001b[39;00m\u001b[38;5;21;01m.\u001b[39;00m\u001b[38;5;21;01mdask_expr\u001b[39;00m\u001b[38;5;21;01m.\u001b[39;00m\u001b[38;5;21;01m_collection\u001b[39;00m\u001b[38;5;250m \u001b[39m\u001b[38;5;28;01mimport\u001b[39;00m new_collection\n\u001b[1;32m--> 523\u001b[0m     \u001b[38;5;28;01mreturn\u001b[39;00m new_collection(TotalMemoryUsageFrame(frame, deep\u001b[38;5;241m=\u001b[39m\u001b[38;5;28;01mTrue\u001b[39;00m))\u001b[38;5;241m.\u001b[39mcompute()\n",
      "File \u001b[1;32mD:\\anaconda3\\Lib\\site-packages\\dask\\base.py:373\u001b[0m, in \u001b[0;36mDaskMethodsMixin.compute\u001b[1;34m(self, **kwargs)\u001b[0m\n\u001b[0;32m    349\u001b[0m \u001b[38;5;28;01mdef\u001b[39;00m\u001b[38;5;250m \u001b[39m\u001b[38;5;21mcompute\u001b[39m(\u001b[38;5;28mself\u001b[39m, \u001b[38;5;241m*\u001b[39m\u001b[38;5;241m*\u001b[39mkwargs):\n\u001b[0;32m    350\u001b[0m \u001b[38;5;250m    \u001b[39m\u001b[38;5;124;03m\"\"\"Compute this dask collection\u001b[39;00m\n\u001b[0;32m    351\u001b[0m \n\u001b[0;32m    352\u001b[0m \u001b[38;5;124;03m    This turns a lazy Dask collection into its in-memory equivalent.\u001b[39;00m\n\u001b[1;32m   (...)\u001b[0m\n\u001b[0;32m    371\u001b[0m \u001b[38;5;124;03m    dask.compute\u001b[39;00m\n\u001b[0;32m    372\u001b[0m \u001b[38;5;124;03m    \"\"\"\u001b[39;00m\n\u001b[1;32m--> 373\u001b[0m     (result,) \u001b[38;5;241m=\u001b[39m compute(\u001b[38;5;28mself\u001b[39m, traverse\u001b[38;5;241m=\u001b[39m\u001b[38;5;28;01mFalse\u001b[39;00m, \u001b[38;5;241m*\u001b[39m\u001b[38;5;241m*\u001b[39mkwargs)\n\u001b[0;32m    374\u001b[0m     \u001b[38;5;28;01mreturn\u001b[39;00m result\n",
      "File \u001b[1;32mD:\\anaconda3\\Lib\\site-packages\\dask\\base.py:681\u001b[0m, in \u001b[0;36mcompute\u001b[1;34m(traverse, optimize_graph, scheduler, get, *args, **kwargs)\u001b[0m\n\u001b[0;32m    678\u001b[0m     expr \u001b[38;5;241m=\u001b[39m expr\u001b[38;5;241m.\u001b[39moptimize()\n\u001b[0;32m    679\u001b[0m     keys \u001b[38;5;241m=\u001b[39m \u001b[38;5;28mlist\u001b[39m(flatten(expr\u001b[38;5;241m.\u001b[39m__dask_keys__()))\n\u001b[1;32m--> 681\u001b[0m     results \u001b[38;5;241m=\u001b[39m schedule(expr, keys, \u001b[38;5;241m*\u001b[39m\u001b[38;5;241m*\u001b[39mkwargs)\n\u001b[0;32m    683\u001b[0m \u001b[38;5;28;01mreturn\u001b[39;00m repack(results)\n",
      "File \u001b[1;32mD:\\anaconda3\\Lib\\site-packages\\dask\\dataframe\\multi.py:131\u001b[0m, in \u001b[0;36mmerge_chunk\u001b[1;34m(lhs, result_meta, *args, **kwargs)\u001b[0m\n\u001b[0;32m    129\u001b[0m         \u001b[38;5;28;01melse\u001b[39;00m:\n\u001b[0;32m    130\u001b[0m             kwargs[\u001b[38;5;124m\"\u001b[39m\u001b[38;5;124mhow\u001b[39m\u001b[38;5;124m\"\u001b[39m] \u001b[38;5;241m=\u001b[39m \u001b[38;5;124m\"\u001b[39m\u001b[38;5;124minner\u001b[39m\u001b[38;5;124m\"\u001b[39m\n\u001b[1;32m--> 131\u001b[0m out \u001b[38;5;241m=\u001b[39m lhs\u001b[38;5;241m.\u001b[39mmerge(rhs, \u001b[38;5;241m*\u001b[39margs, \u001b[38;5;241m*\u001b[39m\u001b[38;5;241m*\u001b[39mkwargs)\n\u001b[0;32m    133\u001b[0m \u001b[38;5;66;03m# Workaround for pandas bug where if the left frame of a merge operation is\u001b[39;00m\n\u001b[0;32m    134\u001b[0m \u001b[38;5;66;03m# empty, the resulting dataframe can have columns in the wrong order.\u001b[39;00m\n\u001b[0;32m    135\u001b[0m \u001b[38;5;66;03m# https://github.com/pandas-dev/pandas/issues/9937\u001b[39;00m\n\u001b[0;32m    136\u001b[0m \u001b[38;5;28;01mif\u001b[39;00m \u001b[38;5;28mlen\u001b[39m(lhs) \u001b[38;5;241m==\u001b[39m \u001b[38;5;241m0\u001b[39m:\n",
      "File \u001b[1;32mD:\\anaconda3\\Lib\\site-packages\\pyarrow\\table.pxi:1079\u001b[0m, in \u001b[0;36mpyarrow.lib.ChunkedArray.take\u001b[1;34m()\u001b[0m\n",
      "File \u001b[1;32mD:\\anaconda3\\Lib\\site-packages\\pyarrow\\compute.py:504\u001b[0m, in \u001b[0;36mtake\u001b[1;34m(data, indices, boundscheck, memory_pool)\u001b[0m\n\u001b[0;32m    464\u001b[0m \u001b[38;5;250m\u001b[39m\u001b[38;5;124;03m\"\"\"\u001b[39;00m\n\u001b[0;32m    465\u001b[0m \u001b[38;5;124;03mSelect values (or records) from array- or table-like data given integer\u001b[39;00m\n\u001b[0;32m    466\u001b[0m \u001b[38;5;124;03mselection indices.\u001b[39;00m\n\u001b[1;32m   (...)\u001b[0m\n\u001b[0;32m    501\u001b[0m \u001b[38;5;124;03m]\u001b[39;00m\n\u001b[0;32m    502\u001b[0m \u001b[38;5;124;03m\"\"\"\u001b[39;00m\n\u001b[0;32m    503\u001b[0m options \u001b[38;5;241m=\u001b[39m TakeOptions(boundscheck\u001b[38;5;241m=\u001b[39mboundscheck)\n\u001b[1;32m--> 504\u001b[0m \u001b[38;5;28;01mreturn\u001b[39;00m call_function(\u001b[38;5;124m'\u001b[39m\u001b[38;5;124mtake\u001b[39m\u001b[38;5;124m'\u001b[39m, [data, indices], options, memory_pool)\n",
      "File \u001b[1;32mD:\\anaconda3\\Lib\\site-packages\\pyarrow\\_compute.pyx:612\u001b[0m, in \u001b[0;36mpyarrow._compute.call_function\u001b[1;34m()\u001b[0m\n",
      "File \u001b[1;32mD:\\anaconda3\\Lib\\site-packages\\pyarrow\\_compute.pyx:407\u001b[0m, in \u001b[0;36mpyarrow._compute.Function.call\u001b[1;34m()\u001b[0m\n",
      "File \u001b[1;32mD:\\anaconda3\\Lib\\site-packages\\pyarrow\\error.pxi:155\u001b[0m, in \u001b[0;36mpyarrow.lib.pyarrow_internal_check_status\u001b[1;34m()\u001b[0m\n",
      "File \u001b[1;32mD:\\anaconda3\\Lib\\site-packages\\pyarrow\\error.pxi:92\u001b[0m, in \u001b[0;36mpyarrow.lib.check_status\u001b[1;34m()\u001b[0m\n",
      "\u001b[1;31mArrowInvalid\u001b[0m: Take operation overflowed binary array capacity"
     ]
    }
   ],
   "source": [
    "import dask.dataframe as dd\n",
    "import os\n",
    "\n",
    "linked_features = ['anon_id', 'pat_enc_csn_id_coded', 'order_proc_id_coded', 'order_time_jittered_utc']\n",
    "\n",
    "files_info_processed = [\n",
    "    {\n",
    "        \"name\": \"processed_cultures_cohort\",\n",
    "        \"path\": \"microbiology_cultures_cohort.csv\",\n",
    "        \"merge_on\": linked_features, \n",
    "        \"dtype\": {\n",
    "            \"anon_id\":\"object\",\n",
    "            \"pat_enc_csn_id_coded\":\"int64\",\n",
    "            \"order_proc_id_coded\":\"int64 \",\n",
    "            \"order_time_jittered_utc\":\"object\",\n",
    "            \"organism\": \"int8\",\n",
    "            \"antibiotic\": \"int8\",\n",
    "            \"susceptibility\": \"int8\"\n",
    "        }\n",
    "    },\n",
    "    {\n",
    "        \"name\": \"processed_prior_med\",\n",
    "        \"path\": \"microbiology_cultures_prior_med.csv\",\n",
    "        \"merge_on\": linked_features,\n",
    "        \"dtype\": {\n",
    "             \"anon_id\": \"object\",\n",
    "            \"pat_enc_csn_id_coded\": \"int64\",\n",
    "            \"order_proc_id_coded\": \"int64\",\n",
    "            \"order_time_jittered_utc\": \"object\",\n",
    "            \"medication_time_to_culturetime\": \"Int64\", \n",
    "            \"medication_category\": \"int8\",\n",
    "            \"med_within_30_days\": \"boolean\"\n",
    "        }\n",
    "    },\n",
    "    {\n",
    "        \"name\": \"processed_cultures_demographics\",\n",
    "        \"path\": \"microbiology_cultures_demographics.csv\",\n",
    "        \"merge_on\": linked_features[:3], \n",
    "        \"dtype\": {\n",
    "            \"anon_id\":\"object\",\n",
    "            \"pat_enc_csn_id_coded\":\"int64\",\n",
    "            \"order_proc_id_coded\":\"int64 \",\n",
    "            \"age\": \"int8\",\n",
    "            \"gender\": \"int8\"\n",
    "        }\n",
    "    },\n",
    "     {\n",
    "        \"name\": \"processed_cultures_labs\",\n",
    "        \"path\": \"microbiology_cultures_labs.csv\",\n",
    "        \"merge_on\": linked_features[:3], \n",
    "        \"dtype\": {\n",
    "            \"anon_id\": \"object\",\n",
    "            \"pat_enc_csn_id_coded\": \"int64\",\n",
    "            \"order_proc_id_coded\": \"int64\",\n",
    "            \"median_wbc\": \"float32\",\n",
    "            \"median_neutrophils\": \"float32\",\n",
    "            \"median_lymphocytes\": \"float32\",\n",
    "            \"median_hgb\": \"float32\",\n",
    "            \"median_plt\": \"float32\",\n",
    "            \"median_na\": \"float32\",\n",
    "            \"median_hco3\": \"float32\",\n",
    "            \"median_bun\": \"float32\",\n",
    "            \"median_cr\": \"float32\",\n",
    "            \"median_lactate\": \"float32\",\n",
    "            \"median_procalcitonin\": \"float32\",\n",
    "            \"delta_wbc\": \"float32\",\n",
    "            \"delta_na\": \"float32\",\n",
    "            \"delta_hco3\": \"float32\",\n",
    "            \"delta_bun\": \"float32\",\n",
    "            \"delta_cr\": \"float32\"\n",
    "        }\n",
    "    },\n",
    "    {\n",
    "        \"name\": \"processed_cultures_vitals\",\n",
    "        \"path\": \"microbiology_cultures_vitals.csv\",\n",
    "        \"merge_on\": linked_features[:3],\n",
    "        \"dtype\": {\n",
    "            \"anon_id\": \"object\",\n",
    "            \"pat_enc_csn_id_coded\": \"int64\",\n",
    "            \"order_proc_id_coded\": \"int64\",\n",
    "            \"median_heartrate\": \"float32\",\n",
    "            \"median_resprate\": \"float32\",\n",
    "            \"median_temp\": \"float32\",\n",
    "            \"median_sysbp\": \"float32\",\n",
    "            \"median_diasbp\": \"float32\",\n",
    "            \"delta_heartrate\": \"float32\",\n",
    "            \"delta_resprate\": \"float32\",\n",
    "            \"delta_temp\": \"float32\",\n",
    "            \"delta_sysbp\": \"float32\",\n",
    "            \"delta_diasbp\": \"float32\"\n",
    "        }\n",
    "    },\n",
    "     {\n",
    "        \"name\": \"processed_antibiotic_class_exposure\",\n",
    "        \"path\": \"microbiology_cultures_antibiotic_class_exposure.csv\",\n",
    "        \"merge_on\": linked_features, \n",
    "        \"dtype\": {\n",
    "            \"anon_id\": \"object\",\n",
    "            \"pat_enc_csn_id_coded\": \"int64\",\n",
    "            \"order_proc_id_coded\": \"int64\",\n",
    "            \"order_time_jittered_utc\": \"object\",\n",
    "            \"antibiotic_class\": \"int8\",\n",
    "            \"time_to_culturetime\": \"Int64\"  \n",
    "        }\n",
    "    },\n",
    "    {\n",
    "    \"name\": \"processed_antibiotic_subtype_exposure\",\n",
    "    \"path\": \"microbiology_cultures_antibiotic_subtype_exposure.csv\",\n",
    "    \"merge_on\": [\"anon_id\", \"pat_enc_csn_id_coded\", \"order_proc_id_coded\", \"order_time_jittered_utc\"],\n",
    "    \"dtype\": {\n",
    "        \"anon_id\": \"object\",\n",
    "        \"pat_enc_csn_id_coded\": \"int64\",\n",
    "        \"order_proc_id_coded\": \"int64\",\n",
    "        \"order_time_jittered_utc\": \"object\",\n",
    "        \"antibiotic_subtype\": \"int8\",\n",
    "        \"medication_time_to_cultureTime\": \"Int64\"  \n",
    "        }\n",
    "    },\n",
    "    # {\n",
    "    #     \"name\": \"processed_prior_infecting_organism\",\n",
    "    #     \"path\": \"microbiology_culture_prior_infecting_organism.csv\",\n",
    "    #     \"merge_on\": linked_features, \n",
    "    #     \"dtype\": {\n",
    "    #         \"prior_organism\": \"object\",\n",
    "    #         \"prior_infecting_organism_days_to_culutre\": \"Int64\"\n",
    "    #     }\n",
    "    # },\n",
    "    {\n",
    "    \"name\": \"processed_cultures_comorbidity\",\n",
    "    \"path\": \"microbiology_cultures_comorbidity.csv\",\n",
    "    \"merge_on\": [\"order_proc_id_coded\"],  # Since only this column is present from the key columns\n",
    "    \"dtype\": {\n",
    "        \"order_proc_id_coded\": \"int64\",\n",
    "        \"has_diabetes\": \"int8\",\n",
    "        \"has_chf\": \"int8\",\n",
    "        \"has_ckd\": \"int8\",\n",
    "        \"has_cancer\": \"int8\",\n",
    "        \"has_transplant\": \"int8\",\n",
    "        \"has_immunosuppression\": \"int8\",\n",
    "        \"has_copd\": \"int8\",\n",
    "        \"has_liver_disease\": \"int8\",\n",
    "        \"has_dementia\": \"int8\",\n",
    "        \"has_stroke\": \"int8\",\n",
    "        \"has_other_comorbid\": \"int8\"\n",
    "    }\n",
    "}\n",
    "\n",
    "]\n",
    "\n",
    "sample_folder = 'new_sample_one_processed/'\n",
    "merged_folder = 'merged_sample_one_processed/'\n",
    "os.makedirs(merged_folder, exist_ok=True)\n",
    "\n",
    "def getMergOn(file):\n",
    "    for f in files_info_processed:\n",
    "        if f['name'] == file:\n",
    "            return f['merge_on']\n",
    "\n",
    "\n",
    "file_df_pairs = [(file['name'], dd.read_parquet(\n",
    "    os.path.join(sample_folder, file['name'] + '.parquet'),\n",
    "    dtype=file['dtype'])) for file in files_info_processed]\n",
    "\n",
    "# base file\n",
    "merged_df = file_df_pairs[0][1]\n",
    "print(f\"Load base file: {file_df_pairs[0][0]}\")\n",
    "\n",
    "\n",
    "# Merge sequentially\n",
    "for file_name, df in file_df_pairs[1:]:\n",
    "    print(f\"Merging file: {file_name}\")\n",
    "    merg_on = getMergOn(file_name)\n",
    "    merged_df = merged_df.merge(df, how='left', on=merg_on)\n",
    "\n",
    "\n",
    "# Write to parquet\n",
    "output_path = os.path.join(merged_folder, 'merged_result.parquet')\n",
    "merged_df = merged_df.repartition(partition_size=\"50MB\")  # or npartitions=500\n",
    "# merged_df = merged_df.persist()  # only if RAM allows\n",
    "print(f\"\\nWriting merged data to: {output_path}\")\n",
    "write_task = merged_df.to_parquet(\n",
    "    output_path,\n",
    "    engine='pyarrow',\n",
    "    compression='snappy',\n",
    "    write_index=False,\n",
    "    write_metadata_file=False,\n",
    "    compute=False\n",
    ")\n",
    "print(f\"\\n Alhamdulillah the {output_path} merged and saved ✅\")\n",
    "# yarb yshteghel ana t3ebt :(\n"
   ]
  },
  {
   "cell_type": "code",
   "execution_count": 3,
   "id": "4da06a32-838a-4f3e-91a1-617d5c471ade",
   "metadata": {
    "collapsed": true,
    "jupyter": {
     "outputs_hidden": true,
     "source_hidden": true
    }
   },
   "outputs": [
    {
     "name": "stdout",
     "output_type": "stream",
     "text": [
      "Base file: new_sample_one/cultures_cohort.parquet is loaded\n",
      "Start merge with: new_sample_one/ward_info.parquet \n",
      "Start merge with: new_sample_one/prior_med.parquet \n",
      "Start merge with: new_sample_one/microbial_resistance.parquet \n",
      "Start merge with: new_sample_one/cultures_demographics.parquet \n",
      "Start merge with: new_sample_one/cultures_labs.parquet \n",
      "Start merge with: new_sample_one/cultures_vitals.parquet \n",
      "Start merge with: new_sample_one/antibiotic_class_exposure.parquet \n"
     ]
    },
    {
     "ename": "MemoryError",
     "evalue": "Unable to allocate 40.1 GiB for an array with shape (78, 69015096) and data type object",
     "output_type": "error",
     "traceback": [
      "\u001b[1;31m---------------------------------------------------------------------------\u001b[0m",
      "\u001b[1;31mMemoryError\u001b[0m                               Traceback (most recent call last)",
      "Cell \u001b[1;32mIn[3], line 68\u001b[0m\n\u001b[0;32m     66\u001b[0m \u001b[38;5;28;01mfor\u001b[39;00m i \u001b[38;5;129;01min\u001b[39;00m \u001b[38;5;28mrange\u001b[39m(parquet_file\u001b[38;5;241m.\u001b[39mnum_row_groups):\n\u001b[0;32m     67\u001b[0m     chunk \u001b[38;5;241m=\u001b[39m parquet_file\u001b[38;5;241m.\u001b[39mread_row_group(i)\u001b[38;5;241m.\u001b[39mto_pandas()\n\u001b[1;32m---> 68\u001b[0m     temp \u001b[38;5;241m=\u001b[39m chunk\u001b[38;5;241m.\u001b[39mmerge(df, how \u001b[38;5;241m=\u001b[39m \u001b[38;5;124m'\u001b[39m\u001b[38;5;124minner\u001b[39m\u001b[38;5;124m'\u001b[39m, on \u001b[38;5;241m=\u001b[39m file[\u001b[38;5;124m'\u001b[39m\u001b[38;5;124mmerge_on\u001b[39m\u001b[38;5;124m'\u001b[39m], suffixes\u001b[38;5;241m=\u001b[39m(\u001b[38;5;124m'\u001b[39m\u001b[38;5;124m'\u001b[39m, \u001b[38;5;124m'\u001b[39m\u001b[38;5;124m_right\u001b[39m\u001b[38;5;124m'\u001b[39m) )\n\u001b[0;32m     69\u001b[0m     temp \u001b[38;5;241m=\u001b[39m temp\u001b[38;5;241m.\u001b[39mdrop(columns\u001b[38;5;241m=\u001b[39m[col \u001b[38;5;28;01mfor\u001b[39;00m col \u001b[38;5;129;01min\u001b[39;00m temp\u001b[38;5;241m.\u001b[39mcolumns \u001b[38;5;28;01mif\u001b[39;00m col\u001b[38;5;241m.\u001b[39mendswith(\u001b[38;5;124m'\u001b[39m\u001b[38;5;124m_right\u001b[39m\u001b[38;5;124m'\u001b[39m)])\n\u001b[0;32m     70\u001b[0m     temp \u001b[38;5;241m=\u001b[39m temp\u001b[38;5;241m.\u001b[39mastype(merged_dtype)\n",
      "File \u001b[1;32mD:\\anaconda3\\Lib\\site-packages\\pandas\\core\\frame.py:10487\u001b[0m, in \u001b[0;36mDataFrame.merge\u001b[1;34m(self, right, how, on, left_on, right_on, left_index, right_index, sort, suffixes, copy, indicator, validate)\u001b[0m\n\u001b[0;32m  10468\u001b[0m \u001b[38;5;129m@Substitution\u001b[39m(\u001b[38;5;124m\"\u001b[39m\u001b[38;5;124m\"\u001b[39m)\n\u001b[0;32m  10469\u001b[0m \u001b[38;5;129m@Appender\u001b[39m(_merge_doc, indents\u001b[38;5;241m=\u001b[39m\u001b[38;5;241m2\u001b[39m)\n\u001b[0;32m  10470\u001b[0m \u001b[38;5;28;01mdef\u001b[39;00m\u001b[38;5;250m \u001b[39m\u001b[38;5;21mmerge\u001b[39m(\n\u001b[1;32m   (...)\u001b[0m\n\u001b[0;32m  10483\u001b[0m     validate: MergeValidate \u001b[38;5;241m|\u001b[39m \u001b[38;5;28;01mNone\u001b[39;00m \u001b[38;5;241m=\u001b[39m \u001b[38;5;28;01mNone\u001b[39;00m,\n\u001b[0;32m  10484\u001b[0m ) \u001b[38;5;241m-\u001b[39m\u001b[38;5;241m>\u001b[39m DataFrame:\n\u001b[0;32m  10485\u001b[0m     \u001b[38;5;28;01mfrom\u001b[39;00m\u001b[38;5;250m \u001b[39m\u001b[38;5;21;01mpandas\u001b[39;00m\u001b[38;5;21;01m.\u001b[39;00m\u001b[38;5;21;01mcore\u001b[39;00m\u001b[38;5;21;01m.\u001b[39;00m\u001b[38;5;21;01mreshape\u001b[39;00m\u001b[38;5;21;01m.\u001b[39;00m\u001b[38;5;21;01mmerge\u001b[39;00m\u001b[38;5;250m \u001b[39m\u001b[38;5;28;01mimport\u001b[39;00m merge\n\u001b[1;32m> 10487\u001b[0m     \u001b[38;5;28;01mreturn\u001b[39;00m merge(\n\u001b[0;32m  10488\u001b[0m         \u001b[38;5;28mself\u001b[39m,\n\u001b[0;32m  10489\u001b[0m         right,\n\u001b[0;32m  10490\u001b[0m         how\u001b[38;5;241m=\u001b[39mhow,\n\u001b[0;32m  10491\u001b[0m         on\u001b[38;5;241m=\u001b[39mon,\n\u001b[0;32m  10492\u001b[0m         left_on\u001b[38;5;241m=\u001b[39mleft_on,\n\u001b[0;32m  10493\u001b[0m         right_on\u001b[38;5;241m=\u001b[39mright_on,\n\u001b[0;32m  10494\u001b[0m         left_index\u001b[38;5;241m=\u001b[39mleft_index,\n\u001b[0;32m  10495\u001b[0m         right_index\u001b[38;5;241m=\u001b[39mright_index,\n\u001b[0;32m  10496\u001b[0m         sort\u001b[38;5;241m=\u001b[39msort,\n\u001b[0;32m  10497\u001b[0m         suffixes\u001b[38;5;241m=\u001b[39msuffixes,\n\u001b[0;32m  10498\u001b[0m         copy\u001b[38;5;241m=\u001b[39mcopy,\n\u001b[0;32m  10499\u001b[0m         indicator\u001b[38;5;241m=\u001b[39mindicator,\n\u001b[0;32m  10500\u001b[0m         validate\u001b[38;5;241m=\u001b[39mvalidate,\n\u001b[0;32m  10501\u001b[0m     )\n",
      "File \u001b[1;32mD:\\anaconda3\\Lib\\site-packages\\pandas\\core\\reshape\\merge.py:183\u001b[0m, in \u001b[0;36mmerge\u001b[1;34m(left, right, how, on, left_on, right_on, left_index, right_index, sort, suffixes, copy, indicator, validate)\u001b[0m\n\u001b[0;32m    168\u001b[0m \u001b[38;5;28;01melse\u001b[39;00m:\n\u001b[0;32m    169\u001b[0m     op \u001b[38;5;241m=\u001b[39m _MergeOperation(\n\u001b[0;32m    170\u001b[0m         left_df,\n\u001b[0;32m    171\u001b[0m         right_df,\n\u001b[1;32m   (...)\u001b[0m\n\u001b[0;32m    181\u001b[0m         validate\u001b[38;5;241m=\u001b[39mvalidate,\n\u001b[0;32m    182\u001b[0m     )\n\u001b[1;32m--> 183\u001b[0m     \u001b[38;5;28;01mreturn\u001b[39;00m op\u001b[38;5;241m.\u001b[39mget_result(copy\u001b[38;5;241m=\u001b[39mcopy)\n",
      "File \u001b[1;32mD:\\anaconda3\\Lib\\site-packages\\pandas\\core\\reshape\\merge.py:885\u001b[0m, in \u001b[0;36m_MergeOperation.get_result\u001b[1;34m(self, copy)\u001b[0m\n\u001b[0;32m    881\u001b[0m     \u001b[38;5;28mself\u001b[39m\u001b[38;5;241m.\u001b[39mleft, \u001b[38;5;28mself\u001b[39m\u001b[38;5;241m.\u001b[39mright \u001b[38;5;241m=\u001b[39m \u001b[38;5;28mself\u001b[39m\u001b[38;5;241m.\u001b[39m_indicator_pre_merge(\u001b[38;5;28mself\u001b[39m\u001b[38;5;241m.\u001b[39mleft, \u001b[38;5;28mself\u001b[39m\u001b[38;5;241m.\u001b[39mright)\n\u001b[0;32m    883\u001b[0m join_index, left_indexer, right_indexer \u001b[38;5;241m=\u001b[39m \u001b[38;5;28mself\u001b[39m\u001b[38;5;241m.\u001b[39m_get_join_info()\n\u001b[1;32m--> 885\u001b[0m result \u001b[38;5;241m=\u001b[39m \u001b[38;5;28mself\u001b[39m\u001b[38;5;241m.\u001b[39m_reindex_and_concat(\n\u001b[0;32m    886\u001b[0m     join_index, left_indexer, right_indexer, copy\u001b[38;5;241m=\u001b[39mcopy\n\u001b[0;32m    887\u001b[0m )\n\u001b[0;32m    888\u001b[0m result \u001b[38;5;241m=\u001b[39m result\u001b[38;5;241m.\u001b[39m__finalize__(\u001b[38;5;28mself\u001b[39m, method\u001b[38;5;241m=\u001b[39m\u001b[38;5;28mself\u001b[39m\u001b[38;5;241m.\u001b[39m_merge_type)\n\u001b[0;32m    890\u001b[0m \u001b[38;5;28;01mif\u001b[39;00m \u001b[38;5;28mself\u001b[39m\u001b[38;5;241m.\u001b[39mindicator:\n",
      "File \u001b[1;32mD:\\anaconda3\\Lib\\site-packages\\pandas\\core\\reshape\\merge.py:845\u001b[0m, in \u001b[0;36m_MergeOperation._reindex_and_concat\u001b[1;34m(self, join_index, left_indexer, right_indexer, copy)\u001b[0m\n\u001b[0;32m    837\u001b[0m llabels, rlabels \u001b[38;5;241m=\u001b[39m _items_overlap_with_suffix(\n\u001b[0;32m    838\u001b[0m     \u001b[38;5;28mself\u001b[39m\u001b[38;5;241m.\u001b[39mleft\u001b[38;5;241m.\u001b[39m_info_axis, \u001b[38;5;28mself\u001b[39m\u001b[38;5;241m.\u001b[39mright\u001b[38;5;241m.\u001b[39m_info_axis, \u001b[38;5;28mself\u001b[39m\u001b[38;5;241m.\u001b[39msuffixes\n\u001b[0;32m    839\u001b[0m )\n\u001b[0;32m    841\u001b[0m \u001b[38;5;28;01mif\u001b[39;00m left_indexer \u001b[38;5;129;01mis\u001b[39;00m \u001b[38;5;129;01mnot\u001b[39;00m \u001b[38;5;28;01mNone\u001b[39;00m \u001b[38;5;129;01mand\u001b[39;00m \u001b[38;5;129;01mnot\u001b[39;00m is_range_indexer(left_indexer, \u001b[38;5;28mlen\u001b[39m(left)):\n\u001b[0;32m    842\u001b[0m     \u001b[38;5;66;03m# Pinning the index here (and in the right code just below) is not\u001b[39;00m\n\u001b[0;32m    843\u001b[0m     \u001b[38;5;66;03m#  necessary, but makes the `.take` more performant if we have e.g.\u001b[39;00m\n\u001b[0;32m    844\u001b[0m     \u001b[38;5;66;03m#  a MultiIndex for left.index.\u001b[39;00m\n\u001b[1;32m--> 845\u001b[0m     lmgr \u001b[38;5;241m=\u001b[39m left\u001b[38;5;241m.\u001b[39m_mgr\u001b[38;5;241m.\u001b[39mreindex_indexer(\n\u001b[0;32m    846\u001b[0m         join_index,\n\u001b[0;32m    847\u001b[0m         left_indexer,\n\u001b[0;32m    848\u001b[0m         axis\u001b[38;5;241m=\u001b[39m\u001b[38;5;241m1\u001b[39m,\n\u001b[0;32m    849\u001b[0m         copy\u001b[38;5;241m=\u001b[39m\u001b[38;5;28;01mFalse\u001b[39;00m,\n\u001b[0;32m    850\u001b[0m         only_slice\u001b[38;5;241m=\u001b[39m\u001b[38;5;28;01mTrue\u001b[39;00m,\n\u001b[0;32m    851\u001b[0m         allow_dups\u001b[38;5;241m=\u001b[39m\u001b[38;5;28;01mTrue\u001b[39;00m,\n\u001b[0;32m    852\u001b[0m         use_na_proxy\u001b[38;5;241m=\u001b[39m\u001b[38;5;28;01mTrue\u001b[39;00m,\n\u001b[0;32m    853\u001b[0m     )\n\u001b[0;32m    854\u001b[0m     left \u001b[38;5;241m=\u001b[39m left\u001b[38;5;241m.\u001b[39m_constructor_from_mgr(lmgr, axes\u001b[38;5;241m=\u001b[39mlmgr\u001b[38;5;241m.\u001b[39maxes)\n\u001b[0;32m    855\u001b[0m left\u001b[38;5;241m.\u001b[39mindex \u001b[38;5;241m=\u001b[39m join_index\n",
      "File \u001b[1;32mD:\\anaconda3\\Lib\\site-packages\\pandas\\core\\internals\\managers.py:670\u001b[0m, in \u001b[0;36mBaseBlockManager.reindex_indexer\u001b[1;34m(self, new_axis, indexer, axis, fill_value, allow_dups, copy, only_slice, use_na_proxy)\u001b[0m\n\u001b[0;32m    663\u001b[0m     new_blocks \u001b[38;5;241m=\u001b[39m \u001b[38;5;28mself\u001b[39m\u001b[38;5;241m.\u001b[39m_slice_take_blocks_ax0(\n\u001b[0;32m    664\u001b[0m         indexer,\n\u001b[0;32m    665\u001b[0m         fill_value\u001b[38;5;241m=\u001b[39mfill_value,\n\u001b[0;32m    666\u001b[0m         only_slice\u001b[38;5;241m=\u001b[39monly_slice,\n\u001b[0;32m    667\u001b[0m         use_na_proxy\u001b[38;5;241m=\u001b[39muse_na_proxy,\n\u001b[0;32m    668\u001b[0m     )\n\u001b[0;32m    669\u001b[0m \u001b[38;5;28;01melse\u001b[39;00m:\n\u001b[1;32m--> 670\u001b[0m     new_blocks \u001b[38;5;241m=\u001b[39m [\n\u001b[0;32m    671\u001b[0m         blk\u001b[38;5;241m.\u001b[39mtake_nd(\n\u001b[0;32m    672\u001b[0m             indexer,\n\u001b[0;32m    673\u001b[0m             axis\u001b[38;5;241m=\u001b[39m\u001b[38;5;241m1\u001b[39m,\n\u001b[0;32m    674\u001b[0m             fill_value\u001b[38;5;241m=\u001b[39m(\n\u001b[0;32m    675\u001b[0m                 fill_value \u001b[38;5;28;01mif\u001b[39;00m fill_value \u001b[38;5;129;01mis\u001b[39;00m \u001b[38;5;129;01mnot\u001b[39;00m \u001b[38;5;28;01mNone\u001b[39;00m \u001b[38;5;28;01melse\u001b[39;00m blk\u001b[38;5;241m.\u001b[39mfill_value\n\u001b[0;32m    676\u001b[0m             ),\n\u001b[0;32m    677\u001b[0m         )\n\u001b[0;32m    678\u001b[0m         \u001b[38;5;28;01mfor\u001b[39;00m blk \u001b[38;5;129;01min\u001b[39;00m \u001b[38;5;28mself\u001b[39m\u001b[38;5;241m.\u001b[39mblocks\n\u001b[0;32m    679\u001b[0m     ]\n\u001b[0;32m    681\u001b[0m new_axes \u001b[38;5;241m=\u001b[39m \u001b[38;5;28mlist\u001b[39m(\u001b[38;5;28mself\u001b[39m\u001b[38;5;241m.\u001b[39maxes)\n\u001b[0;32m    682\u001b[0m new_axes[axis] \u001b[38;5;241m=\u001b[39m new_axis\n",
      "File \u001b[1;32mD:\\anaconda3\\Lib\\site-packages\\pandas\\core\\internals\\managers.py:671\u001b[0m, in \u001b[0;36m<listcomp>\u001b[1;34m(.0)\u001b[0m\n\u001b[0;32m    663\u001b[0m     new_blocks \u001b[38;5;241m=\u001b[39m \u001b[38;5;28mself\u001b[39m\u001b[38;5;241m.\u001b[39m_slice_take_blocks_ax0(\n\u001b[0;32m    664\u001b[0m         indexer,\n\u001b[0;32m    665\u001b[0m         fill_value\u001b[38;5;241m=\u001b[39mfill_value,\n\u001b[0;32m    666\u001b[0m         only_slice\u001b[38;5;241m=\u001b[39monly_slice,\n\u001b[0;32m    667\u001b[0m         use_na_proxy\u001b[38;5;241m=\u001b[39muse_na_proxy,\n\u001b[0;32m    668\u001b[0m     )\n\u001b[0;32m    669\u001b[0m \u001b[38;5;28;01melse\u001b[39;00m:\n\u001b[0;32m    670\u001b[0m     new_blocks \u001b[38;5;241m=\u001b[39m [\n\u001b[1;32m--> 671\u001b[0m         blk\u001b[38;5;241m.\u001b[39mtake_nd(\n\u001b[0;32m    672\u001b[0m             indexer,\n\u001b[0;32m    673\u001b[0m             axis\u001b[38;5;241m=\u001b[39m\u001b[38;5;241m1\u001b[39m,\n\u001b[0;32m    674\u001b[0m             fill_value\u001b[38;5;241m=\u001b[39m(\n\u001b[0;32m    675\u001b[0m                 fill_value \u001b[38;5;28;01mif\u001b[39;00m fill_value \u001b[38;5;129;01mis\u001b[39;00m \u001b[38;5;129;01mnot\u001b[39;00m \u001b[38;5;28;01mNone\u001b[39;00m \u001b[38;5;28;01melse\u001b[39;00m blk\u001b[38;5;241m.\u001b[39mfill_value\n\u001b[0;32m    676\u001b[0m             ),\n\u001b[0;32m    677\u001b[0m         )\n\u001b[0;32m    678\u001b[0m         \u001b[38;5;28;01mfor\u001b[39;00m blk \u001b[38;5;129;01min\u001b[39;00m \u001b[38;5;28mself\u001b[39m\u001b[38;5;241m.\u001b[39mblocks\n\u001b[0;32m    679\u001b[0m     ]\n\u001b[0;32m    681\u001b[0m new_axes \u001b[38;5;241m=\u001b[39m \u001b[38;5;28mlist\u001b[39m(\u001b[38;5;28mself\u001b[39m\u001b[38;5;241m.\u001b[39maxes)\n\u001b[0;32m    682\u001b[0m new_axes[axis] \u001b[38;5;241m=\u001b[39m new_axis\n",
      "File \u001b[1;32mD:\\anaconda3\\Lib\\site-packages\\pandas\\core\\internals\\blocks.py:1061\u001b[0m, in \u001b[0;36mBlock.take_nd\u001b[1;34m(self, indexer, axis, new_mgr_locs, fill_value)\u001b[0m\n\u001b[0;32m   1058\u001b[0m     allow_fill \u001b[38;5;241m=\u001b[39m \u001b[38;5;28;01mTrue\u001b[39;00m\n\u001b[0;32m   1060\u001b[0m \u001b[38;5;66;03m# Note: algos.take_nd has upcast logic similar to coerce_to_target_dtype\u001b[39;00m\n\u001b[1;32m-> 1061\u001b[0m new_values \u001b[38;5;241m=\u001b[39m algos\u001b[38;5;241m.\u001b[39mtake_nd(\n\u001b[0;32m   1062\u001b[0m     values, indexer, axis\u001b[38;5;241m=\u001b[39maxis, allow_fill\u001b[38;5;241m=\u001b[39mallow_fill, fill_value\u001b[38;5;241m=\u001b[39mfill_value\n\u001b[0;32m   1063\u001b[0m )\n\u001b[0;32m   1065\u001b[0m \u001b[38;5;66;03m# Called from three places in managers, all of which satisfy\u001b[39;00m\n\u001b[0;32m   1066\u001b[0m \u001b[38;5;66;03m#  these assertions\u001b[39;00m\n\u001b[0;32m   1067\u001b[0m \u001b[38;5;28;01mif\u001b[39;00m \u001b[38;5;28misinstance\u001b[39m(\u001b[38;5;28mself\u001b[39m, ExtensionBlock):\n\u001b[0;32m   1068\u001b[0m     \u001b[38;5;66;03m# NB: in this case, the 'axis' kwarg will be ignored in the\u001b[39;00m\n\u001b[0;32m   1069\u001b[0m     \u001b[38;5;66;03m#  algos.take_nd call above.\u001b[39;00m\n",
      "File \u001b[1;32mD:\\anaconda3\\Lib\\site-packages\\pandas\\core\\array_algos\\take.py:118\u001b[0m, in \u001b[0;36mtake_nd\u001b[1;34m(arr, indexer, axis, fill_value, allow_fill)\u001b[0m\n\u001b[0;32m    115\u001b[0m     \u001b[38;5;28;01mreturn\u001b[39;00m arr\u001b[38;5;241m.\u001b[39mtake(indexer, fill_value\u001b[38;5;241m=\u001b[39mfill_value, allow_fill\u001b[38;5;241m=\u001b[39mallow_fill)\n\u001b[0;32m    117\u001b[0m arr \u001b[38;5;241m=\u001b[39m np\u001b[38;5;241m.\u001b[39masarray(arr)\n\u001b[1;32m--> 118\u001b[0m \u001b[38;5;28;01mreturn\u001b[39;00m _take_nd_ndarray(arr, indexer, axis, fill_value, allow_fill)\n",
      "File \u001b[1;32mD:\\anaconda3\\Lib\\site-packages\\pandas\\core\\array_algos\\take.py:158\u001b[0m, in \u001b[0;36m_take_nd_ndarray\u001b[1;34m(arr, indexer, axis, fill_value, allow_fill)\u001b[0m\n\u001b[0;32m    156\u001b[0m     out \u001b[38;5;241m=\u001b[39m np\u001b[38;5;241m.\u001b[39mempty(out_shape, dtype\u001b[38;5;241m=\u001b[39mdtype, order\u001b[38;5;241m=\u001b[39m\u001b[38;5;124m\"\u001b[39m\u001b[38;5;124mF\u001b[39m\u001b[38;5;124m\"\u001b[39m)\n\u001b[0;32m    157\u001b[0m \u001b[38;5;28;01melse\u001b[39;00m:\n\u001b[1;32m--> 158\u001b[0m     out \u001b[38;5;241m=\u001b[39m np\u001b[38;5;241m.\u001b[39mempty(out_shape, dtype\u001b[38;5;241m=\u001b[39mdtype)\n\u001b[0;32m    160\u001b[0m func \u001b[38;5;241m=\u001b[39m _get_take_nd_function(\n\u001b[0;32m    161\u001b[0m     arr\u001b[38;5;241m.\u001b[39mndim, arr\u001b[38;5;241m.\u001b[39mdtype, out\u001b[38;5;241m.\u001b[39mdtype, axis\u001b[38;5;241m=\u001b[39maxis, mask_info\u001b[38;5;241m=\u001b[39mmask_info\n\u001b[0;32m    162\u001b[0m )\n\u001b[0;32m    163\u001b[0m func(arr, indexer, out, fill_value)\n",
      "\u001b[1;31mMemoryError\u001b[0m: Unable to allocate 40.1 GiB for an array with shape (78, 69015096) and data type object"
     ]
    }
   ],
   "source": [
    "# Actually this is my first merge code, I wrote it on my own but the files are too large so \n",
    "# It always rais a memory error.\n",
    "# I will not delete it because I work hard on it :(.\n",
    "# + I know it has some logical error :(.\n",
    "import pandas as pd\n",
    "import os\n",
    "import pyarrow as pa\n",
    "import pyarrow.parquet as pq\n",
    "import dask as d\n",
    "\n",
    "\n",
    "sample_folder = 'new_sample_one/'\n",
    "merged_folder = 'merged_sample_one/'\n",
    "\n",
    "os.makedirs(merged_folder, exist_ok=True)\n",
    "\n",
    "merged_dtype = files_info[0]['dtype']\n",
    "base_sample = pd.read_parquet(sample_folder + files_info[0]['name'] + '.parquet', engine='pyarrow')\n",
    "base_sample = base_sample.astype(merged_dtype)\n",
    "\n",
    "print(f\"Base file: {sample_folder + files_info[0]['name'] + '.parquet'} is loaded\")\n",
    "\n",
    "def get_df_size_mb(df):\n",
    "    return df.memory_usage(deep=True).sum() / (1024 ** 2)\n",
    "\n",
    "def getDatatype(file):\n",
    "    all_keys = {'anon_id':'object',\n",
    "               'pat_enc_csn_id_coded':'Int64',\n",
    "               'order_proc_id_coded':'Int64',\n",
    "               'order_time_jittered_utc':'object'}\n",
    "    part_keys = {\n",
    "                'anon_id':'object',\n",
    "               'pat_enc_csn_id_coded':'Int64',\n",
    "               'order_proc_id_coded':'Int64'\n",
    "    }\n",
    "    for f in files_info:\n",
    "        if f['name']== file:\n",
    "            if len(f['merge_on']) == 4:\n",
    "                all_keys.update(f['dtype'])\n",
    "                return all_keys\n",
    "            else:\n",
    "                part_keys.update(f['dtype'])\n",
    "                return part_keys\n",
    "\n",
    "\n",
    "MAX_MEMORY_MB = 100\n",
    "mode = 'w'\n",
    "full = False\n",
    "\n",
    "for file in files_info[1:]:\n",
    "    print(f\"Start merge with: {sample_folder + file['name'] + '.parquet'} \")\n",
    "    df = pd.read_parquet(sample_folder + file['name'] + '.parquet' )\n",
    "    dtype = getDatatype(file['name'])\n",
    "    merged_dtype.update(dtype)\n",
    "    df = df.astype(dtype)\n",
    "    if get_df_size_mb(base_sample) < MAX_MEMORY_MB and not full: \n",
    "        base_sample = base_sample.merge(df, how = 'inner', on = file['merge_on'] , suffixes=('', '_right'))\n",
    "        base_sample = base_sample.drop(columns=[col for col in base_sample.columns if col.endswith('_right')])\n",
    "        base_sample.to_parquet(merged_folder + 'merged_ARMD.parquet' , engine='pyarrow', index=False)\n",
    "    else: \n",
    "        full = True\n",
    "        base_sample = pd.DataFrame()\n",
    "         \n",
    "    if full: \n",
    "        parquet_file = pq.ParquetFile(merged_folder + 'merged_ARMD.parquet')\n",
    "        for i in range(parquet_file.num_row_groups):\n",
    "            chunk = parquet_file.read_row_group(i).to_pandas()\n",
    "            temp = chunk.merge(df, how = 'inner', on = file['merge_on'], suffixes=('', '_right') )\n",
    "            temp = temp.drop(columns=[col for col in temp.columns if col.endswith('_right')])\n",
    "            temp = temp.astype(merged_dtype)\n",
    "            if mode == 'w':\n",
    "                temp.to_parquet(merged_folder + 'temp_merged_ARMD.parquet', engine = 'pyarrow')\n",
    "                mode = 'a'\n",
    "            else:\n",
    "                temp.to_parquet(merged_folder + 'temp_merged_ARMD.parquet')\n",
    "                \n",
    "        mode = 'w'\n",
    "        \n",
    "        parquet_file = pq.ParquetFile(merged_folder + 'temp_merged_ARMD.parquet')\n",
    "        for i in range(parquet_file.num_row_groups):\n",
    "            chunk = parquet_file.read_row_group(i).to_pandas() \n",
    "            chunk = chunk.astype(merged_dtype)\n",
    "            if mode == 'w':\n",
    "                temp.to_parquet(merged_folder + 'merged_ARMD.parquet', engine = 'pyarrow')\n",
    "                mode = 'a'\n",
    "            else:\n",
    "                temp.to_parquet(merged_folder + 'merged_ARMD.parquet')\n",
    "               \n",
    "print(\"The merge is done Alhamdulillah :) \")          "
   ]
  }
 ],
 "metadata": {
  "kernelspec": {
   "display_name": "Python (myenv)",
   "language": "python",
   "name": "myenv"
  },
  "language_info": {
   "codemirror_mode": {
    "name": "ipython",
    "version": 3
   },
   "file_extension": ".py",
   "mimetype": "text/x-python",
   "name": "python",
   "nbconvert_exporter": "python",
   "pygments_lexer": "ipython3",
   "version": "3.11.5"
  }
 },
 "nbformat": 4,
 "nbformat_minor": 5
}
